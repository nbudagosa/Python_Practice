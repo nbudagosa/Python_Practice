{
  "nbformat": 4,
  "nbformat_minor": 0,
  "metadata": {
    "colab": {
      "name": "Python_Basic_Practice.ipynb",
      "provenance": []
    },
    "kernelspec": {
      "name": "python3",
      "display_name": "Python 3"
    },
    "language_info": {
      "name": "python"
    }
  },
  "cells": [
    {
      "cell_type": "code",
      "metadata": {
        "id": "lwMRO7C0liLn"
      },
      "source": [
        ""
      ],
      "execution_count": null,
      "outputs": []
    },
    {
      "cell_type": "markdown",
      "metadata": {
        "id": "t-7Q1X02vsWp"
      },
      "source": [
        "## Data Type\n",
        "Integer: 1, -1\n",
        "Float: 1.111, -1.111\n",
        "# String: 'อยากกินบุฟเฟห์จังเลย', \"WFH ตลอดก็ดีนะ\""
      ]
    },
    {
      "cell_type": "code",
      "metadata": {
        "colab": {
          "base_uri": "https://localhost:8080/"
        },
        "id": "AiH1I617vstg",
        "outputId": "6c170e00-166c-49cb-f875-83a9a105b306"
      },
      "source": [
        "1+1"
      ],
      "execution_count": 1,
      "outputs": [
        {
          "output_type": "execute_result",
          "data": {
            "text/plain": [
              "2"
            ]
          },
          "metadata": {
            "tags": []
          },
          "execution_count": 1
        }
      ]
    },
    {
      "cell_type": "code",
      "metadata": {
        "colab": {
          "base_uri": "https://localhost:8080/"
        },
        "id": "Tnww1n8HvxGi",
        "outputId": "4b7d0e05-707c-41b8-b16f-d32413ca0887"
      },
      "source": [
        "2.5*2"
      ],
      "execution_count": 2,
      "outputs": [
        {
          "output_type": "execute_result",
          "data": {
            "text/plain": [
              "5.0"
            ]
          },
          "metadata": {
            "tags": []
          },
          "execution_count": 2
        }
      ]
    },
    {
      "cell_type": "code",
      "metadata": {
        "colab": {
          "base_uri": "https://localhost:8080/"
        },
        "id": "rafw_siyvy-z",
        "outputId": "28a3b099-1365-4b3c-f46b-de5c982a7f25"
      },
      "source": [
        "2.5**2.5"
      ],
      "execution_count": 3,
      "outputs": [
        {
          "output_type": "execute_result",
          "data": {
            "text/plain": [
              "9.882117688026186"
            ]
          },
          "metadata": {
            "tags": []
          },
          "execution_count": 3
        }
      ]
    },
    {
      "cell_type": "code",
      "metadata": {
        "colab": {
          "base_uri": "https://localhost:8080/"
        },
        "id": "1YhENeX6v09C",
        "outputId": "9e30fe96-7d37-40fe-8648-c4c50cfd244c"
      },
      "source": [
        "9/3"
      ],
      "execution_count": 4,
      "outputs": [
        {
          "output_type": "execute_result",
          "data": {
            "text/plain": [
              "3.0"
            ]
          },
          "metadata": {
            "tags": []
          },
          "execution_count": 4
        }
      ]
    },
    {
      "cell_type": "code",
      "metadata": {
        "id": "8kDyZeSmv2Y1"
      },
      "source": [
        "# + - * /"
      ],
      "execution_count": 7,
      "outputs": []
    },
    {
      "cell_type": "code",
      "metadata": {
        "colab": {
          "base_uri": "https://localhost:8080/"
        },
        "id": "YhHFgmwlv4Hi",
        "outputId": "01055b7e-9c1e-4fd9-f6ac-6be388dd32c9"
      },
      "source": [
        "1-1"
      ],
      "execution_count": 6,
      "outputs": [
        {
          "output_type": "execute_result",
          "data": {
            "text/plain": [
              "0"
            ]
          },
          "metadata": {
            "tags": []
          },
          "execution_count": 6
        }
      ]
    },
    {
      "cell_type": "code",
      "metadata": {
        "colab": {
          "base_uri": "https://localhost:8080/"
        },
        "id": "wxPvJIxOv6AN",
        "outputId": "f02ef02d-2841-4e5b-866e-d05c148391f1"
      },
      "source": [
        "1+2-3+5*3"
      ],
      "execution_count": 8,
      "outputs": [
        {
          "output_type": "execute_result",
          "data": {
            "text/plain": [
              "15"
            ]
          },
          "metadata": {
            "tags": []
          },
          "execution_count": 8
        }
      ]
    },
    {
      "cell_type": "code",
      "metadata": {
        "colab": {
          "base_uri": "https://localhost:8080/"
        },
        "id": "8trW9Y_Rv--w",
        "outputId": "36cb79a4-b1d0-4ea7-e300-87938a3e2fc7"
      },
      "source": [
        "print(\"อยากทานแซลมอนจังเลย\")"
      ],
      "execution_count": 9,
      "outputs": [
        {
          "output_type": "stream",
          "text": [
            "อยากทานแซลมอนจังเลย\n"
          ],
          "name": "stdout"
        }
      ]
    },
    {
      "cell_type": "code",
      "metadata": {
        "colab": {
          "base_uri": "https://localhost:8080/",
          "height": 35
        },
        "id": "HPSMbTTlwAu5",
        "outputId": "5f2251f9-f928-45f3-a7dc-860af447eb98"
      },
      "source": [
        "\"อยากทานแซลมอนจังเลย\""
      ],
      "execution_count": 10,
      "outputs": [
        {
          "output_type": "execute_result",
          "data": {
            "application/vnd.google.colaboratory.intrinsic+json": {
              "type": "string"
            },
            "text/plain": [
              "'อยากทานแซลมอนจังเลย'"
            ]
          },
          "metadata": {
            "tags": []
          },
          "execution_count": 10
        }
      ]
    },
    {
      "cell_type": "code",
      "metadata": {
        "id": "S-ur_2dKwCOt"
      },
      "source": [
        "หิวจังเลย = \"อยากทานแซลมอนจังเลย\""
      ],
      "execution_count": 11,
      "outputs": []
    },
    {
      "cell_type": "code",
      "metadata": {
        "colab": {
          "base_uri": "https://localhost:8080/"
        },
        "id": "WeXHPMFZwD3K",
        "outputId": "00d38e00-af6e-46ca-9de0-13d37ae0e7e6"
      },
      "source": [
        "print(หิวจังเลย)"
      ],
      "execution_count": 12,
      "outputs": [
        {
          "output_type": "stream",
          "text": [
            "อยากทานแซลมอนจังเลย\n"
          ],
          "name": "stdout"
        }
      ]
    },
    {
      "cell_type": "code",
      "metadata": {
        "id": "yBY2zAlRwFMw"
      },
      "source": [
        "หิวจังเลย = 2499"
      ],
      "execution_count": 13,
      "outputs": []
    },
    {
      "cell_type": "code",
      "metadata": {
        "colab": {
          "base_uri": "https://localhost:8080/"
        },
        "id": "aj8icooSwGdl",
        "outputId": "537cc823-1963-42b7-e43d-22185f2d8979"
      },
      "source": [
        "print(หิวจังเลย)"
      ],
      "execution_count": 14,
      "outputs": [
        {
          "output_type": "stream",
          "text": [
            "2499\n"
          ],
          "name": "stdout"
        }
      ]
    },
    {
      "cell_type": "code",
      "metadata": {
        "colab": {
          "base_uri": "https://localhost:8080/",
          "height": 164
        },
        "id": "ezowEQRWwJVY",
        "outputId": "c09a9ef4-3dd7-4f2d-babd-2ba5f8ebfe97"
      },
      "source": [
        "\"อยากทานแซลมอนจังเลย\" * \"ฉันชอบนายประหยัด\" # คูณไม่ได้ แต่บวกได้"
      ],
      "execution_count": 17,
      "outputs": [
        {
          "output_type": "error",
          "ename": "TypeError",
          "evalue": "ignored",
          "traceback": [
            "\u001b[0;31m---------------------------------------------------------------------------\u001b[0m",
            "\u001b[0;31mTypeError\u001b[0m                                 Traceback (most recent call last)",
            "\u001b[0;32m<ipython-input-17-0ac199e9b91c>\u001b[0m in \u001b[0;36m<module>\u001b[0;34m()\u001b[0m\n\u001b[0;32m----> 1\u001b[0;31m \u001b[0;34m\"อยากทานแซลมอนจังเลย\"\u001b[0m \u001b[0;34m*\u001b[0m \u001b[0;34m\"ฉันชอบนายประหยัด\"\u001b[0m \u001b[0;31m# คูณไม่ได้ แต่บวกได้\u001b[0m\u001b[0;34m\u001b[0m\u001b[0;34m\u001b[0m\u001b[0m\n\u001b[0m",
            "\u001b[0;31mTypeError\u001b[0m: can't multiply sequence by non-int of type 'str'"
          ]
        }
      ]
    },
    {
      "cell_type": "code",
      "metadata": {
        "colab": {
          "base_uri": "https://localhost:8080/",
          "height": 35
        },
        "id": "o4zvZJ4MwNtX",
        "outputId": "b0405efc-43ce-4be7-dc4f-360236df40c4"
      },
      "source": [
        "\"อยากทานแซลมอนจังเลย\" + \" \" + \"ฉันชอบนายประหยัด\""
      ],
      "execution_count": 16,
      "outputs": [
        {
          "output_type": "execute_result",
          "data": {
            "application/vnd.google.colaboratory.intrinsic+json": {
              "type": "string"
            },
            "text/plain": [
              "'อยากทานแซลมอนจังเลย ฉันชอบนายประหยัด'"
            ]
          },
          "metadata": {
            "tags": []
          },
          "execution_count": 16
        }
      ]
    },
    {
      "cell_type": "code",
      "metadata": {
        "id": "wf1UDFEcwPvr"
      },
      "source": [
        ""
      ],
      "execution_count": null,
      "outputs": []
    },
    {
      "cell_type": "markdown",
      "metadata": {
        "id": "Kje1VDoXwVNS"
      },
      "source": [
        "\n",
        "# Index\n",
        "จะเริ่มที่ค่า 0 เสมอ"
      ]
    },
    {
      "cell_type": "code",
      "metadata": {
        "colab": {
          "base_uri": "https://localhost:8080/",
          "height": 35
        },
        "id": "uXJt-bkFwWVi",
        "outputId": "17dbcea3-a4e7-487f-eade-89bbbeb41941"
      },
      "source": [
        "\"อยากทานแซลมอนจังเลย\"[0:4]\n"
      ],
      "execution_count": 18,
      "outputs": [
        {
          "output_type": "execute_result",
          "data": {
            "application/vnd.google.colaboratory.intrinsic+json": {
              "type": "string"
            },
            "text/plain": [
              "'อยาก'"
            ]
          },
          "metadata": {
            "tags": []
          },
          "execution_count": 18
        }
      ]
    },
    {
      "cell_type": "code",
      "metadata": {
        "id": "zhiEOy4iwalr"
      },
      "source": [
        "def calculate_bmi(weight, height):\n",
        "    bmi = weight / (height*height)\n",
        "    return bmi"
      ],
      "execution_count": 19,
      "outputs": []
    },
    {
      "cell_type": "markdown",
      "metadata": {
        "id": "FL-2WSM4wc8C"
      },
      "source": [
        "# Function"
      ]
    },
    {
      "cell_type": "code",
      "metadata": {
        "id": "jl6EOx7BwdsL"
      },
      "source": [
        "my_bmi = calculate_bmi(80, 1.80)"
      ],
      "execution_count": 20,
      "outputs": []
    },
    {
      "cell_type": "code",
      "metadata": {
        "colab": {
          "base_uri": "https://localhost:8080/"
        },
        "id": "wc060RpNwkXa",
        "outputId": "977bb268-a65b-4134-8507-a84060526556"
      },
      "source": [
        "my_bmi"
      ],
      "execution_count": 21,
      "outputs": [
        {
          "output_type": "execute_result",
          "data": {
            "text/plain": [
              "24.691358024691358"
            ]
          },
          "metadata": {
            "tags": []
          },
          "execution_count": 21
        }
      ]
    },
    {
      "cell_type": "markdown",
      "metadata": {
        "id": "G_sMnQjZwl7o"
      },
      "source": [
        "# Logical If Else"
      ]
    },
    {
      "cell_type": "code",
      "metadata": {
        "colab": {
          "base_uri": "https://localhost:8080/"
        },
        "id": "-G4eIlxewpbs",
        "outputId": "218a4425-682d-43db-c0a2-b4f4d595f83d"
      },
      "source": [
        "if my_bmi >= 25:\n",
        "    print(\"เลิกกินชานมไข่มุกได้แล้ว !!!\")\n",
        "else: \n",
        "    print(\"ไปทานบุฟเฟ่ห์กันเถอะ !!!\")"
      ],
      "execution_count": 22,
      "outputs": [
        {
          "output_type": "stream",
          "text": [
            "ไปทานบุฟเฟ่ห์กันเถอะ !!!\n"
          ],
          "name": "stdout"
        }
      ]
    },
    {
      "cell_type": "code",
      "metadata": {
        "colab": {
          "base_uri": "https://localhost:8080/"
        },
        "id": "RpheCoM3wrh2",
        "outputId": "4d6f9041-817c-4492-f8fd-83a8b64cf560"
      },
      "source": [
        "# กรณีมากกว่าและเท่ากับ 25\n",
        "if my_bmi >= 25:\n",
        "    print(\"เลิกกินชานมไข่มุกได้แล้ว !!!\")\n",
        "# น้อยกว่า 18  \n",
        "elif my_bmi < 18:\n",
        "    print(\"ผอมเกินไปแล้วนะ !!!\")\n",
        "# มากกว่า 18 แต่น้อยกว่า 25  \n",
        "else: \n",
        "    print(\"ไปทานบุฟเฟ่ห์กันเถอะ !!!\")"
      ],
      "execution_count": 23,
      "outputs": [
        {
          "output_type": "stream",
          "text": [
            "ไปทานบุฟเฟ่ห์กันเถอะ !!!\n"
          ],
          "name": "stdout"
        }
      ]
    },
    {
      "cell_type": "code",
      "metadata": {
        "id": "x4Ag-ehBwtb0"
      },
      "source": [
        ""
      ],
      "execution_count": null,
      "outputs": []
    },
    {
      "cell_type": "markdown",
      "metadata": {
        "id": "fX8H9FXuw0EC"
      },
      "source": [
        "## **For Loop**"
      ]
    },
    {
      "cell_type": "markdown",
      "metadata": {
        "id": "nBEwAZOkw01e"
      },
      "source": [
        "เงินต้น 10000\n",
        "ดอกเบี้ย 10%\n",
        "สะสม 5 ปี"
      ]
    },
    {
      "cell_type": "code",
      "metadata": {
        "colab": {
          "base_uri": "https://localhost:8080/"
        },
        "id": "WZHjQjx0w299",
        "outputId": "3d38a9af-5af5-46a9-d2c7-2fec9b623a21"
      },
      "source": [
        "เงินออม = 10000\n",
        "for จำนวนปี in range(1,6,1):\n",
        "    เงินออม = เงินออม + (เงินออม * 0.1)\n",
        "    print(จำนวนปี, เงินออม)"
      ],
      "execution_count": 25,
      "outputs": [
        {
          "output_type": "stream",
          "text": [
            "1 11000.0\n",
            "2 12100.0\n",
            "3 13310.0\n",
            "4 14641.0\n",
            "5 16105.1\n"
          ],
          "name": "stdout"
        }
      ]
    },
    {
      "cell_type": "code",
      "metadata": {
        "colab": {
          "base_uri": "https://localhost:8080/"
        },
        "id": "DwOpWk6Vw48e",
        "outputId": "490c1631-5dcf-4647-f44d-67b4d03f19e5"
      },
      "source": [
        "print(เงินออม)"
      ],
      "execution_count": 26,
      "outputs": [
        {
          "output_type": "stream",
          "text": [
            "16105.1\n"
          ],
          "name": "stdout"
        }
      ]
    },
    {
      "cell_type": "code",
      "metadata": {
        "id": "2zk8IjDow8gF"
      },
      "source": [
        ""
      ],
      "execution_count": null,
      "outputs": []
    }
  ]
}