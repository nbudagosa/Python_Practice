{
  "nbformat": 4,
  "nbformat_minor": 0,
  "metadata": {
    "colab": {
      "name": "Python End-to-End.ipynb",
      "provenance": [],
      "collapsed_sections": [
        "1GCZBGdgRxv-",
        "SCpPITIaXFEH",
        "UaMUzarNbw6R",
        "DE25A6dSp-64",
        "04Eirn0b0Cfa",
        "afCwSHQyA-tu"
      ]
    },
    "kernelspec": {
      "name": "python3",
      "display_name": "Python 3"
    },
    "language_info": {
      "name": "python"
    },
    "accelerator": "GPU"
  },
  "cells": [
    {
      "cell_type": "markdown",
      "metadata": {
        "id": "1GCZBGdgRxv-"
      },
      "source": [
        "# **Basic Python**"
      ]
    },
    {
      "cell_type": "code",
      "metadata": {
        "colab": {
          "base_uri": "https://localhost:8080/"
        },
        "id": "uD17loN6Rchn",
        "outputId": "07d4dd16-7946-499e-fc7a-a41b13940418"
      },
      "source": [
        "# create new variables\n",
        "name = \"Toy\"\n",
        "age = 32\n",
        "\n",
        "print(name)\n",
        "print(age)"
      ],
      "execution_count": null,
      "outputs": [
        {
          "output_type": "stream",
          "text": [
            "Toy\n",
            "32\n"
          ],
          "name": "stdout"
        }
      ]
    },
    {
      "cell_type": "code",
      "metadata": {
        "colab": {
          "base_uri": "https://localhost:8080/"
        },
        "id": "cjaMQ0QnR1X0",
        "outputId": "75f8bfb0-6649-4033-e965-0f619eb7a013"
      },
      "source": [
        "# fstring template\n",
        "print( f\"Hello my name is {name} and I am {age} years old.\" )"
      ],
      "execution_count": null,
      "outputs": [
        {
          "output_type": "stream",
          "text": [
            "Hello my name is Toy and I am 32 years old.\n"
          ],
          "name": "stdout"
        }
      ]
    },
    {
      "cell_type": "code",
      "metadata": {
        "colab": {
          "base_uri": "https://localhost:8080/"
        },
        "id": "sa97l9hqSpv-",
        "outputId": "dc424cd5-bf4e-4d26-a5c9-dc12d488d0e2"
      },
      "source": [
        "# data structures in python\n",
        "shopping_list = [\"eggs\", \"milk\", \"bread\", \"carrot\"]\n",
        "print(shopping_list)"
      ],
      "execution_count": null,
      "outputs": [
        {
          "output_type": "stream",
          "text": [
            "['eggs', 'milk', 'bread', 'carrot']\n"
          ],
          "name": "stdout"
        }
      ]
    },
    {
      "cell_type": "code",
      "metadata": {
        "colab": {
          "base_uri": "https://localhost:8080/"
        },
        "id": "yM7EGrrLS_xN",
        "outputId": "68e760c4-edaf-462f-c171-4406d3685bbc"
      },
      "source": [
        "# control flow\n",
        "for item in shopping_list:\n",
        "    print(item.upper())"
      ],
      "execution_count": null,
      "outputs": [
        {
          "output_type": "stream",
          "text": [
            "EGGS\n",
            "MILK\n",
            "BREAD\n",
            "CARROT\n"
          ],
          "name": "stdout"
        }
      ]
    },
    {
      "cell_type": "code",
      "metadata": {
        "colab": {
          "base_uri": "https://localhost:8080/"
        },
        "id": "-6b5TgSRTLka",
        "outputId": "6091a5e1-a730-4a0b-e3b9-b218554e5d14"
      },
      "source": [
        "# list comprehension\n",
        "upper_shopping_list = [item.upper() for item in shopping_list]\n",
        "print(upper_shopping_list)"
      ],
      "execution_count": null,
      "outputs": [
        {
          "output_type": "stream",
          "text": [
            "['EGGS', 'MILK', 'BREAD', 'CARROT']\n"
          ],
          "name": "stdout"
        }
      ]
    },
    {
      "cell_type": "code",
      "metadata": {
        "id": "uzR68TChUNbo"
      },
      "source": [
        "# create new function + type hints\n",
        "def hello(name: str) -> None:\n",
        "    print(f\"Hello {name}!\")"
      ],
      "execution_count": null,
      "outputs": []
    },
    {
      "cell_type": "code",
      "metadata": {
        "colab": {
          "base_uri": "https://localhost:8080/"
        },
        "id": "bevvhUUeUigD",
        "outputId": "82017d93-8fcc-4eb5-a636-84b01d64fb6c"
      },
      "source": [
        "hello(name = 'toy')"
      ],
      "execution_count": null,
      "outputs": [
        {
          "output_type": "stream",
          "text": [
            "Hello toy!\n"
          ],
          "name": "stdout"
        }
      ]
    },
    {
      "cell_type": "code",
      "metadata": {
        "colab": {
          "base_uri": "https://localhost:8080/"
        },
        "id": "3lAVQwCNUlOS",
        "outputId": "af5bc31c-0f33-42cd-fd7d-f553286c4db0"
      },
      "source": [
        "# new function \n",
        "def add_two_nums(a: int, b: float) -> float:\n",
        "    return a+b\n",
        "\n",
        "result = add_two_nums(5.23, 10.2)\n",
        "print(result)"
      ],
      "execution_count": null,
      "outputs": [
        {
          "output_type": "stream",
          "text": [
            "15.43\n"
          ],
          "name": "stdout"
        }
      ]
    },
    {
      "cell_type": "code",
      "metadata": {
        "id": "lN0dgqreVmbE"
      },
      "source": [
        ""
      ],
      "execution_count": null,
      "outputs": []
    },
    {
      "cell_type": "markdown",
      "metadata": {
        "id": "SCpPITIaXFEH"
      },
      "source": [
        "# **OOP**"
      ]
    },
    {
      "cell_type": "code",
      "metadata": {
        "id": "LYJYBpPDXG6f"
      },
      "source": [
        "class Dog():\n",
        "    def __init__(self, name, age, breed):\n",
        "        self.name = name\n",
        "        self.age = age\n",
        "        self.breed = breed\n",
        "    \n",
        "    def __str__(self):\n",
        "        return f\"I am a dog name {self.name}\"\n",
        "\n",
        "    def barking(self):\n",
        "        print(\"Hong Hong!!\")\n",
        "\n",
        "    def eating(self, food):\n",
        "        print(f\"I am eating {food}. It's so delicious.\")"
      ],
      "execution_count": null,
      "outputs": []
    },
    {
      "cell_type": "code",
      "metadata": {
        "id": "ElG7La-SXRUC"
      },
      "source": [
        "my_dog = Dog(\"jonathan\", 3, 'dalmatian')"
      ],
      "execution_count": null,
      "outputs": []
    },
    {
      "cell_type": "code",
      "metadata": {
        "colab": {
          "base_uri": "https://localhost:8080/"
        },
        "id": "pVLt4LDzXjZr",
        "outputId": "557c75a9-3e15-4b1f-de10-9a7b54e8ab9b"
      },
      "source": [
        "my_dog.barking()"
      ],
      "execution_count": null,
      "outputs": [
        {
          "output_type": "stream",
          "text": [
            "Hong Hong!!\n"
          ],
          "name": "stdout"
        }
      ]
    },
    {
      "cell_type": "code",
      "metadata": {
        "colab": {
          "base_uri": "https://localhost:8080/"
        },
        "id": "YluzrpHDXoWC",
        "outputId": "64c6f6ff-8bef-4e49-a773-7ea9d341de68"
      },
      "source": [
        "my_dog.eating('Hotdog')"
      ],
      "execution_count": null,
      "outputs": [
        {
          "output_type": "stream",
          "text": [
            "I am eating Hotdog. It's so delicious.\n"
          ],
          "name": "stdout"
        }
      ]
    },
    {
      "cell_type": "code",
      "metadata": {
        "colab": {
          "base_uri": "https://localhost:8080/"
        },
        "id": "MzRfnSCOXygP",
        "outputId": "9f25b79e-c3d1-4ecf-bcde-bc59e6462ed4"
      },
      "source": [
        "print(my_dog)"
      ],
      "execution_count": null,
      "outputs": [
        {
          "output_type": "stream",
          "text": [
            "I am a dog name jonathan\n"
          ],
          "name": "stdout"
        }
      ]
    },
    {
      "cell_type": "code",
      "metadata": {
        "id": "HYoLEEH-Zjb4"
      },
      "source": [
        "# Book Class\n",
        "class Book():\n",
        "    def __init__(self, title, year, genre, length):\n",
        "        self.title = title\n",
        "        self.year = year\n",
        "        self.genre = genre\n",
        "        self.length = length\n",
        "    \n",
        "    def __str__(self):\n",
        "        return f\"Book title: {self.title} Author: {self.author}\"\n",
        "\n",
        "    def add_author(self, author):\n",
        "        self.author = author\n"
      ],
      "execution_count": null,
      "outputs": []
    },
    {
      "cell_type": "code",
      "metadata": {
        "id": "fNqzvYu1aF-l"
      },
      "source": [
        "my_book = Book('Business Made Simple', 2021, 'Business', 203)"
      ],
      "execution_count": null,
      "outputs": []
    },
    {
      "cell_type": "code",
      "metadata": {
        "colab": {
          "base_uri": "https://localhost:8080/"
        },
        "id": "RRdv_P7jai3h",
        "outputId": "8c70df89-aefb-403e-8609-45af72de8d14"
      },
      "source": [
        "print(my_book.title)\n",
        "print(my_book.year)\n",
        "print(my_book.genre)\n",
        "print(my_book.length)"
      ],
      "execution_count": null,
      "outputs": [
        {
          "output_type": "stream",
          "text": [
            "Business Made Simple\n",
            "2021\n",
            "Business\n",
            "203\n"
          ],
          "name": "stdout"
        }
      ]
    },
    {
      "cell_type": "code",
      "metadata": {
        "colab": {
          "base_uri": "https://localhost:8080/"
        },
        "id": "-krN4W9sap1B",
        "outputId": "41931841-b3f9-4417-a569-9d8f7cf0d850"
      },
      "source": [
        "my_book.add_author('Donald Miller')\n",
        "print(my_book)"
      ],
      "execution_count": null,
      "outputs": [
        {
          "output_type": "stream",
          "text": [
            "Book title: Business Made Simple Author: Donald Miller\n"
          ],
          "name": "stdout"
        }
      ]
    },
    {
      "cell_type": "code",
      "metadata": {
        "id": "_37LpZiebMJa"
      },
      "source": [
        ""
      ],
      "execution_count": null,
      "outputs": []
    },
    {
      "cell_type": "markdown",
      "metadata": {
        "id": "UaMUzarNbw6R"
      },
      "source": [
        "# **CSV Monster**"
      ]
    },
    {
      "cell_type": "code",
      "metadata": {
        "colab": {
          "base_uri": "https://localhost:8080/"
        },
        "id": "UFve643ubzsp",
        "outputId": "f40b9a1a-c232-415c-cc4a-db04fc97b470"
      },
      "source": [
        "import csv \n",
        "\n",
        "list_data = []\n",
        "\n",
        "with open('hotel.csv', 'r') as file:\n",
        "    data = csv.reader(file)\n",
        "    for row in data:\n",
        "        list_data.append(row)\n",
        "\n",
        "print(list_data)"
      ],
      "execution_count": null,
      "outputs": [
        {
          "output_type": "stream",
          "text": [
            "[['id', 'hotel', 'location', 'pricepernight'], ['1', 'Ideo', 'Bangkok', '20'], ['2', 'Accor', 'London', '25'], ['3', 'Premium', 'Seoul', '32'], ['4', 'Super Star', 'Dubai', '50'], ['5', 'Planet', 'Tokyo', '22'], ['6', 'Joby', 'Bangkok', '30'], ['7', 'JW Marriot', 'Bangkok', '35'], ['8', 'Kenshin', 'Tokyo', '20'], ['9', 'Eloquent', 'London', '42'], ['10', 'Big Ben', 'London', '45']]\n"
          ],
          "name": "stdout"
        }
      ]
    },
    {
      "cell_type": "code",
      "metadata": {
        "colab": {
          "base_uri": "https://localhost:8080/"
        },
        "id": "TafOlQrectaK",
        "outputId": "503219d2-4913-4c6a-c816-517187f4578c"
      },
      "source": [
        "print(list_data[2])"
      ],
      "execution_count": null,
      "outputs": [
        {
          "output_type": "stream",
          "text": [
            "['2', 'Accor', 'London', '25']\n"
          ],
          "name": "stdout"
        }
      ]
    },
    {
      "cell_type": "code",
      "metadata": {
        "colab": {
          "base_uri": "https://localhost:8080/"
        },
        "id": "5Q8-4h69dWfW",
        "outputId": "0a90ad15-b0a3-4ca8-9924-70448c76bdfb"
      },
      "source": [
        "print(len(list_data))"
      ],
      "execution_count": null,
      "outputs": [
        {
          "output_type": "stream",
          "text": [
            "11\n"
          ],
          "name": "stdout"
        }
      ]
    },
    {
      "cell_type": "code",
      "metadata": {
        "id": "XWc88C1UdgXD"
      },
      "source": [
        "# new class CSV Monster\n",
        "class CSVMonster():\n",
        "    list_data = []\n",
        "\n",
        "    def read_csv(self, filename):\n",
        "        try:\n",
        "            with open(filename, 'r') as file:\n",
        "                content = csv.reader(file)\n",
        "                for row in content:\n",
        "                    self.list_data.append(row)\n",
        "            print(\"Success - csv data has been loaded.\")\n",
        "        except:\n",
        "            print(\"Error - couldn't load data.\")\n",
        "\n",
        "    def head(self):\n",
        "        for row in self.list_data[0:6]:\n",
        "            print(row)\n",
        "\n",
        "    def tail(self):\n",
        "        print(self.list_data[0])\n",
        "        for row in self.list_data[-5:]:\n",
        "            print(row)\n",
        "\n",
        "    def column_names(self):\n",
        "        print(self.list_data[0])\n",
        "\n",
        "    def info(self):\n",
        "        print(f\"Number of columns: { len(self.list_data[0]) }\")\n",
        "        print(f\"Number of rows: { len(self.list_data[1: ]) }\")\n",
        "\n",
        "    def filter_city(self, city):\n",
        "        for row in self.list_data[1:]:\n",
        "            if row[2] == city:\n",
        "                print(row)\n",
        "    \n",
        "    def find_mean_price(self):\n",
        "        prices = []\n",
        "        for row in self.list_data[1:]:\n",
        "            prices.append( int(row[3]) )\n",
        "        avg_price = sum(prices)/ len(prices) \n",
        "        print(f\"Average price per night: {avg_price}\")\n",
        "\n",
        "    def price_plus_vat(self, percent_vat):\n",
        "        old_prices = []\n",
        "        new_prices = [] # include vat 18%\n",
        "        for row in self.list_data[1:]:\n",
        "            price = int(row[3])\n",
        "            old_prices.append( price )\n",
        "            new_prices.append( round(price * (1+percent_vat), 2) )\n",
        "        print(\"Old prices:\", old_prices)\n",
        "        print(\"New prices:\", new_prices )"
      ],
      "execution_count": null,
      "outputs": []
    },
    {
      "cell_type": "code",
      "metadata": {
        "colab": {
          "base_uri": "https://localhost:8080/"
        },
        "id": "uYqrK26jd0v0",
        "outputId": "839874ae-ef13-494c-f01a-1587c0dfc101"
      },
      "source": [
        "my_csv_monster = CSVMonster()\n",
        "my_csv_monster.read_csv('hotel.csv')"
      ],
      "execution_count": null,
      "outputs": [
        {
          "output_type": "stream",
          "text": [
            "Success - csv data has been loaded.\n"
          ],
          "name": "stdout"
        }
      ]
    },
    {
      "cell_type": "code",
      "metadata": {
        "colab": {
          "base_uri": "https://localhost:8080/"
        },
        "id": "dDQTVXUtkwzY",
        "outputId": "a14d9815-06fc-40f3-cad0-9f7cedf68b6e"
      },
      "source": [
        "my_csv_monster.find_mean_price()"
      ],
      "execution_count": null,
      "outputs": [
        {
          "output_type": "stream",
          "text": [
            "Average price per night: 32.1\n"
          ],
          "name": "stdout"
        }
      ]
    },
    {
      "cell_type": "code",
      "metadata": {
        "colab": {
          "base_uri": "https://localhost:8080/"
        },
        "id": "QzGEYdFppQ0K",
        "outputId": "954a236c-afd5-4ef9-e81c-23d74ddede44"
      },
      "source": [
        "my_csv_monster.price_plus_vat(0.18)"
      ],
      "execution_count": null,
      "outputs": [
        {
          "output_type": "stream",
          "text": [
            "Old prices: [20, 25, 32, 50, 22, 30, 35, 20, 42, 45]\n",
            "New prices: [23.6, 29.5, 37.76, 59.0, 25.96, 35.4, 41.3, 23.6, 49.56, 53.1]\n"
          ],
          "name": "stdout"
        }
      ]
    },
    {
      "cell_type": "code",
      "metadata": {
        "colab": {
          "base_uri": "https://localhost:8080/"
        },
        "id": "WT67HGqad92v",
        "outputId": "3fb92a13-6226-4b37-809d-ef82715749b2"
      },
      "source": [
        "my_csv_monster.head()"
      ],
      "execution_count": null,
      "outputs": [
        {
          "output_type": "stream",
          "text": [
            "['id', 'hotel', 'location', 'pricepernight']\n",
            "['1', 'Ideo', 'Bangkok', '20']\n",
            "['2', 'Accor', 'London', '25']\n",
            "['3', 'Premium', 'Seoul', '32']\n",
            "['4', 'Super Star', 'Dubai', '50']\n",
            "['5', 'Planet', 'Tokyo', '22']\n"
          ],
          "name": "stdout"
        }
      ]
    },
    {
      "cell_type": "code",
      "metadata": {
        "colab": {
          "base_uri": "https://localhost:8080/"
        },
        "id": "HDTZ7_G1jVGw",
        "outputId": "ccde3723-6756-4c98-9d03-faa74b7f2919"
      },
      "source": [
        "my_csv_monster.filter_city(\"London\")"
      ],
      "execution_count": null,
      "outputs": [
        {
          "output_type": "stream",
          "text": [
            "['2', 'Accor', 'London', '25']\n",
            "['9', 'Eloquent', 'London', '42']\n",
            "['10', 'Big Ben', 'London', '45']\n"
          ],
          "name": "stdout"
        }
      ]
    },
    {
      "cell_type": "code",
      "metadata": {
        "id": "qdhb9I6UjUEo"
      },
      "source": [
        ""
      ],
      "execution_count": null,
      "outputs": []
    },
    {
      "cell_type": "code",
      "metadata": {
        "colab": {
          "base_uri": "https://localhost:8080/"
        },
        "id": "1pWnPsPeezX7",
        "outputId": "ed8daa1f-8f9b-4731-9b91-65b511257548"
      },
      "source": [
        "my_csv_monster.tail()"
      ],
      "execution_count": null,
      "outputs": [
        {
          "output_type": "stream",
          "text": [
            "['id', 'hotel', 'location', 'pricepernight']\n",
            "['6', 'Joby', 'Bangkok', '30']\n",
            "['7', 'JW Marriot', 'Bangkok', '35']\n",
            "['8', 'Kenshin', 'Tokyo', '20']\n",
            "['9', 'Eloquent', 'London', '42']\n",
            "['10', 'Big Ben', 'London', '45']\n"
          ],
          "name": "stdout"
        }
      ]
    },
    {
      "cell_type": "code",
      "metadata": {
        "colab": {
          "base_uri": "https://localhost:8080/"
        },
        "id": "yuTDZvevg7UY",
        "outputId": "ad0415e0-2bd3-4933-84ca-a07301ae81ec"
      },
      "source": [
        "my_csv_monster.info()"
      ],
      "execution_count": null,
      "outputs": [
        {
          "output_type": "stream",
          "text": [
            "Number of columns: 4\n",
            "Number of rows: 10\n"
          ],
          "name": "stdout"
        }
      ]
    },
    {
      "cell_type": "code",
      "metadata": {
        "colab": {
          "base_uri": "https://localhost:8080/"
        },
        "id": "dIB1I8vph1Pz",
        "outputId": "f70832c2-c4c7-4f94-8f0e-b1c3d02a599b"
      },
      "source": [
        "my_csv_monster.column_names()"
      ],
      "execution_count": null,
      "outputs": [
        {
          "output_type": "stream",
          "text": [
            "['id', 'hotel', 'location', 'pricepernight']\n"
          ],
          "name": "stdout"
        }
      ]
    },
    {
      "cell_type": "code",
      "metadata": {
        "id": "RIBXYR7Nh6it"
      },
      "source": [
        ""
      ],
      "execution_count": null,
      "outputs": []
    },
    {
      "cell_type": "markdown",
      "metadata": {
        "id": "DE25A6dSp-64"
      },
      "source": [
        "# **Pandas**"
      ]
    },
    {
      "cell_type": "code",
      "metadata": {
        "id": "BrOtmsgbqAtQ"
      },
      "source": [
        "import pandas as pd"
      ],
      "execution_count": null,
      "outputs": []
    },
    {
      "cell_type": "code",
      "metadata": {
        "id": "GKQweL-DqPQg"
      },
      "source": [
        "data  = pd.read_csv(\"Sample SuperStore.csv\")"
      ],
      "execution_count": null,
      "outputs": []
    },
    {
      "cell_type": "code",
      "metadata": {
        "colab": {
          "base_uri": "https://localhost:8080/",
          "height": 534
        },
        "id": "Vc4_MPKpqbwP",
        "outputId": "0a95c21d-daa1-416c-c69e-8e41e3afd1e4"
      },
      "source": [
        "data.head()"
      ],
      "execution_count": null,
      "outputs": [
        {
          "output_type": "execute_result",
          "data": {
            "text/html": [
              "<div>\n",
              "<style scoped>\n",
              "    .dataframe tbody tr th:only-of-type {\n",
              "        vertical-align: middle;\n",
              "    }\n",
              "\n",
              "    .dataframe tbody tr th {\n",
              "        vertical-align: top;\n",
              "    }\n",
              "\n",
              "    .dataframe thead th {\n",
              "        text-align: right;\n",
              "    }\n",
              "</style>\n",
              "<table border=\"1\" class=\"dataframe\">\n",
              "  <thead>\n",
              "    <tr style=\"text-align: right;\">\n",
              "      <th></th>\n",
              "      <th>Row ID</th>\n",
              "      <th>Order ID</th>\n",
              "      <th>Order Date</th>\n",
              "      <th>Ship Date</th>\n",
              "      <th>Ship Mode</th>\n",
              "      <th>Customer ID</th>\n",
              "      <th>Customer Name</th>\n",
              "      <th>Segment</th>\n",
              "      <th>Country</th>\n",
              "      <th>City</th>\n",
              "      <th>State</th>\n",
              "      <th>Postal Code</th>\n",
              "      <th>Region</th>\n",
              "      <th>Product ID</th>\n",
              "      <th>Category</th>\n",
              "      <th>Sub-Category</th>\n",
              "      <th>Product Name</th>\n",
              "      <th>Sales</th>\n",
              "      <th>Quantity</th>\n",
              "      <th>Discount</th>\n",
              "      <th>Profit</th>\n",
              "    </tr>\n",
              "  </thead>\n",
              "  <tbody>\n",
              "    <tr>\n",
              "      <th>0</th>\n",
              "      <td>1</td>\n",
              "      <td>CA-2016-152156</td>\n",
              "      <td>11/8/2016</td>\n",
              "      <td>11/11/2016</td>\n",
              "      <td>Second Class</td>\n",
              "      <td>CG-12520</td>\n",
              "      <td>Claire Gute</td>\n",
              "      <td>Consumer</td>\n",
              "      <td>United States</td>\n",
              "      <td>Henderson</td>\n",
              "      <td>Kentucky</td>\n",
              "      <td>42420</td>\n",
              "      <td>South</td>\n",
              "      <td>FUR-BO-10001798</td>\n",
              "      <td>Furniture</td>\n",
              "      <td>Bookcases</td>\n",
              "      <td>Bush Somerset Collection Bookcase</td>\n",
              "      <td>261.9600</td>\n",
              "      <td>2</td>\n",
              "      <td>0.00</td>\n",
              "      <td>41.9136</td>\n",
              "    </tr>\n",
              "    <tr>\n",
              "      <th>1</th>\n",
              "      <td>2</td>\n",
              "      <td>CA-2016-152156</td>\n",
              "      <td>11/8/2016</td>\n",
              "      <td>11/11/2016</td>\n",
              "      <td>Second Class</td>\n",
              "      <td>CG-12520</td>\n",
              "      <td>Claire Gute</td>\n",
              "      <td>Consumer</td>\n",
              "      <td>United States</td>\n",
              "      <td>Henderson</td>\n",
              "      <td>Kentucky</td>\n",
              "      <td>42420</td>\n",
              "      <td>South</td>\n",
              "      <td>FUR-CH-10000454</td>\n",
              "      <td>Furniture</td>\n",
              "      <td>Chairs</td>\n",
              "      <td>Hon Deluxe Fabric Upholstered Stacking Chairs,...</td>\n",
              "      <td>731.9400</td>\n",
              "      <td>3</td>\n",
              "      <td>0.00</td>\n",
              "      <td>219.5820</td>\n",
              "    </tr>\n",
              "    <tr>\n",
              "      <th>2</th>\n",
              "      <td>3</td>\n",
              "      <td>CA-2016-138688</td>\n",
              "      <td>6/12/2016</td>\n",
              "      <td>6/16/2016</td>\n",
              "      <td>Second Class</td>\n",
              "      <td>DV-13045</td>\n",
              "      <td>Darrin Van Huff</td>\n",
              "      <td>Corporate</td>\n",
              "      <td>United States</td>\n",
              "      <td>Los Angeles</td>\n",
              "      <td>California</td>\n",
              "      <td>90036</td>\n",
              "      <td>West</td>\n",
              "      <td>OFF-LA-10000240</td>\n",
              "      <td>Office Supplies</td>\n",
              "      <td>Labels</td>\n",
              "      <td>Self-Adhesive Address Labels for Typewriters b...</td>\n",
              "      <td>14.6200</td>\n",
              "      <td>2</td>\n",
              "      <td>0.00</td>\n",
              "      <td>6.8714</td>\n",
              "    </tr>\n",
              "    <tr>\n",
              "      <th>3</th>\n",
              "      <td>4</td>\n",
              "      <td>US-2015-108966</td>\n",
              "      <td>10/11/2015</td>\n",
              "      <td>10/18/2015</td>\n",
              "      <td>Standard Class</td>\n",
              "      <td>SO-20335</td>\n",
              "      <td>Sean O'Donnell</td>\n",
              "      <td>Consumer</td>\n",
              "      <td>United States</td>\n",
              "      <td>Fort Lauderdale</td>\n",
              "      <td>Florida</td>\n",
              "      <td>33311</td>\n",
              "      <td>South</td>\n",
              "      <td>FUR-TA-10000577</td>\n",
              "      <td>Furniture</td>\n",
              "      <td>Tables</td>\n",
              "      <td>Bretford CR4500 Series Slim Rectangular Table</td>\n",
              "      <td>957.5775</td>\n",
              "      <td>5</td>\n",
              "      <td>0.45</td>\n",
              "      <td>-383.0310</td>\n",
              "    </tr>\n",
              "    <tr>\n",
              "      <th>4</th>\n",
              "      <td>5</td>\n",
              "      <td>US-2015-108966</td>\n",
              "      <td>10/11/2015</td>\n",
              "      <td>10/18/2015</td>\n",
              "      <td>Standard Class</td>\n",
              "      <td>SO-20335</td>\n",
              "      <td>Sean O'Donnell</td>\n",
              "      <td>Consumer</td>\n",
              "      <td>United States</td>\n",
              "      <td>Fort Lauderdale</td>\n",
              "      <td>Florida</td>\n",
              "      <td>33311</td>\n",
              "      <td>South</td>\n",
              "      <td>OFF-ST-10000760</td>\n",
              "      <td>Office Supplies</td>\n",
              "      <td>Storage</td>\n",
              "      <td>Eldon Fold 'N Roll Cart System</td>\n",
              "      <td>22.3680</td>\n",
              "      <td>2</td>\n",
              "      <td>0.20</td>\n",
              "      <td>2.5164</td>\n",
              "    </tr>\n",
              "  </tbody>\n",
              "</table>\n",
              "</div>"
            ],
            "text/plain": [
              "   Row ID        Order ID  Order Date  ... Quantity Discount    Profit\n",
              "0       1  CA-2016-152156   11/8/2016  ...        2     0.00   41.9136\n",
              "1       2  CA-2016-152156   11/8/2016  ...        3     0.00  219.5820\n",
              "2       3  CA-2016-138688   6/12/2016  ...        2     0.00    6.8714\n",
              "3       4  US-2015-108966  10/11/2015  ...        5     0.45 -383.0310\n",
              "4       5  US-2015-108966  10/11/2015  ...        2     0.20    2.5164\n",
              "\n",
              "[5 rows x 21 columns]"
            ]
          },
          "metadata": {
            "tags": []
          },
          "execution_count": 164
        }
      ]
    },
    {
      "cell_type": "code",
      "metadata": {
        "colab": {
          "base_uri": "https://localhost:8080/",
          "height": 518
        },
        "id": "rG0SJ_GjqdY1",
        "outputId": "0001d54c-44de-4693-9fcd-d112dfa07143"
      },
      "source": [
        "data.tail()"
      ],
      "execution_count": null,
      "outputs": [
        {
          "output_type": "execute_result",
          "data": {
            "text/html": [
              "<div>\n",
              "<style scoped>\n",
              "    .dataframe tbody tr th:only-of-type {\n",
              "        vertical-align: middle;\n",
              "    }\n",
              "\n",
              "    .dataframe tbody tr th {\n",
              "        vertical-align: top;\n",
              "    }\n",
              "\n",
              "    .dataframe thead th {\n",
              "        text-align: right;\n",
              "    }\n",
              "</style>\n",
              "<table border=\"1\" class=\"dataframe\">\n",
              "  <thead>\n",
              "    <tr style=\"text-align: right;\">\n",
              "      <th></th>\n",
              "      <th>Row ID</th>\n",
              "      <th>Order ID</th>\n",
              "      <th>Order Date</th>\n",
              "      <th>Ship Date</th>\n",
              "      <th>Ship Mode</th>\n",
              "      <th>Customer ID</th>\n",
              "      <th>Customer Name</th>\n",
              "      <th>Segment</th>\n",
              "      <th>Country</th>\n",
              "      <th>City</th>\n",
              "      <th>State</th>\n",
              "      <th>Postal Code</th>\n",
              "      <th>Region</th>\n",
              "      <th>Product ID</th>\n",
              "      <th>Category</th>\n",
              "      <th>Sub-Category</th>\n",
              "      <th>Product Name</th>\n",
              "      <th>Sales</th>\n",
              "      <th>Quantity</th>\n",
              "      <th>Discount</th>\n",
              "      <th>Profit</th>\n",
              "    </tr>\n",
              "  </thead>\n",
              "  <tbody>\n",
              "    <tr>\n",
              "      <th>9989</th>\n",
              "      <td>9990</td>\n",
              "      <td>CA-2014-110422</td>\n",
              "      <td>1/21/2014</td>\n",
              "      <td>1/23/2014</td>\n",
              "      <td>Second Class</td>\n",
              "      <td>TB-21400</td>\n",
              "      <td>Tom Boeckenhauer</td>\n",
              "      <td>Consumer</td>\n",
              "      <td>United States</td>\n",
              "      <td>Miami</td>\n",
              "      <td>Florida</td>\n",
              "      <td>33180</td>\n",
              "      <td>South</td>\n",
              "      <td>FUR-FU-10001889</td>\n",
              "      <td>Furniture</td>\n",
              "      <td>Furnishings</td>\n",
              "      <td>Ultra Door Pull Handle</td>\n",
              "      <td>25.248</td>\n",
              "      <td>3</td>\n",
              "      <td>0.2</td>\n",
              "      <td>4.1028</td>\n",
              "    </tr>\n",
              "    <tr>\n",
              "      <th>9990</th>\n",
              "      <td>9991</td>\n",
              "      <td>CA-2017-121258</td>\n",
              "      <td>2/26/2017</td>\n",
              "      <td>3/3/2017</td>\n",
              "      <td>Standard Class</td>\n",
              "      <td>DB-13060</td>\n",
              "      <td>Dave Brooks</td>\n",
              "      <td>Consumer</td>\n",
              "      <td>United States</td>\n",
              "      <td>Costa Mesa</td>\n",
              "      <td>California</td>\n",
              "      <td>92627</td>\n",
              "      <td>West</td>\n",
              "      <td>FUR-FU-10000747</td>\n",
              "      <td>Furniture</td>\n",
              "      <td>Furnishings</td>\n",
              "      <td>Tenex B1-RE Series Chair Mats for Low Pile Car...</td>\n",
              "      <td>91.960</td>\n",
              "      <td>2</td>\n",
              "      <td>0.0</td>\n",
              "      <td>15.6332</td>\n",
              "    </tr>\n",
              "    <tr>\n",
              "      <th>9991</th>\n",
              "      <td>9992</td>\n",
              "      <td>CA-2017-121258</td>\n",
              "      <td>2/26/2017</td>\n",
              "      <td>3/3/2017</td>\n",
              "      <td>Standard Class</td>\n",
              "      <td>DB-13060</td>\n",
              "      <td>Dave Brooks</td>\n",
              "      <td>Consumer</td>\n",
              "      <td>United States</td>\n",
              "      <td>Costa Mesa</td>\n",
              "      <td>California</td>\n",
              "      <td>92627</td>\n",
              "      <td>West</td>\n",
              "      <td>TEC-PH-10003645</td>\n",
              "      <td>Technology</td>\n",
              "      <td>Phones</td>\n",
              "      <td>Aastra 57i VoIP phone</td>\n",
              "      <td>258.576</td>\n",
              "      <td>2</td>\n",
              "      <td>0.2</td>\n",
              "      <td>19.3932</td>\n",
              "    </tr>\n",
              "    <tr>\n",
              "      <th>9992</th>\n",
              "      <td>9993</td>\n",
              "      <td>CA-2017-121258</td>\n",
              "      <td>2/26/2017</td>\n",
              "      <td>3/3/2017</td>\n",
              "      <td>Standard Class</td>\n",
              "      <td>DB-13060</td>\n",
              "      <td>Dave Brooks</td>\n",
              "      <td>Consumer</td>\n",
              "      <td>United States</td>\n",
              "      <td>Costa Mesa</td>\n",
              "      <td>California</td>\n",
              "      <td>92627</td>\n",
              "      <td>West</td>\n",
              "      <td>OFF-PA-10004041</td>\n",
              "      <td>Office Supplies</td>\n",
              "      <td>Paper</td>\n",
              "      <td>It's Hot Message Books with Stickers, 2 3/4\" x 5\"</td>\n",
              "      <td>29.600</td>\n",
              "      <td>4</td>\n",
              "      <td>0.0</td>\n",
              "      <td>13.3200</td>\n",
              "    </tr>\n",
              "    <tr>\n",
              "      <th>9993</th>\n",
              "      <td>9994</td>\n",
              "      <td>CA-2017-119914</td>\n",
              "      <td>5/4/2017</td>\n",
              "      <td>5/9/2017</td>\n",
              "      <td>Second Class</td>\n",
              "      <td>CC-12220</td>\n",
              "      <td>Chris Cortes</td>\n",
              "      <td>Consumer</td>\n",
              "      <td>United States</td>\n",
              "      <td>Westminster</td>\n",
              "      <td>California</td>\n",
              "      <td>92683</td>\n",
              "      <td>West</td>\n",
              "      <td>OFF-AP-10002684</td>\n",
              "      <td>Office Supplies</td>\n",
              "      <td>Appliances</td>\n",
              "      <td>Acco 7-Outlet Masterpiece Power Center, Wihtou...</td>\n",
              "      <td>243.160</td>\n",
              "      <td>2</td>\n",
              "      <td>0.0</td>\n",
              "      <td>72.9480</td>\n",
              "    </tr>\n",
              "  </tbody>\n",
              "</table>\n",
              "</div>"
            ],
            "text/plain": [
              "      Row ID        Order ID Order Date  ... Quantity Discount   Profit\n",
              "9989    9990  CA-2014-110422  1/21/2014  ...        3      0.2   4.1028\n",
              "9990    9991  CA-2017-121258  2/26/2017  ...        2      0.0  15.6332\n",
              "9991    9992  CA-2017-121258  2/26/2017  ...        2      0.2  19.3932\n",
              "9992    9993  CA-2017-121258  2/26/2017  ...        4      0.0  13.3200\n",
              "9993    9994  CA-2017-119914   5/4/2017  ...        2      0.0  72.9480\n",
              "\n",
              "[5 rows x 21 columns]"
            ]
          },
          "metadata": {
            "tags": []
          },
          "execution_count": 163
        }
      ]
    },
    {
      "cell_type": "code",
      "metadata": {
        "colab": {
          "base_uri": "https://localhost:8080/"
        },
        "id": "fRaMO-xwqoeE",
        "outputId": "0be5c2dd-037c-49fe-fa1c-9c796ea89e1d"
      },
      "source": [
        "data.info()"
      ],
      "execution_count": null,
      "outputs": [
        {
          "output_type": "stream",
          "text": [
            "<class 'pandas.core.frame.DataFrame'>\n",
            "RangeIndex: 9994 entries, 0 to 9993\n",
            "Data columns (total 21 columns):\n",
            " #   Column         Non-Null Count  Dtype  \n",
            "---  ------         --------------  -----  \n",
            " 0   Row ID         9994 non-null   int64  \n",
            " 1   Order ID       9994 non-null   object \n",
            " 2   Order Date     9994 non-null   object \n",
            " 3   Ship Date      9994 non-null   object \n",
            " 4   Ship Mode      9994 non-null   object \n",
            " 5   Customer ID    9994 non-null   object \n",
            " 6   Customer Name  9994 non-null   object \n",
            " 7   Segment        9994 non-null   object \n",
            " 8   Country        9994 non-null   object \n",
            " 9   City           9994 non-null   object \n",
            " 10  State          9994 non-null   object \n",
            " 11  Postal Code    9994 non-null   int64  \n",
            " 12  Region         9994 non-null   object \n",
            " 13  Product ID     9994 non-null   object \n",
            " 14  Category       9994 non-null   object \n",
            " 15  Sub-Category   9994 non-null   object \n",
            " 16  Product Name   9994 non-null   object \n",
            " 17  Sales          9994 non-null   float64\n",
            " 18  Quantity       9994 non-null   int64  \n",
            " 19  Discount       9994 non-null   float64\n",
            " 20  Profit         9994 non-null   float64\n",
            "dtypes: float64(3), int64(3), object(15)\n",
            "memory usage: 1.6+ MB\n"
          ],
          "name": "stdout"
        }
      ]
    },
    {
      "cell_type": "code",
      "metadata": {
        "colab": {
          "base_uri": "https://localhost:8080/"
        },
        "id": "2gPcLicwq11y",
        "outputId": "be55497a-3f42-4f87-f055-7ef82f35e38a"
      },
      "source": [
        "print(\"columns:\", data.shape[1])\n",
        "print(\"rows:\", data.shape[0])"
      ],
      "execution_count": null,
      "outputs": [
        {
          "output_type": "stream",
          "text": [
            "columns: 21\n",
            "rows: 9994\n"
          ],
          "name": "stdout"
        }
      ]
    },
    {
      "cell_type": "code",
      "metadata": {
        "colab": {
          "base_uri": "https://localhost:8080/"
        },
        "id": "nxucHcHYrQRb",
        "outputId": "e04cc08a-f109-488b-a0a9-479570b48854"
      },
      "source": [
        "column_names = list( data.columns )\n",
        "print(column_names)"
      ],
      "execution_count": null,
      "outputs": [
        {
          "output_type": "stream",
          "text": [
            "['Row ID', 'Order ID', 'Order Date', 'Ship Date', 'Ship Mode', 'Customer ID', 'Customer Name', 'Segment', 'Country', 'City', 'State', 'Postal Code', 'Region', 'Product ID', 'Category', 'Sub-Category', 'Product Name', 'Sales', 'Quantity', 'Discount', 'Profit']\n"
          ],
          "name": "stdout"
        }
      ]
    },
    {
      "cell_type": "code",
      "metadata": {
        "colab": {
          "base_uri": "https://localhost:8080/"
        },
        "id": "eFXBM9Y6rqQQ",
        "outputId": "11cf6067-0b5e-4083-fe2c-62405ebc4abf"
      },
      "source": [
        "# for column in column_names:\n",
        "#     print(column.lower().replace(\" \", \"_\").replace(\"-\", \"_\") )\n",
        "\n",
        "clean_column_names = [column.lower().replace(\" \", \"_\").replace(\"-\", \"_\") for column in column_names]\n",
        "\n",
        "print(clean_column_names)"
      ],
      "execution_count": null,
      "outputs": [
        {
          "output_type": "stream",
          "text": [
            "['row_id', 'order_id', 'order_date', 'ship_date', 'ship_mode', 'customer_id', 'customer_name', 'segment', 'country', 'city', 'state', 'postal_code', 'region', 'product_id', 'category', 'sub_category', 'product_name', 'sales', 'quantity', 'discount', 'profit']\n"
          ],
          "name": "stdout"
        }
      ]
    },
    {
      "cell_type": "code",
      "metadata": {
        "id": "YdCyr8djsO0P"
      },
      "source": [
        "# replace new columns name \n",
        "data.columns = clean_column_names"
      ],
      "execution_count": null,
      "outputs": []
    },
    {
      "cell_type": "code",
      "metadata": {
        "colab": {
          "base_uri": "https://localhost:8080/"
        },
        "id": "kzc6zx6qtK0q",
        "outputId": "df86ab9c-b1bd-4759-ba33-2607a914f5e4"
      },
      "source": [
        "data.columns"
      ],
      "execution_count": null,
      "outputs": [
        {
          "output_type": "execute_result",
          "data": {
            "text/plain": [
              "Index(['row_id', 'order_id', 'order_date', 'ship_date', 'ship_mode',\n",
              "       'customer_id', 'customer_name', 'segment', 'country', 'city', 'state',\n",
              "       'postal_code', 'region', 'product_id', 'category', 'sub_category',\n",
              "       'product_name', 'sales', 'quantity', 'discount', 'profit'],\n",
              "      dtype='object')"
            ]
          },
          "metadata": {
            "tags": []
          },
          "execution_count": 183
        }
      ]
    },
    {
      "cell_type": "code",
      "metadata": {
        "colab": {
          "base_uri": "https://localhost:8080/"
        },
        "id": "Zo2uSDyytRYG",
        "outputId": "f0accf25-ede9-4da7-cf0c-879d72941543"
      },
      "source": [
        "# filter data\n",
        "print(data.shape)\n",
        "print(data.query(\"ship_mode == 'Standard Class' \").shape)\n",
        "print(data.query(\"ship_mode == 'Second Class' \").shape)"
      ],
      "execution_count": null,
      "outputs": [
        {
          "output_type": "stream",
          "text": [
            "(9994, 21)\n",
            "(5968, 21)\n",
            "(1945, 21)\n"
          ],
          "name": "stdout"
        }
      ]
    },
    {
      "cell_type": "code",
      "metadata": {
        "colab": {
          "base_uri": "https://localhost:8080/"
        },
        "id": "tP6aYhA4tmZv",
        "outputId": "f3d2d560-737f-45b4-ab57-b48082b470b4"
      },
      "source": [
        "# filter data more than one conditions\n",
        "print(data.query(\"ship_mode == 'Standard Class' & city == 'Los Angeles' \").shape)\n",
        "print(data.query(\"ship_mode == 'Standard Class' & city == 'Los Angeles' & segment == 'Corporate' \").shape)"
      ],
      "execution_count": null,
      "outputs": [
        {
          "output_type": "stream",
          "text": [
            "(449, 21)\n",
            "(135, 21)\n"
          ],
          "name": "stdout"
        }
      ]
    },
    {
      "cell_type": "code",
      "metadata": {
        "id": "viuE4K4muBXu"
      },
      "source": [
        "data_1 = data.query(\"ship_mode == 'Standard Class' & city == 'Los Angeles' & segment == 'Corporate' \")"
      ],
      "execution_count": null,
      "outputs": []
    },
    {
      "cell_type": "code",
      "metadata": {
        "id": "0VMRw99juDbS"
      },
      "source": [
        "# export data - write csv\n",
        "data_1.to_csv('data_standard_class_LA_corporate.csv')"
      ],
      "execution_count": null,
      "outputs": []
    },
    {
      "cell_type": "code",
      "metadata": {
        "colab": {
          "base_uri": "https://localhost:8080/",
          "height": 195
        },
        "id": "W82vjyOWu0IM",
        "outputId": "1d6e675b-8271-4522-de18-a5bc11b2d61f"
      },
      "source": [
        "# select columns\n",
        "columns_i_want = ['order_id', 'ship_date', 'customer_name', 'country', 'city']\n",
        "\n",
        "data[columns_i_want].query(\"city == 'Los Angeles'\").head()"
      ],
      "execution_count": null,
      "outputs": [
        {
          "output_type": "execute_result",
          "data": {
            "text/html": [
              "<div>\n",
              "<style scoped>\n",
              "    .dataframe tbody tr th:only-of-type {\n",
              "        vertical-align: middle;\n",
              "    }\n",
              "\n",
              "    .dataframe tbody tr th {\n",
              "        vertical-align: top;\n",
              "    }\n",
              "\n",
              "    .dataframe thead th {\n",
              "        text-align: right;\n",
              "    }\n",
              "</style>\n",
              "<table border=\"1\" class=\"dataframe\">\n",
              "  <thead>\n",
              "    <tr style=\"text-align: right;\">\n",
              "      <th></th>\n",
              "      <th>order_id</th>\n",
              "      <th>ship_date</th>\n",
              "      <th>customer_name</th>\n",
              "      <th>country</th>\n",
              "      <th>city</th>\n",
              "    </tr>\n",
              "  </thead>\n",
              "  <tbody>\n",
              "    <tr>\n",
              "      <th>2</th>\n",
              "      <td>CA-2016-138688</td>\n",
              "      <td>6/16/2016</td>\n",
              "      <td>Darrin Van Huff</td>\n",
              "      <td>United States</td>\n",
              "      <td>Los Angeles</td>\n",
              "    </tr>\n",
              "    <tr>\n",
              "      <th>5</th>\n",
              "      <td>CA-2014-115812</td>\n",
              "      <td>6/14/2014</td>\n",
              "      <td>Brosina Hoffman</td>\n",
              "      <td>United States</td>\n",
              "      <td>Los Angeles</td>\n",
              "    </tr>\n",
              "    <tr>\n",
              "      <th>6</th>\n",
              "      <td>CA-2014-115812</td>\n",
              "      <td>6/14/2014</td>\n",
              "      <td>Brosina Hoffman</td>\n",
              "      <td>United States</td>\n",
              "      <td>Los Angeles</td>\n",
              "    </tr>\n",
              "    <tr>\n",
              "      <th>7</th>\n",
              "      <td>CA-2014-115812</td>\n",
              "      <td>6/14/2014</td>\n",
              "      <td>Brosina Hoffman</td>\n",
              "      <td>United States</td>\n",
              "      <td>Los Angeles</td>\n",
              "    </tr>\n",
              "    <tr>\n",
              "      <th>8</th>\n",
              "      <td>CA-2014-115812</td>\n",
              "      <td>6/14/2014</td>\n",
              "      <td>Brosina Hoffman</td>\n",
              "      <td>United States</td>\n",
              "      <td>Los Angeles</td>\n",
              "    </tr>\n",
              "  </tbody>\n",
              "</table>\n",
              "</div>"
            ],
            "text/plain": [
              "         order_id  ship_date    customer_name        country         city\n",
              "2  CA-2016-138688  6/16/2016  Darrin Van Huff  United States  Los Angeles\n",
              "5  CA-2014-115812  6/14/2014  Brosina Hoffman  United States  Los Angeles\n",
              "6  CA-2014-115812  6/14/2014  Brosina Hoffman  United States  Los Angeles\n",
              "7  CA-2014-115812  6/14/2014  Brosina Hoffman  United States  Los Angeles\n",
              "8  CA-2014-115812  6/14/2014  Brosina Hoffman  United States  Los Angeles"
            ]
          },
          "metadata": {
            "tags": []
          },
          "execution_count": 198
        }
      ]
    },
    {
      "cell_type": "code",
      "metadata": {
        "colab": {
          "base_uri": "https://localhost:8080/",
          "height": 501
        },
        "id": "lghmBh__vHpD",
        "outputId": "65be7927-1c29-4096-f987-2230367f82f5"
      },
      "source": [
        "# drop columns\n",
        "data.drop(columns = ['row_id', 'order_id', 'order_date', 'ship_date']).head()"
      ],
      "execution_count": null,
      "outputs": [
        {
          "output_type": "execute_result",
          "data": {
            "text/html": [
              "<div>\n",
              "<style scoped>\n",
              "    .dataframe tbody tr th:only-of-type {\n",
              "        vertical-align: middle;\n",
              "    }\n",
              "\n",
              "    .dataframe tbody tr th {\n",
              "        vertical-align: top;\n",
              "    }\n",
              "\n",
              "    .dataframe thead th {\n",
              "        text-align: right;\n",
              "    }\n",
              "</style>\n",
              "<table border=\"1\" class=\"dataframe\">\n",
              "  <thead>\n",
              "    <tr style=\"text-align: right;\">\n",
              "      <th></th>\n",
              "      <th>ship_mode</th>\n",
              "      <th>customer_id</th>\n",
              "      <th>customer_name</th>\n",
              "      <th>segment</th>\n",
              "      <th>country</th>\n",
              "      <th>city</th>\n",
              "      <th>state</th>\n",
              "      <th>postal_code</th>\n",
              "      <th>region</th>\n",
              "      <th>product_id</th>\n",
              "      <th>category</th>\n",
              "      <th>sub_category</th>\n",
              "      <th>product_name</th>\n",
              "      <th>sales</th>\n",
              "      <th>quantity</th>\n",
              "      <th>discount</th>\n",
              "      <th>profit</th>\n",
              "    </tr>\n",
              "  </thead>\n",
              "  <tbody>\n",
              "    <tr>\n",
              "      <th>0</th>\n",
              "      <td>Second Class</td>\n",
              "      <td>CG-12520</td>\n",
              "      <td>Claire Gute</td>\n",
              "      <td>Consumer</td>\n",
              "      <td>United States</td>\n",
              "      <td>Henderson</td>\n",
              "      <td>Kentucky</td>\n",
              "      <td>42420</td>\n",
              "      <td>South</td>\n",
              "      <td>FUR-BO-10001798</td>\n",
              "      <td>Furniture</td>\n",
              "      <td>Bookcases</td>\n",
              "      <td>Bush Somerset Collection Bookcase</td>\n",
              "      <td>261.9600</td>\n",
              "      <td>2</td>\n",
              "      <td>0.00</td>\n",
              "      <td>41.9136</td>\n",
              "    </tr>\n",
              "    <tr>\n",
              "      <th>1</th>\n",
              "      <td>Second Class</td>\n",
              "      <td>CG-12520</td>\n",
              "      <td>Claire Gute</td>\n",
              "      <td>Consumer</td>\n",
              "      <td>United States</td>\n",
              "      <td>Henderson</td>\n",
              "      <td>Kentucky</td>\n",
              "      <td>42420</td>\n",
              "      <td>South</td>\n",
              "      <td>FUR-CH-10000454</td>\n",
              "      <td>Furniture</td>\n",
              "      <td>Chairs</td>\n",
              "      <td>Hon Deluxe Fabric Upholstered Stacking Chairs,...</td>\n",
              "      <td>731.9400</td>\n",
              "      <td>3</td>\n",
              "      <td>0.00</td>\n",
              "      <td>219.5820</td>\n",
              "    </tr>\n",
              "    <tr>\n",
              "      <th>2</th>\n",
              "      <td>Second Class</td>\n",
              "      <td>DV-13045</td>\n",
              "      <td>Darrin Van Huff</td>\n",
              "      <td>Corporate</td>\n",
              "      <td>United States</td>\n",
              "      <td>Los Angeles</td>\n",
              "      <td>California</td>\n",
              "      <td>90036</td>\n",
              "      <td>West</td>\n",
              "      <td>OFF-LA-10000240</td>\n",
              "      <td>Office Supplies</td>\n",
              "      <td>Labels</td>\n",
              "      <td>Self-Adhesive Address Labels for Typewriters b...</td>\n",
              "      <td>14.6200</td>\n",
              "      <td>2</td>\n",
              "      <td>0.00</td>\n",
              "      <td>6.8714</td>\n",
              "    </tr>\n",
              "    <tr>\n",
              "      <th>3</th>\n",
              "      <td>Standard Class</td>\n",
              "      <td>SO-20335</td>\n",
              "      <td>Sean O'Donnell</td>\n",
              "      <td>Consumer</td>\n",
              "      <td>United States</td>\n",
              "      <td>Fort Lauderdale</td>\n",
              "      <td>Florida</td>\n",
              "      <td>33311</td>\n",
              "      <td>South</td>\n",
              "      <td>FUR-TA-10000577</td>\n",
              "      <td>Furniture</td>\n",
              "      <td>Tables</td>\n",
              "      <td>Bretford CR4500 Series Slim Rectangular Table</td>\n",
              "      <td>957.5775</td>\n",
              "      <td>5</td>\n",
              "      <td>0.45</td>\n",
              "      <td>-383.0310</td>\n",
              "    </tr>\n",
              "    <tr>\n",
              "      <th>4</th>\n",
              "      <td>Standard Class</td>\n",
              "      <td>SO-20335</td>\n",
              "      <td>Sean O'Donnell</td>\n",
              "      <td>Consumer</td>\n",
              "      <td>United States</td>\n",
              "      <td>Fort Lauderdale</td>\n",
              "      <td>Florida</td>\n",
              "      <td>33311</td>\n",
              "      <td>South</td>\n",
              "      <td>OFF-ST-10000760</td>\n",
              "      <td>Office Supplies</td>\n",
              "      <td>Storage</td>\n",
              "      <td>Eldon Fold 'N Roll Cart System</td>\n",
              "      <td>22.3680</td>\n",
              "      <td>2</td>\n",
              "      <td>0.20</td>\n",
              "      <td>2.5164</td>\n",
              "    </tr>\n",
              "  </tbody>\n",
              "</table>\n",
              "</div>"
            ],
            "text/plain": [
              "        ship_mode customer_id    customer_name  ... quantity discount    profit\n",
              "0    Second Class    CG-12520      Claire Gute  ...        2     0.00   41.9136\n",
              "1    Second Class    CG-12520      Claire Gute  ...        3     0.00  219.5820\n",
              "2    Second Class    DV-13045  Darrin Van Huff  ...        2     0.00    6.8714\n",
              "3  Standard Class    SO-20335   Sean O'Donnell  ...        5     0.45 -383.0310\n",
              "4  Standard Class    SO-20335   Sean O'Donnell  ...        2     0.20    2.5164\n",
              "\n",
              "[5 rows x 17 columns]"
            ]
          },
          "metadata": {
            "tags": []
          },
          "execution_count": 201
        }
      ]
    },
    {
      "cell_type": "code",
      "metadata": {
        "colab": {
          "base_uri": "https://localhost:8080/"
        },
        "id": "mGx2t4EfwZQW",
        "outputId": "a520d82a-603e-40c6-c16b-dafd5aa151f3"
      },
      "source": [
        "# query & |\n",
        "data.query(\"ship_mode == 'Standard Class' | city == 'Miami' \").shape"
      ],
      "execution_count": null,
      "outputs": [
        {
          "output_type": "execute_result",
          "data": {
            "text/plain": [
              "(5991, 21)"
            ]
          },
          "metadata": {
            "tags": []
          },
          "execution_count": 204
        }
      ]
    },
    {
      "cell_type": "code",
      "metadata": {
        "colab": {
          "base_uri": "https://localhost:8080/"
        },
        "id": "cFPzAYACwyaw",
        "outputId": "7f974e2c-e6b0-4f88-b987-63d060af1180"
      },
      "source": [
        "# data analysis with pandas\n",
        "import pandas as pd \n",
        "data.value_counts('ship_mode')"
      ],
      "execution_count": null,
      "outputs": [
        {
          "output_type": "execute_result",
          "data": {
            "text/plain": [
              "ship_mode\n",
              "Standard Class    5968\n",
              "Second Class      1945\n",
              "First Class       1538\n",
              "Same Day           543\n",
              "dtype: int64"
            ]
          },
          "metadata": {
            "tags": []
          },
          "execution_count": 206
        }
      ]
    },
    {
      "cell_type": "code",
      "metadata": {
        "colab": {
          "base_uri": "https://localhost:8080/"
        },
        "id": "MQFFE2SvxKab",
        "outputId": "20aa09fb-35c2-4de9-dea1-e5158c7ee446"
      },
      "source": [
        "data.value_counts('city').head()"
      ],
      "execution_count": null,
      "outputs": [
        {
          "output_type": "execute_result",
          "data": {
            "text/plain": [
              "city\n",
              "New York City    915\n",
              "Los Angeles      747\n",
              "Philadelphia     537\n",
              "San Francisco    510\n",
              "Seattle          428\n",
              "dtype: int64"
            ]
          },
          "metadata": {
            "tags": []
          },
          "execution_count": 210
        }
      ]
    },
    {
      "cell_type": "code",
      "metadata": {
        "colab": {
          "base_uri": "https://localhost:8080/",
          "height": 634
        },
        "id": "mpZUGL1axaAZ",
        "outputId": "317ec205-b914-4ba7-d749-0f050761f821"
      },
      "source": [
        "# aggregate function\n",
        "data.groupby(['category', 'sub_category'])['sales', 'quantity'].sum()"
      ],
      "execution_count": null,
      "outputs": [
        {
          "output_type": "stream",
          "text": [
            "/usr/local/lib/python3.7/dist-packages/ipykernel_launcher.py:2: FutureWarning: Indexing with multiple keys (implicitly converted to a tuple of keys) will be deprecated, use a list instead.\n",
            "  \n"
          ],
          "name": "stderr"
        },
        {
          "output_type": "execute_result",
          "data": {
            "text/html": [
              "<div>\n",
              "<style scoped>\n",
              "    .dataframe tbody tr th:only-of-type {\n",
              "        vertical-align: middle;\n",
              "    }\n",
              "\n",
              "    .dataframe tbody tr th {\n",
              "        vertical-align: top;\n",
              "    }\n",
              "\n",
              "    .dataframe thead th {\n",
              "        text-align: right;\n",
              "    }\n",
              "</style>\n",
              "<table border=\"1\" class=\"dataframe\">\n",
              "  <thead>\n",
              "    <tr style=\"text-align: right;\">\n",
              "      <th></th>\n",
              "      <th></th>\n",
              "      <th>sales</th>\n",
              "      <th>quantity</th>\n",
              "    </tr>\n",
              "    <tr>\n",
              "      <th>category</th>\n",
              "      <th>sub_category</th>\n",
              "      <th></th>\n",
              "      <th></th>\n",
              "    </tr>\n",
              "  </thead>\n",
              "  <tbody>\n",
              "    <tr>\n",
              "      <th rowspan=\"4\" valign=\"top\">Furniture</th>\n",
              "      <th>Bookcases</th>\n",
              "      <td>114879.9963</td>\n",
              "      <td>868</td>\n",
              "    </tr>\n",
              "    <tr>\n",
              "      <th>Chairs</th>\n",
              "      <td>328449.1030</td>\n",
              "      <td>2356</td>\n",
              "    </tr>\n",
              "    <tr>\n",
              "      <th>Furnishings</th>\n",
              "      <td>91705.1640</td>\n",
              "      <td>3563</td>\n",
              "    </tr>\n",
              "    <tr>\n",
              "      <th>Tables</th>\n",
              "      <td>206965.5320</td>\n",
              "      <td>1241</td>\n",
              "    </tr>\n",
              "    <tr>\n",
              "      <th rowspan=\"9\" valign=\"top\">Office Supplies</th>\n",
              "      <th>Appliances</th>\n",
              "      <td>107532.1610</td>\n",
              "      <td>1729</td>\n",
              "    </tr>\n",
              "    <tr>\n",
              "      <th>Art</th>\n",
              "      <td>27118.7920</td>\n",
              "      <td>3000</td>\n",
              "    </tr>\n",
              "    <tr>\n",
              "      <th>Binders</th>\n",
              "      <td>203412.7330</td>\n",
              "      <td>5974</td>\n",
              "    </tr>\n",
              "    <tr>\n",
              "      <th>Envelopes</th>\n",
              "      <td>16476.4020</td>\n",
              "      <td>906</td>\n",
              "    </tr>\n",
              "    <tr>\n",
              "      <th>Fasteners</th>\n",
              "      <td>3024.2800</td>\n",
              "      <td>914</td>\n",
              "    </tr>\n",
              "    <tr>\n",
              "      <th>Labels</th>\n",
              "      <td>12486.3120</td>\n",
              "      <td>1400</td>\n",
              "    </tr>\n",
              "    <tr>\n",
              "      <th>Paper</th>\n",
              "      <td>78479.2060</td>\n",
              "      <td>5178</td>\n",
              "    </tr>\n",
              "    <tr>\n",
              "      <th>Storage</th>\n",
              "      <td>223843.6080</td>\n",
              "      <td>3158</td>\n",
              "    </tr>\n",
              "    <tr>\n",
              "      <th>Supplies</th>\n",
              "      <td>46673.5380</td>\n",
              "      <td>647</td>\n",
              "    </tr>\n",
              "    <tr>\n",
              "      <th rowspan=\"4\" valign=\"top\">Technology</th>\n",
              "      <th>Accessories</th>\n",
              "      <td>167380.3180</td>\n",
              "      <td>2976</td>\n",
              "    </tr>\n",
              "    <tr>\n",
              "      <th>Copiers</th>\n",
              "      <td>149528.0300</td>\n",
              "      <td>234</td>\n",
              "    </tr>\n",
              "    <tr>\n",
              "      <th>Machines</th>\n",
              "      <td>189238.6310</td>\n",
              "      <td>440</td>\n",
              "    </tr>\n",
              "    <tr>\n",
              "      <th>Phones</th>\n",
              "      <td>330007.0540</td>\n",
              "      <td>3289</td>\n",
              "    </tr>\n",
              "  </tbody>\n",
              "</table>\n",
              "</div>"
            ],
            "text/plain": [
              "                                    sales  quantity\n",
              "category        sub_category                       \n",
              "Furniture       Bookcases     114879.9963       868\n",
              "                Chairs        328449.1030      2356\n",
              "                Furnishings    91705.1640      3563\n",
              "                Tables        206965.5320      1241\n",
              "Office Supplies Appliances    107532.1610      1729\n",
              "                Art            27118.7920      3000\n",
              "                Binders       203412.7330      5974\n",
              "                Envelopes      16476.4020       906\n",
              "                Fasteners       3024.2800       914\n",
              "                Labels         12486.3120      1400\n",
              "                Paper          78479.2060      5178\n",
              "                Storage       223843.6080      3158\n",
              "                Supplies       46673.5380       647\n",
              "Technology      Accessories   167380.3180      2976\n",
              "                Copiers       149528.0300       234\n",
              "                Machines      189238.6310       440\n",
              "                Phones        330007.0540      3289"
            ]
          },
          "metadata": {
            "tags": []
          },
          "execution_count": 213
        }
      ]
    },
    {
      "cell_type": "code",
      "metadata": {
        "colab": {
          "base_uri": "https://localhost:8080/",
          "height": 663
        },
        "id": "cjy7vFy9yAyC",
        "outputId": "1842a74c-b3db-4457-ac77-b5b54a8a490e"
      },
      "source": [
        "# aggregate function\n",
        "data.groupby(['category', 'sub_category'])['sales', 'quantity'].agg(['sum', 'mean', 'median', 'count'])"
      ],
      "execution_count": null,
      "outputs": [
        {
          "output_type": "stream",
          "text": [
            "/usr/local/lib/python3.7/dist-packages/ipykernel_launcher.py:2: FutureWarning: Indexing with multiple keys (implicitly converted to a tuple of keys) will be deprecated, use a list instead.\n",
            "  \n"
          ],
          "name": "stderr"
        },
        {
          "output_type": "execute_result",
          "data": {
            "text/html": [
              "<div>\n",
              "<style scoped>\n",
              "    .dataframe tbody tr th:only-of-type {\n",
              "        vertical-align: middle;\n",
              "    }\n",
              "\n",
              "    .dataframe tbody tr th {\n",
              "        vertical-align: top;\n",
              "    }\n",
              "\n",
              "    .dataframe thead tr th {\n",
              "        text-align: left;\n",
              "    }\n",
              "\n",
              "    .dataframe thead tr:last-of-type th {\n",
              "        text-align: right;\n",
              "    }\n",
              "</style>\n",
              "<table border=\"1\" class=\"dataframe\">\n",
              "  <thead>\n",
              "    <tr>\n",
              "      <th></th>\n",
              "      <th></th>\n",
              "      <th colspan=\"4\" halign=\"left\">sales</th>\n",
              "      <th colspan=\"4\" halign=\"left\">quantity</th>\n",
              "    </tr>\n",
              "    <tr>\n",
              "      <th></th>\n",
              "      <th></th>\n",
              "      <th>sum</th>\n",
              "      <th>mean</th>\n",
              "      <th>median</th>\n",
              "      <th>count</th>\n",
              "      <th>sum</th>\n",
              "      <th>mean</th>\n",
              "      <th>median</th>\n",
              "      <th>count</th>\n",
              "    </tr>\n",
              "    <tr>\n",
              "      <th>category</th>\n",
              "      <th>sub_category</th>\n",
              "      <th></th>\n",
              "      <th></th>\n",
              "      <th></th>\n",
              "      <th></th>\n",
              "      <th></th>\n",
              "      <th></th>\n",
              "      <th></th>\n",
              "      <th></th>\n",
              "    </tr>\n",
              "  </thead>\n",
              "  <tbody>\n",
              "    <tr>\n",
              "      <th rowspan=\"4\" valign=\"top\">Furniture</th>\n",
              "      <th>Bookcases</th>\n",
              "      <td>114879.9963</td>\n",
              "      <td>503.859633</td>\n",
              "      <td>306.82025</td>\n",
              "      <td>228</td>\n",
              "      <td>868</td>\n",
              "      <td>3.807018</td>\n",
              "      <td>3</td>\n",
              "      <td>228</td>\n",
              "    </tr>\n",
              "    <tr>\n",
              "      <th>Chairs</th>\n",
              "      <td>328449.1030</td>\n",
              "      <td>532.332420</td>\n",
              "      <td>362.13600</td>\n",
              "      <td>617</td>\n",
              "      <td>2356</td>\n",
              "      <td>3.818476</td>\n",
              "      <td>3</td>\n",
              "      <td>617</td>\n",
              "    </tr>\n",
              "    <tr>\n",
              "      <th>Furnishings</th>\n",
              "      <td>91705.1640</td>\n",
              "      <td>95.825668</td>\n",
              "      <td>41.96000</td>\n",
              "      <td>957</td>\n",
              "      <td>3563</td>\n",
              "      <td>3.723093</td>\n",
              "      <td>3</td>\n",
              "      <td>957</td>\n",
              "    </tr>\n",
              "    <tr>\n",
              "      <th>Tables</th>\n",
              "      <td>206965.5320</td>\n",
              "      <td>648.794771</td>\n",
              "      <td>447.84000</td>\n",
              "      <td>319</td>\n",
              "      <td>1241</td>\n",
              "      <td>3.890282</td>\n",
              "      <td>3</td>\n",
              "      <td>319</td>\n",
              "    </tr>\n",
              "    <tr>\n",
              "      <th rowspan=\"9\" valign=\"top\">Office Supplies</th>\n",
              "      <th>Appliances</th>\n",
              "      <td>107532.1610</td>\n",
              "      <td>230.755710</td>\n",
              "      <td>82.69000</td>\n",
              "      <td>466</td>\n",
              "      <td>1729</td>\n",
              "      <td>3.710300</td>\n",
              "      <td>3</td>\n",
              "      <td>466</td>\n",
              "    </tr>\n",
              "    <tr>\n",
              "      <th>Art</th>\n",
              "      <td>27118.7920</td>\n",
              "      <td>34.068834</td>\n",
              "      <td>15.50400</td>\n",
              "      <td>796</td>\n",
              "      <td>3000</td>\n",
              "      <td>3.768844</td>\n",
              "      <td>3</td>\n",
              "      <td>796</td>\n",
              "    </tr>\n",
              "    <tr>\n",
              "      <th>Binders</th>\n",
              "      <td>203412.7330</td>\n",
              "      <td>133.560560</td>\n",
              "      <td>18.56000</td>\n",
              "      <td>1523</td>\n",
              "      <td>5974</td>\n",
              "      <td>3.922521</td>\n",
              "      <td>3</td>\n",
              "      <td>1523</td>\n",
              "    </tr>\n",
              "    <tr>\n",
              "      <th>Envelopes</th>\n",
              "      <td>16476.4020</td>\n",
              "      <td>64.867724</td>\n",
              "      <td>29.04600</td>\n",
              "      <td>254</td>\n",
              "      <td>906</td>\n",
              "      <td>3.566929</td>\n",
              "      <td>3</td>\n",
              "      <td>254</td>\n",
              "    </tr>\n",
              "    <tr>\n",
              "      <th>Fasteners</th>\n",
              "      <td>3024.2800</td>\n",
              "      <td>13.936774</td>\n",
              "      <td>10.58400</td>\n",
              "      <td>217</td>\n",
              "      <td>914</td>\n",
              "      <td>4.211982</td>\n",
              "      <td>4</td>\n",
              "      <td>217</td>\n",
              "    </tr>\n",
              "    <tr>\n",
              "      <th>Labels</th>\n",
              "      <td>12486.3120</td>\n",
              "      <td>34.303055</td>\n",
              "      <td>14.94000</td>\n",
              "      <td>364</td>\n",
              "      <td>1400</td>\n",
              "      <td>3.846154</td>\n",
              "      <td>3</td>\n",
              "      <td>364</td>\n",
              "    </tr>\n",
              "    <tr>\n",
              "      <th>Paper</th>\n",
              "      <td>78479.2060</td>\n",
              "      <td>57.284092</td>\n",
              "      <td>26.72000</td>\n",
              "      <td>1370</td>\n",
              "      <td>5178</td>\n",
              "      <td>3.779562</td>\n",
              "      <td>3</td>\n",
              "      <td>1370</td>\n",
              "    </tr>\n",
              "    <tr>\n",
              "      <th>Storage</th>\n",
              "      <td>223843.6080</td>\n",
              "      <td>264.590553</td>\n",
              "      <td>113.92800</td>\n",
              "      <td>846</td>\n",
              "      <td>3158</td>\n",
              "      <td>3.732861</td>\n",
              "      <td>3</td>\n",
              "      <td>846</td>\n",
              "    </tr>\n",
              "    <tr>\n",
              "      <th>Supplies</th>\n",
              "      <td>46673.5380</td>\n",
              "      <td>245.650200</td>\n",
              "      <td>27.93000</td>\n",
              "      <td>190</td>\n",
              "      <td>647</td>\n",
              "      <td>3.405263</td>\n",
              "      <td>3</td>\n",
              "      <td>190</td>\n",
              "    </tr>\n",
              "    <tr>\n",
              "      <th rowspan=\"4\" valign=\"top\">Technology</th>\n",
              "      <th>Accessories</th>\n",
              "      <td>167380.3180</td>\n",
              "      <td>215.974604</td>\n",
              "      <td>100.00000</td>\n",
              "      <td>775</td>\n",
              "      <td>2976</td>\n",
              "      <td>3.840000</td>\n",
              "      <td>3</td>\n",
              "      <td>775</td>\n",
              "    </tr>\n",
              "    <tr>\n",
              "      <th>Copiers</th>\n",
              "      <td>149528.0300</td>\n",
              "      <td>2198.941618</td>\n",
              "      <td>1099.98000</td>\n",
              "      <td>68</td>\n",
              "      <td>234</td>\n",
              "      <td>3.441176</td>\n",
              "      <td>3</td>\n",
              "      <td>68</td>\n",
              "    </tr>\n",
              "    <tr>\n",
              "      <th>Machines</th>\n",
              "      <td>189238.6310</td>\n",
              "      <td>1645.553313</td>\n",
              "      <td>599.98500</td>\n",
              "      <td>115</td>\n",
              "      <td>440</td>\n",
              "      <td>3.826087</td>\n",
              "      <td>3</td>\n",
              "      <td>115</td>\n",
              "    </tr>\n",
              "    <tr>\n",
              "      <th>Phones</th>\n",
              "      <td>330007.0540</td>\n",
              "      <td>371.211534</td>\n",
              "      <td>209.97000</td>\n",
              "      <td>889</td>\n",
              "      <td>3289</td>\n",
              "      <td>3.699663</td>\n",
              "      <td>3</td>\n",
              "      <td>889</td>\n",
              "    </tr>\n",
              "  </tbody>\n",
              "</table>\n",
              "</div>"
            ],
            "text/plain": [
              "                                    sales               ... quantity      \n",
              "                                      sum         mean  ...   median count\n",
              "category        sub_category                            ...               \n",
              "Furniture       Bookcases     114879.9963   503.859633  ...        3   228\n",
              "                Chairs        328449.1030   532.332420  ...        3   617\n",
              "                Furnishings    91705.1640    95.825668  ...        3   957\n",
              "                Tables        206965.5320   648.794771  ...        3   319\n",
              "Office Supplies Appliances    107532.1610   230.755710  ...        3   466\n",
              "                Art            27118.7920    34.068834  ...        3   796\n",
              "                Binders       203412.7330   133.560560  ...        3  1523\n",
              "                Envelopes      16476.4020    64.867724  ...        3   254\n",
              "                Fasteners       3024.2800    13.936774  ...        4   217\n",
              "                Labels         12486.3120    34.303055  ...        3   364\n",
              "                Paper          78479.2060    57.284092  ...        3  1370\n",
              "                Storage       223843.6080   264.590553  ...        3   846\n",
              "                Supplies       46673.5380   245.650200  ...        3   190\n",
              "Technology      Accessories   167380.3180   215.974604  ...        3   775\n",
              "                Copiers       149528.0300  2198.941618  ...        3    68\n",
              "                Machines      189238.6310  1645.553313  ...        3   115\n",
              "                Phones        330007.0540   371.211534  ...        3   889\n",
              "\n",
              "[17 rows x 8 columns]"
            ]
          },
          "metadata": {
            "tags": []
          },
          "execution_count": 215
        }
      ]
    },
    {
      "cell_type": "code",
      "metadata": {
        "colab": {
          "base_uri": "https://localhost:8080/",
          "height": 278
        },
        "id": "J-npxIpByw8U",
        "outputId": "903d194f-536c-41ea-93cf-62aca74ac596"
      },
      "source": [
        "# aggregate function\n",
        "result = data.groupby(['category', 'sub_category'])['sales', 'quantity']. \\\n",
        "    agg(['sum', 'mean', 'median', 'count']). \\\n",
        "    reset_index(). \\\n",
        "    head(5)\n",
        "\n",
        "result"
      ],
      "execution_count": null,
      "outputs": [
        {
          "output_type": "stream",
          "text": [
            "/usr/local/lib/python3.7/dist-packages/ipykernel_launcher.py:2: FutureWarning: Indexing with multiple keys (implicitly converted to a tuple of keys) will be deprecated, use a list instead.\n",
            "  \n"
          ],
          "name": "stderr"
        },
        {
          "output_type": "execute_result",
          "data": {
            "text/html": [
              "<div>\n",
              "<style scoped>\n",
              "    .dataframe tbody tr th:only-of-type {\n",
              "        vertical-align: middle;\n",
              "    }\n",
              "\n",
              "    .dataframe tbody tr th {\n",
              "        vertical-align: top;\n",
              "    }\n",
              "\n",
              "    .dataframe thead tr th {\n",
              "        text-align: left;\n",
              "    }\n",
              "</style>\n",
              "<table border=\"1\" class=\"dataframe\">\n",
              "  <thead>\n",
              "    <tr>\n",
              "      <th></th>\n",
              "      <th>category</th>\n",
              "      <th>sub_category</th>\n",
              "      <th colspan=\"4\" halign=\"left\">sales</th>\n",
              "      <th colspan=\"4\" halign=\"left\">quantity</th>\n",
              "    </tr>\n",
              "    <tr>\n",
              "      <th></th>\n",
              "      <th></th>\n",
              "      <th></th>\n",
              "      <th>sum</th>\n",
              "      <th>mean</th>\n",
              "      <th>median</th>\n",
              "      <th>count</th>\n",
              "      <th>sum</th>\n",
              "      <th>mean</th>\n",
              "      <th>median</th>\n",
              "      <th>count</th>\n",
              "    </tr>\n",
              "  </thead>\n",
              "  <tbody>\n",
              "    <tr>\n",
              "      <th>0</th>\n",
              "      <td>Furniture</td>\n",
              "      <td>Bookcases</td>\n",
              "      <td>114879.9963</td>\n",
              "      <td>503.859633</td>\n",
              "      <td>306.82025</td>\n",
              "      <td>228</td>\n",
              "      <td>868</td>\n",
              "      <td>3.807018</td>\n",
              "      <td>3</td>\n",
              "      <td>228</td>\n",
              "    </tr>\n",
              "    <tr>\n",
              "      <th>1</th>\n",
              "      <td>Furniture</td>\n",
              "      <td>Chairs</td>\n",
              "      <td>328449.1030</td>\n",
              "      <td>532.332420</td>\n",
              "      <td>362.13600</td>\n",
              "      <td>617</td>\n",
              "      <td>2356</td>\n",
              "      <td>3.818476</td>\n",
              "      <td>3</td>\n",
              "      <td>617</td>\n",
              "    </tr>\n",
              "    <tr>\n",
              "      <th>2</th>\n",
              "      <td>Furniture</td>\n",
              "      <td>Furnishings</td>\n",
              "      <td>91705.1640</td>\n",
              "      <td>95.825668</td>\n",
              "      <td>41.96000</td>\n",
              "      <td>957</td>\n",
              "      <td>3563</td>\n",
              "      <td>3.723093</td>\n",
              "      <td>3</td>\n",
              "      <td>957</td>\n",
              "    </tr>\n",
              "    <tr>\n",
              "      <th>3</th>\n",
              "      <td>Furniture</td>\n",
              "      <td>Tables</td>\n",
              "      <td>206965.5320</td>\n",
              "      <td>648.794771</td>\n",
              "      <td>447.84000</td>\n",
              "      <td>319</td>\n",
              "      <td>1241</td>\n",
              "      <td>3.890282</td>\n",
              "      <td>3</td>\n",
              "      <td>319</td>\n",
              "    </tr>\n",
              "    <tr>\n",
              "      <th>4</th>\n",
              "      <td>Office Supplies</td>\n",
              "      <td>Appliances</td>\n",
              "      <td>107532.1610</td>\n",
              "      <td>230.755710</td>\n",
              "      <td>82.69000</td>\n",
              "      <td>466</td>\n",
              "      <td>1729</td>\n",
              "      <td>3.710300</td>\n",
              "      <td>3</td>\n",
              "      <td>466</td>\n",
              "    </tr>\n",
              "  </tbody>\n",
              "</table>\n",
              "</div>"
            ],
            "text/plain": [
              "          category sub_category        sales  ...  quantity             \n",
              "                                         sum  ...      mean median count\n",
              "0        Furniture    Bookcases  114879.9963  ...  3.807018      3   228\n",
              "1        Furniture       Chairs  328449.1030  ...  3.818476      3   617\n",
              "2        Furniture  Furnishings   91705.1640  ...  3.723093      3   957\n",
              "3        Furniture       Tables  206965.5320  ...  3.890282      3   319\n",
              "4  Office Supplies   Appliances  107532.1610  ...  3.710300      3   466\n",
              "\n",
              "[5 rows x 10 columns]"
            ]
          },
          "metadata": {
            "tags": []
          },
          "execution_count": 222
        }
      ]
    },
    {
      "cell_type": "markdown",
      "metadata": {
        "id": "04Eirn0b0Cfa"
      },
      "source": [
        "# **Basic Machine Learning**"
      ]
    },
    {
      "cell_type": "code",
      "metadata": {
        "id": "12iQoDuHzE2P"
      },
      "source": [
        "import pandas as pd \n",
        "from sklearn.linear_model import LinearRegression"
      ],
      "execution_count": null,
      "outputs": []
    },
    {
      "cell_type": "code",
      "metadata": {
        "colab": {
          "base_uri": "https://localhost:8080/",
          "height": 244
        },
        "id": "IPob3jg91Z4V",
        "outputId": "bca81cf7-b9bc-4814-c472-ee942a669e0e"
      },
      "source": [
        "home_data_train = pd.read_csv(\"home_data_train.csv\")\n",
        "home_data_train.head()"
      ],
      "execution_count": null,
      "outputs": [
        {
          "output_type": "execute_result",
          "data": {
            "text/html": [
              "<div>\n",
              "<style scoped>\n",
              "    .dataframe tbody tr th:only-of-type {\n",
              "        vertical-align: middle;\n",
              "    }\n",
              "\n",
              "    .dataframe tbody tr th {\n",
              "        vertical-align: top;\n",
              "    }\n",
              "\n",
              "    .dataframe thead th {\n",
              "        text-align: right;\n",
              "    }\n",
              "</style>\n",
              "<table border=\"1\" class=\"dataframe\">\n",
              "  <thead>\n",
              "    <tr style=\"text-align: right;\">\n",
              "      <th></th>\n",
              "      <th>Id</th>\n",
              "      <th>MSSubClass</th>\n",
              "      <th>MSZoning</th>\n",
              "      <th>LotFrontage</th>\n",
              "      <th>LotArea</th>\n",
              "      <th>Street</th>\n",
              "      <th>Alley</th>\n",
              "      <th>LotShape</th>\n",
              "      <th>LandContour</th>\n",
              "      <th>Utilities</th>\n",
              "      <th>LotConfig</th>\n",
              "      <th>LandSlope</th>\n",
              "      <th>Neighborhood</th>\n",
              "      <th>Condition1</th>\n",
              "      <th>Condition2</th>\n",
              "      <th>BldgType</th>\n",
              "      <th>HouseStyle</th>\n",
              "      <th>OverallQual</th>\n",
              "      <th>OverallCond</th>\n",
              "      <th>YearBuilt</th>\n",
              "      <th>YearRemodAdd</th>\n",
              "      <th>RoofStyle</th>\n",
              "      <th>RoofMatl</th>\n",
              "      <th>Exterior1st</th>\n",
              "      <th>Exterior2nd</th>\n",
              "      <th>MasVnrType</th>\n",
              "      <th>MasVnrArea</th>\n",
              "      <th>ExterQual</th>\n",
              "      <th>ExterCond</th>\n",
              "      <th>Foundation</th>\n",
              "      <th>BsmtQual</th>\n",
              "      <th>BsmtCond</th>\n",
              "      <th>BsmtExposure</th>\n",
              "      <th>BsmtFinType1</th>\n",
              "      <th>BsmtFinSF1</th>\n",
              "      <th>BsmtFinType2</th>\n",
              "      <th>BsmtFinSF2</th>\n",
              "      <th>BsmtUnfSF</th>\n",
              "      <th>TotalBsmtSF</th>\n",
              "      <th>Heating</th>\n",
              "      <th>...</th>\n",
              "      <th>CentralAir</th>\n",
              "      <th>Electrical</th>\n",
              "      <th>1stFlrSF</th>\n",
              "      <th>2ndFlrSF</th>\n",
              "      <th>LowQualFinSF</th>\n",
              "      <th>GrLivArea</th>\n",
              "      <th>BsmtFullBath</th>\n",
              "      <th>BsmtHalfBath</th>\n",
              "      <th>FullBath</th>\n",
              "      <th>HalfBath</th>\n",
              "      <th>BedroomAbvGr</th>\n",
              "      <th>KitchenAbvGr</th>\n",
              "      <th>KitchenQual</th>\n",
              "      <th>TotRmsAbvGrd</th>\n",
              "      <th>Functional</th>\n",
              "      <th>Fireplaces</th>\n",
              "      <th>FireplaceQu</th>\n",
              "      <th>GarageType</th>\n",
              "      <th>GarageYrBlt</th>\n",
              "      <th>GarageFinish</th>\n",
              "      <th>GarageCars</th>\n",
              "      <th>GarageArea</th>\n",
              "      <th>GarageQual</th>\n",
              "      <th>GarageCond</th>\n",
              "      <th>PavedDrive</th>\n",
              "      <th>WoodDeckSF</th>\n",
              "      <th>OpenPorchSF</th>\n",
              "      <th>EnclosedPorch</th>\n",
              "      <th>3SsnPorch</th>\n",
              "      <th>ScreenPorch</th>\n",
              "      <th>PoolArea</th>\n",
              "      <th>PoolQC</th>\n",
              "      <th>Fence</th>\n",
              "      <th>MiscFeature</th>\n",
              "      <th>MiscVal</th>\n",
              "      <th>MoSold</th>\n",
              "      <th>YrSold</th>\n",
              "      <th>SaleType</th>\n",
              "      <th>SaleCondition</th>\n",
              "      <th>SalePrice</th>\n",
              "    </tr>\n",
              "  </thead>\n",
              "  <tbody>\n",
              "    <tr>\n",
              "      <th>0</th>\n",
              "      <td>1</td>\n",
              "      <td>60</td>\n",
              "      <td>RL</td>\n",
              "      <td>65.0</td>\n",
              "      <td>8450</td>\n",
              "      <td>Pave</td>\n",
              "      <td>NaN</td>\n",
              "      <td>Reg</td>\n",
              "      <td>Lvl</td>\n",
              "      <td>AllPub</td>\n",
              "      <td>Inside</td>\n",
              "      <td>Gtl</td>\n",
              "      <td>CollgCr</td>\n",
              "      <td>Norm</td>\n",
              "      <td>Norm</td>\n",
              "      <td>1Fam</td>\n",
              "      <td>2Story</td>\n",
              "      <td>7</td>\n",
              "      <td>5</td>\n",
              "      <td>2003</td>\n",
              "      <td>2003</td>\n",
              "      <td>Gable</td>\n",
              "      <td>CompShg</td>\n",
              "      <td>VinylSd</td>\n",
              "      <td>VinylSd</td>\n",
              "      <td>BrkFace</td>\n",
              "      <td>196.0</td>\n",
              "      <td>Gd</td>\n",
              "      <td>TA</td>\n",
              "      <td>PConc</td>\n",
              "      <td>Gd</td>\n",
              "      <td>TA</td>\n",
              "      <td>No</td>\n",
              "      <td>GLQ</td>\n",
              "      <td>706</td>\n",
              "      <td>Unf</td>\n",
              "      <td>0</td>\n",
              "      <td>150</td>\n",
              "      <td>856</td>\n",
              "      <td>GasA</td>\n",
              "      <td>...</td>\n",
              "      <td>Y</td>\n",
              "      <td>SBrkr</td>\n",
              "      <td>856</td>\n",
              "      <td>854</td>\n",
              "      <td>0</td>\n",
              "      <td>1710</td>\n",
              "      <td>1</td>\n",
              "      <td>0</td>\n",
              "      <td>2</td>\n",
              "      <td>1</td>\n",
              "      <td>3</td>\n",
              "      <td>1</td>\n",
              "      <td>Gd</td>\n",
              "      <td>8</td>\n",
              "      <td>Typ</td>\n",
              "      <td>0</td>\n",
              "      <td>NaN</td>\n",
              "      <td>Attchd</td>\n",
              "      <td>2003.0</td>\n",
              "      <td>RFn</td>\n",
              "      <td>2</td>\n",
              "      <td>548</td>\n",
              "      <td>TA</td>\n",
              "      <td>TA</td>\n",
              "      <td>Y</td>\n",
              "      <td>0</td>\n",
              "      <td>61</td>\n",
              "      <td>0</td>\n",
              "      <td>0</td>\n",
              "      <td>0</td>\n",
              "      <td>0</td>\n",
              "      <td>NaN</td>\n",
              "      <td>NaN</td>\n",
              "      <td>NaN</td>\n",
              "      <td>0</td>\n",
              "      <td>2</td>\n",
              "      <td>2008</td>\n",
              "      <td>WD</td>\n",
              "      <td>Normal</td>\n",
              "      <td>208500</td>\n",
              "    </tr>\n",
              "    <tr>\n",
              "      <th>1</th>\n",
              "      <td>2</td>\n",
              "      <td>20</td>\n",
              "      <td>RL</td>\n",
              "      <td>80.0</td>\n",
              "      <td>9600</td>\n",
              "      <td>Pave</td>\n",
              "      <td>NaN</td>\n",
              "      <td>Reg</td>\n",
              "      <td>Lvl</td>\n",
              "      <td>AllPub</td>\n",
              "      <td>FR2</td>\n",
              "      <td>Gtl</td>\n",
              "      <td>Veenker</td>\n",
              "      <td>Feedr</td>\n",
              "      <td>Norm</td>\n",
              "      <td>1Fam</td>\n",
              "      <td>1Story</td>\n",
              "      <td>6</td>\n",
              "      <td>8</td>\n",
              "      <td>1976</td>\n",
              "      <td>1976</td>\n",
              "      <td>Gable</td>\n",
              "      <td>CompShg</td>\n",
              "      <td>MetalSd</td>\n",
              "      <td>MetalSd</td>\n",
              "      <td>None</td>\n",
              "      <td>0.0</td>\n",
              "      <td>TA</td>\n",
              "      <td>TA</td>\n",
              "      <td>CBlock</td>\n",
              "      <td>Gd</td>\n",
              "      <td>TA</td>\n",
              "      <td>Gd</td>\n",
              "      <td>ALQ</td>\n",
              "      <td>978</td>\n",
              "      <td>Unf</td>\n",
              "      <td>0</td>\n",
              "      <td>284</td>\n",
              "      <td>1262</td>\n",
              "      <td>GasA</td>\n",
              "      <td>...</td>\n",
              "      <td>Y</td>\n",
              "      <td>SBrkr</td>\n",
              "      <td>1262</td>\n",
              "      <td>0</td>\n",
              "      <td>0</td>\n",
              "      <td>1262</td>\n",
              "      <td>0</td>\n",
              "      <td>1</td>\n",
              "      <td>2</td>\n",
              "      <td>0</td>\n",
              "      <td>3</td>\n",
              "      <td>1</td>\n",
              "      <td>TA</td>\n",
              "      <td>6</td>\n",
              "      <td>Typ</td>\n",
              "      <td>1</td>\n",
              "      <td>TA</td>\n",
              "      <td>Attchd</td>\n",
              "      <td>1976.0</td>\n",
              "      <td>RFn</td>\n",
              "      <td>2</td>\n",
              "      <td>460</td>\n",
              "      <td>TA</td>\n",
              "      <td>TA</td>\n",
              "      <td>Y</td>\n",
              "      <td>298</td>\n",
              "      <td>0</td>\n",
              "      <td>0</td>\n",
              "      <td>0</td>\n",
              "      <td>0</td>\n",
              "      <td>0</td>\n",
              "      <td>NaN</td>\n",
              "      <td>NaN</td>\n",
              "      <td>NaN</td>\n",
              "      <td>0</td>\n",
              "      <td>5</td>\n",
              "      <td>2007</td>\n",
              "      <td>WD</td>\n",
              "      <td>Normal</td>\n",
              "      <td>181500</td>\n",
              "    </tr>\n",
              "    <tr>\n",
              "      <th>2</th>\n",
              "      <td>3</td>\n",
              "      <td>60</td>\n",
              "      <td>RL</td>\n",
              "      <td>68.0</td>\n",
              "      <td>11250</td>\n",
              "      <td>Pave</td>\n",
              "      <td>NaN</td>\n",
              "      <td>IR1</td>\n",
              "      <td>Lvl</td>\n",
              "      <td>AllPub</td>\n",
              "      <td>Inside</td>\n",
              "      <td>Gtl</td>\n",
              "      <td>CollgCr</td>\n",
              "      <td>Norm</td>\n",
              "      <td>Norm</td>\n",
              "      <td>1Fam</td>\n",
              "      <td>2Story</td>\n",
              "      <td>7</td>\n",
              "      <td>5</td>\n",
              "      <td>2001</td>\n",
              "      <td>2002</td>\n",
              "      <td>Gable</td>\n",
              "      <td>CompShg</td>\n",
              "      <td>VinylSd</td>\n",
              "      <td>VinylSd</td>\n",
              "      <td>BrkFace</td>\n",
              "      <td>162.0</td>\n",
              "      <td>Gd</td>\n",
              "      <td>TA</td>\n",
              "      <td>PConc</td>\n",
              "      <td>Gd</td>\n",
              "      <td>TA</td>\n",
              "      <td>Mn</td>\n",
              "      <td>GLQ</td>\n",
              "      <td>486</td>\n",
              "      <td>Unf</td>\n",
              "      <td>0</td>\n",
              "      <td>434</td>\n",
              "      <td>920</td>\n",
              "      <td>GasA</td>\n",
              "      <td>...</td>\n",
              "      <td>Y</td>\n",
              "      <td>SBrkr</td>\n",
              "      <td>920</td>\n",
              "      <td>866</td>\n",
              "      <td>0</td>\n",
              "      <td>1786</td>\n",
              "      <td>1</td>\n",
              "      <td>0</td>\n",
              "      <td>2</td>\n",
              "      <td>1</td>\n",
              "      <td>3</td>\n",
              "      <td>1</td>\n",
              "      <td>Gd</td>\n",
              "      <td>6</td>\n",
              "      <td>Typ</td>\n",
              "      <td>1</td>\n",
              "      <td>TA</td>\n",
              "      <td>Attchd</td>\n",
              "      <td>2001.0</td>\n",
              "      <td>RFn</td>\n",
              "      <td>2</td>\n",
              "      <td>608</td>\n",
              "      <td>TA</td>\n",
              "      <td>TA</td>\n",
              "      <td>Y</td>\n",
              "      <td>0</td>\n",
              "      <td>42</td>\n",
              "      <td>0</td>\n",
              "      <td>0</td>\n",
              "      <td>0</td>\n",
              "      <td>0</td>\n",
              "      <td>NaN</td>\n",
              "      <td>NaN</td>\n",
              "      <td>NaN</td>\n",
              "      <td>0</td>\n",
              "      <td>9</td>\n",
              "      <td>2008</td>\n",
              "      <td>WD</td>\n",
              "      <td>Normal</td>\n",
              "      <td>223500</td>\n",
              "    </tr>\n",
              "    <tr>\n",
              "      <th>3</th>\n",
              "      <td>4</td>\n",
              "      <td>70</td>\n",
              "      <td>RL</td>\n",
              "      <td>60.0</td>\n",
              "      <td>9550</td>\n",
              "      <td>Pave</td>\n",
              "      <td>NaN</td>\n",
              "      <td>IR1</td>\n",
              "      <td>Lvl</td>\n",
              "      <td>AllPub</td>\n",
              "      <td>Corner</td>\n",
              "      <td>Gtl</td>\n",
              "      <td>Crawfor</td>\n",
              "      <td>Norm</td>\n",
              "      <td>Norm</td>\n",
              "      <td>1Fam</td>\n",
              "      <td>2Story</td>\n",
              "      <td>7</td>\n",
              "      <td>5</td>\n",
              "      <td>1915</td>\n",
              "      <td>1970</td>\n",
              "      <td>Gable</td>\n",
              "      <td>CompShg</td>\n",
              "      <td>Wd Sdng</td>\n",
              "      <td>Wd Shng</td>\n",
              "      <td>None</td>\n",
              "      <td>0.0</td>\n",
              "      <td>TA</td>\n",
              "      <td>TA</td>\n",
              "      <td>BrkTil</td>\n",
              "      <td>TA</td>\n",
              "      <td>Gd</td>\n",
              "      <td>No</td>\n",
              "      <td>ALQ</td>\n",
              "      <td>216</td>\n",
              "      <td>Unf</td>\n",
              "      <td>0</td>\n",
              "      <td>540</td>\n",
              "      <td>756</td>\n",
              "      <td>GasA</td>\n",
              "      <td>...</td>\n",
              "      <td>Y</td>\n",
              "      <td>SBrkr</td>\n",
              "      <td>961</td>\n",
              "      <td>756</td>\n",
              "      <td>0</td>\n",
              "      <td>1717</td>\n",
              "      <td>1</td>\n",
              "      <td>0</td>\n",
              "      <td>1</td>\n",
              "      <td>0</td>\n",
              "      <td>3</td>\n",
              "      <td>1</td>\n",
              "      <td>Gd</td>\n",
              "      <td>7</td>\n",
              "      <td>Typ</td>\n",
              "      <td>1</td>\n",
              "      <td>Gd</td>\n",
              "      <td>Detchd</td>\n",
              "      <td>1998.0</td>\n",
              "      <td>Unf</td>\n",
              "      <td>3</td>\n",
              "      <td>642</td>\n",
              "      <td>TA</td>\n",
              "      <td>TA</td>\n",
              "      <td>Y</td>\n",
              "      <td>0</td>\n",
              "      <td>35</td>\n",
              "      <td>272</td>\n",
              "      <td>0</td>\n",
              "      <td>0</td>\n",
              "      <td>0</td>\n",
              "      <td>NaN</td>\n",
              "      <td>NaN</td>\n",
              "      <td>NaN</td>\n",
              "      <td>0</td>\n",
              "      <td>2</td>\n",
              "      <td>2006</td>\n",
              "      <td>WD</td>\n",
              "      <td>Abnorml</td>\n",
              "      <td>140000</td>\n",
              "    </tr>\n",
              "    <tr>\n",
              "      <th>4</th>\n",
              "      <td>5</td>\n",
              "      <td>60</td>\n",
              "      <td>RL</td>\n",
              "      <td>84.0</td>\n",
              "      <td>14260</td>\n",
              "      <td>Pave</td>\n",
              "      <td>NaN</td>\n",
              "      <td>IR1</td>\n",
              "      <td>Lvl</td>\n",
              "      <td>AllPub</td>\n",
              "      <td>FR2</td>\n",
              "      <td>Gtl</td>\n",
              "      <td>NoRidge</td>\n",
              "      <td>Norm</td>\n",
              "      <td>Norm</td>\n",
              "      <td>1Fam</td>\n",
              "      <td>2Story</td>\n",
              "      <td>8</td>\n",
              "      <td>5</td>\n",
              "      <td>2000</td>\n",
              "      <td>2000</td>\n",
              "      <td>Gable</td>\n",
              "      <td>CompShg</td>\n",
              "      <td>VinylSd</td>\n",
              "      <td>VinylSd</td>\n",
              "      <td>BrkFace</td>\n",
              "      <td>350.0</td>\n",
              "      <td>Gd</td>\n",
              "      <td>TA</td>\n",
              "      <td>PConc</td>\n",
              "      <td>Gd</td>\n",
              "      <td>TA</td>\n",
              "      <td>Av</td>\n",
              "      <td>GLQ</td>\n",
              "      <td>655</td>\n",
              "      <td>Unf</td>\n",
              "      <td>0</td>\n",
              "      <td>490</td>\n",
              "      <td>1145</td>\n",
              "      <td>GasA</td>\n",
              "      <td>...</td>\n",
              "      <td>Y</td>\n",
              "      <td>SBrkr</td>\n",
              "      <td>1145</td>\n",
              "      <td>1053</td>\n",
              "      <td>0</td>\n",
              "      <td>2198</td>\n",
              "      <td>1</td>\n",
              "      <td>0</td>\n",
              "      <td>2</td>\n",
              "      <td>1</td>\n",
              "      <td>4</td>\n",
              "      <td>1</td>\n",
              "      <td>Gd</td>\n",
              "      <td>9</td>\n",
              "      <td>Typ</td>\n",
              "      <td>1</td>\n",
              "      <td>TA</td>\n",
              "      <td>Attchd</td>\n",
              "      <td>2000.0</td>\n",
              "      <td>RFn</td>\n",
              "      <td>3</td>\n",
              "      <td>836</td>\n",
              "      <td>TA</td>\n",
              "      <td>TA</td>\n",
              "      <td>Y</td>\n",
              "      <td>192</td>\n",
              "      <td>84</td>\n",
              "      <td>0</td>\n",
              "      <td>0</td>\n",
              "      <td>0</td>\n",
              "      <td>0</td>\n",
              "      <td>NaN</td>\n",
              "      <td>NaN</td>\n",
              "      <td>NaN</td>\n",
              "      <td>0</td>\n",
              "      <td>12</td>\n",
              "      <td>2008</td>\n",
              "      <td>WD</td>\n",
              "      <td>Normal</td>\n",
              "      <td>250000</td>\n",
              "    </tr>\n",
              "  </tbody>\n",
              "</table>\n",
              "<p>5 rows × 81 columns</p>\n",
              "</div>"
            ],
            "text/plain": [
              "   Id  MSSubClass MSZoning  ...  SaleType  SaleCondition SalePrice\n",
              "0   1          60       RL  ...        WD         Normal    208500\n",
              "1   2          20       RL  ...        WD         Normal    181500\n",
              "2   3          60       RL  ...        WD         Normal    223500\n",
              "3   4          70       RL  ...        WD        Abnorml    140000\n",
              "4   5          60       RL  ...        WD         Normal    250000\n",
              "\n",
              "[5 rows x 81 columns]"
            ]
          },
          "metadata": {
            "tags": []
          },
          "execution_count": 224
        }
      ]
    },
    {
      "cell_type": "code",
      "metadata": {
        "colab": {
          "base_uri": "https://localhost:8080/"
        },
        "id": "gBprHfkp1pfA",
        "outputId": "a6152be0-17c1-4c02-df75-78cb8fdb1900"
      },
      "source": [
        "home_data_train.columns"
      ],
      "execution_count": null,
      "outputs": [
        {
          "output_type": "execute_result",
          "data": {
            "text/plain": [
              "Index(['Id', 'MSSubClass', 'MSZoning', 'LotFrontage', 'LotArea', 'Street',\n",
              "       'Alley', 'LotShape', 'LandContour', 'Utilities', 'LotConfig',\n",
              "       'LandSlope', 'Neighborhood', 'Condition1', 'Condition2', 'BldgType',\n",
              "       'HouseStyle', 'OverallQual', 'OverallCond', 'YearBuilt', 'YearRemodAdd',\n",
              "       'RoofStyle', 'RoofMatl', 'Exterior1st', 'Exterior2nd', 'MasVnrType',\n",
              "       'MasVnrArea', 'ExterQual', 'ExterCond', 'Foundation', 'BsmtQual',\n",
              "       'BsmtCond', 'BsmtExposure', 'BsmtFinType1', 'BsmtFinSF1',\n",
              "       'BsmtFinType2', 'BsmtFinSF2', 'BsmtUnfSF', 'TotalBsmtSF', 'Heating',\n",
              "       'HeatingQC', 'CentralAir', 'Electrical', '1stFlrSF', '2ndFlrSF',\n",
              "       'LowQualFinSF', 'GrLivArea', 'BsmtFullBath', 'BsmtHalfBath', 'FullBath',\n",
              "       'HalfBath', 'BedroomAbvGr', 'KitchenAbvGr', 'KitchenQual',\n",
              "       'TotRmsAbvGrd', 'Functional', 'Fireplaces', 'FireplaceQu', 'GarageType',\n",
              "       'GarageYrBlt', 'GarageFinish', 'GarageCars', 'GarageArea', 'GarageQual',\n",
              "       'GarageCond', 'PavedDrive', 'WoodDeckSF', 'OpenPorchSF',\n",
              "       'EnclosedPorch', '3SsnPorch', 'ScreenPorch', 'PoolArea', 'PoolQC',\n",
              "       'Fence', 'MiscFeature', 'MiscVal', 'MoSold', 'YrSold', 'SaleType',\n",
              "       'SaleCondition', 'SalePrice'],\n",
              "      dtype='object')"
            ]
          },
          "metadata": {
            "tags": []
          },
          "execution_count": 225
        }
      ]
    },
    {
      "cell_type": "code",
      "metadata": {
        "id": "Q4gELI-813h5"
      },
      "source": [
        "# select columns we want \n",
        "list_columns = ['LotArea', 'YearBuilt', '1stFlrSF', '2ndFlrSF', \n",
        "                 'FullBath', 'BedroomAbvGr' ,'TotRmsAbvGrd']\n",
        "\n",
        "X = home_data_train[list_columns]\n",
        "\n",
        "y = home_data_train['SalePrice']"
      ],
      "execution_count": null,
      "outputs": []
    },
    {
      "cell_type": "code",
      "metadata": {
        "id": "0yd-2ih82EPc"
      },
      "source": [
        "# target = f( features )\n",
        "# SalePrice = b0 + b1*Bedroom + b2*YearBuilt + .."
      ],
      "execution_count": null,
      "outputs": []
    },
    {
      "cell_type": "code",
      "metadata": {
        "colab": {
          "base_uri": "https://localhost:8080/"
        },
        "id": "ZCNkzKa12u6R",
        "outputId": "8bf67d8d-5cd9-4c9f-8c09-f1ad4a4a6756"
      },
      "source": [
        "# import library\n",
        "from sklearn.linear_model import LinearRegression\n",
        "from sklearn.metrics import mean_absolute_error, mean_squared_error # MAE, MSE\n",
        "\n",
        "# init model\n",
        "LinearModel = LinearRegression() \n",
        "\n",
        "# training = fitting\n",
        "LinearModel.fit(features, target) # model.fit(X, y)\n",
        "\n",
        "# make predictions\n",
        "predictions = LinearModel.predict(features)\n",
        "\n",
        "# evaluate model\n",
        "print(\"MAE:\", mean_absolute_error(target, predictions ) )\n",
        "print(\"MSE:\", mean_squared_error(target, predictions) )\n",
        "print(\"RMSE:\", mean_squared_error(target, predictions, squared=False) )"
      ],
      "execution_count": null,
      "outputs": [
        {
          "output_type": "stream",
          "text": [
            "MAE: 27667.254099950267\n",
            "MSE: 1858279763.751837\n",
            "RMSE: 43107.76918087779\n"
          ],
          "name": "stdout"
        }
      ]
    },
    {
      "cell_type": "code",
      "metadata": {
        "colab": {
          "base_uri": "https://localhost:8080/"
        },
        "id": "7BlJJmLi3lt2",
        "outputId": "e230fe57-0da7-4ea0-a412-1988b1ef148b"
      },
      "source": [
        "# actual\n",
        "target.head().to_list()"
      ],
      "execution_count": null,
      "outputs": [
        {
          "output_type": "execute_result",
          "data": {
            "text/plain": [
              "[208500, 181500, 223500, 140000, 250000]"
            ]
          },
          "metadata": {
            "tags": []
          },
          "execution_count": 240
        }
      ]
    },
    {
      "cell_type": "code",
      "metadata": {
        "id": "lmmz2qnO3zPL"
      },
      "source": [
        "# Full Loop - Train Test Split\n",
        "\n",
        "# import library\n",
        "from sklearn.linear_model import LinearRegression\n",
        "from sklearn.tree import DecisionTreeRegressor\n",
        "from sklearn.ensemble import RandomForestRegressor\n",
        "from sklearn.metrics import mean_absolute_error, mean_squared_error \n",
        "from sklearn.model_selection import train_test_split\n",
        "\n",
        "# select features (X) and target (y)\n",
        "X = home_data_train[list_columns]\n",
        "y = home_data_train['SalePrice']\n",
        "\n",
        "# train test split\n",
        "train_X, val_X, train_y, val_y = train_test_split(X, y, test_size=0.2, random_state=42) # set.seed()"
      ],
      "execution_count": null,
      "outputs": []
    },
    {
      "cell_type": "code",
      "metadata": {
        "colab": {
          "base_uri": "https://localhost:8080/"
        },
        "id": "-IN125c36bUh",
        "outputId": "f3b2cba9-7897-4777-96ee-a6ab9c5d6701"
      },
      "source": [
        "print(train_X.shape)\n",
        "print(val_X.shape)"
      ],
      "execution_count": null,
      "outputs": [
        {
          "output_type": "stream",
          "text": [
            "(1168, 7)\n",
            "(292, 7)\n"
          ],
          "name": "stdout"
        }
      ]
    },
    {
      "cell_type": "code",
      "metadata": {
        "colab": {
          "base_uri": "https://localhost:8080/"
        },
        "id": "TRZg0ERK7VBy",
        "outputId": "526b3b89-d4a6-4294-eedc-3604c3ab6182"
      },
      "source": [
        "# init model\n",
        "model_linear = LinearRegression()\n",
        "model_decision_tree = DecisionTreeRegressor()\n",
        "model_random_forest = RandomForestRegressor()\n",
        "\n",
        "# training (fitting)\n",
        "model_linear.fit(train_X, train_y)\n",
        "model_decision_tree.fit(train_X, train_y)\n",
        "model_random_forest.fit(train_X, train_y)\n",
        "\n",
        "# predict \n",
        "predictions_linear = model_linear.predict(val_X)\n",
        "predictions_tree = model_decision_tree.predict(val_X)\n",
        "predictions_forest = model_random_forest.predict(val_X)\n",
        "\n",
        "# evaluate\n",
        "print(\"Linear MAE:\", mean_absolute_error(val_y, predictions_linear ))\n",
        "print(\"Tree MAE:\", mean_absolute_error(val_y, predictions_tree ))\n",
        "print(\"Forest MAE:\", mean_absolute_error(val_y, predictions_forest ))"
      ],
      "execution_count": null,
      "outputs": [
        {
          "output_type": "stream",
          "text": [
            "Linear MAE: 29296.71764224996\n",
            "Tree MAE: 30065.931506849316\n",
            "Forest MAE: 22092.867477168948\n"
          ],
          "name": "stdout"
        }
      ]
    },
    {
      "cell_type": "code",
      "metadata": {
        "id": "5eszb9Z68JgY"
      },
      "source": [
        "# load test data\n",
        "home_data_test = pd.read_csv(\"home_data_test.csv\") "
      ],
      "execution_count": null,
      "outputs": []
    },
    {
      "cell_type": "code",
      "metadata": {
        "colab": {
          "base_uri": "https://localhost:8080/"
        },
        "id": "nwr2Y8zx8lFc",
        "outputId": "4f4c76db-8bf0-49f8-91c1-6957d330ecf4"
      },
      "source": [
        "test_X = home_data_test[list_columns]\n",
        "\n",
        "test_predictions = model.predict(test_X)\n",
        "\n",
        "print(test_predictions[:10])"
      ],
      "execution_count": null,
      "outputs": [
        {
          "output_type": "stream",
          "text": [
            "[123618.71823424 155890.79963305 201898.41089162 205228.46992771\n",
            " 187151.23255309 200228.25107118 167180.58069166 189876.304623\n",
            " 195516.06726374 122030.5487883 ]\n"
          ],
          "name": "stdout"
        }
      ]
    },
    {
      "cell_type": "markdown",
      "metadata": {
        "id": "afCwSHQyA-tu"
      },
      "source": [
        "# **Hello World Tensorflow**"
      ]
    },
    {
      "cell_type": "code",
      "metadata": {
        "colab": {
          "base_uri": "https://localhost:8080/"
        },
        "id": "Zy5Kutc89LEV",
        "outputId": "c9b5e185-8dac-4498-9807-5803a6628bd5"
      },
      "source": [
        "import tensorflow as tf \n",
        "import numpy as np\n",
        "from tensorflow.keras import Sequential \n",
        "from tensorflow.keras.layers import Dense \n",
        "print(tf.__version__)"
      ],
      "execution_count": null,
      "outputs": [
        {
          "output_type": "stream",
          "text": [
            "2.5.0\n"
          ],
          "name": "stdout"
        }
      ]
    },
    {
      "cell_type": "code",
      "metadata": {
        "colab": {
          "base_uri": "https://localhost:8080/"
        },
        "id": "s97lzcg7BMC3",
        "outputId": "2ef2e22a-2d74-4d89-9878-083a33bcea33"
      },
      "source": [
        "model2 = Sequential()\n",
        "model2.add( Dense(units=1, input_shape=[1] ) )\n",
        "model2.compile(optimizer= 'sgd', loss='mean_squared_error')\n",
        "model2.summary()"
      ],
      "execution_count": null,
      "outputs": [
        {
          "output_type": "stream",
          "text": [
            "Model: \"sequential_5\"\n",
            "_________________________________________________________________\n",
            "Layer (type)                 Output Shape              Param #   \n",
            "=================================================================\n",
            "dense_5 (Dense)              (None, 1)                 2         \n",
            "=================================================================\n",
            "Total params: 2\n",
            "Trainable params: 2\n",
            "Non-trainable params: 0\n",
            "_________________________________________________________________\n"
          ],
          "name": "stdout"
        }
      ]
    },
    {
      "cell_type": "code",
      "metadata": {
        "colab": {
          "base_uri": "https://localhost:8080/"
        },
        "id": "UiOE_X2_CJsm",
        "outputId": "bbeec9e8-d7e9-4c29-d7a3-b26eec2903e7"
      },
      "source": [
        "# y = 2x - 1\n",
        "x = np.array( [-1.0, 0.0, 1.0, 2.0, 3.0, 4.0] )\n",
        "y = 2*x - 1 # parameter == linear regression\n",
        "\n",
        "print(\"x:\", x)\n",
        "print(\"y:\", y)"
      ],
      "execution_count": null,
      "outputs": [
        {
          "output_type": "stream",
          "text": [
            "x: [-1.  0.  1.  2.  3.  4.]\n",
            "y: [-3. -1.  1.  3.  5.  7.]\n"
          ],
          "name": "stdout"
        }
      ]
    },
    {
      "cell_type": "code",
      "metadata": {
        "colab": {
          "base_uri": "https://localhost:8080/"
        },
        "id": "m1G6qnh-DYbQ",
        "outputId": "96ad4e53-f7ba-439b-97c4-8288b62de2c2"
      },
      "source": [
        "model2.fit(x, y, epochs = 200)"
      ],
      "execution_count": null,
      "outputs": [
        {
          "output_type": "stream",
          "text": [
            "Epoch 1/200\n",
            "1/1 [==============================] - 0s 6ms/step - loss: 2.9739\n",
            "Epoch 2/200\n",
            "1/1 [==============================] - 0s 5ms/step - loss: 2.5168\n",
            "Epoch 3/200\n",
            "1/1 [==============================] - 0s 3ms/step - loss: 2.1535\n",
            "Epoch 4/200\n",
            "1/1 [==============================] - 0s 3ms/step - loss: 1.8641\n",
            "Epoch 5/200\n",
            "1/1 [==============================] - 0s 3ms/step - loss: 1.6329\n",
            "Epoch 6/200\n",
            "1/1 [==============================] - 0s 8ms/step - loss: 1.4476\n",
            "Epoch 7/200\n",
            "1/1 [==============================] - 0s 3ms/step - loss: 1.2985\n",
            "Epoch 8/200\n",
            "1/1 [==============================] - 0s 3ms/step - loss: 1.1779\n",
            "Epoch 9/200\n",
            "1/1 [==============================] - 0s 4ms/step - loss: 1.0798\n",
            "Epoch 10/200\n",
            "1/1 [==============================] - 0s 3ms/step - loss: 0.9994\n",
            "Epoch 11/200\n",
            "1/1 [==============================] - 0s 3ms/step - loss: 0.9332\n",
            "Epoch 12/200\n",
            "1/1 [==============================] - 0s 3ms/step - loss: 0.8780\n",
            "Epoch 13/200\n",
            "1/1 [==============================] - 0s 3ms/step - loss: 0.8317\n",
            "Epoch 14/200\n",
            "1/1 [==============================] - 0s 3ms/step - loss: 0.7923\n",
            "Epoch 15/200\n",
            "1/1 [==============================] - 0s 3ms/step - loss: 0.7585\n",
            "Epoch 16/200\n",
            "1/1 [==============================] - 0s 4ms/step - loss: 0.7291\n",
            "Epoch 17/200\n",
            "1/1 [==============================] - 0s 3ms/step - loss: 0.7033\n",
            "Epoch 18/200\n",
            "1/1 [==============================] - 0s 5ms/step - loss: 0.6803\n",
            "Epoch 19/200\n",
            "1/1 [==============================] - 0s 3ms/step - loss: 0.6596\n",
            "Epoch 20/200\n",
            "1/1 [==============================] - 0s 3ms/step - loss: 0.6408\n",
            "Epoch 21/200\n",
            "1/1 [==============================] - 0s 3ms/step - loss: 0.6235\n",
            "Epoch 22/200\n",
            "1/1 [==============================] - 0s 5ms/step - loss: 0.6074\n",
            "Epoch 23/200\n",
            "1/1 [==============================] - 0s 3ms/step - loss: 0.5924\n",
            "Epoch 24/200\n",
            "1/1 [==============================] - 0s 3ms/step - loss: 0.5782\n",
            "Epoch 25/200\n",
            "1/1 [==============================] - 0s 4ms/step - loss: 0.5647\n",
            "Epoch 26/200\n",
            "1/1 [==============================] - 0s 3ms/step - loss: 0.5519\n",
            "Epoch 27/200\n",
            "1/1 [==============================] - 0s 4ms/step - loss: 0.5395\n",
            "Epoch 28/200\n",
            "1/1 [==============================] - 0s 3ms/step - loss: 0.5277\n",
            "Epoch 29/200\n",
            "1/1 [==============================] - 0s 4ms/step - loss: 0.5162\n",
            "Epoch 30/200\n",
            "1/1 [==============================] - 0s 5ms/step - loss: 0.5051\n",
            "Epoch 31/200\n",
            "1/1 [==============================] - 0s 3ms/step - loss: 0.4944\n",
            "Epoch 32/200\n",
            "1/1 [==============================] - 0s 3ms/step - loss: 0.4839\n",
            "Epoch 33/200\n",
            "1/1 [==============================] - 0s 3ms/step - loss: 0.4738\n",
            "Epoch 34/200\n",
            "1/1 [==============================] - 0s 4ms/step - loss: 0.4638\n",
            "Epoch 35/200\n",
            "1/1 [==============================] - 0s 7ms/step - loss: 0.4542\n",
            "Epoch 36/200\n",
            "1/1 [==============================] - 0s 3ms/step - loss: 0.4447\n",
            "Epoch 37/200\n",
            "1/1 [==============================] - 0s 7ms/step - loss: 0.4355\n",
            "Epoch 38/200\n",
            "1/1 [==============================] - 0s 3ms/step - loss: 0.4265\n",
            "Epoch 39/200\n",
            "1/1 [==============================] - 0s 3ms/step - loss: 0.4177\n",
            "Epoch 40/200\n",
            "1/1 [==============================] - 0s 3ms/step - loss: 0.4091\n",
            "Epoch 41/200\n",
            "1/1 [==============================] - 0s 3ms/step - loss: 0.4006\n",
            "Epoch 42/200\n",
            "1/1 [==============================] - 0s 2ms/step - loss: 0.3924\n",
            "Epoch 43/200\n",
            "1/1 [==============================] - 0s 2ms/step - loss: 0.3843\n",
            "Epoch 44/200\n",
            "1/1 [==============================] - 0s 3ms/step - loss: 0.3764\n",
            "Epoch 45/200\n",
            "1/1 [==============================] - 0s 3ms/step - loss: 0.3686\n",
            "Epoch 46/200\n",
            "1/1 [==============================] - 0s 3ms/step - loss: 0.3610\n",
            "Epoch 47/200\n",
            "1/1 [==============================] - 0s 2ms/step - loss: 0.3536\n",
            "Epoch 48/200\n",
            "1/1 [==============================] - 0s 2ms/step - loss: 0.3463\n",
            "Epoch 49/200\n",
            "1/1 [==============================] - 0s 3ms/step - loss: 0.3392\n",
            "Epoch 50/200\n",
            "1/1 [==============================] - 0s 3ms/step - loss: 0.3323\n",
            "Epoch 51/200\n",
            "1/1 [==============================] - 0s 3ms/step - loss: 0.3254\n",
            "Epoch 52/200\n",
            "1/1 [==============================] - 0s 3ms/step - loss: 0.3187\n",
            "Epoch 53/200\n",
            "1/1 [==============================] - 0s 4ms/step - loss: 0.3122\n",
            "Epoch 54/200\n",
            "1/1 [==============================] - 0s 6ms/step - loss: 0.3058\n",
            "Epoch 55/200\n",
            "1/1 [==============================] - 0s 4ms/step - loss: 0.2995\n",
            "Epoch 56/200\n",
            "1/1 [==============================] - 0s 3ms/step - loss: 0.2933\n",
            "Epoch 57/200\n",
            "1/1 [==============================] - 0s 3ms/step - loss: 0.2873\n",
            "Epoch 58/200\n",
            "1/1 [==============================] - 0s 3ms/step - loss: 0.2814\n",
            "Epoch 59/200\n",
            "1/1 [==============================] - 0s 3ms/step - loss: 0.2756\n",
            "Epoch 60/200\n",
            "1/1 [==============================] - 0s 3ms/step - loss: 0.2700\n",
            "Epoch 61/200\n",
            "1/1 [==============================] - 0s 3ms/step - loss: 0.2644\n",
            "Epoch 62/200\n",
            "1/1 [==============================] - 0s 3ms/step - loss: 0.2590\n",
            "Epoch 63/200\n",
            "1/1 [==============================] - 0s 3ms/step - loss: 0.2537\n",
            "Epoch 64/200\n",
            "1/1 [==============================] - 0s 3ms/step - loss: 0.2485\n",
            "Epoch 65/200\n",
            "1/1 [==============================] - 0s 4ms/step - loss: 0.2434\n",
            "Epoch 66/200\n",
            "1/1 [==============================] - 0s 3ms/step - loss: 0.2384\n",
            "Epoch 67/200\n",
            "1/1 [==============================] - 0s 4ms/step - loss: 0.2335\n",
            "Epoch 68/200\n",
            "1/1 [==============================] - 0s 3ms/step - loss: 0.2287\n",
            "Epoch 69/200\n",
            "1/1 [==============================] - 0s 3ms/step - loss: 0.2240\n",
            "Epoch 70/200\n",
            "1/1 [==============================] - 0s 3ms/step - loss: 0.2194\n",
            "Epoch 71/200\n",
            "1/1 [==============================] - 0s 3ms/step - loss: 0.2149\n",
            "Epoch 72/200\n",
            "1/1 [==============================] - 0s 3ms/step - loss: 0.2105\n",
            "Epoch 73/200\n",
            "1/1 [==============================] - 0s 5ms/step - loss: 0.2061\n",
            "Epoch 74/200\n",
            "1/1 [==============================] - 0s 3ms/step - loss: 0.2019\n",
            "Epoch 75/200\n",
            "1/1 [==============================] - 0s 3ms/step - loss: 0.1977\n",
            "Epoch 76/200\n",
            "1/1 [==============================] - 0s 3ms/step - loss: 0.1937\n",
            "Epoch 77/200\n",
            "1/1 [==============================] - 0s 7ms/step - loss: 0.1897\n",
            "Epoch 78/200\n",
            "1/1 [==============================] - 0s 4ms/step - loss: 0.1858\n",
            "Epoch 79/200\n",
            "1/1 [==============================] - 0s 4ms/step - loss: 0.1820\n",
            "Epoch 80/200\n",
            "1/1 [==============================] - 0s 4ms/step - loss: 0.1783\n",
            "Epoch 81/200\n",
            "1/1 [==============================] - 0s 3ms/step - loss: 0.1746\n",
            "Epoch 82/200\n",
            "1/1 [==============================] - 0s 4ms/step - loss: 0.1710\n",
            "Epoch 83/200\n",
            "1/1 [==============================] - 0s 3ms/step - loss: 0.1675\n",
            "Epoch 84/200\n",
            "1/1 [==============================] - 0s 3ms/step - loss: 0.1641\n",
            "Epoch 85/200\n",
            "1/1 [==============================] - 0s 7ms/step - loss: 0.1607\n",
            "Epoch 86/200\n",
            "1/1 [==============================] - 0s 5ms/step - loss: 0.1574\n",
            "Epoch 87/200\n",
            "1/1 [==============================] - 0s 6ms/step - loss: 0.1542\n",
            "Epoch 88/200\n",
            "1/1 [==============================] - 0s 4ms/step - loss: 0.1510\n",
            "Epoch 89/200\n",
            "1/1 [==============================] - 0s 3ms/step - loss: 0.1479\n",
            "Epoch 90/200\n",
            "1/1 [==============================] - 0s 4ms/step - loss: 0.1448\n",
            "Epoch 91/200\n",
            "1/1 [==============================] - 0s 3ms/step - loss: 0.1419\n",
            "Epoch 92/200\n",
            "1/1 [==============================] - 0s 4ms/step - loss: 0.1390\n",
            "Epoch 93/200\n",
            "1/1 [==============================] - 0s 3ms/step - loss: 0.1361\n",
            "Epoch 94/200\n",
            "1/1 [==============================] - 0s 4ms/step - loss: 0.1333\n",
            "Epoch 95/200\n",
            "1/1 [==============================] - 0s 3ms/step - loss: 0.1306\n",
            "Epoch 96/200\n",
            "1/1 [==============================] - 0s 4ms/step - loss: 0.1279\n",
            "Epoch 97/200\n",
            "1/1 [==============================] - 0s 3ms/step - loss: 0.1253\n",
            "Epoch 98/200\n",
            "1/1 [==============================] - 0s 3ms/step - loss: 0.1227\n",
            "Epoch 99/200\n",
            "1/1 [==============================] - 0s 3ms/step - loss: 0.1202\n",
            "Epoch 100/200\n",
            "1/1 [==============================] - 0s 3ms/step - loss: 0.1177\n",
            "Epoch 101/200\n",
            "1/1 [==============================] - 0s 4ms/step - loss: 0.1153\n",
            "Epoch 102/200\n",
            "1/1 [==============================] - 0s 3ms/step - loss: 0.1129\n",
            "Epoch 103/200\n",
            "1/1 [==============================] - 0s 5ms/step - loss: 0.1106\n",
            "Epoch 104/200\n",
            "1/1 [==============================] - 0s 4ms/step - loss: 0.1083\n",
            "Epoch 105/200\n",
            "1/1 [==============================] - 0s 5ms/step - loss: 0.1061\n",
            "Epoch 106/200\n",
            "1/1 [==============================] - 0s 4ms/step - loss: 0.1039\n",
            "Epoch 107/200\n",
            "1/1 [==============================] - 0s 5ms/step - loss: 0.1018\n",
            "Epoch 108/200\n",
            "1/1 [==============================] - 0s 6ms/step - loss: 0.0997\n",
            "Epoch 109/200\n",
            "1/1 [==============================] - 0s 6ms/step - loss: 0.0976\n",
            "Epoch 110/200\n",
            "1/1 [==============================] - 0s 3ms/step - loss: 0.0956\n",
            "Epoch 111/200\n",
            "1/1 [==============================] - 0s 3ms/step - loss: 0.0937\n",
            "Epoch 112/200\n",
            "1/1 [==============================] - 0s 159ms/step - loss: 0.0918\n",
            "Epoch 113/200\n",
            "1/1 [==============================] - 0s 4ms/step - loss: 0.0899\n",
            "Epoch 114/200\n",
            "1/1 [==============================] - 0s 4ms/step - loss: 0.0880\n",
            "Epoch 115/200\n",
            "1/1 [==============================] - 0s 10ms/step - loss: 0.0862\n",
            "Epoch 116/200\n",
            "1/1 [==============================] - 0s 3ms/step - loss: 0.0844\n",
            "Epoch 117/200\n",
            "1/1 [==============================] - 0s 14ms/step - loss: 0.0827\n",
            "Epoch 118/200\n",
            "1/1 [==============================] - 0s 8ms/step - loss: 0.0810\n",
            "Epoch 119/200\n",
            "1/1 [==============================] - 0s 13ms/step - loss: 0.0793\n",
            "Epoch 120/200\n",
            "1/1 [==============================] - 0s 6ms/step - loss: 0.0777\n",
            "Epoch 121/200\n",
            "1/1 [==============================] - 0s 9ms/step - loss: 0.0761\n",
            "Epoch 122/200\n",
            "1/1 [==============================] - 0s 7ms/step - loss: 0.0746\n",
            "Epoch 123/200\n",
            "1/1 [==============================] - 0s 6ms/step - loss: 0.0730\n",
            "Epoch 124/200\n",
            "1/1 [==============================] - 0s 4ms/step - loss: 0.0715\n",
            "Epoch 125/200\n",
            "1/1 [==============================] - 0s 5ms/step - loss: 0.0701\n",
            "Epoch 126/200\n",
            "1/1 [==============================] - 0s 4ms/step - loss: 0.0686\n",
            "Epoch 127/200\n",
            "1/1 [==============================] - 0s 5ms/step - loss: 0.0672\n",
            "Epoch 128/200\n",
            "1/1 [==============================] - 0s 4ms/step - loss: 0.0658\n",
            "Epoch 129/200\n",
            "1/1 [==============================] - 0s 5ms/step - loss: 0.0645\n",
            "Epoch 130/200\n",
            "1/1 [==============================] - 0s 3ms/step - loss: 0.0631\n",
            "Epoch 131/200\n",
            "1/1 [==============================] - 0s 4ms/step - loss: 0.0619\n",
            "Epoch 132/200\n",
            "1/1 [==============================] - 0s 4ms/step - loss: 0.0606\n",
            "Epoch 133/200\n",
            "1/1 [==============================] - 0s 4ms/step - loss: 0.0593\n",
            "Epoch 134/200\n",
            "1/1 [==============================] - 0s 4ms/step - loss: 0.0581\n",
            "Epoch 135/200\n",
            "1/1 [==============================] - 0s 4ms/step - loss: 0.0569\n",
            "Epoch 136/200\n",
            "1/1 [==============================] - 0s 3ms/step - loss: 0.0558\n",
            "Epoch 137/200\n",
            "1/1 [==============================] - 0s 4ms/step - loss: 0.0546\n",
            "Epoch 138/200\n",
            "1/1 [==============================] - 0s 6ms/step - loss: 0.0535\n",
            "Epoch 139/200\n",
            "1/1 [==============================] - 0s 12ms/step - loss: 0.0524\n",
            "Epoch 140/200\n",
            "1/1 [==============================] - 0s 6ms/step - loss: 0.0513\n",
            "Epoch 141/200\n",
            "1/1 [==============================] - 0s 11ms/step - loss: 0.0503\n",
            "Epoch 142/200\n",
            "1/1 [==============================] - 0s 5ms/step - loss: 0.0492\n",
            "Epoch 143/200\n",
            "1/1 [==============================] - 0s 5ms/step - loss: 0.0482\n",
            "Epoch 144/200\n",
            "1/1 [==============================] - 0s 4ms/step - loss: 0.0472\n",
            "Epoch 145/200\n",
            "1/1 [==============================] - 0s 5ms/step - loss: 0.0463\n",
            "Epoch 146/200\n",
            "1/1 [==============================] - 0s 3ms/step - loss: 0.0453\n",
            "Epoch 147/200\n",
            "1/1 [==============================] - 0s 4ms/step - loss: 0.0444\n",
            "Epoch 148/200\n",
            "1/1 [==============================] - 0s 5ms/step - loss: 0.0435\n",
            "Epoch 149/200\n",
            "1/1 [==============================] - 0s 7ms/step - loss: 0.0426\n",
            "Epoch 150/200\n",
            "1/1 [==============================] - 0s 4ms/step - loss: 0.0417\n",
            "Epoch 151/200\n",
            "1/1 [==============================] - 0s 3ms/step - loss: 0.0408\n",
            "Epoch 152/200\n",
            "1/1 [==============================] - 0s 3ms/step - loss: 0.0400\n",
            "Epoch 153/200\n",
            "1/1 [==============================] - 0s 2ms/step - loss: 0.0392\n",
            "Epoch 154/200\n",
            "1/1 [==============================] - 0s 5ms/step - loss: 0.0384\n",
            "Epoch 155/200\n",
            "1/1 [==============================] - 0s 2ms/step - loss: 0.0376\n",
            "Epoch 156/200\n",
            "1/1 [==============================] - 0s 3ms/step - loss: 0.0368\n",
            "Epoch 157/200\n",
            "1/1 [==============================] - 0s 3ms/step - loss: 0.0361\n",
            "Epoch 158/200\n",
            "1/1 [==============================] - 0s 3ms/step - loss: 0.0353\n",
            "Epoch 159/200\n",
            "1/1 [==============================] - 0s 3ms/step - loss: 0.0346\n",
            "Epoch 160/200\n",
            "1/1 [==============================] - 0s 5ms/step - loss: 0.0339\n",
            "Epoch 161/200\n",
            "1/1 [==============================] - 0s 3ms/step - loss: 0.0332\n",
            "Epoch 162/200\n",
            "1/1 [==============================] - 0s 4ms/step - loss: 0.0325\n",
            "Epoch 163/200\n",
            "1/1 [==============================] - 0s 4ms/step - loss: 0.0318\n",
            "Epoch 164/200\n",
            "1/1 [==============================] - 0s 3ms/step - loss: 0.0312\n",
            "Epoch 165/200\n",
            "1/1 [==============================] - 0s 3ms/step - loss: 0.0305\n",
            "Epoch 166/200\n",
            "1/1 [==============================] - 0s 5ms/step - loss: 0.0299\n",
            "Epoch 167/200\n",
            "1/1 [==============================] - 0s 3ms/step - loss: 0.0293\n",
            "Epoch 168/200\n",
            "1/1 [==============================] - 0s 4ms/step - loss: 0.0287\n",
            "Epoch 169/200\n",
            "1/1 [==============================] - 0s 3ms/step - loss: 0.0281\n",
            "Epoch 170/200\n",
            "1/1 [==============================] - 0s 3ms/step - loss: 0.0275\n",
            "Epoch 171/200\n",
            "1/1 [==============================] - 0s 3ms/step - loss: 0.0270\n",
            "Epoch 172/200\n",
            "1/1 [==============================] - 0s 3ms/step - loss: 0.0264\n",
            "Epoch 173/200\n",
            "1/1 [==============================] - 0s 3ms/step - loss: 0.0259\n",
            "Epoch 174/200\n",
            "1/1 [==============================] - 0s 152ms/step - loss: 0.0253\n",
            "Epoch 175/200\n",
            "1/1 [==============================] - 0s 4ms/step - loss: 0.0248\n",
            "Epoch 176/200\n",
            "1/1 [==============================] - 0s 3ms/step - loss: 0.0243\n",
            "Epoch 177/200\n",
            "1/1 [==============================] - 0s 3ms/step - loss: 0.0238\n",
            "Epoch 178/200\n",
            "1/1 [==============================] - 0s 3ms/step - loss: 0.0233\n",
            "Epoch 179/200\n",
            "1/1 [==============================] - 0s 3ms/step - loss: 0.0228\n",
            "Epoch 180/200\n",
            "1/1 [==============================] - 0s 4ms/step - loss: 0.0224\n",
            "Epoch 181/200\n",
            "1/1 [==============================] - 0s 9ms/step - loss: 0.0219\n",
            "Epoch 182/200\n",
            "1/1 [==============================] - 0s 10ms/step - loss: 0.0215\n",
            "Epoch 183/200\n",
            "1/1 [==============================] - 0s 11ms/step - loss: 0.0210\n",
            "Epoch 184/200\n",
            "1/1 [==============================] - 0s 7ms/step - loss: 0.0206\n",
            "Epoch 185/200\n",
            "1/1 [==============================] - 0s 5ms/step - loss: 0.0202\n",
            "Epoch 186/200\n",
            "1/1 [==============================] - 0s 4ms/step - loss: 0.0198\n",
            "Epoch 187/200\n",
            "1/1 [==============================] - 0s 4ms/step - loss: 0.0193\n",
            "Epoch 188/200\n",
            "1/1 [==============================] - 0s 5ms/step - loss: 0.0189\n",
            "Epoch 189/200\n",
            "1/1 [==============================] - 0s 5ms/step - loss: 0.0186\n",
            "Epoch 190/200\n",
            "1/1 [==============================] - 0s 3ms/step - loss: 0.0182\n",
            "Epoch 191/200\n",
            "1/1 [==============================] - 0s 5ms/step - loss: 0.0178\n",
            "Epoch 192/200\n",
            "1/1 [==============================] - 0s 4ms/step - loss: 0.0174\n",
            "Epoch 193/200\n",
            "1/1 [==============================] - 0s 4ms/step - loss: 0.0171\n",
            "Epoch 194/200\n",
            "1/1 [==============================] - 0s 4ms/step - loss: 0.0167\n",
            "Epoch 195/200\n",
            "1/1 [==============================] - 0s 4ms/step - loss: 0.0164\n",
            "Epoch 196/200\n",
            "1/1 [==============================] - 0s 3ms/step - loss: 0.0160\n",
            "Epoch 197/200\n",
            "1/1 [==============================] - 0s 3ms/step - loss: 0.0157\n",
            "Epoch 198/200\n",
            "1/1 [==============================] - 0s 5ms/step - loss: 0.0154\n",
            "Epoch 199/200\n",
            "1/1 [==============================] - 0s 3ms/step - loss: 0.0151\n",
            "Epoch 200/200\n",
            "1/1 [==============================] - 0s 3ms/step - loss: 0.0148\n"
          ],
          "name": "stdout"
        },
        {
          "output_type": "execute_result",
          "data": {
            "text/plain": [
              "<tensorflow.python.keras.callbacks.History at 0x7f4347a5e2d0>"
            ]
          },
          "metadata": {
            "tags": []
          },
          "execution_count": 282
        }
      ]
    },
    {
      "cell_type": "code",
      "metadata": {
        "colab": {
          "base_uri": "https://localhost:8080/"
        },
        "id": "LSu_385RDosn",
        "outputId": "d8c4ec34-2786-4edc-ffd7-956b33155509"
      },
      "source": [
        "# y = 2x - 1\n",
        "# y = 2*10 - 1 = 19\n",
        "model2.predict([10.0])"
      ],
      "execution_count": null,
      "outputs": [
        {
          "output_type": "execute_result",
          "data": {
            "text/plain": [
              "array([[18.645403]], dtype=float32)"
            ]
          },
          "metadata": {
            "tags": []
          },
          "execution_count": 283
        }
      ]
    },
    {
      "cell_type": "code",
      "metadata": {
        "id": "z5SNFmxxEcop"
      },
      "source": [
        ""
      ],
      "execution_count": null,
      "outputs": []
    }
  ]
}