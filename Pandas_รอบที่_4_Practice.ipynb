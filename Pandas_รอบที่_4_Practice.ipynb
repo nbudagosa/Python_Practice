{
  "nbformat": 4,
  "nbformat_minor": 0,
  "metadata": {
    "colab": {
      "name": "Pandas_รอบที่_4_Practice.ipynb",
      "provenance": []
    },
    "kernelspec": {
      "name": "python3",
      "display_name": "Python 3"
    },
    "language_info": {
      "name": "python"
    }
  },
  "cells": [
    {
      "cell_type": "code",
      "metadata": {
        "id": "thoSds8SbexJ"
      },
      "source": [
        "import pandas as pd\n",
        "import numpy as np"
      ],
      "execution_count": 91,
      "outputs": []
    },
    {
      "cell_type": "code",
      "metadata": {
        "id": "yMYfBdfMgpdR"
      },
      "source": [
        "PATH = \"/content/17k-apple-app-store-strategy-games.zip\""
      ],
      "execution_count": 64,
      "outputs": []
    },
    {
      "cell_type": "code",
      "metadata": {
        "id": "5YkoMFVfgrwU"
      },
      "source": [
        "df_apps = pd.read_csv(PATH)"
      ],
      "execution_count": 65,
      "outputs": []
    },
    {
      "cell_type": "code",
      "metadata": {
        "colab": {
          "base_uri": "https://localhost:8080/",
          "height": 629
        },
        "id": "nNDXOF0jg5dl",
        "outputId": "88dd5ec4-7fc6-4e05-9343-256101393788"
      },
      "source": [
        "df_apps[5:11]"
      ],
      "execution_count": 66,
      "outputs": [
        {
          "output_type": "execute_result",
          "data": {
            "text/html": [
              "<div>\n",
              "<style scoped>\n",
              "    .dataframe tbody tr th:only-of-type {\n",
              "        vertical-align: middle;\n",
              "    }\n",
              "\n",
              "    .dataframe tbody tr th {\n",
              "        vertical-align: top;\n",
              "    }\n",
              "\n",
              "    .dataframe thead th {\n",
              "        text-align: right;\n",
              "    }\n",
              "</style>\n",
              "<table border=\"1\" class=\"dataframe\">\n",
              "  <thead>\n",
              "    <tr style=\"text-align: right;\">\n",
              "      <th></th>\n",
              "      <th>URL</th>\n",
              "      <th>ID</th>\n",
              "      <th>Name</th>\n",
              "      <th>Subtitle</th>\n",
              "      <th>Icon URL</th>\n",
              "      <th>Average User Rating</th>\n",
              "      <th>User Rating Count</th>\n",
              "      <th>Price</th>\n",
              "      <th>In-app Purchases</th>\n",
              "      <th>Description</th>\n",
              "      <th>Developer</th>\n",
              "      <th>Age Rating</th>\n",
              "      <th>Languages</th>\n",
              "      <th>Size</th>\n",
              "      <th>Primary Genre</th>\n",
              "      <th>Genres</th>\n",
              "      <th>Original Release Date</th>\n",
              "      <th>Current Version Release Date</th>\n",
              "    </tr>\n",
              "  </thead>\n",
              "  <tbody>\n",
              "    <tr>\n",
              "      <th>5</th>\n",
              "      <td>https://apps.apple.com/us/app/sudoku-classic-n...</td>\n",
              "      <td>286210009</td>\n",
              "      <td>Sudoku - Classic number puzzle</td>\n",
              "      <td>Original brain training</td>\n",
              "      <td>https://is1-ssl.mzstatic.com/image/thumb/Purpl...</td>\n",
              "      <td>3.0</td>\n",
              "      <td>47.0</td>\n",
              "      <td>0.00</td>\n",
              "      <td>1.99</td>\n",
              "      <td>Sudoku will tease your brain, challenge you or...</td>\n",
              "      <td>OutOfTheBit Ltd</td>\n",
              "      <td>4+</td>\n",
              "      <td>EN</td>\n",
              "      <td>48672768.0</td>\n",
              "      <td>Games</td>\n",
              "      <td>Games, Entertainment, Strategy, Puzzle</td>\n",
              "      <td>30/07/2008</td>\n",
              "      <td>29/04/2019</td>\n",
              "    </tr>\n",
              "    <tr>\n",
              "      <th>6</th>\n",
              "      <td>https://apps.apple.com/us/app/gravitation/id28...</td>\n",
              "      <td>286313771</td>\n",
              "      <td>Gravitation</td>\n",
              "      <td>NaN</td>\n",
              "      <td>https://is5-ssl.mzstatic.com/image/thumb/Purpl...</td>\n",
              "      <td>2.5</td>\n",
              "      <td>35.0</td>\n",
              "      <td>0.00</td>\n",
              "      <td>NaN</td>\n",
              "      <td>\"Gravitation is a new implementation of the pu...</td>\n",
              "      <td>Robert Farnum</td>\n",
              "      <td>4+</td>\n",
              "      <td>NaN</td>\n",
              "      <td>6328320.0</td>\n",
              "      <td>Games</td>\n",
              "      <td>Games, Entertainment, Puzzle, Strategy</td>\n",
              "      <td>30/07/2008</td>\n",
              "      <td>14/11/2013</td>\n",
              "    </tr>\n",
              "    <tr>\n",
              "      <th>7</th>\n",
              "      <td>https://apps.apple.com/us/app/colony/id286363959</td>\n",
              "      <td>286363959</td>\n",
              "      <td>Colony</td>\n",
              "      <td>NaN</td>\n",
              "      <td>https://is5-ssl.mzstatic.com/image/thumb/Purpl...</td>\n",
              "      <td>2.5</td>\n",
              "      <td>125.0</td>\n",
              "      <td>0.99</td>\n",
              "      <td>NaN</td>\n",
              "      <td>\"50 levels of addictive puzzling strategy fun!...</td>\n",
              "      <td>Chris Haynes</td>\n",
              "      <td>4+</td>\n",
              "      <td>EN</td>\n",
              "      <td>64333824.0</td>\n",
              "      <td>Games</td>\n",
              "      <td>Games, Strategy, Board</td>\n",
              "      <td>3/08/2008</td>\n",
              "      <td>3/10/2018</td>\n",
              "    </tr>\n",
              "    <tr>\n",
              "      <th>8</th>\n",
              "      <td>https://apps.apple.com/us/app/carte/id286566987</td>\n",
              "      <td>286566987</td>\n",
              "      <td>Carte</td>\n",
              "      <td>NaN</td>\n",
              "      <td>https://is3-ssl.mzstatic.com/image/thumb/Purpl...</td>\n",
              "      <td>2.5</td>\n",
              "      <td>44.0</td>\n",
              "      <td>0.00</td>\n",
              "      <td>NaN</td>\n",
              "      <td>\"Jeu simple qui consiste \\xe0 trouver comment ...</td>\n",
              "      <td>Jean-Francois Pautex</td>\n",
              "      <td>4+</td>\n",
              "      <td>FR</td>\n",
              "      <td>2657280.0</td>\n",
              "      <td>Games</td>\n",
              "      <td>Games, Strategy, Board, Entertainment</td>\n",
              "      <td>3/08/2008</td>\n",
              "      <td>23/11/2017</td>\n",
              "    </tr>\n",
              "    <tr>\n",
              "      <th>9</th>\n",
              "      <td>https://apps.apple.com/us/app/barrels-o-fun/id...</td>\n",
              "      <td>286682679</td>\n",
              "      <td>\"Barrels O' Fun\"</td>\n",
              "      <td>NaN</td>\n",
              "      <td>https://is4-ssl.mzstatic.com/image/thumb/Purpl...</td>\n",
              "      <td>2.5</td>\n",
              "      <td>184.0</td>\n",
              "      <td>0.00</td>\n",
              "      <td>NaN</td>\n",
              "      <td>Barrels O\\u2019 Fun is a simple but challengin...</td>\n",
              "      <td>BesqWare</td>\n",
              "      <td>4+</td>\n",
              "      <td>EN</td>\n",
              "      <td>1466515.0</td>\n",
              "      <td>Games</td>\n",
              "      <td>Games, Casual, Strategy</td>\n",
              "      <td>1/08/2008</td>\n",
              "      <td>1/08/2008</td>\n",
              "    </tr>\n",
              "    <tr>\n",
              "      <th>10</th>\n",
              "      <td>https://apps.apple.com/us/app/quaddraxx/id2875...</td>\n",
              "      <td>287563734</td>\n",
              "      <td>Quaddraxx</td>\n",
              "      <td>NaN</td>\n",
              "      <td>https://is5-ssl.mzstatic.com/image/thumb/Purpl...</td>\n",
              "      <td>NaN</td>\n",
              "      <td>NaN</td>\n",
              "      <td>0.00</td>\n",
              "      <td>NaN</td>\n",
              "      <td>Quaddraxx-Logic \\u2013 Challenge your brain!\\n...</td>\n",
              "      <td>H2F Informationssysteme GmbH</td>\n",
              "      <td>4+</td>\n",
              "      <td>EN</td>\n",
              "      <td>3089867.0</td>\n",
              "      <td>Games</td>\n",
              "      <td>Games, Entertainment, Strategy, Puzzle</td>\n",
              "      <td>11/08/2008</td>\n",
              "      <td>30/09/2008</td>\n",
              "    </tr>\n",
              "  </tbody>\n",
              "</table>\n",
              "</div>"
            ],
            "text/plain": [
              "                                                  URL  ...  Current Version Release Date\n",
              "5   https://apps.apple.com/us/app/sudoku-classic-n...  ...                    29/04/2019\n",
              "6   https://apps.apple.com/us/app/gravitation/id28...  ...                    14/11/2013\n",
              "7    https://apps.apple.com/us/app/colony/id286363959  ...                     3/10/2018\n",
              "8     https://apps.apple.com/us/app/carte/id286566987  ...                    23/11/2017\n",
              "9   https://apps.apple.com/us/app/barrels-o-fun/id...  ...                     1/08/2008\n",
              "10  https://apps.apple.com/us/app/quaddraxx/id2875...  ...                    30/09/2008\n",
              "\n",
              "[6 rows x 18 columns]"
            ]
          },
          "metadata": {
            "tags": []
          },
          "execution_count": 66
        }
      ]
    },
    {
      "cell_type": "code",
      "metadata": {
        "colab": {
          "base_uri": "https://localhost:8080/"
        },
        "id": "6pleitVfhDUS",
        "outputId": "31596103-24c6-40cb-89a5-24c6eb115f34"
      },
      "source": [
        "# ไว้สำหรับเช็ค Dimension ตาราง\n",
        "df_apps.shape"
      ],
      "execution_count": 67,
      "outputs": [
        {
          "output_type": "execute_result",
          "data": {
            "text/plain": [
              "(17007, 18)"
            ]
          },
          "metadata": {
            "tags": []
          },
          "execution_count": 67
        }
      ]
    },
    {
      "cell_type": "code",
      "metadata": {
        "colab": {
          "base_uri": "https://localhost:8080/"
        },
        "id": "qUfVWcPEhN-W",
        "outputId": "724caafd-e70e-4aa1-9375-f64bbde446db"
      },
      "source": [
        "\n",
        "df_apps.columns"
      ],
      "execution_count": 68,
      "outputs": [
        {
          "output_type": "execute_result",
          "data": {
            "text/plain": [
              "Index(['URL', 'ID', 'Name', 'Subtitle', 'Icon URL', 'Average User Rating',\n",
              "       'User Rating Count', 'Price', 'In-app Purchases', 'Description',\n",
              "       'Developer', 'Age Rating', 'Languages', 'Size', 'Primary Genre',\n",
              "       'Genres', 'Original Release Date', 'Current Version Release Date'],\n",
              "      dtype='object')"
            ]
          },
          "metadata": {
            "tags": []
          },
          "execution_count": 68
        }
      ]
    },
    {
      "cell_type": "code",
      "metadata": {
        "colab": {
          "base_uri": "https://localhost:8080/"
        },
        "id": "RQmJ1FSahQ8_",
        "outputId": "4532b841-48b2-45d1-a72a-7b140c63b522"
      },
      "source": [
        "df_apps.info()"
      ],
      "execution_count": 69,
      "outputs": [
        {
          "output_type": "stream",
          "text": [
            "<class 'pandas.core.frame.DataFrame'>\n",
            "RangeIndex: 17007 entries, 0 to 17006\n",
            "Data columns (total 18 columns):\n",
            " #   Column                        Non-Null Count  Dtype  \n",
            "---  ------                        --------------  -----  \n",
            " 0   URL                           17007 non-null  object \n",
            " 1   ID                            17007 non-null  int64  \n",
            " 2   Name                          17007 non-null  object \n",
            " 3   Subtitle                      5261 non-null   object \n",
            " 4   Icon URL                      17007 non-null  object \n",
            " 5   Average User Rating           7561 non-null   float64\n",
            " 6   User Rating Count             7561 non-null   float64\n",
            " 7   Price                         16983 non-null  float64\n",
            " 8   In-app Purchases              7683 non-null   object \n",
            " 9   Description                   17007 non-null  object \n",
            " 10  Developer                     17007 non-null  object \n",
            " 11  Age Rating                    17007 non-null  object \n",
            " 12  Languages                     16947 non-null  object \n",
            " 13  Size                          17006 non-null  float64\n",
            " 14  Primary Genre                 17007 non-null  object \n",
            " 15  Genres                        17007 non-null  object \n",
            " 16  Original Release Date         17007 non-null  object \n",
            " 17  Current Version Release Date  17007 non-null  object \n",
            "dtypes: float64(4), int64(1), object(13)\n",
            "memory usage: 2.3+ MB\n"
          ],
          "name": "stdout"
        }
      ]
    },
    {
      "cell_type": "code",
      "metadata": {
        "colab": {
          "base_uri": "https://localhost:8080/"
        },
        "id": "Di2asA5dhSfH",
        "outputId": "f7faa68f-c542-4c6a-ca93-652901dcbef0"
      },
      "source": [
        "# Data type Series\n",
        "df_apps[\"Price\"].mean()"
      ],
      "execution_count": 70,
      "outputs": [
        {
          "output_type": "execute_result",
          "data": {
            "text/plain": [
              "0.8134187128304518"
            ]
          },
          "metadata": {
            "tags": []
          },
          "execution_count": 70
        }
      ]
    },
    {
      "cell_type": "code",
      "metadata": {
        "colab": {
          "base_uri": "https://localhost:8080/",
          "height": 204
        },
        "id": "PG7FrA0FhZE5",
        "outputId": "ba6411b3-0edc-4ff2-eda5-d7aa60128a3d"
      },
      "source": [
        "df_apps[[\"Price\"]][0:5]"
      ],
      "execution_count": 71,
      "outputs": [
        {
          "output_type": "execute_result",
          "data": {
            "text/html": [
              "<div>\n",
              "<style scoped>\n",
              "    .dataframe tbody tr th:only-of-type {\n",
              "        vertical-align: middle;\n",
              "    }\n",
              "\n",
              "    .dataframe tbody tr th {\n",
              "        vertical-align: top;\n",
              "    }\n",
              "\n",
              "    .dataframe thead th {\n",
              "        text-align: right;\n",
              "    }\n",
              "</style>\n",
              "<table border=\"1\" class=\"dataframe\">\n",
              "  <thead>\n",
              "    <tr style=\"text-align: right;\">\n",
              "      <th></th>\n",
              "      <th>Price</th>\n",
              "    </tr>\n",
              "  </thead>\n",
              "  <tbody>\n",
              "    <tr>\n",
              "      <th>0</th>\n",
              "      <td>2.99</td>\n",
              "    </tr>\n",
              "    <tr>\n",
              "      <th>1</th>\n",
              "      <td>1.99</td>\n",
              "    </tr>\n",
              "    <tr>\n",
              "      <th>2</th>\n",
              "      <td>0.00</td>\n",
              "    </tr>\n",
              "    <tr>\n",
              "      <th>3</th>\n",
              "      <td>0.00</td>\n",
              "    </tr>\n",
              "    <tr>\n",
              "      <th>4</th>\n",
              "      <td>2.99</td>\n",
              "    </tr>\n",
              "  </tbody>\n",
              "</table>\n",
              "</div>"
            ],
            "text/plain": [
              "   Price\n",
              "0   2.99\n",
              "1   1.99\n",
              "2   0.00\n",
              "3   0.00\n",
              "4   2.99"
            ]
          },
          "metadata": {
            "tags": []
          },
          "execution_count": 71
        }
      ]
    },
    {
      "cell_type": "code",
      "metadata": {
        "colab": {
          "base_uri": "https://localhost:8080/"
        },
        "id": "3WzMBXtghbf0",
        "outputId": "75c376ed-4196-47ae-ff45-16025762cfab"
      },
      "source": [
        "df_apps.columns"
      ],
      "execution_count": 72,
      "outputs": [
        {
          "output_type": "execute_result",
          "data": {
            "text/plain": [
              "Index(['URL', 'ID', 'Name', 'Subtitle', 'Icon URL', 'Average User Rating',\n",
              "       'User Rating Count', 'Price', 'In-app Purchases', 'Description',\n",
              "       'Developer', 'Age Rating', 'Languages', 'Size', 'Primary Genre',\n",
              "       'Genres', 'Original Release Date', 'Current Version Release Date'],\n",
              "      dtype='object')"
            ]
          },
          "metadata": {
            "tags": []
          },
          "execution_count": 72
        }
      ]
    },
    {
      "cell_type": "code",
      "metadata": {
        "colab": {
          "base_uri": "https://localhost:8080/",
          "height": 142
        },
        "id": "T3LC7guuhjkU",
        "outputId": "80710b0e-0098-4c0f-e2f7-1178912f2d53"
      },
      "source": [
        "df_apps[['Name', 'Average User Rating']][:3]"
      ],
      "execution_count": 73,
      "outputs": [
        {
          "output_type": "execute_result",
          "data": {
            "text/html": [
              "<div>\n",
              "<style scoped>\n",
              "    .dataframe tbody tr th:only-of-type {\n",
              "        vertical-align: middle;\n",
              "    }\n",
              "\n",
              "    .dataframe tbody tr th {\n",
              "        vertical-align: top;\n",
              "    }\n",
              "\n",
              "    .dataframe thead th {\n",
              "        text-align: right;\n",
              "    }\n",
              "</style>\n",
              "<table border=\"1\" class=\"dataframe\">\n",
              "  <thead>\n",
              "    <tr style=\"text-align: right;\">\n",
              "      <th></th>\n",
              "      <th>Name</th>\n",
              "      <th>Average User Rating</th>\n",
              "    </tr>\n",
              "  </thead>\n",
              "  <tbody>\n",
              "    <tr>\n",
              "      <th>0</th>\n",
              "      <td>Sudoku</td>\n",
              "      <td>4.0</td>\n",
              "    </tr>\n",
              "    <tr>\n",
              "      <th>1</th>\n",
              "      <td>Reversi</td>\n",
              "      <td>3.5</td>\n",
              "    </tr>\n",
              "    <tr>\n",
              "      <th>2</th>\n",
              "      <td>Morocco</td>\n",
              "      <td>3.0</td>\n",
              "    </tr>\n",
              "  </tbody>\n",
              "</table>\n",
              "</div>"
            ],
            "text/plain": [
              "      Name  Average User Rating\n",
              "0   Sudoku                  4.0\n",
              "1  Reversi                  3.5\n",
              "2  Morocco                  3.0"
            ]
          },
          "metadata": {
            "tags": []
          },
          "execution_count": 73
        }
      ]
    },
    {
      "cell_type": "code",
      "metadata": {
        "colab": {
          "base_uri": "https://localhost:8080/",
          "height": 966
        },
        "id": "lE98zlJmhl9c",
        "outputId": "aecbf84f-6dc2-4986-8682-fb6d4ebe42c1"
      },
      "source": [
        "df_apps[df_apps[\"Average User Rating\"] > 4.5]"
      ],
      "execution_count": 74,
      "outputs": [
        {
          "output_type": "execute_result",
          "data": {
            "text/html": [
              "<div>\n",
              "<style scoped>\n",
              "    .dataframe tbody tr th:only-of-type {\n",
              "        vertical-align: middle;\n",
              "    }\n",
              "\n",
              "    .dataframe tbody tr th {\n",
              "        vertical-align: top;\n",
              "    }\n",
              "\n",
              "    .dataframe thead th {\n",
              "        text-align: right;\n",
              "    }\n",
              "</style>\n",
              "<table border=\"1\" class=\"dataframe\">\n",
              "  <thead>\n",
              "    <tr style=\"text-align: right;\">\n",
              "      <th></th>\n",
              "      <th>URL</th>\n",
              "      <th>ID</th>\n",
              "      <th>Name</th>\n",
              "      <th>Subtitle</th>\n",
              "      <th>Icon URL</th>\n",
              "      <th>Average User Rating</th>\n",
              "      <th>User Rating Count</th>\n",
              "      <th>Price</th>\n",
              "      <th>In-app Purchases</th>\n",
              "      <th>Description</th>\n",
              "      <th>Developer</th>\n",
              "      <th>Age Rating</th>\n",
              "      <th>Languages</th>\n",
              "      <th>Size</th>\n",
              "      <th>Primary Genre</th>\n",
              "      <th>Genres</th>\n",
              "      <th>Original Release Date</th>\n",
              "      <th>Current Version Release Date</th>\n",
              "    </tr>\n",
              "  </thead>\n",
              "  <tbody>\n",
              "    <tr>\n",
              "      <th>160</th>\n",
              "      <td>https://apps.apple.com/us/app/slideswipe/id329...</td>\n",
              "      <td>329911028</td>\n",
              "      <td>Slideswipe</td>\n",
              "      <td>NaN</td>\n",
              "      <td>https://is4-ssl.mzstatic.com/image/thumb/Purpl...</td>\n",
              "      <td>5.0</td>\n",
              "      <td>6.0</td>\n",
              "      <td>0.99</td>\n",
              "      <td>NaN</td>\n",
              "      <td>Slideswipe is the ultimate slide puzzle! Maste...</td>\n",
              "      <td>Plannerhead</td>\n",
              "      <td>4+</td>\n",
              "      <td>EN, FR, DE, IT, ES</td>\n",
              "      <td>19798016.0</td>\n",
              "      <td>Games</td>\n",
              "      <td>Games, Education, Strategy</td>\n",
              "      <td>1/04/2010</td>\n",
              "      <td>4/10/2016</td>\n",
              "    </tr>\n",
              "    <tr>\n",
              "      <th>185</th>\n",
              "      <td>https://apps.apple.com/us/app/king-of-dragon-p...</td>\n",
              "      <td>335545504</td>\n",
              "      <td>King of Dragon Pass</td>\n",
              "      <td>Mythic storybook strategy</td>\n",
              "      <td>https://is1-ssl.mzstatic.com/image/thumb/Purpl...</td>\n",
              "      <td>5.0</td>\n",
              "      <td>960.0</td>\n",
              "      <td>9.99</td>\n",
              "      <td>NaN</td>\n",
              "      <td>\"Create your own epic saga of conflict, mythol...</td>\n",
              "      <td>A Sharp, LLC</td>\n",
              "      <td>12+</td>\n",
              "      <td>EN</td>\n",
              "      <td>364954624.0</td>\n",
              "      <td>Games</td>\n",
              "      <td>Games, Entertainment, Strategy, Role Playing</td>\n",
              "      <td>14/02/2011</td>\n",
              "      <td>18/10/2018</td>\n",
              "    </tr>\n",
              "    <tr>\n",
              "      <th>210</th>\n",
              "      <td>https://apps.apple.com/us/app/shottactoe/id341...</td>\n",
              "      <td>341288790</td>\n",
              "      <td>ShotTacToe</td>\n",
              "      <td>NaN</td>\n",
              "      <td>https://is2-ssl.mzstatic.com/image/thumb/Purpl...</td>\n",
              "      <td>5.0</td>\n",
              "      <td>7.0</td>\n",
              "      <td>0.99</td>\n",
              "      <td>NaN</td>\n",
              "      <td>ShotTacToe is a twist on the classic game of T...</td>\n",
              "      <td>Phone Bros</td>\n",
              "      <td>17+</td>\n",
              "      <td>EN</td>\n",
              "      <td>13151232.0</td>\n",
              "      <td>Entertainment</td>\n",
              "      <td>Entertainment, Board, Strategy, Games</td>\n",
              "      <td>1/12/2009</td>\n",
              "      <td>22/09/2016</td>\n",
              "    </tr>\n",
              "    <tr>\n",
              "      <th>251</th>\n",
              "      <td>https://apps.apple.com/us/app/sync-ball/id3562...</td>\n",
              "      <td>356277312</td>\n",
              "      <td>Sync-Ball</td>\n",
              "      <td>NaN</td>\n",
              "      <td>https://is2-ssl.mzstatic.com/image/thumb/Purpl...</td>\n",
              "      <td>5.0</td>\n",
              "      <td>37.0</td>\n",
              "      <td>0.99</td>\n",
              "      <td>NaN</td>\n",
              "      <td>\"Greetings 21st Century Earthlings!\\n\\nTranspo...</td>\n",
              "      <td>Tozai, Inc.</td>\n",
              "      <td>4+</td>\n",
              "      <td>EN</td>\n",
              "      <td>8821760.0</td>\n",
              "      <td>Games</td>\n",
              "      <td>Games, Strategy, Puzzle, Education</td>\n",
              "      <td>8/03/2010</td>\n",
              "      <td>4/11/2017</td>\n",
              "    </tr>\n",
              "    <tr>\n",
              "      <th>275</th>\n",
              "      <td>https://apps.apple.com/us/app/worp-hd-next-gen...</td>\n",
              "      <td>364741787</td>\n",
              "      <td>WORP HD - Next Gen Solitaire Puzzle</td>\n",
              "      <td>NaN</td>\n",
              "      <td>https://is5-ssl.mzstatic.com/image/thumb/Purpl...</td>\n",
              "      <td>5.0</td>\n",
              "      <td>5.0</td>\n",
              "      <td>1.99</td>\n",
              "      <td>NaN</td>\n",
              "      <td>\"Want to stimulate your brain, have fun and re...</td>\n",
              "      <td>Maximilian Auer</td>\n",
              "      <td>4+</td>\n",
              "      <td>EN, DE</td>\n",
              "      <td>22065152.0</td>\n",
              "      <td>Games</td>\n",
              "      <td>Games, Board, Strategy, Entertainment</td>\n",
              "      <td>1/04/2010</td>\n",
              "      <td>25/10/2016</td>\n",
              "    </tr>\n",
              "    <tr>\n",
              "      <th>...</th>\n",
              "      <td>...</td>\n",
              "      <td>...</td>\n",
              "      <td>...</td>\n",
              "      <td>...</td>\n",
              "      <td>...</td>\n",
              "      <td>...</td>\n",
              "      <td>...</td>\n",
              "      <td>...</td>\n",
              "      <td>...</td>\n",
              "      <td>...</td>\n",
              "      <td>...</td>\n",
              "      <td>...</td>\n",
              "      <td>...</td>\n",
              "      <td>...</td>\n",
              "      <td>...</td>\n",
              "      <td>...</td>\n",
              "      <td>...</td>\n",
              "      <td>...</td>\n",
              "    </tr>\n",
              "    <tr>\n",
              "      <th>16932</th>\n",
              "      <td>https://apps.apple.com/us/app/spatula-tft-chea...</td>\n",
              "      <td>1472818549</td>\n",
              "      <td>Spatula: TFT Cheat Sheet</td>\n",
              "      <td>TFT Items and Champion Helper</td>\n",
              "      <td>https://is1-ssl.mzstatic.com/image/thumb/Purpl...</td>\n",
              "      <td>5.0</td>\n",
              "      <td>11.0</td>\n",
              "      <td>0.00</td>\n",
              "      <td>0.99</td>\n",
              "      <td>Did you ever get confused while playing TeamFi...</td>\n",
              "      <td>Murilo Bastos</td>\n",
              "      <td>9+</td>\n",
              "      <td>EN</td>\n",
              "      <td>44067840.0</td>\n",
              "      <td>Utilities</td>\n",
              "      <td>Utilities, Games, Board, Strategy</td>\n",
              "      <td>1/08/2019</td>\n",
              "      <td>1/08/2019</td>\n",
              "    </tr>\n",
              "    <tr>\n",
              "      <th>16956</th>\n",
              "      <td>https://apps.apple.com/us/app/basic-slosh/id14...</td>\n",
              "      <td>1473181500</td>\n",
              "      <td>Basic Slosh</td>\n",
              "      <td>NaN</td>\n",
              "      <td>https://is5-ssl.mzstatic.com/image/thumb/Purpl...</td>\n",
              "      <td>5.0</td>\n",
              "      <td>30.0</td>\n",
              "      <td>0.00</td>\n",
              "      <td>NaN</td>\n",
              "      <td>\"Take the ball to safety and reach the next le...</td>\n",
              "      <td>Ashnell Marchand</td>\n",
              "      <td>4+</td>\n",
              "      <td>EN</td>\n",
              "      <td>79646720.0</td>\n",
              "      <td>Games</td>\n",
              "      <td>Games, Entertainment, Action, Strategy</td>\n",
              "      <td>23/07/2019</td>\n",
              "      <td>23/07/2019</td>\n",
              "    </tr>\n",
              "    <tr>\n",
              "      <th>16962</th>\n",
              "      <td>https://apps.apple.com/us/app/idle-racing-tyco...</td>\n",
              "      <td>1473559573</td>\n",
              "      <td>Idle Racing Tycoon</td>\n",
              "      <td>Develop Your Car Racing Inc</td>\n",
              "      <td>https://is2-ssl.mzstatic.com/image/thumb/Purpl...</td>\n",
              "      <td>5.0</td>\n",
              "      <td>51.0</td>\n",
              "      <td>0.00</td>\n",
              "      <td>NaN</td>\n",
              "      <td>Build your racing circuit.\\n\\nRecruit visitors...</td>\n",
              "      <td>Carson Brody</td>\n",
              "      <td>9+</td>\n",
              "      <td>EN</td>\n",
              "      <td>125348864.0</td>\n",
              "      <td>Games</td>\n",
              "      <td>Games, Simulation, Strategy</td>\n",
              "      <td>31/07/2019</td>\n",
              "      <td>31/07/2019</td>\n",
              "    </tr>\n",
              "    <tr>\n",
              "      <th>16967</th>\n",
              "      <td>https://apps.apple.com/us/app/glow-hockey-stri...</td>\n",
              "      <td>1473680543</td>\n",
              "      <td>Glow Hockey Strike</td>\n",
              "      <td>Best 2 player air hockey game</td>\n",
              "      <td>https://is2-ssl.mzstatic.com/image/thumb/Purpl...</td>\n",
              "      <td>5.0</td>\n",
              "      <td>5.0</td>\n",
              "      <td>0.00</td>\n",
              "      <td>NaN</td>\n",
              "      <td>Glow Hockey Strike is a cool colorful air hock...</td>\n",
              "      <td>Samir Jabeur</td>\n",
              "      <td>4+</td>\n",
              "      <td>EN</td>\n",
              "      <td>128687104.0</td>\n",
              "      <td>Games</td>\n",
              "      <td>Games, Simulation, Strategy</td>\n",
              "      <td>28/07/2019</td>\n",
              "      <td>28/07/2019</td>\n",
              "    </tr>\n",
              "    <tr>\n",
              "      <th>16993</th>\n",
              "      <td>https://apps.apple.com/us/app/agadmator-chess-...</td>\n",
              "      <td>1474461379</td>\n",
              "      <td>Agadmator Chess Clock</td>\n",
              "      <td>Simple &amp; elegant chess clock</td>\n",
              "      <td>https://is1-ssl.mzstatic.com/image/thumb/Purpl...</td>\n",
              "      <td>5.0</td>\n",
              "      <td>33.0</td>\n",
              "      <td>0.00</td>\n",
              "      <td>NaN</td>\n",
              "      <td>Agadmator Chess Clock is a beautiful, lightwei...</td>\n",
              "      <td>Ivan Amidzic</td>\n",
              "      <td>4+</td>\n",
              "      <td>EN</td>\n",
              "      <td>8845312.0</td>\n",
              "      <td>Games</td>\n",
              "      <td>Games, Strategy, Board, Utilities</td>\n",
              "      <td>30/07/2019</td>\n",
              "      <td>30/07/2019</td>\n",
              "    </tr>\n",
              "  </tbody>\n",
              "</table>\n",
              "<p>990 rows × 18 columns</p>\n",
              "</div>"
            ],
            "text/plain": [
              "                                                     URL  ...  Current Version Release Date\n",
              "160    https://apps.apple.com/us/app/slideswipe/id329...  ...                     4/10/2016\n",
              "185    https://apps.apple.com/us/app/king-of-dragon-p...  ...                    18/10/2018\n",
              "210    https://apps.apple.com/us/app/shottactoe/id341...  ...                    22/09/2016\n",
              "251    https://apps.apple.com/us/app/sync-ball/id3562...  ...                     4/11/2017\n",
              "275    https://apps.apple.com/us/app/worp-hd-next-gen...  ...                    25/10/2016\n",
              "...                                                  ...  ...                           ...\n",
              "16932  https://apps.apple.com/us/app/spatula-tft-chea...  ...                     1/08/2019\n",
              "16956  https://apps.apple.com/us/app/basic-slosh/id14...  ...                    23/07/2019\n",
              "16962  https://apps.apple.com/us/app/idle-racing-tyco...  ...                    31/07/2019\n",
              "16967  https://apps.apple.com/us/app/glow-hockey-stri...  ...                    28/07/2019\n",
              "16993  https://apps.apple.com/us/app/agadmator-chess-...  ...                    30/07/2019\n",
              "\n",
              "[990 rows x 18 columns]"
            ]
          },
          "metadata": {
            "tags": []
          },
          "execution_count": 74
        }
      ]
    },
    {
      "cell_type": "code",
      "metadata": {
        "colab": {
          "base_uri": "https://localhost:8080/",
          "height": 297
        },
        "id": "WM5n30DehpcN",
        "outputId": "cf8256a1-6f43-46f7-973b-18f98c239a5e"
      },
      "source": [
        "df_apps.describe()"
      ],
      "execution_count": 75,
      "outputs": [
        {
          "output_type": "execute_result",
          "data": {
            "text/html": [
              "<div>\n",
              "<style scoped>\n",
              "    .dataframe tbody tr th:only-of-type {\n",
              "        vertical-align: middle;\n",
              "    }\n",
              "\n",
              "    .dataframe tbody tr th {\n",
              "        vertical-align: top;\n",
              "    }\n",
              "\n",
              "    .dataframe thead th {\n",
              "        text-align: right;\n",
              "    }\n",
              "</style>\n",
              "<table border=\"1\" class=\"dataframe\">\n",
              "  <thead>\n",
              "    <tr style=\"text-align: right;\">\n",
              "      <th></th>\n",
              "      <th>ID</th>\n",
              "      <th>Average User Rating</th>\n",
              "      <th>User Rating Count</th>\n",
              "      <th>Price</th>\n",
              "      <th>Size</th>\n",
              "    </tr>\n",
              "  </thead>\n",
              "  <tbody>\n",
              "    <tr>\n",
              "      <th>count</th>\n",
              "      <td>1.700700e+04</td>\n",
              "      <td>7561.000000</td>\n",
              "      <td>7.561000e+03</td>\n",
              "      <td>16983.000000</td>\n",
              "      <td>1.700600e+04</td>\n",
              "    </tr>\n",
              "    <tr>\n",
              "      <th>mean</th>\n",
              "      <td>1.059614e+09</td>\n",
              "      <td>4.060905</td>\n",
              "      <td>3.306531e+03</td>\n",
              "      <td>0.813419</td>\n",
              "      <td>1.157064e+08</td>\n",
              "    </tr>\n",
              "    <tr>\n",
              "      <th>std</th>\n",
              "      <td>2.999676e+08</td>\n",
              "      <td>0.751428</td>\n",
              "      <td>4.232256e+04</td>\n",
              "      <td>7.835732</td>\n",
              "      <td>2.036477e+08</td>\n",
              "    </tr>\n",
              "    <tr>\n",
              "      <th>min</th>\n",
              "      <td>2.849214e+08</td>\n",
              "      <td>1.000000</td>\n",
              "      <td>5.000000e+00</td>\n",
              "      <td>0.000000</td>\n",
              "      <td>5.132800e+04</td>\n",
              "    </tr>\n",
              "    <tr>\n",
              "      <th>25%</th>\n",
              "      <td>8.996543e+08</td>\n",
              "      <td>3.500000</td>\n",
              "      <td>1.200000e+01</td>\n",
              "      <td>0.000000</td>\n",
              "      <td>2.295014e+07</td>\n",
              "    </tr>\n",
              "    <tr>\n",
              "      <th>50%</th>\n",
              "      <td>1.112286e+09</td>\n",
              "      <td>4.500000</td>\n",
              "      <td>4.600000e+01</td>\n",
              "      <td>0.000000</td>\n",
              "      <td>5.676895e+07</td>\n",
              "    </tr>\n",
              "    <tr>\n",
              "      <th>75%</th>\n",
              "      <td>1.286983e+09</td>\n",
              "      <td>4.500000</td>\n",
              "      <td>3.090000e+02</td>\n",
              "      <td>0.000000</td>\n",
              "      <td>1.330271e+08</td>\n",
              "    </tr>\n",
              "    <tr>\n",
              "      <th>max</th>\n",
              "      <td>1.475077e+09</td>\n",
              "      <td>5.000000</td>\n",
              "      <td>3.032734e+06</td>\n",
              "      <td>179.990000</td>\n",
              "      <td>4.005591e+09</td>\n",
              "    </tr>\n",
              "  </tbody>\n",
              "</table>\n",
              "</div>"
            ],
            "text/plain": [
              "                 ID  Average User Rating  ...         Price          Size\n",
              "count  1.700700e+04          7561.000000  ...  16983.000000  1.700600e+04\n",
              "mean   1.059614e+09             4.060905  ...      0.813419  1.157064e+08\n",
              "std    2.999676e+08             0.751428  ...      7.835732  2.036477e+08\n",
              "min    2.849214e+08             1.000000  ...      0.000000  5.132800e+04\n",
              "25%    8.996543e+08             3.500000  ...      0.000000  2.295014e+07\n",
              "50%    1.112286e+09             4.500000  ...      0.000000  5.676895e+07\n",
              "75%    1.286983e+09             4.500000  ...      0.000000  1.330271e+08\n",
              "max    1.475077e+09             5.000000  ...    179.990000  4.005591e+09\n",
              "\n",
              "[8 rows x 5 columns]"
            ]
          },
          "metadata": {
            "tags": []
          },
          "execution_count": 75
        }
      ]
    },
    {
      "cell_type": "code",
      "metadata": {
        "colab": {
          "base_uri": "https://localhost:8080/",
          "height": 204
        },
        "id": "bSPTeFNKhuaG",
        "outputId": "70a47863-cfc9-4f2d-fda4-802ba487dad2"
      },
      "source": [
        "df_apps.sort_values(by=\"Average User Rating\",\n",
        "                    ascending=False)[[\"Name\"]][:5]"
      ],
      "execution_count": 76,
      "outputs": [
        {
          "output_type": "execute_result",
          "data": {
            "text/html": [
              "<div>\n",
              "<style scoped>\n",
              "    .dataframe tbody tr th:only-of-type {\n",
              "        vertical-align: middle;\n",
              "    }\n",
              "\n",
              "    .dataframe tbody tr th {\n",
              "        vertical-align: top;\n",
              "    }\n",
              "\n",
              "    .dataframe thead th {\n",
              "        text-align: right;\n",
              "    }\n",
              "</style>\n",
              "<table border=\"1\" class=\"dataframe\">\n",
              "  <thead>\n",
              "    <tr style=\"text-align: right;\">\n",
              "      <th></th>\n",
              "      <th>Name</th>\n",
              "    </tr>\n",
              "  </thead>\n",
              "  <tbody>\n",
              "    <tr>\n",
              "      <th>16993</th>\n",
              "      <td>Agadmator Chess Clock</td>\n",
              "    </tr>\n",
              "    <tr>\n",
              "      <th>2733</th>\n",
              "      <td>Optical Inquisitor 17+</td>\n",
              "    </tr>\n",
              "    <tr>\n",
              "      <th>12034</th>\n",
              "      <td>Watermelon Evolution Food Clicker</td>\n",
              "    </tr>\n",
              "    <tr>\n",
              "      <th>2730</th>\n",
              "      <td>Rush for gold: Alaska</td>\n",
              "    </tr>\n",
              "    <tr>\n",
              "      <th>12051</th>\n",
              "      <td>\"Jean's Sundaeria : Tap Dash\"</td>\n",
              "    </tr>\n",
              "  </tbody>\n",
              "</table>\n",
              "</div>"
            ],
            "text/plain": [
              "                                    Name\n",
              "16993              Agadmator Chess Clock\n",
              "2733              Optical Inquisitor 17+\n",
              "12034  Watermelon Evolution Food Clicker\n",
              "2730               Rush for gold: Alaska\n",
              "12051      \"Jean's Sundaeria : Tap Dash\""
            ]
          },
          "metadata": {
            "tags": []
          },
          "execution_count": 76
        }
      ]
    },
    {
      "cell_type": "code",
      "metadata": {
        "colab": {
          "base_uri": "https://localhost:8080/"
        },
        "id": "FMQ2J38fh07r",
        "outputId": "7dd9f9db-c24c-447d-b417-e187ed984597"
      },
      "source": [
        "df_apps.columns"
      ],
      "execution_count": 77,
      "outputs": [
        {
          "output_type": "execute_result",
          "data": {
            "text/plain": [
              "Index(['URL', 'ID', 'Name', 'Subtitle', 'Icon URL', 'Average User Rating',\n",
              "       'User Rating Count', 'Price', 'In-app Purchases', 'Description',\n",
              "       'Developer', 'Age Rating', 'Languages', 'Size', 'Primary Genre',\n",
              "       'Genres', 'Original Release Date', 'Current Version Release Date'],\n",
              "      dtype='object')"
            ]
          },
          "metadata": {
            "tags": []
          },
          "execution_count": 77
        }
      ]
    },
    {
      "cell_type": "code",
      "metadata": {
        "id": "gKhZXUCoh_Tk"
      },
      "source": [
        "value_cols = ['Average User Rating',\n",
        "'Price',\n",
        "'In-app Purchases',\n",
        "'User Rating Count']"
      ],
      "execution_count": 78,
      "outputs": []
    },
    {
      "cell_type": "code",
      "metadata": {
        "colab": {
          "base_uri": "https://localhost:8080/",
          "height": 297
        },
        "id": "GPZroRu_iBYI",
        "outputId": "ed79d63f-fdd7-4bc5-8bde-e6fa8b5a2711"
      },
      "source": [
        "df_apps[value_cols].describe()"
      ],
      "execution_count": 79,
      "outputs": [
        {
          "output_type": "execute_result",
          "data": {
            "text/html": [
              "<div>\n",
              "<style scoped>\n",
              "    .dataframe tbody tr th:only-of-type {\n",
              "        vertical-align: middle;\n",
              "    }\n",
              "\n",
              "    .dataframe tbody tr th {\n",
              "        vertical-align: top;\n",
              "    }\n",
              "\n",
              "    .dataframe thead th {\n",
              "        text-align: right;\n",
              "    }\n",
              "</style>\n",
              "<table border=\"1\" class=\"dataframe\">\n",
              "  <thead>\n",
              "    <tr style=\"text-align: right;\">\n",
              "      <th></th>\n",
              "      <th>Average User Rating</th>\n",
              "      <th>Price</th>\n",
              "      <th>User Rating Count</th>\n",
              "    </tr>\n",
              "  </thead>\n",
              "  <tbody>\n",
              "    <tr>\n",
              "      <th>count</th>\n",
              "      <td>7561.000000</td>\n",
              "      <td>16983.000000</td>\n",
              "      <td>7.561000e+03</td>\n",
              "    </tr>\n",
              "    <tr>\n",
              "      <th>mean</th>\n",
              "      <td>4.060905</td>\n",
              "      <td>0.813419</td>\n",
              "      <td>3.306531e+03</td>\n",
              "    </tr>\n",
              "    <tr>\n",
              "      <th>std</th>\n",
              "      <td>0.751428</td>\n",
              "      <td>7.835732</td>\n",
              "      <td>4.232256e+04</td>\n",
              "    </tr>\n",
              "    <tr>\n",
              "      <th>min</th>\n",
              "      <td>1.000000</td>\n",
              "      <td>0.000000</td>\n",
              "      <td>5.000000e+00</td>\n",
              "    </tr>\n",
              "    <tr>\n",
              "      <th>25%</th>\n",
              "      <td>3.500000</td>\n",
              "      <td>0.000000</td>\n",
              "      <td>1.200000e+01</td>\n",
              "    </tr>\n",
              "    <tr>\n",
              "      <th>50%</th>\n",
              "      <td>4.500000</td>\n",
              "      <td>0.000000</td>\n",
              "      <td>4.600000e+01</td>\n",
              "    </tr>\n",
              "    <tr>\n",
              "      <th>75%</th>\n",
              "      <td>4.500000</td>\n",
              "      <td>0.000000</td>\n",
              "      <td>3.090000e+02</td>\n",
              "    </tr>\n",
              "    <tr>\n",
              "      <th>max</th>\n",
              "      <td>5.000000</td>\n",
              "      <td>179.990000</td>\n",
              "      <td>3.032734e+06</td>\n",
              "    </tr>\n",
              "  </tbody>\n",
              "</table>\n",
              "</div>"
            ],
            "text/plain": [
              "       Average User Rating         Price  User Rating Count\n",
              "count          7561.000000  16983.000000       7.561000e+03\n",
              "mean              4.060905      0.813419       3.306531e+03\n",
              "std               0.751428      7.835732       4.232256e+04\n",
              "min               1.000000      0.000000       5.000000e+00\n",
              "25%               3.500000      0.000000       1.200000e+01\n",
              "50%               4.500000      0.000000       4.600000e+01\n",
              "75%               4.500000      0.000000       3.090000e+02\n",
              "max               5.000000    179.990000       3.032734e+06"
            ]
          },
          "metadata": {
            "tags": []
          },
          "execution_count": 79
        }
      ]
    },
    {
      "cell_type": "code",
      "metadata": {
        "colab": {
          "base_uri": "https://localhost:8080/",
          "height": 359
        },
        "id": "0bNFML4ZiE-R",
        "outputId": "7bf1cef7-7780-44b8-9b6a-24bdc1b01f8c"
      },
      "source": [
        "df_apps[['In-app Purchases']].sample(10)"
      ],
      "execution_count": 80,
      "outputs": [
        {
          "output_type": "execute_result",
          "data": {
            "text/html": [
              "<div>\n",
              "<style scoped>\n",
              "    .dataframe tbody tr th:only-of-type {\n",
              "        vertical-align: middle;\n",
              "    }\n",
              "\n",
              "    .dataframe tbody tr th {\n",
              "        vertical-align: top;\n",
              "    }\n",
              "\n",
              "    .dataframe thead th {\n",
              "        text-align: right;\n",
              "    }\n",
              "</style>\n",
              "<table border=\"1\" class=\"dataframe\">\n",
              "  <thead>\n",
              "    <tr style=\"text-align: right;\">\n",
              "      <th></th>\n",
              "      <th>In-app Purchases</th>\n",
              "    </tr>\n",
              "  </thead>\n",
              "  <tbody>\n",
              "    <tr>\n",
              "      <th>10222</th>\n",
              "      <td>NaN</td>\n",
              "    </tr>\n",
              "    <tr>\n",
              "      <th>8180</th>\n",
              "      <td>3.99, 1.99</td>\n",
              "    </tr>\n",
              "    <tr>\n",
              "      <th>12642</th>\n",
              "      <td>3.99, 2.99, 3.99, 0.99, 0.99, 0.99, 0.99, 1.99...</td>\n",
              "    </tr>\n",
              "    <tr>\n",
              "      <th>6496</th>\n",
              "      <td>NaN</td>\n",
              "    </tr>\n",
              "    <tr>\n",
              "      <th>15663</th>\n",
              "      <td>NaN</td>\n",
              "    </tr>\n",
              "    <tr>\n",
              "      <th>6582</th>\n",
              "      <td>NaN</td>\n",
              "    </tr>\n",
              "    <tr>\n",
              "      <th>7683</th>\n",
              "      <td>NaN</td>\n",
              "    </tr>\n",
              "    <tr>\n",
              "      <th>7361</th>\n",
              "      <td>1.99, 0.99</td>\n",
              "    </tr>\n",
              "    <tr>\n",
              "      <th>3356</th>\n",
              "      <td>NaN</td>\n",
              "    </tr>\n",
              "    <tr>\n",
              "      <th>12197</th>\n",
              "      <td>NaN</td>\n",
              "    </tr>\n",
              "  </tbody>\n",
              "</table>\n",
              "</div>"
            ],
            "text/plain": [
              "                                        In-app Purchases\n",
              "10222                                                NaN\n",
              "8180                                          3.99, 1.99\n",
              "12642  3.99, 2.99, 3.99, 0.99, 0.99, 0.99, 0.99, 1.99...\n",
              "6496                                                 NaN\n",
              "15663                                                NaN\n",
              "6582                                                 NaN\n",
              "7683                                                 NaN\n",
              "7361                                          1.99, 0.99\n",
              "3356                                                 NaN\n",
              "12197                                                NaN"
            ]
          },
          "metadata": {
            "tags": []
          },
          "execution_count": 80
        }
      ]
    },
    {
      "cell_type": "code",
      "metadata": {
        "id": "I8ZXLbYAiHfT"
      },
      "source": [
        "df_apps['In-app Purchases'] = df_apps['In-app Purchases'].fillna(0)"
      ],
      "execution_count": 81,
      "outputs": []
    },
    {
      "cell_type": "code",
      "metadata": {
        "colab": {
          "base_uri": "https://localhost:8080/",
          "height": 142
        },
        "id": "H7VIrzlaiKKo",
        "outputId": "27ed16a7-628c-4fbd-c514-c84e7f88a4ef"
      },
      "source": [
        "df_apps[['In-app Purchases']].sample(3)"
      ],
      "execution_count": 82,
      "outputs": [
        {
          "output_type": "execute_result",
          "data": {
            "text/html": [
              "<div>\n",
              "<style scoped>\n",
              "    .dataframe tbody tr th:only-of-type {\n",
              "        vertical-align: middle;\n",
              "    }\n",
              "\n",
              "    .dataframe tbody tr th {\n",
              "        vertical-align: top;\n",
              "    }\n",
              "\n",
              "    .dataframe thead th {\n",
              "        text-align: right;\n",
              "    }\n",
              "</style>\n",
              "<table border=\"1\" class=\"dataframe\">\n",
              "  <thead>\n",
              "    <tr style=\"text-align: right;\">\n",
              "      <th></th>\n",
              "      <th>In-app Purchases</th>\n",
              "    </tr>\n",
              "  </thead>\n",
              "  <tbody>\n",
              "    <tr>\n",
              "      <th>12594</th>\n",
              "      <td>0</td>\n",
              "    </tr>\n",
              "    <tr>\n",
              "      <th>14618</th>\n",
              "      <td>0</td>\n",
              "    </tr>\n",
              "    <tr>\n",
              "      <th>11732</th>\n",
              "      <td>0.99, 0.99, 0.99, 2.99</td>\n",
              "    </tr>\n",
              "  </tbody>\n",
              "</table>\n",
              "</div>"
            ],
            "text/plain": [
              "             In-app Purchases\n",
              "12594                       0\n",
              "14618                       0\n",
              "11732  0.99, 0.99, 0.99, 2.99"
            ]
          },
          "metadata": {
            "tags": []
          },
          "execution_count": 82
        }
      ]
    },
    {
      "cell_type": "code",
      "metadata": {
        "id": "snNNo_snihti"
      },
      "source": [
        "def process_inapp_purchase(value_purchase):\n",
        "    str_purchase = str(value_purchase)\n",
        "    str_list = str_purchase.split(\", \")\n",
        "    float_list = [ float(x) for x in str_list ]\n",
        "    mean_purchase = np.mean(float_list)\n",
        "    return mean_purchase"
      ],
      "execution_count": 83,
      "outputs": []
    },
    {
      "cell_type": "code",
      "metadata": {
        "id": "MTL8Q1y6jHGY"
      },
      "source": [
        "df_apps['Avg In-app Purchases'] = \\\n",
        "    df_apps['In-app Purchases'].apply(process_inapp_purchase)"
      ],
      "execution_count": 92,
      "outputs": []
    },
    {
      "cell_type": "code",
      "metadata": {
        "colab": {
          "base_uri": "https://localhost:8080/"
        },
        "id": "FLmY_Aw7jJ89",
        "outputId": "c5410e45-0f96-4ee2-9bee-7af95b64c935"
      },
      "source": [
        "df_apps['Avg In-app Purchases'].min(), \\\n",
        "df_apps['Avg In-app Purchases'].max()"
      ],
      "execution_count": 93,
      "outputs": [
        {
          "output_type": "execute_result",
          "data": {
            "text/plain": [
              "(0.0, 89.99000000000001)"
            ]
          },
          "metadata": {
            "tags": []
          },
          "execution_count": 93
        }
      ]
    },
    {
      "cell_type": "code",
      "metadata": {
        "id": "kfBEdFz3jNpH"
      },
      "source": [
        ""
      ],
      "execution_count": null,
      "outputs": []
    },
    {
      "cell_type": "markdown",
      "metadata": {
        "id": "7227chejjoPT"
      },
      "source": [
        "## **Normalization**"
      ]
    },
    {
      "cell_type": "code",
      "metadata": {
        "id": "AskGaM_0jpei"
      },
      "source": [
        "from sklearn.preprocessing import MinMaxScaler"
      ],
      "execution_count": 94,
      "outputs": []
    },
    {
      "cell_type": "code",
      "metadata": {
        "id": "HR6x_xukks24"
      },
      "source": [
        ""
      ],
      "execution_count": 94,
      "outputs": []
    },
    {
      "cell_type": "code",
      "metadata": {
        "id": "ADfFidaejq9Y"
      },
      "source": [
        "normalization = MinMaxScaler((1,10))"
      ],
      "execution_count": 95,
      "outputs": []
    },
    {
      "cell_type": "code",
      "metadata": {
        "id": "3M3hRFvpjsWa"
      },
      "source": [
        "df_apps[['Average User Rating',\n",
        "        'Price',\n",
        "        'Avg In-app Purchases',\n",
        "        'User Rating Count']] = normalization.fit_transform(df_apps[['Average User Rating',\n",
        "                                    'Price',\n",
        "                                    'Avg In-app Purchases',\n",
        "                                    'User Rating Count']])"
      ],
      "execution_count": 96,
      "outputs": []
    },
    {
      "cell_type": "code",
      "metadata": {
        "colab": {
          "base_uri": "https://localhost:8080/",
          "height": 297
        },
        "id": "S2vStnGfjuoG",
        "outputId": "e23a48ac-2686-4470-edb2-3c098a0c465c"
      },
      "source": [
        "df_apps[['Average User Rating',\n",
        "        'Price',\n",
        "        'Avg In-app Purchases',\n",
        "        'User Rating Count']].describe()"
      ],
      "execution_count": 97,
      "outputs": [
        {
          "output_type": "execute_result",
          "data": {
            "text/html": [
              "<div>\n",
              "<style scoped>\n",
              "    .dataframe tbody tr th:only-of-type {\n",
              "        vertical-align: middle;\n",
              "    }\n",
              "\n",
              "    .dataframe tbody tr th {\n",
              "        vertical-align: top;\n",
              "    }\n",
              "\n",
              "    .dataframe thead th {\n",
              "        text-align: right;\n",
              "    }\n",
              "</style>\n",
              "<table border=\"1\" class=\"dataframe\">\n",
              "  <thead>\n",
              "    <tr style=\"text-align: right;\">\n",
              "      <th></th>\n",
              "      <th>Average User Rating</th>\n",
              "      <th>Price</th>\n",
              "      <th>Avg In-app Purchases</th>\n",
              "      <th>User Rating Count</th>\n",
              "    </tr>\n",
              "  </thead>\n",
              "  <tbody>\n",
              "    <tr>\n",
              "      <th>count</th>\n",
              "      <td>7561.000000</td>\n",
              "      <td>16983.000000</td>\n",
              "      <td>17007.000000</td>\n",
              "      <td>7561.000000</td>\n",
              "    </tr>\n",
              "    <tr>\n",
              "      <th>mean</th>\n",
              "      <td>7.887035</td>\n",
              "      <td>1.040673</td>\n",
              "      <td>1.333759</td>\n",
              "      <td>1.009798</td>\n",
              "    </tr>\n",
              "    <tr>\n",
              "      <th>std</th>\n",
              "      <td>1.690712</td>\n",
              "      <td>0.391808</td>\n",
              "      <td>0.714553</td>\n",
              "      <td>0.125597</td>\n",
              "    </tr>\n",
              "    <tr>\n",
              "      <th>min</th>\n",
              "      <td>1.000000</td>\n",
              "      <td>1.000000</td>\n",
              "      <td>1.000000</td>\n",
              "      <td>1.000000</td>\n",
              "    </tr>\n",
              "    <tr>\n",
              "      <th>25%</th>\n",
              "      <td>6.625000</td>\n",
              "      <td>1.000000</td>\n",
              "      <td>1.000000</td>\n",
              "      <td>1.000021</td>\n",
              "    </tr>\n",
              "    <tr>\n",
              "      <th>50%</th>\n",
              "      <td>8.875000</td>\n",
              "      <td>1.000000</td>\n",
              "      <td>1.000000</td>\n",
              "      <td>1.000122</td>\n",
              "    </tr>\n",
              "    <tr>\n",
              "      <th>75%</th>\n",
              "      <td>8.875000</td>\n",
              "      <td>1.000000</td>\n",
              "      <td>1.299033</td>\n",
              "      <td>1.000902</td>\n",
              "    </tr>\n",
              "    <tr>\n",
              "      <th>max</th>\n",
              "      <td>10.000000</td>\n",
              "      <td>10.000000</td>\n",
              "      <td>10.000000</td>\n",
              "      <td>10.000000</td>\n",
              "    </tr>\n",
              "  </tbody>\n",
              "</table>\n",
              "</div>"
            ],
            "text/plain": [
              "       Average User Rating  ...  User Rating Count\n",
              "count          7561.000000  ...        7561.000000\n",
              "mean              7.887035  ...           1.009798\n",
              "std               1.690712  ...           0.125597\n",
              "min               1.000000  ...           1.000000\n",
              "25%               6.625000  ...           1.000021\n",
              "50%               8.875000  ...           1.000122\n",
              "75%               8.875000  ...           1.000902\n",
              "max              10.000000  ...          10.000000\n",
              "\n",
              "[8 rows x 4 columns]"
            ]
          },
          "metadata": {
            "tags": []
          },
          "execution_count": 97
        }
      ]
    },
    {
      "cell_type": "code",
      "metadata": {
        "id": "WvHuNdmlkJBv"
      },
      "source": [
        "df_apps[\"luxe_score\"] = df_apps[['Average User Rating',\n",
        "        'Price',\n",
        "        'Avg In-app Purchases',\n",
        "        'User Rating Count']].mean(axis=1)"
      ],
      "execution_count": 101,
      "outputs": []
    },
    {
      "cell_type": "code",
      "metadata": {
        "id": "QtQ3jobXk0gb"
      },
      "source": [
        "df_luxe = df_apps.sort_values(by=\"luxe_score\", ascending=False)\\\n",
        "    [[\"Name\", \"luxe_score\"]]"
      ],
      "execution_count": 102,
      "outputs": []
    },
    {
      "cell_type": "code",
      "metadata": {
        "colab": {
          "base_uri": "https://localhost:8080/",
          "height": 35
        },
        "id": "QYy5W_60k2MT",
        "outputId": "ee62e8c6-35df-4ad4-f9a5-39a62c828c65"
      },
      "source": [
        "PATH_LOAD"
      ],
      "execution_count": 103,
      "outputs": [
        {
          "output_type": "execute_result",
          "data": {
            "application/vnd.google.colaboratory.intrinsic+json": {
              "type": "string"
            },
            "text/plain": [
              "'/content/drive/My Drive/pandas รอบที่ 4/17k-apple-app-store-strategy-games.zip'"
            ]
          },
          "metadata": {
            "tags": []
          },
          "execution_count": 103
        }
      ]
    },
    {
      "cell_type": "code",
      "metadata": {
        "id": "XzFApc3uk47k"
      },
      "source": [
        "PATH_SAVE = '/content/final_luxe_apps.csv'"
      ],
      "execution_count": 107,
      "outputs": []
    },
    {
      "cell_type": "code",
      "metadata": {
        "id": "h9iiBJo8lGAB"
      },
      "source": [
        "df_luxe.to_csv(PATH_SAVE)"
      ],
      "execution_count": 108,
      "outputs": []
    },
    {
      "cell_type": "code",
      "metadata": {
        "id": "HuFn_CB0lIoV"
      },
      "source": [
        ""
      ],
      "execution_count": null,
      "outputs": []
    }
  ]
}