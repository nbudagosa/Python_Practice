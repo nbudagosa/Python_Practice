{
  "nbformat": 4,
  "nbformat_minor": 0,
  "metadata": {
    "colab": {
      "name": "Intro Python 101_Practice.ipynb",
      "provenance": []
    },
    "kernelspec": {
      "name": "python3",
      "display_name": "Python 3"
    },
    "language_info": {
      "name": "python"
    }
  },
  "cells": [
    {
      "cell_type": "markdown",
      "metadata": {
        "id": "ljgA2lw-W2K0"
      },
      "source": [
        "# -*- coding: utf-8 -*-"
      ]
    },
    {
      "cell_type": "code",
      "metadata": {
        "id": "fc9_O42VW-6k"
      },
      "source": [
        ""
      ],
      "execution_count": null,
      "outputs": []
    },
    {
      "cell_type": "markdown",
      "metadata": {
        "id": "LAKiWsSHW8m3"
      },
      "source": [
        "# **Intro to Python 101**"
      ]
    },
    {
      "cell_type": "code",
      "metadata": {
        "colab": {
          "base_uri": "https://localhost:8080/",
          "height": 130
        },
        "id": "mi0Zp4t9XFRn",
        "outputId": "57370bda-87f1-4f16-f47e-d4f914d58466"
      },
      "source": [
        "- variable\n",
        "- data types\n",
        "- data structures : list, tuple\n",
        "- function"
      ],
      "execution_count": 3,
      "outputs": [
        {
          "output_type": "error",
          "ename": "SyntaxError",
          "evalue": "ignored",
          "traceback": [
            "\u001b[0;36m  File \u001b[0;32m\"<ipython-input-3-ac2c326250a3>\"\u001b[0;36m, line \u001b[0;32m2\u001b[0m\n\u001b[0;31m    - data types\u001b[0m\n\u001b[0m               ^\u001b[0m\n\u001b[0;31mSyntaxError\u001b[0m\u001b[0;31m:\u001b[0m invalid syntax\n"
          ]
        }
      ]
    },
    {
      "cell_type": "code",
      "metadata": {
        "colab": {
          "base_uri": "https://localhost:8080/"
        },
        "id": "vy-1AYIgXHkP",
        "outputId": "2d4f4ec7-0121-4903-c6ef-d0f691674b77"
      },
      "source": [
        "# basic calculation\n",
        "print(1 + 1)\n",
        "print(2 * 2)\n",
        "print(10 - 2)\n",
        "print(5 / 2)\n",
        "print(5 // 2)  ## floor division\n",
        "print(9 // 4)\n",
        "print(5 ** 3)  ## power\n",
        "print(9 % 2)   ## modulo"
      ],
      "execution_count": 4,
      "outputs": [
        {
          "output_type": "stream",
          "text": [
            "2\n",
            "4\n",
            "8\n",
            "2.5\n",
            "2\n",
            "2\n",
            "125\n",
            "1\n"
          ],
          "name": "stdout"
        }
      ]
    },
    {
      "cell_type": "code",
      "metadata": {
        "id": "vM2ocDvSXJMq"
      },
      "source": [
        ""
      ],
      "execution_count": null,
      "outputs": []
    },
    {
      "cell_type": "markdown",
      "metadata": {
        "id": "RYHKrkcIXMnf"
      },
      "source": [
        "# **Variable**"
      ]
    },
    {
      "cell_type": "code",
      "metadata": {
        "colab": {
          "base_uri": "https://localhost:8080/"
        },
        "id": "2e3r9ENyXM7E",
        "outputId": "814ec136-8b82-4587-8b10-698dc70edd44"
      },
      "source": [
        "# variable assignment\n",
        "salary = 50000\n",
        "expense = 34000\n",
        "saving = salary - expense\n",
        "\n",
        "print(saving)"
      ],
      "execution_count": 5,
      "outputs": [
        {
          "output_type": "stream",
          "text": [
            "16000\n"
          ],
          "name": "stdout"
        }
      ]
    },
    {
      "cell_type": "code",
      "metadata": {
        "id": "MQzUOzAVXPn5"
      },
      "source": [
        "# delete variable\n",
        "del salary\n",
        "del saving"
      ],
      "execution_count": 6,
      "outputs": []
    },
    {
      "cell_type": "code",
      "metadata": {
        "colab": {
          "base_uri": "https://localhost:8080/"
        },
        "id": "aw7R_Ab6XSnY",
        "outputId": "380edef1-4742-4c3d-8ab9-ce8a610ad7c3"
      },
      "source": [
        "## tuple unpacking (multiple assignments)\n",
        "my_name, my_salary, my_expense = \"Toy\", 50000, 34000\n",
        "print(my_name)\n",
        "print(my_salary)\n",
        "print(my_expense)"
      ],
      "execution_count": 7,
      "outputs": [
        {
          "output_type": "stream",
          "text": [
            "Toy\n",
            "50000\n",
            "34000\n"
          ],
          "name": "stdout"
        }
      ]
    },
    {
      "cell_type": "code",
      "metadata": {
        "id": "jakZnwLTXU3k"
      },
      "source": [
        ""
      ],
      "execution_count": null,
      "outputs": []
    },
    {
      "cell_type": "markdown",
      "metadata": {
        "id": "IjPYb5m3XbSB"
      },
      "source": [
        "# **String**"
      ]
    },
    {
      "cell_type": "code",
      "metadata": {
        "colab": {
          "base_uri": "https://localhost:8080/"
        },
        "id": "fKNt5YEtXbgo",
        "outputId": "0d28621e-19e1-4d34-c8ea-bbbaba6873a6"
      },
      "source": [
        "text = \"I'm learning Python!\"\n",
        "print(text)"
      ],
      "execution_count": 8,
      "outputs": [
        {
          "output_type": "stream",
          "text": [
            "I'm learning Python!\n"
          ],
          "name": "stdout"
        }
      ]
    },
    {
      "cell_type": "code",
      "metadata": {
        "colab": {
          "base_uri": "https://localhost:8080/"
        },
        "id": "TmmxQ08hXdO5",
        "outputId": "0020fe87-8418-48ed-8520-ef690cc6b7e8"
      },
      "source": [
        "## escaping character \\\n",
        "text2 = 'I am learning \\'Python\\''\n",
        "print(text2)"
      ],
      "execution_count": 9,
      "outputs": [
        {
          "output_type": "stream",
          "text": [
            "I am learning 'Python'\n"
          ],
          "name": "stdout"
        }
      ]
    },
    {
      "cell_type": "code",
      "metadata": {
        "id": "71_z8hhBXfXJ"
      },
      "source": [
        "text3 = \"\"\"This is a very long string\n",
        "Hello World\n",
        "This is my first time writing Python!\n",
        "\"\"\""
      ],
      "execution_count": 10,
      "outputs": []
    },
    {
      "cell_type": "code",
      "metadata": {
        "colab": {
          "base_uri": "https://localhost:8080/"
        },
        "id": "ZKUIaueIXjL-",
        "outputId": "1737e6ee-46c0-470f-9bd7-58119c2c4ff5"
      },
      "source": [
        "print(text3)"
      ],
      "execution_count": 11,
      "outputs": [
        {
          "output_type": "stream",
          "text": [
            "This is a very long string\n",
            "Hello World\n",
            "This is my first time writing Python!\n",
            "\n"
          ],
          "name": "stdout"
        }
      ]
    },
    {
      "cell_type": "code",
      "metadata": {
        "colab": {
          "base_uri": "https://localhost:8080/"
        },
        "id": "vcbj81tCXmFx",
        "outputId": "6f7c154c-1567-420a-e8ca-2da630508228"
      },
      "source": [
        "# print string\n",
        "print(\"Hello\", \"World\", \"Python\")"
      ],
      "execution_count": 12,
      "outputs": [
        {
          "output_type": "stream",
          "text": [
            "Hello World Python\n"
          ],
          "name": "stdout"
        }
      ]
    },
    {
      "cell_type": "code",
      "metadata": {
        "colab": {
          "base_uri": "https://localhost:8080/",
          "height": 35
        },
        "id": "CBXZhm22XoLD",
        "outputId": "dfbaf206-876e-41ec-e9d1-baffc6addca8"
      },
      "source": [
        "\"Hello\" + \" World\" + \" I'm learning Python!\""
      ],
      "execution_count": 13,
      "outputs": [
        {
          "output_type": "execute_result",
          "data": {
            "application/vnd.google.colaboratory.intrinsic+json": {
              "type": "string"
            },
            "text/plain": [
              "\"Hello World I'm learning Python!\""
            ]
          },
          "metadata": {
            "tags": []
          },
          "execution_count": 13
        }
      ]
    },
    {
      "cell_type": "code",
      "metadata": {
        "id": "7twyChVsXp0S"
      },
      "source": [
        "# fstring // format string template\n",
        "my_name = \"Aum\"\n",
        "my_age = 33"
      ],
      "execution_count": 17,
      "outputs": []
    },
    {
      "cell_type": "code",
      "metadata": {
        "id": "EOl2RQ7OXtJ1"
      },
      "source": [
        "text = f\"Hello! my name is {my_name} and I am {my_age} years old.\""
      ],
      "execution_count": 18,
      "outputs": []
    },
    {
      "cell_type": "code",
      "metadata": {
        "colab": {
          "base_uri": "https://localhost:8080/"
        },
        "id": "bzWoLmZ1Xu_g",
        "outputId": "2c9d0fef-c577-488e-ab32-09835cd1a25c"
      },
      "source": [
        "print(text)"
      ],
      "execution_count": 19,
      "outputs": [
        {
          "output_type": "stream",
          "text": [
            "Hello! my name is Aum and I am 33 years old.\n"
          ],
          "name": "stdout"
        }
      ]
    },
    {
      "cell_type": "code",
      "metadata": {
        "id": "pkatF3atXw0o"
      },
      "source": [
        "# method = function designed for specific class\n",
        "# string method\n",
        "\n",
        "text = \"a duck duck walks into a bar.\""
      ],
      "execution_count": 20,
      "outputs": []
    },
    {
      "cell_type": "code",
      "metadata": {
        "colab": {
          "base_uri": "https://localhost:8080/",
          "height": 35
        },
        "id": "rzK5G_rmX3ey",
        "outputId": "6aa1b612-b7d6-45a4-81dd-93ee21e5912e"
      },
      "source": [
        "text.upper()"
      ],
      "execution_count": 21,
      "outputs": [
        {
          "output_type": "execute_result",
          "data": {
            "application/vnd.google.colaboratory.intrinsic+json": {
              "type": "string"
            },
            "text/plain": [
              "'A DUCK DUCK WALKS INTO A BAR.'"
            ]
          },
          "metadata": {
            "tags": []
          },
          "execution_count": 21
        }
      ]
    },
    {
      "cell_type": "code",
      "metadata": {
        "colab": {
          "base_uri": "https://localhost:8080/",
          "height": 35
        },
        "id": "lHs6OjiBX6OD",
        "outputId": "df078d28-f1cd-46c2-c891-dc1ee31bb1e2"
      },
      "source": [
        "text.capitalize()"
      ],
      "execution_count": 22,
      "outputs": [
        {
          "output_type": "execute_result",
          "data": {
            "application/vnd.google.colaboratory.intrinsic+json": {
              "type": "string"
            },
            "text/plain": [
              "'A duck duck walks into a bar.'"
            ]
          },
          "metadata": {
            "tags": []
          },
          "execution_count": 22
        }
      ]
    },
    {
      "cell_type": "code",
      "metadata": {
        "colab": {
          "base_uri": "https://localhost:8080/"
        },
        "id": "oc3ZtPDgX8_1",
        "outputId": "f2782edd-da38-4e0a-9ba5-1527e3615997"
      },
      "source": [
        "text.count(\"duck\")"
      ],
      "execution_count": 23,
      "outputs": [
        {
          "output_type": "execute_result",
          "data": {
            "text/plain": [
              "2"
            ]
          },
          "metadata": {
            "tags": []
          },
          "execution_count": 23
        }
      ]
    },
    {
      "cell_type": "code",
      "metadata": {
        "colab": {
          "base_uri": "https://localhost:8080/",
          "height": 35
        },
        "id": "tBIHMRCKX_eD",
        "outputId": "629814c4-84ef-4542-9f37-c439bb65b52a"
      },
      "source": [
        "text.replace(\"duck\", \"chicken\")"
      ],
      "execution_count": 24,
      "outputs": [
        {
          "output_type": "execute_result",
          "data": {
            "application/vnd.google.colaboratory.intrinsic+json": {
              "type": "string"
            },
            "text/plain": [
              "'a chicken chicken walks into a bar.'"
            ]
          },
          "metadata": {
            "tags": []
          },
          "execution_count": 24
        }
      ]
    },
    {
      "cell_type": "markdown",
      "metadata": {
        "id": "mBBNDHvNYCL8"
      },
      "source": [
        "# **Data Type**\n",
        "\n",
        "- int\n",
        "- float\n",
        "- string\n",
        "- bool (boolean)\n"
      ]
    },
    {
      "cell_type": "code",
      "metadata": {
        "colab": {
          "base_uri": "https://localhost:8080/"
        },
        "id": "bBmPkP47YBbf",
        "outputId": "2c413be9-08dc-458b-cee6-6faeb58b44cd"
      },
      "source": [
        "# int\n",
        "x = 100\n",
        "type(x)"
      ],
      "execution_count": 25,
      "outputs": [
        {
          "output_type": "execute_result",
          "data": {
            "text/plain": [
              "int"
            ]
          },
          "metadata": {
            "tags": []
          },
          "execution_count": 25
        }
      ]
    },
    {
      "cell_type": "code",
      "metadata": {
        "colab": {
          "base_uri": "https://localhost:8080/"
        },
        "id": "08PI0eAzYI1s",
        "outputId": "a1aca695-d4c6-4941-83f8-5ee63875244e"
      },
      "source": [
        "# float\n",
        "gpa = 3.5\n",
        "type(gpa)"
      ],
      "execution_count": 26,
      "outputs": [
        {
          "output_type": "execute_result",
          "data": {
            "text/plain": [
              "float"
            ]
          },
          "metadata": {
            "tags": []
          },
          "execution_count": 26
        }
      ]
    },
    {
      "cell_type": "code",
      "metadata": {
        "colab": {
          "base_uri": "https://localhost:8080/"
        },
        "id": "y_z8_EwiYK6N",
        "outputId": "86841780-0f94-4b5e-a8db-4cfd22be659f"
      },
      "source": [
        "# string\n",
        "language = \"Python\"\n",
        "type(language)\n"
      ],
      "execution_count": 27,
      "outputs": [
        {
          "output_type": "execute_result",
          "data": {
            "text/plain": [
              "str"
            ]
          },
          "metadata": {
            "tags": []
          },
          "execution_count": 27
        }
      ]
    },
    {
      "cell_type": "code",
      "metadata": {
        "colab": {
          "base_uri": "https://localhost:8080/"
        },
        "id": "Wr1QBNOrYMzG",
        "outputId": "0f86f345-de79-4085-a680-a0dcfc328691"
      },
      "source": [
        "# bool\n",
        "print(10 * 2 == 20)\n",
        "print(10 * 2 > 30)\n",
        "print(\"Hello\" != \"Hello\")"
      ],
      "execution_count": 28,
      "outputs": [
        {
          "output_type": "stream",
          "text": [
            "True\n",
            "False\n",
            "False\n"
          ],
          "name": "stdout"
        }
      ]
    },
    {
      "cell_type": "code",
      "metadata": {
        "colab": {
          "base_uri": "https://localhost:8080/"
        },
        "id": "tWhaEczVYP_O",
        "outputId": "a0a5cc55-8cb9-4ed3-e5bb-486b2237c937"
      },
      "source": [
        "\"Toy\" == \"toy\""
      ],
      "execution_count": 29,
      "outputs": [
        {
          "output_type": "execute_result",
          "data": {
            "text/plain": [
              "False"
            ]
          },
          "metadata": {
            "tags": []
          },
          "execution_count": 29
        }
      ]
    },
    {
      "cell_type": "code",
      "metadata": {
        "id": "Vj5_9sHWYTK7"
      },
      "source": [
        ""
      ],
      "execution_count": null,
      "outputs": []
    },
    {
      "cell_type": "markdown",
      "metadata": {
        "id": "smCMVqeEYVzb"
      },
      "source": [
        "# **Data Structures**\n",
        "\n",
        "- list\n",
        "- tuple"
      ]
    },
    {
      "cell_type": "code",
      "metadata": {
        "id": "t8Px678KYWIn"
      },
      "source": [
        "# create a new list\n",
        "fruits = [\"apple\", \"orange\", \"mango\", \"pineapple\", \"grape\"]\n"
      ],
      "execution_count": 30,
      "outputs": []
    },
    {
      "cell_type": "code",
      "metadata": {
        "colab": {
          "base_uri": "https://localhost:8080/"
        },
        "id": "qywzvOp0YZPU",
        "outputId": "00a6fa74-d93d-44d3-aa7f-f6c2c390326a"
      },
      "source": [
        "fruits\n"
      ],
      "execution_count": 31,
      "outputs": [
        {
          "output_type": "execute_result",
          "data": {
            "text/plain": [
              "['apple', 'orange', 'mango', 'pineapple', 'grape']"
            ]
          },
          "metadata": {
            "tags": []
          },
          "execution_count": 31
        }
      ]
    },
    {
      "cell_type": "code",
      "metadata": {
        "colab": {
          "base_uri": "https://localhost:8080/"
        },
        "id": "_oJ0HwkPYann",
        "outputId": "76e080f5-e7e8-4bca-d18d-6c5c9d19089c"
      },
      "source": [
        "print(fruits[0])\n",
        "print(fruits[1])\n",
        "print(fruits[2])"
      ],
      "execution_count": 32,
      "outputs": [
        {
          "output_type": "stream",
          "text": [
            "apple\n",
            "orange\n",
            "mango\n"
          ],
          "name": "stdout"
        }
      ]
    },
    {
      "cell_type": "code",
      "metadata": {
        "colab": {
          "base_uri": "https://localhost:8080/"
        },
        "id": "rDZ_3wRvYcsU",
        "outputId": "bd80e990-d3c1-4121-e5e0-334e4fde7c43"
      },
      "source": [
        "print(fruits[0:3]) ## 3 exclusive"
      ],
      "execution_count": 33,
      "outputs": [
        {
          "output_type": "stream",
          "text": [
            "['apple', 'orange', 'mango']\n"
          ],
          "name": "stdout"
        }
      ]
    },
    {
      "cell_type": "code",
      "metadata": {
        "colab": {
          "base_uri": "https://localhost:8080/"
        },
        "id": "RfGyZ6XVYevJ",
        "outputId": "934433fb-2db5-4fc8-ebac-fa8c8e9f7366"
      },
      "source": [
        "print(fruits[2: ])"
      ],
      "execution_count": 34,
      "outputs": [
        {
          "output_type": "stream",
          "text": [
            "['mango', 'pineapple', 'grape']\n"
          ],
          "name": "stdout"
        }
      ]
    },
    {
      "cell_type": "code",
      "metadata": {
        "colab": {
          "base_uri": "https://localhost:8080/"
        },
        "id": "J7PNZdHRYgvC",
        "outputId": "ab6ed640-339c-47c2-9f4e-e40633cf7b12"
      },
      "source": [
        "## add strawberry at the end of the list\n",
        "fruits.append(\"strawberry\")  ## list method\n",
        "print(fruits)"
      ],
      "execution_count": 35,
      "outputs": [
        {
          "output_type": "stream",
          "text": [
            "['apple', 'orange', 'mango', 'pineapple', 'grape', 'strawberry']\n"
          ],
          "name": "stdout"
        }
      ]
    },
    {
      "cell_type": "code",
      "metadata": {
        "colab": {
          "base_uri": "https://localhost:8080/"
        },
        "id": "zxcsN1mWYp4j",
        "outputId": "cda6171f-fe6c-4bdc-b9d0-ef8cd7e0eb6a"
      },
      "source": [
        "fruits.append(\"durian\")\n",
        "print(fruits)"
      ],
      "execution_count": 36,
      "outputs": [
        {
          "output_type": "stream",
          "text": [
            "['apple', 'orange', 'mango', 'pineapple', 'grape', 'strawberry', 'durian']\n"
          ],
          "name": "stdout"
        }
      ]
    },
    {
      "cell_type": "code",
      "metadata": {
        "colab": {
          "base_uri": "https://localhost:8080/"
        },
        "id": "QCDSVvSnYuKK",
        "outputId": "e56c172e-6108-4fe8-b6ad-aed79939dad3"
      },
      "source": [
        "fruits.remove(\"orange\")\n",
        "print(fruits)"
      ],
      "execution_count": 37,
      "outputs": [
        {
          "output_type": "stream",
          "text": [
            "['apple', 'mango', 'pineapple', 'grape', 'strawberry', 'durian']\n"
          ],
          "name": "stdout"
        }
      ]
    },
    {
      "cell_type": "code",
      "metadata": {
        "colab": {
          "base_uri": "https://localhost:8080/"
        },
        "id": "JsXJq2eUYwUP",
        "outputId": "64e98c36-26b8-4e20-dfb6-bb473cee6745"
      },
      "source": [
        "fruits.insert(1, \"orange\")\n",
        "print(fruits)"
      ],
      "execution_count": 38,
      "outputs": [
        {
          "output_type": "stream",
          "text": [
            "['apple', 'orange', 'mango', 'pineapple', 'grape', 'strawberry', 'durian']\n"
          ],
          "name": "stdout"
        }
      ]
    },
    {
      "cell_type": "code",
      "metadata": {
        "colab": {
          "base_uri": "https://localhost:8080/"
        },
        "id": "CiVLlvSuYyc6",
        "outputId": "8c6d000e-801e-49c5-cf4b-6d3a5da896c3"
      },
      "source": [
        "## for loop (Control Flow)\n",
        "for item in fruits:\n",
        "    print(item.upper())"
      ],
      "execution_count": 39,
      "outputs": [
        {
          "output_type": "stream",
          "text": [
            "APPLE\n",
            "ORANGE\n",
            "MANGO\n",
            "PINEAPPLE\n",
            "GRAPE\n",
            "STRAWBERRY\n",
            "DURIAN\n"
          ],
          "name": "stdout"
        }
      ]
    },
    {
      "cell_type": "code",
      "metadata": {
        "id": "-SAEcpAdY2Fb"
      },
      "source": [
        "fruits_uppercase = []  ## empty list"
      ],
      "execution_count": 40,
      "outputs": []
    },
    {
      "cell_type": "code",
      "metadata": {
        "id": "G2GufhYwY-Kw"
      },
      "source": [
        "for fruit in fruits:\n",
        "    x = fruit.upper()\n",
        "    fruits_uppercase.append(x)"
      ],
      "execution_count": 41,
      "outputs": []
    },
    {
      "cell_type": "code",
      "metadata": {
        "colab": {
          "base_uri": "https://localhost:8080/"
        },
        "id": "uoxpuvEpZAXp",
        "outputId": "187df232-68db-4398-cb3b-aed82e0d7bd9"
      },
      "source": [
        "print(fruits_uppercase)"
      ],
      "execution_count": 42,
      "outputs": [
        {
          "output_type": "stream",
          "text": [
            "['APPLE', 'ORANGE', 'MANGO', 'PINEAPPLE', 'GRAPE', 'STRAWBERRY', 'DURIAN']\n"
          ],
          "name": "stdout"
        }
      ]
    },
    {
      "cell_type": "code",
      "metadata": {
        "colab": {
          "base_uri": "https://localhost:8080/"
        },
        "id": "06oPgv6bZDcd",
        "outputId": "d0691b16-15d9-4382-c4ac-907373e16146"
      },
      "source": [
        "## tuple\n",
        "gpa = (3.5, 3.4, 3.89)\n",
        "print(gpa)  ## immutable\n"
      ],
      "execution_count": 43,
      "outputs": [
        {
          "output_type": "stream",
          "text": [
            "(3.5, 3.4, 3.89)\n"
          ],
          "name": "stdout"
        }
      ]
    },
    {
      "cell_type": "code",
      "metadata": {
        "id": "xW77Eh1QZJUc"
      },
      "source": [
        ""
      ],
      "execution_count": null,
      "outputs": []
    },
    {
      "cell_type": "markdown",
      "metadata": {
        "id": "XM65ABy8ZOBl"
      },
      "source": [
        "# **Function**"
      ]
    },
    {
      "cell_type": "code",
      "metadata": {
        "id": "f_qYPnAGZOXa"
      },
      "source": [
        "def add_two_nums(a, b):\n",
        "    return a + b"
      ],
      "execution_count": 45,
      "outputs": []
    },
    {
      "cell_type": "code",
      "metadata": {
        "id": "vroA1rl5ZQiO"
      },
      "source": [
        "result = add_two_nums(100, 20)\n",
        "\n"
      ],
      "execution_count": 46,
      "outputs": []
    },
    {
      "cell_type": "code",
      "metadata": {
        "colab": {
          "base_uri": "https://localhost:8080/"
        },
        "id": "VlXGKF-tZbPY",
        "outputId": "8997445f-c46c-4b01-cf30-1853a44f2413"
      },
      "source": [
        "print(result)"
      ],
      "execution_count": 47,
      "outputs": [
        {
          "output_type": "stream",
          "text": [
            "120\n"
          ],
          "name": "stdout"
        }
      ]
    },
    {
      "cell_type": "code",
      "metadata": {
        "id": "6HoRgylPZc28"
      },
      "source": [
        "def greeting():\n",
        "    username = input(\"What is your name? \")\n",
        "    print(\"Hello \" + username)\n",
        "    feeling = input(\"How are you today? \")\n",
        "    print(f\"{username} feels {feeling}!\")\n",
        "    print(\"That's great, hope you are well!\")"
      ],
      "execution_count": 48,
      "outputs": []
    },
    {
      "cell_type": "code",
      "metadata": {
        "colab": {
          "base_uri": "https://localhost:8080/"
        },
        "id": "UcNMKWJuZez2",
        "outputId": "4e55d5a2-05ba-44ef-acfb-6743a0dece90"
      },
      "source": [
        "greeting()"
      ],
      "execution_count": 49,
      "outputs": [
        {
          "output_type": "stream",
          "text": [
            "What is your name? Natthaphol\n",
            "Hello Natthaphol\n",
            "How are you today? Great\n",
            "Natthaphol feels Great!\n",
            "That's great, hope you are well!\n"
          ],
          "name": "stdout"
        }
      ]
    },
    {
      "cell_type": "code",
      "metadata": {
        "id": "GKgpFmtCZgcY"
      },
      "source": [
        ""
      ],
      "execution_count": 49,
      "outputs": []
    }
  ]
}