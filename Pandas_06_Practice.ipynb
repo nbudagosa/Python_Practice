{
  "nbformat": 4,
  "nbformat_minor": 0,
  "metadata": {
    "colab": {
      "name": "Pandas_06_Practice.ipynb",
      "provenance": [],
      "toc_visible": true
    },
    "kernelspec": {
      "name": "python3",
      "display_name": "Python 3"
    },
    "language_info": {
      "name": "python"
    }
  },
  "cells": [
    {
      "cell_type": "markdown",
      "metadata": {
        "id": "xXhZin-r4e0D"
      },
      "source": [
        "# **Data Types**\n",
        "* Integer: -125231, 554876\n",
        "* Float: 12.1546546546576\n",
        "* String: \"\", ''"
      ]
    },
    {
      "cell_type": "code",
      "metadata": {
        "id": "_wSxglbIZi0b"
      },
      "source": [
        "PATH_FILE = \"/content/17k-apple-app-store-strategy-games.zip\""
      ],
      "execution_count": 15,
      "outputs": []
    },
    {
      "cell_type": "code",
      "metadata": {
        "colab": {
          "base_uri": "https://localhost:8080/",
          "height": 35
        },
        "id": "wkNaZBo2aVHN",
        "outputId": "aa3f6239-c143-4fd2-8219-8d44ffb8a4b7"
      },
      "source": [
        "PATH_FILE"
      ],
      "execution_count": 16,
      "outputs": [
        {
          "output_type": "execute_result",
          "data": {
            "application/vnd.google.colaboratory.intrinsic+json": {
              "type": "string"
            },
            "text/plain": [
              "'/content/17k-apple-app-store-strategy-games.zip'"
            ]
          },
          "metadata": {
            "tags": []
          },
          "execution_count": 16
        }
      ]
    },
    {
      "cell_type": "code",
      "metadata": {
        "id": "ulvusWFhaVEN"
      },
      "source": [
        "import pandas as pd"
      ],
      "execution_count": 17,
      "outputs": []
    },
    {
      "cell_type": "code",
      "metadata": {
        "id": "WXdOuebkaVB2"
      },
      "source": [
        "df_apps = pd.read_csv(PATH_FILE)"
      ],
      "execution_count": 18,
      "outputs": []
    },
    {
      "cell_type": "code",
      "metadata": {
        "colab": {
          "base_uri": "https://localhost:8080/"
        },
        "id": "__rYBaAIaU_P",
        "outputId": "9405753e-4819-43e4-b31f-cdec673db308"
      },
      "source": [
        "type(df_apps)"
      ],
      "execution_count": 19,
      "outputs": [
        {
          "output_type": "execute_result",
          "data": {
            "text/plain": [
              "pandas.core.frame.DataFrame"
            ]
          },
          "metadata": {
            "tags": []
          },
          "execution_count": 19
        }
      ]
    },
    {
      "cell_type": "markdown",
      "metadata": {
        "id": "5CEZ4yPcawC-"
      },
      "source": [
        "## **การเข้าถึง Index หรือแถว**"
      ]
    },
    {
      "cell_type": "code",
      "metadata": {
        "colab": {
          "base_uri": "https://localhost:8080/",
          "height": 612
        },
        "id": "1m3ewvIIaU8I",
        "outputId": "3defea64-05d8-4521-bd5e-4e21e2b21733"
      },
      "source": [
        "df_apps[10:16]"
      ],
      "execution_count": 20,
      "outputs": [
        {
          "output_type": "execute_result",
          "data": {
            "text/html": [
              "<div>\n",
              "<style scoped>\n",
              "    .dataframe tbody tr th:only-of-type {\n",
              "        vertical-align: middle;\n",
              "    }\n",
              "\n",
              "    .dataframe tbody tr th {\n",
              "        vertical-align: top;\n",
              "    }\n",
              "\n",
              "    .dataframe thead th {\n",
              "        text-align: right;\n",
              "    }\n",
              "</style>\n",
              "<table border=\"1\" class=\"dataframe\">\n",
              "  <thead>\n",
              "    <tr style=\"text-align: right;\">\n",
              "      <th></th>\n",
              "      <th>URL</th>\n",
              "      <th>ID</th>\n",
              "      <th>Name</th>\n",
              "      <th>Subtitle</th>\n",
              "      <th>Icon URL</th>\n",
              "      <th>Average User Rating</th>\n",
              "      <th>User Rating Count</th>\n",
              "      <th>Price</th>\n",
              "      <th>In-app Purchases</th>\n",
              "      <th>Description</th>\n",
              "      <th>Developer</th>\n",
              "      <th>Age Rating</th>\n",
              "      <th>Languages</th>\n",
              "      <th>Size</th>\n",
              "      <th>Primary Genre</th>\n",
              "      <th>Genres</th>\n",
              "      <th>Original Release Date</th>\n",
              "      <th>Current Version Release Date</th>\n",
              "    </tr>\n",
              "  </thead>\n",
              "  <tbody>\n",
              "    <tr>\n",
              "      <th>10</th>\n",
              "      <td>https://apps.apple.com/us/app/quaddraxx/id2875...</td>\n",
              "      <td>287563734</td>\n",
              "      <td>Quaddraxx</td>\n",
              "      <td>NaN</td>\n",
              "      <td>https://is5-ssl.mzstatic.com/image/thumb/Purpl...</td>\n",
              "      <td>NaN</td>\n",
              "      <td>NaN</td>\n",
              "      <td>0.00</td>\n",
              "      <td>NaN</td>\n",
              "      <td>Quaddraxx-Logic \\u2013 Challenge your brain!\\n...</td>\n",
              "      <td>H2F Informationssysteme GmbH</td>\n",
              "      <td>4+</td>\n",
              "      <td>EN</td>\n",
              "      <td>3089867.0</td>\n",
              "      <td>Games</td>\n",
              "      <td>Games, Entertainment, Strategy, Puzzle</td>\n",
              "      <td>11/08/2008</td>\n",
              "      <td>30/09/2008</td>\n",
              "    </tr>\n",
              "    <tr>\n",
              "      <th>11</th>\n",
              "      <td>https://apps.apple.com/us/app/lumen-lite/id288...</td>\n",
              "      <td>288096268</td>\n",
              "      <td>Lumen Lite</td>\n",
              "      <td>NaN</td>\n",
              "      <td>https://is1-ssl.mzstatic.com/image/thumb/Purpl...</td>\n",
              "      <td>3.5</td>\n",
              "      <td>5072.0</td>\n",
              "      <td>0.00</td>\n",
              "      <td>NaN</td>\n",
              "      <td>\"The objective of Lumen is to light up all the...</td>\n",
              "      <td>Bridger Maxwell</td>\n",
              "      <td>4+</td>\n",
              "      <td>EN</td>\n",
              "      <td>7086403.0</td>\n",
              "      <td>Games</td>\n",
              "      <td>Games, Puzzle, Strategy</td>\n",
              "      <td>18/08/2008</td>\n",
              "      <td>22/11/2008</td>\n",
              "    </tr>\n",
              "    <tr>\n",
              "      <th>12</th>\n",
              "      <td>https://apps.apple.com/us/app/bubblepop/id2886...</td>\n",
              "      <td>288669794</td>\n",
              "      <td>BubblePop</td>\n",
              "      <td>NaN</td>\n",
              "      <td>https://is2-ssl.mzstatic.com/image/thumb/Purpl...</td>\n",
              "      <td>3.0</td>\n",
              "      <td>526.0</td>\n",
              "      <td>0.00</td>\n",
              "      <td>NaN</td>\n",
              "      <td>Are you ready for some popping?  Once you pop ...</td>\n",
              "      <td>TMSOFT</td>\n",
              "      <td>4+</td>\n",
              "      <td>EN</td>\n",
              "      <td>845008.0</td>\n",
              "      <td>Games</td>\n",
              "      <td>Games, Strategy, Entertainment</td>\n",
              "      <td>22/08/2008</td>\n",
              "      <td>25/07/2009</td>\n",
              "    </tr>\n",
              "    <tr>\n",
              "      <th>13</th>\n",
              "      <td>https://apps.apple.com/us/app/marple/id288689440</td>\n",
              "      <td>288689440</td>\n",
              "      <td>Marple</td>\n",
              "      <td>NaN</td>\n",
              "      <td>https://is3-ssl.mzstatic.com/image/thumb/Purpl...</td>\n",
              "      <td>3.5</td>\n",
              "      <td>989.0</td>\n",
              "      <td>0.99</td>\n",
              "      <td>NaN</td>\n",
              "      <td>AWARDED \"BEST PUZZLER\" IN MACWORLD\\'S \"THE BES...</td>\n",
              "      <td>Mikko Kankainen</td>\n",
              "      <td>4+</td>\n",
              "      <td>EN</td>\n",
              "      <td>3643392.0</td>\n",
              "      <td>Games</td>\n",
              "      <td>Games, Puzzle, Strategy</td>\n",
              "      <td>28/08/2008</td>\n",
              "      <td>5/05/2019</td>\n",
              "    </tr>\n",
              "    <tr>\n",
              "      <th>14</th>\n",
              "      <td>https://apps.apple.com/us/app/tetravex-lite/id...</td>\n",
              "      <td>288918962</td>\n",
              "      <td>Tetravex Lite</td>\n",
              "      <td>NaN</td>\n",
              "      <td>https://is3-ssl.mzstatic.com/image/thumb/Purpl...</td>\n",
              "      <td>2.5</td>\n",
              "      <td>2358.0</td>\n",
              "      <td>0.00</td>\n",
              "      <td>NaN</td>\n",
              "      <td>Play the classic edge matching puzzle game Tet...</td>\n",
              "      <td>Futrell Software</td>\n",
              "      <td>4+</td>\n",
              "      <td>EN</td>\n",
              "      <td>731525.0</td>\n",
              "      <td>Games</td>\n",
              "      <td>Games, Puzzle, Strategy, Entertainment</td>\n",
              "      <td>27/08/2008</td>\n",
              "      <td>21/10/2008</td>\n",
              "    </tr>\n",
              "    <tr>\n",
              "      <th>15</th>\n",
              "      <td>https://apps.apple.com/us/app/awele-oware-manc...</td>\n",
              "      <td>289217958</td>\n",
              "      <td>Awele/Oware - Mancala HD</td>\n",
              "      <td>NaN</td>\n",
              "      <td>https://is3-ssl.mzstatic.com/image/thumb/Purpl...</td>\n",
              "      <td>3.0</td>\n",
              "      <td>112.0</td>\n",
              "      <td>0.00</td>\n",
              "      <td>0.99</td>\n",
              "      <td>Awele/Oware is the oldest African board game a...</td>\n",
              "      <td>SOLILAB</td>\n",
              "      <td>4+</td>\n",
              "      <td>EN, FR, DE, IT, ES</td>\n",
              "      <td>122826752.0</td>\n",
              "      <td>Games</td>\n",
              "      <td>Games, Strategy, Board</td>\n",
              "      <td>31/08/2008</td>\n",
              "      <td>6/04/2015</td>\n",
              "    </tr>\n",
              "  </tbody>\n",
              "</table>\n",
              "</div>"
            ],
            "text/plain": [
              "                                                  URL  ...  Current Version Release Date\n",
              "10  https://apps.apple.com/us/app/quaddraxx/id2875...  ...                    30/09/2008\n",
              "11  https://apps.apple.com/us/app/lumen-lite/id288...  ...                    22/11/2008\n",
              "12  https://apps.apple.com/us/app/bubblepop/id2886...  ...                    25/07/2009\n",
              "13   https://apps.apple.com/us/app/marple/id288689440  ...                     5/05/2019\n",
              "14  https://apps.apple.com/us/app/tetravex-lite/id...  ...                    21/10/2008\n",
              "15  https://apps.apple.com/us/app/awele-oware-manc...  ...                     6/04/2015\n",
              "\n",
              "[6 rows x 18 columns]"
            ]
          },
          "metadata": {
            "tags": []
          },
          "execution_count": 20
        }
      ]
    },
    {
      "cell_type": "code",
      "metadata": {
        "colab": {
          "base_uri": "https://localhost:8080/"
        },
        "id": "FBMs1O48aU0F",
        "outputId": "d4e76c45-c972-4c1b-8ddb-83e9fbcc3d94"
      },
      "source": [
        "df_apps.columns"
      ],
      "execution_count": 21,
      "outputs": [
        {
          "output_type": "execute_result",
          "data": {
            "text/plain": [
              "Index(['URL', 'ID', 'Name', 'Subtitle', 'Icon URL', 'Average User Rating',\n",
              "       'User Rating Count', 'Price', 'In-app Purchases', 'Description',\n",
              "       'Developer', 'Age Rating', 'Languages', 'Size', 'Primary Genre',\n",
              "       'Genres', 'Original Release Date', 'Current Version Release Date'],\n",
              "      dtype='object')"
            ]
          },
          "metadata": {
            "tags": []
          },
          "execution_count": 21
        }
      ]
    },
    {
      "cell_type": "code",
      "metadata": {
        "colab": {
          "base_uri": "https://localhost:8080/",
          "height": 204
        },
        "id": "3iEgKEDDaUoY",
        "outputId": "d51fa031-470a-4eac-ad2a-4e8fd29f8faa"
      },
      "source": [
        "df_apps[['Name', 'Price', 'Age Rating']][15:20]"
      ],
      "execution_count": 22,
      "outputs": [
        {
          "output_type": "execute_result",
          "data": {
            "text/html": [
              "<div>\n",
              "<style scoped>\n",
              "    .dataframe tbody tr th:only-of-type {\n",
              "        vertical-align: middle;\n",
              "    }\n",
              "\n",
              "    .dataframe tbody tr th {\n",
              "        vertical-align: top;\n",
              "    }\n",
              "\n",
              "    .dataframe thead th {\n",
              "        text-align: right;\n",
              "    }\n",
              "</style>\n",
              "<table border=\"1\" class=\"dataframe\">\n",
              "  <thead>\n",
              "    <tr style=\"text-align: right;\">\n",
              "      <th></th>\n",
              "      <th>Name</th>\n",
              "      <th>Price</th>\n",
              "      <th>Age Rating</th>\n",
              "    </tr>\n",
              "  </thead>\n",
              "  <tbody>\n",
              "    <tr>\n",
              "      <th>15</th>\n",
              "      <td>Awele/Oware - Mancala HD</td>\n",
              "      <td>0.0</td>\n",
              "      <td>4+</td>\n",
              "    </tr>\n",
              "    <tr>\n",
              "      <th>16</th>\n",
              "      <td>Awele/Oware - Mancala HD</td>\n",
              "      <td>0.0</td>\n",
              "      <td>4+</td>\n",
              "    </tr>\n",
              "    <tr>\n",
              "      <th>17</th>\n",
              "      <td>Chess Game</td>\n",
              "      <td>0.0</td>\n",
              "      <td>4+</td>\n",
              "    </tr>\n",
              "    <tr>\n",
              "      <th>18</th>\n",
              "      <td>Catcha Mouse</td>\n",
              "      <td>0.0</td>\n",
              "      <td>4+</td>\n",
              "    </tr>\n",
              "    <tr>\n",
              "      <th>19</th>\n",
              "      <td>Cool Sudoku, Jigsaw, Killer</td>\n",
              "      <td>0.0</td>\n",
              "      <td>4+</td>\n",
              "    </tr>\n",
              "  </tbody>\n",
              "</table>\n",
              "</div>"
            ],
            "text/plain": [
              "                           Name  Price Age Rating\n",
              "15     Awele/Oware - Mancala HD    0.0         4+\n",
              "16     Awele/Oware - Mancala HD    0.0         4+\n",
              "17                   Chess Game    0.0         4+\n",
              "18                 Catcha Mouse    0.0         4+\n",
              "19  Cool Sudoku, Jigsaw, Killer    0.0         4+"
            ]
          },
          "metadata": {
            "tags": []
          },
          "execution_count": 22
        }
      ]
    },
    {
      "cell_type": "code",
      "metadata": {
        "id": "8cC_iEuea5aV",
        "colab": {
          "base_uri": "https://localhost:8080/"
        },
        "outputId": "a671df29-e2b3-4e8f-8ed8-5b315cda813d"
      },
      "source": [
        "df_apps.info()"
      ],
      "execution_count": 23,
      "outputs": [
        {
          "output_type": "stream",
          "text": [
            "<class 'pandas.core.frame.DataFrame'>\n",
            "RangeIndex: 17007 entries, 0 to 17006\n",
            "Data columns (total 18 columns):\n",
            " #   Column                        Non-Null Count  Dtype  \n",
            "---  ------                        --------------  -----  \n",
            " 0   URL                           17007 non-null  object \n",
            " 1   ID                            17007 non-null  int64  \n",
            " 2   Name                          17007 non-null  object \n",
            " 3   Subtitle                      5261 non-null   object \n",
            " 4   Icon URL                      17007 non-null  object \n",
            " 5   Average User Rating           7561 non-null   float64\n",
            " 6   User Rating Count             7561 non-null   float64\n",
            " 7   Price                         16983 non-null  float64\n",
            " 8   In-app Purchases              7683 non-null   object \n",
            " 9   Description                   17007 non-null  object \n",
            " 10  Developer                     17007 non-null  object \n",
            " 11  Age Rating                    17007 non-null  object \n",
            " 12  Languages                     16947 non-null  object \n",
            " 13  Size                          17006 non-null  float64\n",
            " 14  Primary Genre                 17007 non-null  object \n",
            " 15  Genres                        17007 non-null  object \n",
            " 16  Original Release Date         17007 non-null  object \n",
            " 17  Current Version Release Date  17007 non-null  object \n",
            "dtypes: float64(4), int64(1), object(13)\n",
            "memory usage: 2.3+ MB\n"
          ],
          "name": "stdout"
        }
      ]
    },
    {
      "cell_type": "code",
      "metadata": {
        "colab": {
          "base_uri": "https://localhost:8080/"
        },
        "id": "6wf9maWFu4xm",
        "outputId": "2cecd05b-cad4-43ec-a48f-dd8e8bcda6f3"
      },
      "source": [
        "df_apps.shape"
      ],
      "execution_count": 24,
      "outputs": [
        {
          "output_type": "execute_result",
          "data": {
            "text/plain": [
              "(17007, 18)"
            ]
          },
          "metadata": {
            "tags": []
          },
          "execution_count": 24
        }
      ]
    },
    {
      "cell_type": "code",
      "metadata": {
        "colab": {
          "base_uri": "https://localhost:8080/",
          "height": 297
        },
        "id": "l4nLGAjXu6VM",
        "outputId": "0251c8e0-b78d-484c-a08d-a6595a04eac7"
      },
      "source": [
        "df_apps.describe()"
      ],
      "execution_count": 25,
      "outputs": [
        {
          "output_type": "execute_result",
          "data": {
            "text/html": [
              "<div>\n",
              "<style scoped>\n",
              "    .dataframe tbody tr th:only-of-type {\n",
              "        vertical-align: middle;\n",
              "    }\n",
              "\n",
              "    .dataframe tbody tr th {\n",
              "        vertical-align: top;\n",
              "    }\n",
              "\n",
              "    .dataframe thead th {\n",
              "        text-align: right;\n",
              "    }\n",
              "</style>\n",
              "<table border=\"1\" class=\"dataframe\">\n",
              "  <thead>\n",
              "    <tr style=\"text-align: right;\">\n",
              "      <th></th>\n",
              "      <th>ID</th>\n",
              "      <th>Average User Rating</th>\n",
              "      <th>User Rating Count</th>\n",
              "      <th>Price</th>\n",
              "      <th>Size</th>\n",
              "    </tr>\n",
              "  </thead>\n",
              "  <tbody>\n",
              "    <tr>\n",
              "      <th>count</th>\n",
              "      <td>1.700700e+04</td>\n",
              "      <td>7561.000000</td>\n",
              "      <td>7.561000e+03</td>\n",
              "      <td>16983.000000</td>\n",
              "      <td>1.700600e+04</td>\n",
              "    </tr>\n",
              "    <tr>\n",
              "      <th>mean</th>\n",
              "      <td>1.059614e+09</td>\n",
              "      <td>4.060905</td>\n",
              "      <td>3.306531e+03</td>\n",
              "      <td>0.813419</td>\n",
              "      <td>1.157064e+08</td>\n",
              "    </tr>\n",
              "    <tr>\n",
              "      <th>std</th>\n",
              "      <td>2.999676e+08</td>\n",
              "      <td>0.751428</td>\n",
              "      <td>4.232256e+04</td>\n",
              "      <td>7.835732</td>\n",
              "      <td>2.036477e+08</td>\n",
              "    </tr>\n",
              "    <tr>\n",
              "      <th>min</th>\n",
              "      <td>2.849214e+08</td>\n",
              "      <td>1.000000</td>\n",
              "      <td>5.000000e+00</td>\n",
              "      <td>0.000000</td>\n",
              "      <td>5.132800e+04</td>\n",
              "    </tr>\n",
              "    <tr>\n",
              "      <th>25%</th>\n",
              "      <td>8.996543e+08</td>\n",
              "      <td>3.500000</td>\n",
              "      <td>1.200000e+01</td>\n",
              "      <td>0.000000</td>\n",
              "      <td>2.295014e+07</td>\n",
              "    </tr>\n",
              "    <tr>\n",
              "      <th>50%</th>\n",
              "      <td>1.112286e+09</td>\n",
              "      <td>4.500000</td>\n",
              "      <td>4.600000e+01</td>\n",
              "      <td>0.000000</td>\n",
              "      <td>5.676895e+07</td>\n",
              "    </tr>\n",
              "    <tr>\n",
              "      <th>75%</th>\n",
              "      <td>1.286983e+09</td>\n",
              "      <td>4.500000</td>\n",
              "      <td>3.090000e+02</td>\n",
              "      <td>0.000000</td>\n",
              "      <td>1.330271e+08</td>\n",
              "    </tr>\n",
              "    <tr>\n",
              "      <th>max</th>\n",
              "      <td>1.475077e+09</td>\n",
              "      <td>5.000000</td>\n",
              "      <td>3.032734e+06</td>\n",
              "      <td>179.990000</td>\n",
              "      <td>4.005591e+09</td>\n",
              "    </tr>\n",
              "  </tbody>\n",
              "</table>\n",
              "</div>"
            ],
            "text/plain": [
              "                 ID  Average User Rating  ...         Price          Size\n",
              "count  1.700700e+04          7561.000000  ...  16983.000000  1.700600e+04\n",
              "mean   1.059614e+09             4.060905  ...      0.813419  1.157064e+08\n",
              "std    2.999676e+08             0.751428  ...      7.835732  2.036477e+08\n",
              "min    2.849214e+08             1.000000  ...      0.000000  5.132800e+04\n",
              "25%    8.996543e+08             3.500000  ...      0.000000  2.295014e+07\n",
              "50%    1.112286e+09             4.500000  ...      0.000000  5.676895e+07\n",
              "75%    1.286983e+09             4.500000  ...      0.000000  1.330271e+08\n",
              "max    1.475077e+09             5.000000  ...    179.990000  4.005591e+09\n",
              "\n",
              "[8 rows x 5 columns]"
            ]
          },
          "metadata": {
            "tags": []
          },
          "execution_count": 25
        }
      ]
    },
    {
      "cell_type": "markdown",
      "metadata": {
        "id": "aJQtu2fvu70T"
      },
      "source": [
        "## **Series**"
      ]
    },
    {
      "cell_type": "code",
      "metadata": {
        "colab": {
          "base_uri": "https://localhost:8080/"
        },
        "id": "wNlLorHsu_i7",
        "outputId": "b4b9f102-3536-4a7c-9ea5-052a8e3e00e7"
      },
      "source": [
        "df_apps[\"Size\"].quantile(0.25) # ดูค่าเปอร์เซ็นไทล 25"
      ],
      "execution_count": 26,
      "outputs": [
        {
          "output_type": "execute_result",
          "data": {
            "text/plain": [
              "22950144.0"
            ]
          },
          "metadata": {
            "tags": []
          },
          "execution_count": 26
        }
      ]
    },
    {
      "cell_type": "code",
      "metadata": {
        "id": "UB0MGSacvBUY"
      },
      "source": [
        ""
      ],
      "execution_count": 26,
      "outputs": []
    },
    {
      "cell_type": "markdown",
      "metadata": {
        "id": "gX2EMkMSvLMq"
      },
      "source": [
        "## **Filter ข้อมูล**"
      ]
    },
    {
      "cell_type": "code",
      "metadata": {
        "colab": {
          "base_uri": "https://localhost:8080/"
        },
        "id": "wzRW7zYHvMOn",
        "outputId": "a8bd3051-6c1b-43f9-db65-5858f67551c7"
      },
      "source": [
        "df_apps[df_apps[\"Price\"] > 100].shape # คือไว้ดูว่ามีกี่แถว กี่หลัก"
      ],
      "execution_count": 27,
      "outputs": [
        {
          "output_type": "execute_result",
          "data": {
            "text/plain": [
              "(31, 18)"
            ]
          },
          "metadata": {
            "tags": []
          },
          "execution_count": 27
        }
      ]
    },
    {
      "cell_type": "code",
      "metadata": {
        "colab": {
          "base_uri": "https://localhost:8080/",
          "height": 1000
        },
        "id": "4kqAdbTtvOMJ",
        "outputId": "e878ebaa-966e-475c-ac47-002f7f408853"
      },
      "source": [
        "df_apps[df_apps[\"Price\"] > 100][[\"Name\", \"Price\"]]\n",
        "# สร้างเงื่อนไขเพื่อดูข้อมูล 2 columns"
      ],
      "execution_count": 28,
      "outputs": [
        {
          "output_type": "execute_result",
          "data": {
            "text/html": [
              "<div>\n",
              "<style scoped>\n",
              "    .dataframe tbody tr th:only-of-type {\n",
              "        vertical-align: middle;\n",
              "    }\n",
              "\n",
              "    .dataframe tbody tr th {\n",
              "        vertical-align: top;\n",
              "    }\n",
              "\n",
              "    .dataframe thead th {\n",
              "        text-align: right;\n",
              "    }\n",
              "</style>\n",
              "<table border=\"1\" class=\"dataframe\">\n",
              "  <thead>\n",
              "    <tr style=\"text-align: right;\">\n",
              "      <th></th>\n",
              "      <th>Name</th>\n",
              "      <th>Price</th>\n",
              "    </tr>\n",
              "  </thead>\n",
              "  <tbody>\n",
              "    <tr>\n",
              "      <th>2634</th>\n",
              "      <td>Finabase: realtime stocks</td>\n",
              "      <td>139.99</td>\n",
              "    </tr>\n",
              "    <tr>\n",
              "      <th>8177</th>\n",
              "      <td>Wild Horse 3D Simulator Full</td>\n",
              "      <td>179.99</td>\n",
              "    </tr>\n",
              "    <tr>\n",
              "      <th>8196</th>\n",
              "      <td>Pony Survival Simulator 3D Full</td>\n",
              "      <td>179.99</td>\n",
              "    </tr>\n",
              "    <tr>\n",
              "      <th>8198</th>\n",
              "      <td>T-rex Simulator 3D Full - Survival adventures</td>\n",
              "      <td>179.99</td>\n",
              "    </tr>\n",
              "    <tr>\n",
              "      <th>8200</th>\n",
              "      <td>Unicorn Survival Simulator 3D Full</td>\n",
              "      <td>179.99</td>\n",
              "    </tr>\n",
              "    <tr>\n",
              "      <th>8273</th>\n",
              "      <td>Sea Dolphin Simulator 3D Full</td>\n",
              "      <td>179.99</td>\n",
              "    </tr>\n",
              "    <tr>\n",
              "      <th>8281</th>\n",
              "      <td>Sea Turtle Simulator 3D Full - Ocean Adventure</td>\n",
              "      <td>179.99</td>\n",
              "    </tr>\n",
              "    <tr>\n",
              "      <th>8292</th>\n",
              "      <td>Forest Snake Simulator 3D Full</td>\n",
              "      <td>179.99</td>\n",
              "    </tr>\n",
              "    <tr>\n",
              "      <th>8301</th>\n",
              "      <td>City Tower Crane 3D Simulator Full - Real city...</td>\n",
              "      <td>179.99</td>\n",
              "    </tr>\n",
              "    <tr>\n",
              "      <th>8303</th>\n",
              "      <td>Oil Truck Simulator 3D Full - Offroad tank tru...</td>\n",
              "      <td>179.99</td>\n",
              "    </tr>\n",
              "    <tr>\n",
              "      <th>8372</th>\n",
              "      <td>Army Truck Offroad Simulator 3D Full - Drive m...</td>\n",
              "      <td>179.99</td>\n",
              "    </tr>\n",
              "    <tr>\n",
              "      <th>8548</th>\n",
              "      <td>Sea Shark Survival Simulator 3D Full</td>\n",
              "      <td>179.99</td>\n",
              "    </tr>\n",
              "    <tr>\n",
              "      <th>8600</th>\n",
              "      <td>Wild Falcon Survival Simulator 3D Full</td>\n",
              "      <td>179.99</td>\n",
              "    </tr>\n",
              "    <tr>\n",
              "      <th>8771</th>\n",
              "      <td>Zebra Simulator 3D Full - African Horse Survival</td>\n",
              "      <td>179.99</td>\n",
              "    </tr>\n",
              "    <tr>\n",
              "      <th>8807</th>\n",
              "      <td>Cat Simulator: Cute Pet 3D Full - Be a kitten,...</td>\n",
              "      <td>179.99</td>\n",
              "    </tr>\n",
              "    <tr>\n",
              "      <th>8887</th>\n",
              "      <td>City Goat: Animal Survival Simulator 3D Full</td>\n",
              "      <td>179.99</td>\n",
              "    </tr>\n",
              "    <tr>\n",
              "      <th>9005</th>\n",
              "      <td>African Cheetah: Wild Animal Simulator 3D Full</td>\n",
              "      <td>179.99</td>\n",
              "    </tr>\n",
              "    <tr>\n",
              "      <th>9023</th>\n",
              "      <td>Fantasy Dragon Simulator 3D Full</td>\n",
              "      <td>179.99</td>\n",
              "    </tr>\n",
              "    <tr>\n",
              "      <th>9025</th>\n",
              "      <td>Big Blue Whale Survival 3D Full - Try whale si...</td>\n",
              "      <td>179.99</td>\n",
              "    </tr>\n",
              "    <tr>\n",
              "      <th>9093</th>\n",
              "      <td>Wild African Horse: Animal Simulator 2017 Full</td>\n",
              "      <td>179.99</td>\n",
              "    </tr>\n",
              "    <tr>\n",
              "      <th>9159</th>\n",
              "      <td>Black Wild Panther Simulator 3D Full - Be a wi...</td>\n",
              "      <td>179.99</td>\n",
              "    </tr>\n",
              "    <tr>\n",
              "      <th>9219</th>\n",
              "      <td>Lion Simulator: Wild African Animal Full</td>\n",
              "      <td>179.99</td>\n",
              "    </tr>\n",
              "    <tr>\n",
              "      <th>9276</th>\n",
              "      <td>Furious Crocodile Simulator 3D Full</td>\n",
              "      <td>179.99</td>\n",
              "    </tr>\n",
              "    <tr>\n",
              "      <th>9308</th>\n",
              "      <td>Flying Pegasus: Magic Horse Simulator 3D Full</td>\n",
              "      <td>179.99</td>\n",
              "    </tr>\n",
              "    <tr>\n",
              "      <th>9409</th>\n",
              "      <td>Big Elephant Simulator: Wild African Animal 3D...</td>\n",
              "      <td>179.99</td>\n",
              "    </tr>\n",
              "    <tr>\n",
              "      <th>9411</th>\n",
              "      <td>Evil Wild Wolf Simulator 3D Full</td>\n",
              "      <td>179.99</td>\n",
              "    </tr>\n",
              "    <tr>\n",
              "      <th>9491</th>\n",
              "      <td>Forest Owl Simulator Full - Be a wild bird!</td>\n",
              "      <td>179.99</td>\n",
              "    </tr>\n",
              "    <tr>\n",
              "      <th>9545</th>\n",
              "      <td>Offroad Tow Truck Simulator Full</td>\n",
              "      <td>179.99</td>\n",
              "    </tr>\n",
              "    <tr>\n",
              "      <th>9550</th>\n",
              "      <td>Wild White Polar Bear Simulator Full</td>\n",
              "      <td>179.99</td>\n",
              "    </tr>\n",
              "    <tr>\n",
              "      <th>9724</th>\n",
              "      <td>Wild Snow Leopard: Animal Simulator Full</td>\n",
              "      <td>179.99</td>\n",
              "    </tr>\n",
              "    <tr>\n",
              "      <th>12437</th>\n",
              "      <td>Tanks Battle Simulator Full</td>\n",
              "      <td>179.99</td>\n",
              "    </tr>\n",
              "  </tbody>\n",
              "</table>\n",
              "</div>"
            ],
            "text/plain": [
              "                                                    Name   Price\n",
              "2634                           Finabase: realtime stocks  139.99\n",
              "8177                        Wild Horse 3D Simulator Full  179.99\n",
              "8196                     Pony Survival Simulator 3D Full  179.99\n",
              "8198       T-rex Simulator 3D Full - Survival adventures  179.99\n",
              "8200                  Unicorn Survival Simulator 3D Full  179.99\n",
              "8273                       Sea Dolphin Simulator 3D Full  179.99\n",
              "8281      Sea Turtle Simulator 3D Full - Ocean Adventure  179.99\n",
              "8292                      Forest Snake Simulator 3D Full  179.99\n",
              "8301   City Tower Crane 3D Simulator Full - Real city...  179.99\n",
              "8303   Oil Truck Simulator 3D Full - Offroad tank tru...  179.99\n",
              "8372   Army Truck Offroad Simulator 3D Full - Drive m...  179.99\n",
              "8548                Sea Shark Survival Simulator 3D Full  179.99\n",
              "8600              Wild Falcon Survival Simulator 3D Full  179.99\n",
              "8771    Zebra Simulator 3D Full - African Horse Survival  179.99\n",
              "8807   Cat Simulator: Cute Pet 3D Full - Be a kitten,...  179.99\n",
              "8887        City Goat: Animal Survival Simulator 3D Full  179.99\n",
              "9005      African Cheetah: Wild Animal Simulator 3D Full  179.99\n",
              "9023                    Fantasy Dragon Simulator 3D Full  179.99\n",
              "9025   Big Blue Whale Survival 3D Full - Try whale si...  179.99\n",
              "9093      Wild African Horse: Animal Simulator 2017 Full  179.99\n",
              "9159   Black Wild Panther Simulator 3D Full - Be a wi...  179.99\n",
              "9219            Lion Simulator: Wild African Animal Full  179.99\n",
              "9276                 Furious Crocodile Simulator 3D Full  179.99\n",
              "9308       Flying Pegasus: Magic Horse Simulator 3D Full  179.99\n",
              "9409   Big Elephant Simulator: Wild African Animal 3D...  179.99\n",
              "9411                    Evil Wild Wolf Simulator 3D Full  179.99\n",
              "9491         Forest Owl Simulator Full - Be a wild bird!  179.99\n",
              "9545                    Offroad Tow Truck Simulator Full  179.99\n",
              "9550                Wild White Polar Bear Simulator Full  179.99\n",
              "9724            Wild Snow Leopard: Animal Simulator Full  179.99\n",
              "12437                        Tanks Battle Simulator Full  179.99"
            ]
          },
          "metadata": {
            "tags": []
          },
          "execution_count": 28
        }
      ]
    },
    {
      "cell_type": "code",
      "metadata": {
        "colab": {
          "base_uri": "https://localhost:8080/",
          "height": 1000
        },
        "id": "6auyngeDvQmO",
        "outputId": "ee29ba73-f773-4600-ed79-fd8d0769a3ea"
      },
      "source": [
        "df_apps[[\"Name\", \"Price\"]][df_apps[\"Price\"] > 100]"
      ],
      "execution_count": 29,
      "outputs": [
        {
          "output_type": "execute_result",
          "data": {
            "text/html": [
              "<div>\n",
              "<style scoped>\n",
              "    .dataframe tbody tr th:only-of-type {\n",
              "        vertical-align: middle;\n",
              "    }\n",
              "\n",
              "    .dataframe tbody tr th {\n",
              "        vertical-align: top;\n",
              "    }\n",
              "\n",
              "    .dataframe thead th {\n",
              "        text-align: right;\n",
              "    }\n",
              "</style>\n",
              "<table border=\"1\" class=\"dataframe\">\n",
              "  <thead>\n",
              "    <tr style=\"text-align: right;\">\n",
              "      <th></th>\n",
              "      <th>Name</th>\n",
              "      <th>Price</th>\n",
              "    </tr>\n",
              "  </thead>\n",
              "  <tbody>\n",
              "    <tr>\n",
              "      <th>2634</th>\n",
              "      <td>Finabase: realtime stocks</td>\n",
              "      <td>139.99</td>\n",
              "    </tr>\n",
              "    <tr>\n",
              "      <th>8177</th>\n",
              "      <td>Wild Horse 3D Simulator Full</td>\n",
              "      <td>179.99</td>\n",
              "    </tr>\n",
              "    <tr>\n",
              "      <th>8196</th>\n",
              "      <td>Pony Survival Simulator 3D Full</td>\n",
              "      <td>179.99</td>\n",
              "    </tr>\n",
              "    <tr>\n",
              "      <th>8198</th>\n",
              "      <td>T-rex Simulator 3D Full - Survival adventures</td>\n",
              "      <td>179.99</td>\n",
              "    </tr>\n",
              "    <tr>\n",
              "      <th>8200</th>\n",
              "      <td>Unicorn Survival Simulator 3D Full</td>\n",
              "      <td>179.99</td>\n",
              "    </tr>\n",
              "    <tr>\n",
              "      <th>8273</th>\n",
              "      <td>Sea Dolphin Simulator 3D Full</td>\n",
              "      <td>179.99</td>\n",
              "    </tr>\n",
              "    <tr>\n",
              "      <th>8281</th>\n",
              "      <td>Sea Turtle Simulator 3D Full - Ocean Adventure</td>\n",
              "      <td>179.99</td>\n",
              "    </tr>\n",
              "    <tr>\n",
              "      <th>8292</th>\n",
              "      <td>Forest Snake Simulator 3D Full</td>\n",
              "      <td>179.99</td>\n",
              "    </tr>\n",
              "    <tr>\n",
              "      <th>8301</th>\n",
              "      <td>City Tower Crane 3D Simulator Full - Real city...</td>\n",
              "      <td>179.99</td>\n",
              "    </tr>\n",
              "    <tr>\n",
              "      <th>8303</th>\n",
              "      <td>Oil Truck Simulator 3D Full - Offroad tank tru...</td>\n",
              "      <td>179.99</td>\n",
              "    </tr>\n",
              "    <tr>\n",
              "      <th>8372</th>\n",
              "      <td>Army Truck Offroad Simulator 3D Full - Drive m...</td>\n",
              "      <td>179.99</td>\n",
              "    </tr>\n",
              "    <tr>\n",
              "      <th>8548</th>\n",
              "      <td>Sea Shark Survival Simulator 3D Full</td>\n",
              "      <td>179.99</td>\n",
              "    </tr>\n",
              "    <tr>\n",
              "      <th>8600</th>\n",
              "      <td>Wild Falcon Survival Simulator 3D Full</td>\n",
              "      <td>179.99</td>\n",
              "    </tr>\n",
              "    <tr>\n",
              "      <th>8771</th>\n",
              "      <td>Zebra Simulator 3D Full - African Horse Survival</td>\n",
              "      <td>179.99</td>\n",
              "    </tr>\n",
              "    <tr>\n",
              "      <th>8807</th>\n",
              "      <td>Cat Simulator: Cute Pet 3D Full - Be a kitten,...</td>\n",
              "      <td>179.99</td>\n",
              "    </tr>\n",
              "    <tr>\n",
              "      <th>8887</th>\n",
              "      <td>City Goat: Animal Survival Simulator 3D Full</td>\n",
              "      <td>179.99</td>\n",
              "    </tr>\n",
              "    <tr>\n",
              "      <th>9005</th>\n",
              "      <td>African Cheetah: Wild Animal Simulator 3D Full</td>\n",
              "      <td>179.99</td>\n",
              "    </tr>\n",
              "    <tr>\n",
              "      <th>9023</th>\n",
              "      <td>Fantasy Dragon Simulator 3D Full</td>\n",
              "      <td>179.99</td>\n",
              "    </tr>\n",
              "    <tr>\n",
              "      <th>9025</th>\n",
              "      <td>Big Blue Whale Survival 3D Full - Try whale si...</td>\n",
              "      <td>179.99</td>\n",
              "    </tr>\n",
              "    <tr>\n",
              "      <th>9093</th>\n",
              "      <td>Wild African Horse: Animal Simulator 2017 Full</td>\n",
              "      <td>179.99</td>\n",
              "    </tr>\n",
              "    <tr>\n",
              "      <th>9159</th>\n",
              "      <td>Black Wild Panther Simulator 3D Full - Be a wi...</td>\n",
              "      <td>179.99</td>\n",
              "    </tr>\n",
              "    <tr>\n",
              "      <th>9219</th>\n",
              "      <td>Lion Simulator: Wild African Animal Full</td>\n",
              "      <td>179.99</td>\n",
              "    </tr>\n",
              "    <tr>\n",
              "      <th>9276</th>\n",
              "      <td>Furious Crocodile Simulator 3D Full</td>\n",
              "      <td>179.99</td>\n",
              "    </tr>\n",
              "    <tr>\n",
              "      <th>9308</th>\n",
              "      <td>Flying Pegasus: Magic Horse Simulator 3D Full</td>\n",
              "      <td>179.99</td>\n",
              "    </tr>\n",
              "    <tr>\n",
              "      <th>9409</th>\n",
              "      <td>Big Elephant Simulator: Wild African Animal 3D...</td>\n",
              "      <td>179.99</td>\n",
              "    </tr>\n",
              "    <tr>\n",
              "      <th>9411</th>\n",
              "      <td>Evil Wild Wolf Simulator 3D Full</td>\n",
              "      <td>179.99</td>\n",
              "    </tr>\n",
              "    <tr>\n",
              "      <th>9491</th>\n",
              "      <td>Forest Owl Simulator Full - Be a wild bird!</td>\n",
              "      <td>179.99</td>\n",
              "    </tr>\n",
              "    <tr>\n",
              "      <th>9545</th>\n",
              "      <td>Offroad Tow Truck Simulator Full</td>\n",
              "      <td>179.99</td>\n",
              "    </tr>\n",
              "    <tr>\n",
              "      <th>9550</th>\n",
              "      <td>Wild White Polar Bear Simulator Full</td>\n",
              "      <td>179.99</td>\n",
              "    </tr>\n",
              "    <tr>\n",
              "      <th>9724</th>\n",
              "      <td>Wild Snow Leopard: Animal Simulator Full</td>\n",
              "      <td>179.99</td>\n",
              "    </tr>\n",
              "    <tr>\n",
              "      <th>12437</th>\n",
              "      <td>Tanks Battle Simulator Full</td>\n",
              "      <td>179.99</td>\n",
              "    </tr>\n",
              "  </tbody>\n",
              "</table>\n",
              "</div>"
            ],
            "text/plain": [
              "                                                    Name   Price\n",
              "2634                           Finabase: realtime stocks  139.99\n",
              "8177                        Wild Horse 3D Simulator Full  179.99\n",
              "8196                     Pony Survival Simulator 3D Full  179.99\n",
              "8198       T-rex Simulator 3D Full - Survival adventures  179.99\n",
              "8200                  Unicorn Survival Simulator 3D Full  179.99\n",
              "8273                       Sea Dolphin Simulator 3D Full  179.99\n",
              "8281      Sea Turtle Simulator 3D Full - Ocean Adventure  179.99\n",
              "8292                      Forest Snake Simulator 3D Full  179.99\n",
              "8301   City Tower Crane 3D Simulator Full - Real city...  179.99\n",
              "8303   Oil Truck Simulator 3D Full - Offroad tank tru...  179.99\n",
              "8372   Army Truck Offroad Simulator 3D Full - Drive m...  179.99\n",
              "8548                Sea Shark Survival Simulator 3D Full  179.99\n",
              "8600              Wild Falcon Survival Simulator 3D Full  179.99\n",
              "8771    Zebra Simulator 3D Full - African Horse Survival  179.99\n",
              "8807   Cat Simulator: Cute Pet 3D Full - Be a kitten,...  179.99\n",
              "8887        City Goat: Animal Survival Simulator 3D Full  179.99\n",
              "9005      African Cheetah: Wild Animal Simulator 3D Full  179.99\n",
              "9023                    Fantasy Dragon Simulator 3D Full  179.99\n",
              "9025   Big Blue Whale Survival 3D Full - Try whale si...  179.99\n",
              "9093      Wild African Horse: Animal Simulator 2017 Full  179.99\n",
              "9159   Black Wild Panther Simulator 3D Full - Be a wi...  179.99\n",
              "9219            Lion Simulator: Wild African Animal Full  179.99\n",
              "9276                 Furious Crocodile Simulator 3D Full  179.99\n",
              "9308       Flying Pegasus: Magic Horse Simulator 3D Full  179.99\n",
              "9409   Big Elephant Simulator: Wild African Animal 3D...  179.99\n",
              "9411                    Evil Wild Wolf Simulator 3D Full  179.99\n",
              "9491         Forest Owl Simulator Full - Be a wild bird!  179.99\n",
              "9545                    Offroad Tow Truck Simulator Full  179.99\n",
              "9550                Wild White Polar Bear Simulator Full  179.99\n",
              "9724            Wild Snow Leopard: Animal Simulator Full  179.99\n",
              "12437                        Tanks Battle Simulator Full  179.99"
            ]
          },
          "metadata": {
            "tags": []
          },
          "execution_count": 29
        }
      ]
    },
    {
      "cell_type": "markdown",
      "metadata": {
        "id": "6JrgaPk_vdu9"
      },
      "source": [
        "# **Condition**\n",
        "* A and B\n",
        "* A or B"
      ]
    },
    {
      "cell_type": "code",
      "metadata": {
        "colab": {
          "base_uri": "https://localhost:8080/",
          "height": 49
        },
        "id": "MXjsmVrNvlgZ",
        "outputId": "985424c0-ee3b-421c-caf6-5b164b06431e"
      },
      "source": [
        "df_apps[[\"Name\", \"Price\"]][(df_apps[\"Price\"] > 100) & (df_apps[\"Price\"] < 10)] # ไม่มีเงื่อนไขใดตรงเลย"
      ],
      "execution_count": 30,
      "outputs": [
        {
          "output_type": "execute_result",
          "data": {
            "text/html": [
              "<div>\n",
              "<style scoped>\n",
              "    .dataframe tbody tr th:only-of-type {\n",
              "        vertical-align: middle;\n",
              "    }\n",
              "\n",
              "    .dataframe tbody tr th {\n",
              "        vertical-align: top;\n",
              "    }\n",
              "\n",
              "    .dataframe thead th {\n",
              "        text-align: right;\n",
              "    }\n",
              "</style>\n",
              "<table border=\"1\" class=\"dataframe\">\n",
              "  <thead>\n",
              "    <tr style=\"text-align: right;\">\n",
              "      <th></th>\n",
              "      <th>Name</th>\n",
              "      <th>Price</th>\n",
              "    </tr>\n",
              "  </thead>\n",
              "  <tbody>\n",
              "  </tbody>\n",
              "</table>\n",
              "</div>"
            ],
            "text/plain": [
              "Empty DataFrame\n",
              "Columns: [Name, Price]\n",
              "Index: []"
            ]
          },
          "metadata": {
            "tags": []
          },
          "execution_count": 30
        }
      ]
    },
    {
      "cell_type": "code",
      "metadata": {
        "colab": {
          "base_uri": "https://localhost:8080/",
          "height": 49
        },
        "id": "5ty6hlBgvnUX",
        "outputId": "721d8a42-37ba-4ea9-fd78-ff6b11558acd"
      },
      "source": [
        "df_apps[[\"Name\", \"Price\"]][(df_apps[\"Price\"] >= 100) & (df_apps[\"Price\"] <= 10)] # ไม่มีเงื่อนไขใดตรงเลย"
      ],
      "execution_count": 31,
      "outputs": [
        {
          "output_type": "execute_result",
          "data": {
            "text/html": [
              "<div>\n",
              "<style scoped>\n",
              "    .dataframe tbody tr th:only-of-type {\n",
              "        vertical-align: middle;\n",
              "    }\n",
              "\n",
              "    .dataframe tbody tr th {\n",
              "        vertical-align: top;\n",
              "    }\n",
              "\n",
              "    .dataframe thead th {\n",
              "        text-align: right;\n",
              "    }\n",
              "</style>\n",
              "<table border=\"1\" class=\"dataframe\">\n",
              "  <thead>\n",
              "    <tr style=\"text-align: right;\">\n",
              "      <th></th>\n",
              "      <th>Name</th>\n",
              "      <th>Price</th>\n",
              "    </tr>\n",
              "  </thead>\n",
              "  <tbody>\n",
              "  </tbody>\n",
              "</table>\n",
              "</div>"
            ],
            "text/plain": [
              "Empty DataFrame\n",
              "Columns: [Name, Price]\n",
              "Index: []"
            ]
          },
          "metadata": {
            "tags": []
          },
          "execution_count": 31
        }
      ]
    },
    {
      "cell_type": "code",
      "metadata": {
        "colab": {
          "base_uri": "https://localhost:8080/",
          "height": 419
        },
        "id": "u862S5G6vqoe",
        "outputId": "6699ec16-073a-49b2-ff48-e175431e7d58"
      },
      "source": [
        "df_apps[[\"Name\", \"Price\"]][(df_apps[\"Price\"] > 100) | (df_apps[\"Price\"] < 10)]"
      ],
      "execution_count": 32,
      "outputs": [
        {
          "output_type": "execute_result",
          "data": {
            "text/html": [
              "<div>\n",
              "<style scoped>\n",
              "    .dataframe tbody tr th:only-of-type {\n",
              "        vertical-align: middle;\n",
              "    }\n",
              "\n",
              "    .dataframe tbody tr th {\n",
              "        vertical-align: top;\n",
              "    }\n",
              "\n",
              "    .dataframe thead th {\n",
              "        text-align: right;\n",
              "    }\n",
              "</style>\n",
              "<table border=\"1\" class=\"dataframe\">\n",
              "  <thead>\n",
              "    <tr style=\"text-align: right;\">\n",
              "      <th></th>\n",
              "      <th>Name</th>\n",
              "      <th>Price</th>\n",
              "    </tr>\n",
              "  </thead>\n",
              "  <tbody>\n",
              "    <tr>\n",
              "      <th>0</th>\n",
              "      <td>Sudoku</td>\n",
              "      <td>2.99</td>\n",
              "    </tr>\n",
              "    <tr>\n",
              "      <th>1</th>\n",
              "      <td>Reversi</td>\n",
              "      <td>1.99</td>\n",
              "    </tr>\n",
              "    <tr>\n",
              "      <th>2</th>\n",
              "      <td>Morocco</td>\n",
              "      <td>0.00</td>\n",
              "    </tr>\n",
              "    <tr>\n",
              "      <th>3</th>\n",
              "      <td>Sudoku (Free)</td>\n",
              "      <td>0.00</td>\n",
              "    </tr>\n",
              "    <tr>\n",
              "      <th>4</th>\n",
              "      <td>Senet Deluxe</td>\n",
              "      <td>2.99</td>\n",
              "    </tr>\n",
              "    <tr>\n",
              "      <th>...</th>\n",
              "      <td>...</td>\n",
              "      <td>...</td>\n",
              "    </tr>\n",
              "    <tr>\n",
              "      <th>17002</th>\n",
              "      <td>Stack Puzzle : Rise Tower</td>\n",
              "      <td>0.00</td>\n",
              "    </tr>\n",
              "    <tr>\n",
              "      <th>17003</th>\n",
              "      <td>EachOther</td>\n",
              "      <td>0.00</td>\n",
              "    </tr>\n",
              "    <tr>\n",
              "      <th>17004</th>\n",
              "      <td>Rabbit Vs Tortoise</td>\n",
              "      <td>0.00</td>\n",
              "    </tr>\n",
              "    <tr>\n",
              "      <th>17005</th>\n",
              "      <td>FaTaLL</td>\n",
              "      <td>0.00</td>\n",
              "    </tr>\n",
              "    <tr>\n",
              "      <th>17006</th>\n",
              "      <td>The Three Kingdoms :Bomb</td>\n",
              "      <td>0.00</td>\n",
              "    </tr>\n",
              "  </tbody>\n",
              "</table>\n",
              "<p>16899 rows × 2 columns</p>\n",
              "</div>"
            ],
            "text/plain": [
              "                            Name  Price\n",
              "0                         Sudoku   2.99\n",
              "1                        Reversi   1.99\n",
              "2                        Morocco   0.00\n",
              "3                  Sudoku (Free)   0.00\n",
              "4                   Senet Deluxe   2.99\n",
              "...                          ...    ...\n",
              "17002  Stack Puzzle : Rise Tower   0.00\n",
              "17003                  EachOther   0.00\n",
              "17004         Rabbit Vs Tortoise   0.00\n",
              "17005                     FaTaLL   0.00\n",
              "17006   The Three Kingdoms :Bomb   0.00\n",
              "\n",
              "[16899 rows x 2 columns]"
            ]
          },
          "metadata": {
            "tags": []
          },
          "execution_count": 32
        }
      ]
    },
    {
      "cell_type": "code",
      "metadata": {
        "colab": {
          "base_uri": "https://localhost:8080/",
          "height": 49
        },
        "id": "WtQF0A19vs9O",
        "outputId": "29885ed6-c1b9-4f26-df1f-cdf8b98e74fb"
      },
      "source": [
        "df_apps[[\"Name\", \"Price\"]][(df_apps[\"Price\"] == 100) & (df_apps[\"Price\"] != 10)]"
      ],
      "execution_count": 33,
      "outputs": [
        {
          "output_type": "execute_result",
          "data": {
            "text/html": [
              "<div>\n",
              "<style scoped>\n",
              "    .dataframe tbody tr th:only-of-type {\n",
              "        vertical-align: middle;\n",
              "    }\n",
              "\n",
              "    .dataframe tbody tr th {\n",
              "        vertical-align: top;\n",
              "    }\n",
              "\n",
              "    .dataframe thead th {\n",
              "        text-align: right;\n",
              "    }\n",
              "</style>\n",
              "<table border=\"1\" class=\"dataframe\">\n",
              "  <thead>\n",
              "    <tr style=\"text-align: right;\">\n",
              "      <th></th>\n",
              "      <th>Name</th>\n",
              "      <th>Price</th>\n",
              "    </tr>\n",
              "  </thead>\n",
              "  <tbody>\n",
              "  </tbody>\n",
              "</table>\n",
              "</div>"
            ],
            "text/plain": [
              "Empty DataFrame\n",
              "Columns: [Name, Price]\n",
              "Index: []"
            ]
          },
          "metadata": {
            "tags": []
          },
          "execution_count": 33
        }
      ]
    },
    {
      "cell_type": "code",
      "metadata": {
        "colab": {
          "base_uri": "https://localhost:8080/",
          "height": 49
        },
        "id": "tSjNZyNtv1ni",
        "outputId": "1cca73ab-6d32-4fe3-99ba-ddd82e87f0de"
      },
      "source": [
        "df_apps[[\"Name\", \"Price\"]][(df_apps[\"Price\"] < 10) & (df_apps[\"Name\"] == \"Dragon\")]"
      ],
      "execution_count": 34,
      "outputs": [
        {
          "output_type": "execute_result",
          "data": {
            "text/html": [
              "<div>\n",
              "<style scoped>\n",
              "    .dataframe tbody tr th:only-of-type {\n",
              "        vertical-align: middle;\n",
              "    }\n",
              "\n",
              "    .dataframe tbody tr th {\n",
              "        vertical-align: top;\n",
              "    }\n",
              "\n",
              "    .dataframe thead th {\n",
              "        text-align: right;\n",
              "    }\n",
              "</style>\n",
              "<table border=\"1\" class=\"dataframe\">\n",
              "  <thead>\n",
              "    <tr style=\"text-align: right;\">\n",
              "      <th></th>\n",
              "      <th>Name</th>\n",
              "      <th>Price</th>\n",
              "    </tr>\n",
              "  </thead>\n",
              "  <tbody>\n",
              "  </tbody>\n",
              "</table>\n",
              "</div>"
            ],
            "text/plain": [
              "Empty DataFrame\n",
              "Columns: [Name, Price]\n",
              "Index: []"
            ]
          },
          "metadata": {
            "tags": []
          },
          "execution_count": 34
        }
      ]
    },
    {
      "cell_type": "code",
      "metadata": {
        "colab": {
          "base_uri": "https://localhost:8080/",
          "height": 419
        },
        "id": "ADeNJprQv4An",
        "outputId": "1e8690b1-d625-4bde-9370-47c065322d50"
      },
      "source": [
        "df_apps[[\"Name\", \"Price\"]][(df_apps[\"Price\"] < 10) & (df_apps[\"Name\"].str.contains(\"Dragon\"))] # Name ต้องที str.containsที่มีคำว่า Dragon"
      ],
      "execution_count": 35,
      "outputs": [
        {
          "output_type": "execute_result",
          "data": {
            "text/html": [
              "<div>\n",
              "<style scoped>\n",
              "    .dataframe tbody tr th:only-of-type {\n",
              "        vertical-align: middle;\n",
              "    }\n",
              "\n",
              "    .dataframe tbody tr th {\n",
              "        vertical-align: top;\n",
              "    }\n",
              "\n",
              "    .dataframe thead th {\n",
              "        text-align: right;\n",
              "    }\n",
              "</style>\n",
              "<table border=\"1\" class=\"dataframe\">\n",
              "  <thead>\n",
              "    <tr style=\"text-align: right;\">\n",
              "      <th></th>\n",
              "      <th>Name</th>\n",
              "      <th>Price</th>\n",
              "    </tr>\n",
              "  </thead>\n",
              "  <tbody>\n",
              "    <tr>\n",
              "      <th>185</th>\n",
              "      <td>King of Dragon Pass</td>\n",
              "      <td>9.99</td>\n",
              "    </tr>\n",
              "    <tr>\n",
              "      <th>371</th>\n",
              "      <td>Dragon Go Client</td>\n",
              "      <td>0.00</td>\n",
              "    </tr>\n",
              "    <tr>\n",
              "      <th>411</th>\n",
              "      <td>Hunt The Dragon</td>\n",
              "      <td>0.99</td>\n",
              "    </tr>\n",
              "    <tr>\n",
              "      <th>690</th>\n",
              "      <td>Dragon Lords</td>\n",
              "      <td>0.00</td>\n",
              "    </tr>\n",
              "    <tr>\n",
              "      <th>759</th>\n",
              "      <td>Hunt The Dragon HD</td>\n",
              "      <td>0.99</td>\n",
              "    </tr>\n",
              "    <tr>\n",
              "      <th>...</th>\n",
              "      <td>...</td>\n",
              "      <td>...</td>\n",
              "    </tr>\n",
              "    <tr>\n",
              "      <th>16264</th>\n",
              "      <td>Tournament Of Dragons</td>\n",
              "      <td>0.00</td>\n",
              "    </tr>\n",
              "    <tr>\n",
              "      <th>16265</th>\n",
              "      <td>Dragons City War 2019</td>\n",
              "      <td>0.00</td>\n",
              "    </tr>\n",
              "    <tr>\n",
              "      <th>16270</th>\n",
              "      <td>Battle Of Dragons &amp; Training</td>\n",
              "      <td>0.00</td>\n",
              "    </tr>\n",
              "    <tr>\n",
              "      <th>16372</th>\n",
              "      <td>Magic &amp; Dragons</td>\n",
              "      <td>0.00</td>\n",
              "    </tr>\n",
              "    <tr>\n",
              "      <th>16498</th>\n",
              "      <td>Attack Dragons</td>\n",
              "      <td>0.00</td>\n",
              "    </tr>\n",
              "  </tbody>\n",
              "</table>\n",
              "<p>113 rows × 2 columns</p>\n",
              "</div>"
            ],
            "text/plain": [
              "                               Name  Price\n",
              "185             King of Dragon Pass   9.99\n",
              "371                Dragon Go Client   0.00\n",
              "411                 Hunt The Dragon   0.99\n",
              "690                    Dragon Lords   0.00\n",
              "759              Hunt The Dragon HD   0.99\n",
              "...                             ...    ...\n",
              "16264         Tournament Of Dragons   0.00\n",
              "16265         Dragons City War 2019   0.00\n",
              "16270  Battle Of Dragons & Training   0.00\n",
              "16372               Magic & Dragons   0.00\n",
              "16498                Attack Dragons   0.00\n",
              "\n",
              "[113 rows x 2 columns]"
            ]
          },
          "metadata": {
            "tags": []
          },
          "execution_count": 35
        }
      ]
    },
    {
      "cell_type": "code",
      "metadata": {
        "colab": {
          "base_uri": "https://localhost:8080/",
          "height": 1000
        },
        "id": "6-GBBpg1iYxN",
        "outputId": "e6ffe19b-b04a-4454-fd55-803996d698e3"
      },
      "source": [
        "df_apps[[\"Name\", \"Price\"]][(df_apps[\"Price\"] < 10) & (df_apps[\"Name\"].str.contains(\"^Dragon*\"))] # Name ต้องที str.containsที่มีคำว่า ^Dragon*เริ่่มด้วยคำนี้"
      ],
      "execution_count": 36,
      "outputs": [
        {
          "output_type": "execute_result",
          "data": {
            "text/html": [
              "<div>\n",
              "<style scoped>\n",
              "    .dataframe tbody tr th:only-of-type {\n",
              "        vertical-align: middle;\n",
              "    }\n",
              "\n",
              "    .dataframe tbody tr th {\n",
              "        vertical-align: top;\n",
              "    }\n",
              "\n",
              "    .dataframe thead th {\n",
              "        text-align: right;\n",
              "    }\n",
              "</style>\n",
              "<table border=\"1\" class=\"dataframe\">\n",
              "  <thead>\n",
              "    <tr style=\"text-align: right;\">\n",
              "      <th></th>\n",
              "      <th>Name</th>\n",
              "      <th>Price</th>\n",
              "    </tr>\n",
              "  </thead>\n",
              "  <tbody>\n",
              "    <tr>\n",
              "      <th>371</th>\n",
              "      <td>Dragon Go Client</td>\n",
              "      <td>0.00</td>\n",
              "    </tr>\n",
              "    <tr>\n",
              "      <th>690</th>\n",
              "      <td>Dragon Lords</td>\n",
              "      <td>0.00</td>\n",
              "    </tr>\n",
              "    <tr>\n",
              "      <th>1402</th>\n",
              "      <td>Dragon Island Blue</td>\n",
              "      <td>0.99</td>\n",
              "    </tr>\n",
              "    <tr>\n",
              "      <th>1612</th>\n",
              "      <td>Dragons of Atlantis</td>\n",
              "      <td>0.00</td>\n",
              "    </tr>\n",
              "    <tr>\n",
              "      <th>1628</th>\n",
              "      <td>Dragon Rush</td>\n",
              "      <td>0.00</td>\n",
              "    </tr>\n",
              "    <tr>\n",
              "      <th>1850</th>\n",
              "      <td>Dragon Tear (RPG)</td>\n",
              "      <td>0.00</td>\n",
              "    </tr>\n",
              "    <tr>\n",
              "      <th>1984</th>\n",
              "      <td>Dragon Wizard +19</td>\n",
              "      <td>0.00</td>\n",
              "    </tr>\n",
              "    <tr>\n",
              "      <th>1986</th>\n",
              "      <td>Dragon War: Dragons Fighting &amp; Battle game</td>\n",
              "      <td>0.00</td>\n",
              "    </tr>\n",
              "    <tr>\n",
              "      <th>1988</th>\n",
              "      <td>Dragon Swarm</td>\n",
              "      <td>0.00</td>\n",
              "    </tr>\n",
              "    <tr>\n",
              "      <th>2016</th>\n",
              "      <td>Dragon Arena</td>\n",
              "      <td>0.00</td>\n",
              "    </tr>\n",
              "    <tr>\n",
              "      <th>2050</th>\n",
              "      <td>Dragon Reign Runner - Warrior of Dragons Racer</td>\n",
              "      <td>0.00</td>\n",
              "    </tr>\n",
              "    <tr>\n",
              "      <th>2385</th>\n",
              "      <td>Dragon Drop Frenzy - Match 3 Games</td>\n",
              "      <td>0.00</td>\n",
              "    </tr>\n",
              "    <tr>\n",
              "      <th>2774</th>\n",
              "      <td>Dragon Tale - Free RPG Dragon Game</td>\n",
              "      <td>0.00</td>\n",
              "    </tr>\n",
              "    <tr>\n",
              "      <th>2775</th>\n",
              "      <td>Dragon Tale - Free RPG Dragon Game</td>\n",
              "      <td>0.00</td>\n",
              "    </tr>\n",
              "    <tr>\n",
              "      <th>2855</th>\n",
              "      <td>Dragon cube 2 - fun strategy puzzle brain game</td>\n",
              "      <td>0.00</td>\n",
              "    </tr>\n",
              "    <tr>\n",
              "      <th>2897</th>\n",
              "      <td>Dragon Duel -  Hard Puzzle Games</td>\n",
              "      <td>0.00</td>\n",
              "    </tr>\n",
              "    <tr>\n",
              "      <th>2978</th>\n",
              "      <td>Dragon Monster - Evolve Lost Dragons</td>\n",
              "      <td>0.00</td>\n",
              "    </tr>\n",
              "    <tr>\n",
              "      <th>3053</th>\n",
              "      <td>Dragon Fight - Best Fantasy Defense Games</td>\n",
              "      <td>0.00</td>\n",
              "    </tr>\n",
              "    <tr>\n",
              "      <th>3106</th>\n",
              "      <td>Dragon Slayer Fortress Protector</td>\n",
              "      <td>0.00</td>\n",
              "    </tr>\n",
              "    <tr>\n",
              "      <th>3137</th>\n",
              "      <td>Dragon Tap - Story Of The Kakao Blue Skies</td>\n",
              "      <td>0.00</td>\n",
              "    </tr>\n",
              "    <tr>\n",
              "      <th>3138</th>\n",
              "      <td>Dragon Tap - Story Of The Kakao Blue Skies</td>\n",
              "      <td>0.00</td>\n",
              "    </tr>\n",
              "    <tr>\n",
              "      <th>3149</th>\n",
              "      <td>Dragon Defense - Shoot angry sky fly dragon skies</td>\n",
              "      <td>0.00</td>\n",
              "    </tr>\n",
              "    <tr>\n",
              "      <th>3552</th>\n",
              "      <td>Dragon Warlord\\u2122</td>\n",
              "      <td>0.00</td>\n",
              "    </tr>\n",
              "    <tr>\n",
              "      <th>3971</th>\n",
              "      <td>Dragon War\\u2122</td>\n",
              "      <td>0.00</td>\n",
              "    </tr>\n",
              "    <tr>\n",
              "      <th>4623</th>\n",
              "      <td>Dragon Armor Legend 3D - Invasion Of The Steal...</td>\n",
              "      <td>0.00</td>\n",
              "    </tr>\n",
              "    <tr>\n",
              "      <th>4686</th>\n",
              "      <td>Dragon Heroes\\u2122</td>\n",
              "      <td>0.00</td>\n",
              "    </tr>\n",
              "    <tr>\n",
              "      <th>4801</th>\n",
              "      <td>Dragon Ninja Fight - Go Berserk Fighting Colos...</td>\n",
              "      <td>0.00</td>\n",
              "    </tr>\n",
              "    <tr>\n",
              "      <th>5077</th>\n",
              "      <td>Dragon Puzzle World - fun 3 match splash game</td>\n",
              "      <td>0.00</td>\n",
              "    </tr>\n",
              "    <tr>\n",
              "      <th>5331</th>\n",
              "      <td>Dragon Blaze</td>\n",
              "      <td>0.00</td>\n",
              "    </tr>\n",
              "    <tr>\n",
              "      <th>5769</th>\n",
              "      <td>Dragon Egg Match Free: Best Connecting Puzzle ...</td>\n",
              "      <td>0.00</td>\n",
              "    </tr>\n",
              "    <tr>\n",
              "      <th>5770</th>\n",
              "      <td>Dragon Ball Puzzle: Cool Strategy and Matching...</td>\n",
              "      <td>0.00</td>\n",
              "    </tr>\n",
              "    <tr>\n",
              "      <th>6688</th>\n",
              "      <td>Dragon Ridire Chess</td>\n",
              "      <td>0.00</td>\n",
              "    </tr>\n",
              "    <tr>\n",
              "      <th>6751</th>\n",
              "      <td>Dragon Epic Def</td>\n",
              "      <td>0.00</td>\n",
              "    </tr>\n",
              "    <tr>\n",
              "      <th>8127</th>\n",
              "      <td>Dragon Trainer: Online Battle</td>\n",
              "      <td>0.00</td>\n",
              "    </tr>\n",
              "    <tr>\n",
              "      <th>8458</th>\n",
              "      <td>Dragon X Sailor</td>\n",
              "      <td>0.00</td>\n",
              "    </tr>\n",
              "    <tr>\n",
              "      <th>9016</th>\n",
              "      <td>Dragon Knight City Story Blast</td>\n",
              "      <td>0.00</td>\n",
              "    </tr>\n",
              "    <tr>\n",
              "      <th>9239</th>\n",
              "      <td>Dragon.Io Legends - Classic Slither Mmo Battle...</td>\n",
              "      <td>0.00</td>\n",
              "    </tr>\n",
              "    <tr>\n",
              "      <th>9389</th>\n",
              "      <td>Dragon.io Legends Pro - Classic Crazy Battle o...</td>\n",
              "      <td>2.99</td>\n",
              "    </tr>\n",
              "    <tr>\n",
              "      <th>9511</th>\n",
              "      <td>Dragon Rescue Legends Mobile 3D Game</td>\n",
              "      <td>0.00</td>\n",
              "    </tr>\n",
              "    <tr>\n",
              "      <th>9703</th>\n",
              "      <td>Dragon Lords 3D</td>\n",
              "      <td>0.00</td>\n",
              "    </tr>\n",
              "    <tr>\n",
              "      <th>10072</th>\n",
              "      <td>Dragons Kingdom War: Puzzle &amp; Card RPG Game</td>\n",
              "      <td>0.00</td>\n",
              "    </tr>\n",
              "    <tr>\n",
              "      <th>10360</th>\n",
              "      <td>Dragon Wars - Hunter Shooting Game</td>\n",
              "      <td>0.00</td>\n",
              "    </tr>\n",
              "    <tr>\n",
              "      <th>11579</th>\n",
              "      <td>Dragon bunny\\xb4s magical match adventure</td>\n",
              "      <td>2.99</td>\n",
              "    </tr>\n",
              "    <tr>\n",
              "      <th>11876</th>\n",
              "      <td>Dragon Fruit Evolution Clicker</td>\n",
              "      <td>0.00</td>\n",
              "    </tr>\n",
              "    <tr>\n",
              "      <th>11975</th>\n",
              "      <td>Dragonstone: Kingdoms</td>\n",
              "      <td>0.00</td>\n",
              "    </tr>\n",
              "    <tr>\n",
              "      <th>12328</th>\n",
              "      <td>Dragon League: Clash of Heroes</td>\n",
              "      <td>0.00</td>\n",
              "    </tr>\n",
              "    <tr>\n",
              "      <th>12952</th>\n",
              "      <td>Dragon Clash: Pocket Battle</td>\n",
              "      <td>0.00</td>\n",
              "    </tr>\n",
              "    <tr>\n",
              "      <th>15455</th>\n",
              "      <td>Dragons Uprising</td>\n",
              "      <td>0.00</td>\n",
              "    </tr>\n",
              "    <tr>\n",
              "      <th>16265</th>\n",
              "      <td>Dragons City War 2019</td>\n",
              "      <td>0.00</td>\n",
              "    </tr>\n",
              "    <tr>\n",
              "      <th>16870</th>\n",
              "      <td>Drago Fruit (No Ads)</td>\n",
              "      <td>2.99</td>\n",
              "    </tr>\n",
              "    <tr>\n",
              "      <th>16871</th>\n",
              "      <td>Drago Fruit</td>\n",
              "      <td>0.00</td>\n",
              "    </tr>\n",
              "  </tbody>\n",
              "</table>\n",
              "</div>"
            ],
            "text/plain": [
              "                                                    Name  Price\n",
              "371                                     Dragon Go Client   0.00\n",
              "690                                         Dragon Lords   0.00\n",
              "1402                                  Dragon Island Blue   0.99\n",
              "1612                                 Dragons of Atlantis   0.00\n",
              "1628                                         Dragon Rush   0.00\n",
              "1850                                   Dragon Tear (RPG)   0.00\n",
              "1984                                   Dragon Wizard +19   0.00\n",
              "1986          Dragon War: Dragons Fighting & Battle game   0.00\n",
              "1988                                        Dragon Swarm   0.00\n",
              "2016                                        Dragon Arena   0.00\n",
              "2050      Dragon Reign Runner - Warrior of Dragons Racer   0.00\n",
              "2385                  Dragon Drop Frenzy - Match 3 Games   0.00\n",
              "2774                  Dragon Tale - Free RPG Dragon Game   0.00\n",
              "2775                  Dragon Tale - Free RPG Dragon Game   0.00\n",
              "2855      Dragon cube 2 - fun strategy puzzle brain game   0.00\n",
              "2897                    Dragon Duel -  Hard Puzzle Games   0.00\n",
              "2978                Dragon Monster - Evolve Lost Dragons   0.00\n",
              "3053           Dragon Fight - Best Fantasy Defense Games   0.00\n",
              "3106                    Dragon Slayer Fortress Protector   0.00\n",
              "3137          Dragon Tap - Story Of The Kakao Blue Skies   0.00\n",
              "3138          Dragon Tap - Story Of The Kakao Blue Skies   0.00\n",
              "3149   Dragon Defense - Shoot angry sky fly dragon skies   0.00\n",
              "3552                                Dragon Warlord\\u2122   0.00\n",
              "3971                                    Dragon War\\u2122   0.00\n",
              "4623   Dragon Armor Legend 3D - Invasion Of The Steal...   0.00\n",
              "4686                                 Dragon Heroes\\u2122   0.00\n",
              "4801   Dragon Ninja Fight - Go Berserk Fighting Colos...   0.00\n",
              "5077       Dragon Puzzle World - fun 3 match splash game   0.00\n",
              "5331                                        Dragon Blaze   0.00\n",
              "5769   Dragon Egg Match Free: Best Connecting Puzzle ...   0.00\n",
              "5770   Dragon Ball Puzzle: Cool Strategy and Matching...   0.00\n",
              "6688                                 Dragon Ridire Chess   0.00\n",
              "6751                                     Dragon Epic Def   0.00\n",
              "8127                       Dragon Trainer: Online Battle   0.00\n",
              "8458                                     Dragon X Sailor   0.00\n",
              "9016                      Dragon Knight City Story Blast   0.00\n",
              "9239   Dragon.Io Legends - Classic Slither Mmo Battle...   0.00\n",
              "9389   Dragon.io Legends Pro - Classic Crazy Battle o...   2.99\n",
              "9511                Dragon Rescue Legends Mobile 3D Game   0.00\n",
              "9703                                     Dragon Lords 3D   0.00\n",
              "10072        Dragons Kingdom War: Puzzle & Card RPG Game   0.00\n",
              "10360                 Dragon Wars - Hunter Shooting Game   0.00\n",
              "11579          Dragon bunny\\xb4s magical match adventure   2.99\n",
              "11876                     Dragon Fruit Evolution Clicker   0.00\n",
              "11975                              Dragonstone: Kingdoms   0.00\n",
              "12328                     Dragon League: Clash of Heroes   0.00\n",
              "12952                        Dragon Clash: Pocket Battle   0.00\n",
              "15455                                   Dragons Uprising   0.00\n",
              "16265                              Dragons City War 2019   0.00\n",
              "16870                               Drago Fruit (No Ads)   2.99\n",
              "16871                                        Drago Fruit   0.00"
            ]
          },
          "metadata": {
            "tags": []
          },
          "execution_count": 36
        }
      ]
    },
    {
      "cell_type": "code",
      "metadata": {
        "id": "3ljBgqHJiYnf"
      },
      "source": [
        ""
      ],
      "execution_count": 36,
      "outputs": []
    },
    {
      "cell_type": "markdown",
      "metadata": {
        "id": "XEF0XpKMv9oZ"
      },
      "source": [
        "## **Filter RegEx**"
      ]
    },
    {
      "cell_type": "code",
      "metadata": {
        "colab": {
          "base_uri": "https://localhost:8080/"
        },
        "id": "g0zBdlyvwGW1",
        "outputId": "008c87fa-aca8-463d-a3d4-e19250f78d68"
      },
      "source": [
        "df_apps[[\"Name\", \"Price\"]][(df_apps[\"Price\"] < 10) & (df_apps[\"Name\"].str.contains(r\"^Dragon.\"))].shape"
      ],
      "execution_count": 37,
      "outputs": [
        {
          "output_type": "execute_result",
          "data": {
            "text/plain": [
              "(49, 2)"
            ]
          },
          "metadata": {
            "tags": []
          },
          "execution_count": 37
        }
      ]
    },
    {
      "cell_type": "markdown",
      "metadata": {
        "id": "ymAtmXfswK_r"
      },
      "source": [
        "แปลงราคา Price ให้เป็น Price + Tax\n",
        "= columns * 0.07"
      ]
    },
    {
      "cell_type": "code",
      "metadata": {
        "colab": {
          "base_uri": "https://localhost:8080/"
        },
        "id": "YJ7XerHOwOnM",
        "outputId": "bd85710b-3025-4d6a-caf6-022e27376b6f"
      },
      "source": [
        "len(df_apps.columns)"
      ],
      "execution_count": 38,
      "outputs": [
        {
          "output_type": "execute_result",
          "data": {
            "text/plain": [
              "18"
            ]
          },
          "metadata": {
            "tags": []
          },
          "execution_count": 38
        }
      ]
    },
    {
      "cell_type": "code",
      "metadata": {
        "id": "pEhxikAywQZr"
      },
      "source": [
        "df_apps[\"Price_tax\"] =  df_apps[\"Price\"] + (df_apps[\"Price\"] * 0.07)"
      ],
      "execution_count": 39,
      "outputs": []
    },
    {
      "cell_type": "code",
      "metadata": {
        "colab": {
          "base_uri": "https://localhost:8080/",
          "height": 204
        },
        "id": "k2juJ_zswSqN",
        "outputId": "3357e13c-2b33-4e4a-d15a-14969eb251bc"
      },
      "source": [
        "df_apps[[\"Price\", \"Price_tax\"]].sample(5)"
      ],
      "execution_count": 40,
      "outputs": [
        {
          "output_type": "execute_result",
          "data": {
            "text/html": [
              "<div>\n",
              "<style scoped>\n",
              "    .dataframe tbody tr th:only-of-type {\n",
              "        vertical-align: middle;\n",
              "    }\n",
              "\n",
              "    .dataframe tbody tr th {\n",
              "        vertical-align: top;\n",
              "    }\n",
              "\n",
              "    .dataframe thead th {\n",
              "        text-align: right;\n",
              "    }\n",
              "</style>\n",
              "<table border=\"1\" class=\"dataframe\">\n",
              "  <thead>\n",
              "    <tr style=\"text-align: right;\">\n",
              "      <th></th>\n",
              "      <th>Price</th>\n",
              "      <th>Price_tax</th>\n",
              "    </tr>\n",
              "  </thead>\n",
              "  <tbody>\n",
              "    <tr>\n",
              "      <th>9152</th>\n",
              "      <td>0.00</td>\n",
              "      <td>0.0000</td>\n",
              "    </tr>\n",
              "    <tr>\n",
              "      <th>5590</th>\n",
              "      <td>4.99</td>\n",
              "      <td>5.3393</td>\n",
              "    </tr>\n",
              "    <tr>\n",
              "      <th>3423</th>\n",
              "      <td>0.00</td>\n",
              "      <td>0.0000</td>\n",
              "    </tr>\n",
              "    <tr>\n",
              "      <th>9396</th>\n",
              "      <td>0.00</td>\n",
              "      <td>0.0000</td>\n",
              "    </tr>\n",
              "    <tr>\n",
              "      <th>16357</th>\n",
              "      <td>0.00</td>\n",
              "      <td>0.0000</td>\n",
              "    </tr>\n",
              "  </tbody>\n",
              "</table>\n",
              "</div>"
            ],
            "text/plain": [
              "       Price  Price_tax\n",
              "9152    0.00     0.0000\n",
              "5590    4.99     5.3393\n",
              "3423    0.00     0.0000\n",
              "9396    0.00     0.0000\n",
              "16357   0.00     0.0000"
            ]
          },
          "metadata": {
            "tags": []
          },
          "execution_count": 40
        }
      ]
    },
    {
      "cell_type": "code",
      "metadata": {
        "id": "0ixGCNAvwU0r"
      },
      "source": [
        "# df_apps = df_apps.drop(columns=\"columns\")"
      ],
      "execution_count": 41,
      "outputs": []
    },
    {
      "cell_type": "markdown",
      "metadata": {
        "id": "thd1sIAOwZqB"
      },
      "source": [
        "#**จำลองเหตุการณ์**"
      ]
    },
    {
      "cell_type": "code",
      "metadata": {
        "colab": {
          "base_uri": "https://localhost:8080/"
        },
        "id": "Ios5jUG8wZWp",
        "outputId": "728a494c-dde0-4cd4-d406-4c677e39c5d4"
      },
      "source": [
        "df_apps.columns"
      ],
      "execution_count": 42,
      "outputs": [
        {
          "output_type": "execute_result",
          "data": {
            "text/plain": [
              "Index(['URL', 'ID', 'Name', 'Subtitle', 'Icon URL', 'Average User Rating',\n",
              "       'User Rating Count', 'Price', 'In-app Purchases', 'Description',\n",
              "       'Developer', 'Age Rating', 'Languages', 'Size', 'Primary Genre',\n",
              "       'Genres', 'Original Release Date', 'Current Version Release Date',\n",
              "       'Price_tax'],\n",
              "      dtype='object')"
            ]
          },
          "metadata": {
            "tags": []
          },
          "execution_count": 42
        }
      ]
    },
    {
      "cell_type": "code",
      "metadata": {
        "colab": {
          "base_uri": "https://localhost:8080/",
          "height": 204
        },
        "id": "qp4yq6QPwpV9",
        "outputId": "ee1e6466-eba6-45d9-b9a3-edf8ab139cbc"
      },
      "source": [
        "df_apps[['Average User Rating', 'In-app Purchases', 'Price', 'User Rating Count']].sample(5)"
      ],
      "execution_count": 43,
      "outputs": [
        {
          "output_type": "execute_result",
          "data": {
            "text/html": [
              "<div>\n",
              "<style scoped>\n",
              "    .dataframe tbody tr th:only-of-type {\n",
              "        vertical-align: middle;\n",
              "    }\n",
              "\n",
              "    .dataframe tbody tr th {\n",
              "        vertical-align: top;\n",
              "    }\n",
              "\n",
              "    .dataframe thead th {\n",
              "        text-align: right;\n",
              "    }\n",
              "</style>\n",
              "<table border=\"1\" class=\"dataframe\">\n",
              "  <thead>\n",
              "    <tr style=\"text-align: right;\">\n",
              "      <th></th>\n",
              "      <th>Average User Rating</th>\n",
              "      <th>In-app Purchases</th>\n",
              "      <th>Price</th>\n",
              "      <th>User Rating Count</th>\n",
              "    </tr>\n",
              "  </thead>\n",
              "  <tbody>\n",
              "    <tr>\n",
              "      <th>13521</th>\n",
              "      <td>5.0</td>\n",
              "      <td>NaN</td>\n",
              "      <td>0.00</td>\n",
              "      <td>8.0</td>\n",
              "    </tr>\n",
              "    <tr>\n",
              "      <th>14691</th>\n",
              "      <td>4.5</td>\n",
              "      <td>NaN</td>\n",
              "      <td>0.00</td>\n",
              "      <td>2601.0</td>\n",
              "    </tr>\n",
              "    <tr>\n",
              "      <th>16738</th>\n",
              "      <td>NaN</td>\n",
              "      <td>NaN</td>\n",
              "      <td>0.00</td>\n",
              "      <td>NaN</td>\n",
              "    </tr>\n",
              "    <tr>\n",
              "      <th>10050</th>\n",
              "      <td>NaN</td>\n",
              "      <td>NaN</td>\n",
              "      <td>0.00</td>\n",
              "      <td>NaN</td>\n",
              "    </tr>\n",
              "    <tr>\n",
              "      <th>15887</th>\n",
              "      <td>NaN</td>\n",
              "      <td>NaN</td>\n",
              "      <td>0.99</td>\n",
              "      <td>NaN</td>\n",
              "    </tr>\n",
              "  </tbody>\n",
              "</table>\n",
              "</div>"
            ],
            "text/plain": [
              "       Average User Rating In-app Purchases  Price  User Rating Count\n",
              "13521                  5.0              NaN   0.00                8.0\n",
              "14691                  4.5              NaN   0.00             2601.0\n",
              "16738                  NaN              NaN   0.00                NaN\n",
              "10050                  NaN              NaN   0.00                NaN\n",
              "15887                  NaN              NaN   0.99                NaN"
            ]
          },
          "metadata": {
            "tags": []
          },
          "execution_count": 43
        }
      ]
    },
    {
      "cell_type": "code",
      "metadata": {
        "id": "B46BcMB1wrDF"
      },
      "source": [
        "df_features = df_apps[['Average User Rating', 'In-app Purchases', 'Price', 'User Rating Count']].copy() \n",
        "#copy และสร้างตัวแปรใหม่ df_features"
      ],
      "execution_count": 44,
      "outputs": []
    },
    {
      "cell_type": "code",
      "metadata": {
        "colab": {
          "base_uri": "https://localhost:8080/",
          "height": 173
        },
        "id": "0Kch5Es1wvHL",
        "outputId": "30346cb0-53f8-426e-be86-7e7a0e8347da"
      },
      "source": [
        "df_features[:4]"
      ],
      "execution_count": 45,
      "outputs": [
        {
          "output_type": "execute_result",
          "data": {
            "text/html": [
              "<div>\n",
              "<style scoped>\n",
              "    .dataframe tbody tr th:only-of-type {\n",
              "        vertical-align: middle;\n",
              "    }\n",
              "\n",
              "    .dataframe tbody tr th {\n",
              "        vertical-align: top;\n",
              "    }\n",
              "\n",
              "    .dataframe thead th {\n",
              "        text-align: right;\n",
              "    }\n",
              "</style>\n",
              "<table border=\"1\" class=\"dataframe\">\n",
              "  <thead>\n",
              "    <tr style=\"text-align: right;\">\n",
              "      <th></th>\n",
              "      <th>Average User Rating</th>\n",
              "      <th>In-app Purchases</th>\n",
              "      <th>Price</th>\n",
              "      <th>User Rating Count</th>\n",
              "    </tr>\n",
              "  </thead>\n",
              "  <tbody>\n",
              "    <tr>\n",
              "      <th>0</th>\n",
              "      <td>4.0</td>\n",
              "      <td>NaN</td>\n",
              "      <td>2.99</td>\n",
              "      <td>3553.0</td>\n",
              "    </tr>\n",
              "    <tr>\n",
              "      <th>1</th>\n",
              "      <td>3.5</td>\n",
              "      <td>NaN</td>\n",
              "      <td>1.99</td>\n",
              "      <td>284.0</td>\n",
              "    </tr>\n",
              "    <tr>\n",
              "      <th>2</th>\n",
              "      <td>3.0</td>\n",
              "      <td>NaN</td>\n",
              "      <td>0.00</td>\n",
              "      <td>8376.0</td>\n",
              "    </tr>\n",
              "    <tr>\n",
              "      <th>3</th>\n",
              "      <td>3.5</td>\n",
              "      <td>NaN</td>\n",
              "      <td>0.00</td>\n",
              "      <td>190394.0</td>\n",
              "    </tr>\n",
              "  </tbody>\n",
              "</table>\n",
              "</div>"
            ],
            "text/plain": [
              "   Average User Rating In-app Purchases  Price  User Rating Count\n",
              "0                  4.0              NaN   2.99             3553.0\n",
              "1                  3.5              NaN   1.99              284.0\n",
              "2                  3.0              NaN   0.00             8376.0\n",
              "3                  3.5              NaN   0.00           190394.0"
            ]
          },
          "metadata": {
            "tags": []
          },
          "execution_count": 45
        }
      ]
    },
    {
      "cell_type": "code",
      "metadata": {
        "colab": {
          "base_uri": "https://localhost:8080/"
        },
        "id": "r6KVWPF5w8Hm",
        "outputId": "9a9a0804-230f-47fa-84eb-889ac18f9449"
      },
      "source": [
        "df_features.info()\n"
      ],
      "execution_count": 46,
      "outputs": [
        {
          "output_type": "stream",
          "text": [
            "<class 'pandas.core.frame.DataFrame'>\n",
            "RangeIndex: 17007 entries, 0 to 17006\n",
            "Data columns (total 4 columns):\n",
            " #   Column               Non-Null Count  Dtype  \n",
            "---  ------               --------------  -----  \n",
            " 0   Average User Rating  7561 non-null   float64\n",
            " 1   In-app Purchases     7683 non-null   object \n",
            " 2   Price                16983 non-null  float64\n",
            " 3   User Rating Count    7561 non-null   float64\n",
            "dtypes: float64(3), object(1)\n",
            "memory usage: 531.6+ KB\n"
          ],
          "name": "stdout"
        }
      ]
    },
    {
      "cell_type": "code",
      "metadata": {
        "id": "jGDPC9fOw97W"
      },
      "source": [
        "inapps_ls = df_features[\"In-app Purchases\"].tolist() # .tolist() คือ แปลงให้เป็น list"
      ],
      "execution_count": 47,
      "outputs": []
    },
    {
      "cell_type": "code",
      "metadata": {
        "colab": {
          "base_uri": "https://localhost:8080/"
        },
        "id": "r89W6eoQxQvr",
        "outputId": "51fa5597-444a-42f2-d91e-b461a64753ff"
      },
      "source": [
        "inapps_ls[100:105]"
      ],
      "execution_count": 48,
      "outputs": [
        {
          "output_type": "execute_result",
          "data": {
            "text/plain": [
              "['0.99, 0.99',\n",
              " nan,\n",
              " '0.99, 0.99, 0.99, 1.99, 0.99, 2.99, 4.99, 0.99, 0.99, 0.99',\n",
              " nan,\n",
              " nan]"
            ]
          },
          "metadata": {
            "tags": []
          },
          "execution_count": 48
        }
      ]
    },
    {
      "cell_type": "code",
      "metadata": {
        "colab": {
          "base_uri": "https://localhost:8080/"
        },
        "id": "jGNqUAJexVmR",
        "outputId": "bde9254b-c3a0-4d24-ddc3-3a446a18d1f1"
      },
      "source": [
        "test_ls = '0.99, 0.99, 0.99, 1.99, 0.99, 2.99, 4.99, 0.99, 0.99, 0.99'.split(\", \") # . split(\", \") คือ แยก list ด้วยเครื่องหมาย ,\n",
        "test_ls"
      ],
      "execution_count": 49,
      "outputs": [
        {
          "output_type": "execute_result",
          "data": {
            "text/plain": [
              "['0.99',\n",
              " '0.99',\n",
              " '0.99',\n",
              " '1.99',\n",
              " '0.99',\n",
              " '2.99',\n",
              " '4.99',\n",
              " '0.99',\n",
              " '0.99',\n",
              " '0.99']"
            ]
          },
          "metadata": {
            "tags": []
          },
          "execution_count": 49
        }
      ]
    },
    {
      "cell_type": "code",
      "metadata": {
        "colab": {
          "base_uri": "https://localhost:8080/"
        },
        "id": "tPqjrdhzxXfj",
        "outputId": "14138145-1235-4036-e6f3-013b32090eb9"
      },
      "source": [
        "# List Comprehension\n",
        "test_float_ls = [float(elem) for elem in test_ls]\n",
        "test_float_ls"
      ],
      "execution_count": 50,
      "outputs": [
        {
          "output_type": "execute_result",
          "data": {
            "text/plain": [
              "[0.99, 0.99, 0.99, 1.99, 0.99, 2.99, 4.99, 0.99, 0.99, 0.99]"
            ]
          },
          "metadata": {
            "tags": []
          },
          "execution_count": 50
        }
      ]
    },
    {
      "cell_type": "code",
      "metadata": {
        "colab": {
          "base_uri": "https://localhost:8080/"
        },
        "id": "jE9Gw99kxf8J",
        "outputId": "150a7b3d-dc1b-4b32-936f-c79dfc4360b4"
      },
      "source": [
        "test_float_ls = []\n",
        "for elem in test_ls:\n",
        "    float_elem = float(elem)\n",
        "    test_float_ls.append(float_elem)\n",
        "\n",
        "test_float_ls"
      ],
      "execution_count": 51,
      "outputs": [
        {
          "output_type": "execute_result",
          "data": {
            "text/plain": [
              "[0.99, 0.99, 0.99, 1.99, 0.99, 2.99, 4.99, 0.99, 0.99, 0.99]"
            ]
          },
          "metadata": {
            "tags": []
          },
          "execution_count": 51
        }
      ]
    },
    {
      "cell_type": "code",
      "metadata": {
        "id": "0pVBedVdxhhk"
      },
      "source": [
        "import numpy as np"
      ],
      "execution_count": 52,
      "outputs": []
    },
    {
      "cell_type": "code",
      "metadata": {
        "id": "svGXXqXHxkbe"
      },
      "source": [
        "avg_inapps_ls = []\n",
        "for elem in inapps_ls:\n",
        "    str_elem_ls = str(elem).split(\", \")\n",
        "    float_elem_ls = [float(elem) for elem in str_elem_ls]\n",
        "    avg_inapps = np.mean(np.array(float_elem_ls))\n",
        "    avg_inapps_ls.append(avg_inapps)"
      ],
      "execution_count": 53,
      "outputs": []
    },
    {
      "cell_type": "code",
      "metadata": {
        "colab": {
          "base_uri": "https://localhost:8080/"
        },
        "id": "Y6vljD2txq_2",
        "outputId": "69202b24-aec1-464c-c884-7f431d27d5ea"
      },
      "source": [
        "print(inapps_ls[100:105])\n",
        "print(avg_inapps_ls[100:105])"
      ],
      "execution_count": 54,
      "outputs": [
        {
          "output_type": "stream",
          "text": [
            "['0.99, 0.99', nan, '0.99, 0.99, 0.99, 1.99, 0.99, 2.99, 4.99, 0.99, 0.99, 0.99', nan, nan]\n",
            "[0.99, nan, 1.6900000000000002, nan, nan]\n"
          ],
          "name": "stdout"
        }
      ]
    },
    {
      "cell_type": "code",
      "metadata": {
        "colab": {
          "base_uri": "https://localhost:8080/"
        },
        "id": "YSRO4ghvxs7x",
        "outputId": "56255823-c715-4545-d5aa-72fc21bf07c6"
      },
      "source": [
        "len(avg_inapps_ls)"
      ],
      "execution_count": 55,
      "outputs": [
        {
          "output_type": "execute_result",
          "data": {
            "text/plain": [
              "17007"
            ]
          },
          "metadata": {
            "tags": []
          },
          "execution_count": 55
        }
      ]
    },
    {
      "cell_type": "code",
      "metadata": {
        "id": "OXGCleycxuoH"
      },
      "source": [
        "df_features[\"avg_in_app_puchase\"] = avg_inapps_ls"
      ],
      "execution_count": 56,
      "outputs": []
    },
    {
      "cell_type": "code",
      "metadata": {
        "colab": {
          "base_uri": "https://localhost:8080/",
          "height": 204
        },
        "id": "gRnsmOoAxw46",
        "outputId": "d1a80b91-4dc3-4dd4-bb7b-6a44f92935c1"
      },
      "source": [
        "df_features[[\"In-app Purchases\", \"avg_in_app_puchase\"]].sample(5)"
      ],
      "execution_count": 57,
      "outputs": [
        {
          "output_type": "execute_result",
          "data": {
            "text/html": [
              "<div>\n",
              "<style scoped>\n",
              "    .dataframe tbody tr th:only-of-type {\n",
              "        vertical-align: middle;\n",
              "    }\n",
              "\n",
              "    .dataframe tbody tr th {\n",
              "        vertical-align: top;\n",
              "    }\n",
              "\n",
              "    .dataframe thead th {\n",
              "        text-align: right;\n",
              "    }\n",
              "</style>\n",
              "<table border=\"1\" class=\"dataframe\">\n",
              "  <thead>\n",
              "    <tr style=\"text-align: right;\">\n",
              "      <th></th>\n",
              "      <th>In-app Purchases</th>\n",
              "      <th>avg_in_app_puchase</th>\n",
              "    </tr>\n",
              "  </thead>\n",
              "  <tbody>\n",
              "    <tr>\n",
              "      <th>1778</th>\n",
              "      <td>NaN</td>\n",
              "      <td>NaN</td>\n",
              "    </tr>\n",
              "    <tr>\n",
              "      <th>7244</th>\n",
              "      <td>19.99, 10.99, 9.99, 5.99</td>\n",
              "      <td>11.74</td>\n",
              "    </tr>\n",
              "    <tr>\n",
              "      <th>9680</th>\n",
              "      <td>NaN</td>\n",
              "      <td>NaN</td>\n",
              "    </tr>\n",
              "    <tr>\n",
              "      <th>9583</th>\n",
              "      <td>0.99, 2.99, 1.99</td>\n",
              "      <td>1.99</td>\n",
              "    </tr>\n",
              "    <tr>\n",
              "      <th>14847</th>\n",
              "      <td>NaN</td>\n",
              "      <td>NaN</td>\n",
              "    </tr>\n",
              "  </tbody>\n",
              "</table>\n",
              "</div>"
            ],
            "text/plain": [
              "               In-app Purchases  avg_in_app_puchase\n",
              "1778                        NaN                 NaN\n",
              "7244   19.99, 10.99, 9.99, 5.99               11.74\n",
              "9680                        NaN                 NaN\n",
              "9583           0.99, 2.99, 1.99                1.99\n",
              "14847                       NaN                 NaN"
            ]
          },
          "metadata": {
            "tags": []
          },
          "execution_count": 57
        }
      ]
    },
    {
      "cell_type": "markdown",
      "metadata": {
        "id": "cmLdovzQxycF"
      },
      "source": [
        "## **จัดการ Missing Values¶**\n",
        "* ตัด row นั้นทิ้ง\n",
        "* Imputation หาค่ามาเติม เช่น เติมค่าเฉลี่ย หรือ 0"
      ]
    },
    {
      "cell_type": "code",
      "metadata": {
        "colab": {
          "base_uri": "https://localhost:8080/"
        },
        "id": "C-S4UaD0x4IN",
        "outputId": "38cf728c-18af-485f-aeb5-cebe8882e867"
      },
      "source": [
        "df_features.columns"
      ],
      "execution_count": 58,
      "outputs": [
        {
          "output_type": "execute_result",
          "data": {
            "text/plain": [
              "Index(['Average User Rating', 'In-app Purchases', 'Price', 'User Rating Count',\n",
              "       'avg_in_app_puchase'],\n",
              "      dtype='object')"
            ]
          },
          "metadata": {
            "tags": []
          },
          "execution_count": 58
        }
      ]
    },
    {
      "cell_type": "code",
      "metadata": {
        "id": "gmykDI02x8pC"
      },
      "source": [
        "df_features = df_features.fillna(0) #.fillna(0) คือเติม 0 เพื่อแก้ missing values"
      ],
      "execution_count": 59,
      "outputs": []
    },
    {
      "cell_type": "code",
      "metadata": {
        "colab": {
          "base_uri": "https://localhost:8080/"
        },
        "id": "ddijhL0Rx-8d",
        "outputId": "977e6698-9f8a-4834-a58a-36a447332f6f"
      },
      "source": [
        "df_features.info()"
      ],
      "execution_count": 60,
      "outputs": [
        {
          "output_type": "stream",
          "text": [
            "<class 'pandas.core.frame.DataFrame'>\n",
            "RangeIndex: 17007 entries, 0 to 17006\n",
            "Data columns (total 5 columns):\n",
            " #   Column               Non-Null Count  Dtype  \n",
            "---  ------               --------------  -----  \n",
            " 0   Average User Rating  17007 non-null  float64\n",
            " 1   In-app Purchases     17007 non-null  object \n",
            " 2   Price                17007 non-null  float64\n",
            " 3   User Rating Count    17007 non-null  float64\n",
            " 4   avg_in_app_puchase   17007 non-null  float64\n",
            "dtypes: float64(4), object(1)\n",
            "memory usage: 664.5+ KB\n"
          ],
          "name": "stdout"
        }
      ]
    },
    {
      "cell_type": "code",
      "metadata": {
        "colab": {
          "base_uri": "https://localhost:8080/",
          "height": 297
        },
        "id": "6S0eB3tayB2W",
        "outputId": "5469a180-433d-4784-9ca6-2fad91f9d0f3"
      },
      "source": [
        "df_features.describe()"
      ],
      "execution_count": 61,
      "outputs": [
        {
          "output_type": "execute_result",
          "data": {
            "text/html": [
              "<div>\n",
              "<style scoped>\n",
              "    .dataframe tbody tr th:only-of-type {\n",
              "        vertical-align: middle;\n",
              "    }\n",
              "\n",
              "    .dataframe tbody tr th {\n",
              "        vertical-align: top;\n",
              "    }\n",
              "\n",
              "    .dataframe thead th {\n",
              "        text-align: right;\n",
              "    }\n",
              "</style>\n",
              "<table border=\"1\" class=\"dataframe\">\n",
              "  <thead>\n",
              "    <tr style=\"text-align: right;\">\n",
              "      <th></th>\n",
              "      <th>Average User Rating</th>\n",
              "      <th>Price</th>\n",
              "      <th>User Rating Count</th>\n",
              "      <th>avg_in_app_puchase</th>\n",
              "    </tr>\n",
              "  </thead>\n",
              "  <tbody>\n",
              "    <tr>\n",
              "      <th>count</th>\n",
              "      <td>17007.000000</td>\n",
              "      <td>17007.000000</td>\n",
              "      <td>1.700700e+04</td>\n",
              "      <td>17007.000000</td>\n",
              "    </tr>\n",
              "    <tr>\n",
              "      <th>mean</th>\n",
              "      <td>1.805404</td>\n",
              "      <td>0.812271</td>\n",
              "      <td>1.470023e+03</td>\n",
              "      <td>3.337221</td>\n",
              "    </tr>\n",
              "    <tr>\n",
              "      <th>std</th>\n",
              "      <td>2.079264</td>\n",
              "      <td>7.830260</td>\n",
              "      <td>2.826616e+04</td>\n",
              "      <td>7.144740</td>\n",
              "    </tr>\n",
              "    <tr>\n",
              "      <th>min</th>\n",
              "      <td>0.000000</td>\n",
              "      <td>0.000000</td>\n",
              "      <td>0.000000e+00</td>\n",
              "      <td>0.000000</td>\n",
              "    </tr>\n",
              "    <tr>\n",
              "      <th>25%</th>\n",
              "      <td>0.000000</td>\n",
              "      <td>0.000000</td>\n",
              "      <td>0.000000e+00</td>\n",
              "      <td>0.000000</td>\n",
              "    </tr>\n",
              "    <tr>\n",
              "      <th>50%</th>\n",
              "      <td>0.000000</td>\n",
              "      <td>0.000000</td>\n",
              "      <td>0.000000e+00</td>\n",
              "      <td>0.000000</td>\n",
              "    </tr>\n",
              "    <tr>\n",
              "      <th>75%</th>\n",
              "      <td>4.000000</td>\n",
              "      <td>0.000000</td>\n",
              "      <td>3.100000e+01</td>\n",
              "      <td>2.990000</td>\n",
              "    </tr>\n",
              "    <tr>\n",
              "      <th>max</th>\n",
              "      <td>5.000000</td>\n",
              "      <td>179.990000</td>\n",
              "      <td>3.032734e+06</td>\n",
              "      <td>89.990000</td>\n",
              "    </tr>\n",
              "  </tbody>\n",
              "</table>\n",
              "</div>"
            ],
            "text/plain": [
              "       Average User Rating         Price  User Rating Count  avg_in_app_puchase\n",
              "count         17007.000000  17007.000000       1.700700e+04        17007.000000\n",
              "mean              1.805404      0.812271       1.470023e+03            3.337221\n",
              "std               2.079264      7.830260       2.826616e+04            7.144740\n",
              "min               0.000000      0.000000       0.000000e+00            0.000000\n",
              "25%               0.000000      0.000000       0.000000e+00            0.000000\n",
              "50%               0.000000      0.000000       0.000000e+00            0.000000\n",
              "75%               4.000000      0.000000       3.100000e+01            2.990000\n",
              "max               5.000000    179.990000       3.032734e+06           89.990000"
            ]
          },
          "metadata": {
            "tags": []
          },
          "execution_count": 61
        }
      ]
    },
    {
      "cell_type": "markdown",
      "metadata": {
        "id": "zZnuH1eByDsz"
      },
      "source": [
        "## **Normalization**\n",
        "คือการปรับเสกลให้เท่ากัน"
      ]
    },
    {
      "cell_type": "code",
      "metadata": {
        "id": "tLPbY-bQyHGs"
      },
      "source": [
        "from sklearn.preprocessing import MinMaxScaler  #MinMaxScaler ใช้ปรับ scale"
      ],
      "execution_count": 62,
      "outputs": []
    },
    {
      "cell_type": "code",
      "metadata": {
        "id": "n_WSl3U0yJF3"
      },
      "source": [
        "norm = MinMaxScaler((0,100))"
      ],
      "execution_count": 63,
      "outputs": []
    },
    {
      "cell_type": "code",
      "metadata": {
        "colab": {
          "base_uri": "https://localhost:8080/"
        },
        "id": "QKBoyxZwyKnR",
        "outputId": "b793a243-73dd-47e1-f269-6d9129372a98"
      },
      "source": [
        "df_features[\"Average User Rating\"].values.reshape((17007, 1))"
      ],
      "execution_count": 64,
      "outputs": [
        {
          "output_type": "execute_result",
          "data": {
            "text/plain": [
              "array([[4. ],\n",
              "       [3.5],\n",
              "       [3. ],\n",
              "       ...,\n",
              "       [0. ],\n",
              "       [0. ],\n",
              "       [0. ]])"
            ]
          },
          "metadata": {
            "tags": []
          },
          "execution_count": 64
        }
      ]
    },
    {
      "cell_type": "code",
      "metadata": {
        "colab": {
          "base_uri": "https://localhost:8080/"
        },
        "id": "JgrN5lF4yMGW",
        "outputId": "f6a7a50b-cbfc-42eb-b7ba-d61e97006182"
      },
      "source": [
        "norm.fit_transform(df_features[\"Average User Rating\"].values.reshape((17007, 1)))"
      ],
      "execution_count": 65,
      "outputs": [
        {
          "output_type": "execute_result",
          "data": {
            "text/plain": [
              "array([[80.],\n",
              "       [70.],\n",
              "       [60.],\n",
              "       ...,\n",
              "       [ 0.],\n",
              "       [ 0.],\n",
              "       [ 0.]])"
            ]
          },
          "metadata": {
            "tags": []
          },
          "execution_count": 65
        }
      ]
    },
    {
      "cell_type": "code",
      "metadata": {
        "id": "fX3EFfBTyVr_"
      },
      "source": [
        "df_features[\"norm_Average User Rating\"] = norm.fit_transform(df_features[\"Average User Rating\"].values.reshape((17007, 1)))\n",
        "df_features[\"norm_Price\"] = norm.fit_transform(df_features[\"Price\"].values.reshape((17007, 1)))\n",
        "df_features[\"norm_User Rating Count\"] = norm.fit_transform(df_features[\"User Rating Count\"].values.reshape((17007, 1)))\n",
        "df_features[\"norm_avg_in_app_puchase\"] = norm.fit_transform(df_features[\"avg_in_app_puchase\"].values.reshape((17007, 1)))\n"
      ],
      "execution_count": 66,
      "outputs": []
    },
    {
      "cell_type": "code",
      "metadata": {
        "colab": {
          "base_uri": "https://localhost:8080/",
          "height": 297
        },
        "id": "hTix_Q9ZycUn",
        "outputId": "1fd04492-4d0d-43cb-c65e-55bee19b7091"
      },
      "source": [
        "df_features[[\"norm_Average User Rating\", \n",
        "              \"norm_Price\", \n",
        "              \"norm_User Rating Count\", \n",
        "              \"norm_avg_in_app_puchase\"]].describe() # ทำทั้งหมดเพื่อปรับ range ของ scale 0-100"
      ],
      "execution_count": 67,
      "outputs": [
        {
          "output_type": "execute_result",
          "data": {
            "text/html": [
              "<div>\n",
              "<style scoped>\n",
              "    .dataframe tbody tr th:only-of-type {\n",
              "        vertical-align: middle;\n",
              "    }\n",
              "\n",
              "    .dataframe tbody tr th {\n",
              "        vertical-align: top;\n",
              "    }\n",
              "\n",
              "    .dataframe thead th {\n",
              "        text-align: right;\n",
              "    }\n",
              "</style>\n",
              "<table border=\"1\" class=\"dataframe\">\n",
              "  <thead>\n",
              "    <tr style=\"text-align: right;\">\n",
              "      <th></th>\n",
              "      <th>norm_Average User Rating</th>\n",
              "      <th>norm_Price</th>\n",
              "      <th>norm_User Rating Count</th>\n",
              "      <th>norm_avg_in_app_puchase</th>\n",
              "    </tr>\n",
              "  </thead>\n",
              "  <tbody>\n",
              "    <tr>\n",
              "      <th>count</th>\n",
              "      <td>17007.000000</td>\n",
              "      <td>17007.000000</td>\n",
              "      <td>17007.000000</td>\n",
              "      <td>17007.000000</td>\n",
              "    </tr>\n",
              "    <tr>\n",
              "      <th>mean</th>\n",
              "      <td>36.108073</td>\n",
              "      <td>0.451287</td>\n",
              "      <td>0.048472</td>\n",
              "      <td>3.708435</td>\n",
              "    </tr>\n",
              "    <tr>\n",
              "      <th>std</th>\n",
              "      <td>41.585290</td>\n",
              "      <td>4.350386</td>\n",
              "      <td>0.932035</td>\n",
              "      <td>7.939482</td>\n",
              "    </tr>\n",
              "    <tr>\n",
              "      <th>min</th>\n",
              "      <td>0.000000</td>\n",
              "      <td>0.000000</td>\n",
              "      <td>0.000000</td>\n",
              "      <td>0.000000</td>\n",
              "    </tr>\n",
              "    <tr>\n",
              "      <th>25%</th>\n",
              "      <td>0.000000</td>\n",
              "      <td>0.000000</td>\n",
              "      <td>0.000000</td>\n",
              "      <td>0.000000</td>\n",
              "    </tr>\n",
              "    <tr>\n",
              "      <th>50%</th>\n",
              "      <td>0.000000</td>\n",
              "      <td>0.000000</td>\n",
              "      <td>0.000000</td>\n",
              "      <td>0.000000</td>\n",
              "    </tr>\n",
              "    <tr>\n",
              "      <th>75%</th>\n",
              "      <td>80.000000</td>\n",
              "      <td>0.000000</td>\n",
              "      <td>0.001022</td>\n",
              "      <td>3.322591</td>\n",
              "    </tr>\n",
              "    <tr>\n",
              "      <th>max</th>\n",
              "      <td>100.000000</td>\n",
              "      <td>100.000000</td>\n",
              "      <td>100.000000</td>\n",
              "      <td>100.000000</td>\n",
              "    </tr>\n",
              "  </tbody>\n",
              "</table>\n",
              "</div>"
            ],
            "text/plain": [
              "       norm_Average User Rating  ...  norm_avg_in_app_puchase\n",
              "count              17007.000000  ...             17007.000000\n",
              "mean                  36.108073  ...                 3.708435\n",
              "std                   41.585290  ...                 7.939482\n",
              "min                    0.000000  ...                 0.000000\n",
              "25%                    0.000000  ...                 0.000000\n",
              "50%                    0.000000  ...                 0.000000\n",
              "75%                   80.000000  ...                 3.322591\n",
              "max                  100.000000  ...               100.000000\n",
              "\n",
              "[8 rows x 4 columns]"
            ]
          },
          "metadata": {
            "tags": []
          },
          "execution_count": 67
        }
      ]
    },
    {
      "cell_type": "code",
      "metadata": {
        "id": "t3C3dx0ayegN"
      },
      "source": [
        ""
      ],
      "execution_count": 67,
      "outputs": []
    },
    {
      "cell_type": "markdown",
      "metadata": {
        "id": "Mz1z7Qfr5LWz"
      },
      "source": [
        "# Average"
      ]
    },
    {
      "cell_type": "code",
      "metadata": {
        "id": "424mpdpY5MQT"
      },
      "source": [
        "df_features[\"luxe_score\"] = df_features[[\"norm_Average User Rating\", \n",
        "                                            \"norm_Price\", \n",
        "                                            \"norm_User Rating Count\", \n",
        "                                            \"norm_avg_in_app_puchase\"]].mean(axis=1) #หาแนว row"
      ],
      "execution_count": 68,
      "outputs": []
    },
    {
      "cell_type": "code",
      "metadata": {
        "colab": {
          "base_uri": "https://localhost:8080/",
          "height": 204
        },
        "id": "dbk5YdBX5PDW",
        "outputId": "f1bf15c9-bb59-4a36-949d-f160bf3441c9"
      },
      "source": [
        "df_features[[\"luxe_score\"]][:5]"
      ],
      "execution_count": 69,
      "outputs": [
        {
          "output_type": "execute_result",
          "data": {
            "text/html": [
              "<div>\n",
              "<style scoped>\n",
              "    .dataframe tbody tr th:only-of-type {\n",
              "        vertical-align: middle;\n",
              "    }\n",
              "\n",
              "    .dataframe tbody tr th {\n",
              "        vertical-align: top;\n",
              "    }\n",
              "\n",
              "    .dataframe thead th {\n",
              "        text-align: right;\n",
              "    }\n",
              "</style>\n",
              "<table border=\"1\" class=\"dataframe\">\n",
              "  <thead>\n",
              "    <tr style=\"text-align: right;\">\n",
              "      <th></th>\n",
              "      <th>luxe_score</th>\n",
              "    </tr>\n",
              "  </thead>\n",
              "  <tbody>\n",
              "    <tr>\n",
              "      <th>0</th>\n",
              "      <td>20.444590</td>\n",
              "    </tr>\n",
              "    <tr>\n",
              "      <th>1</th>\n",
              "      <td>17.778745</td>\n",
              "    </tr>\n",
              "    <tr>\n",
              "      <th>2</th>\n",
              "      <td>15.069047</td>\n",
              "    </tr>\n",
              "    <tr>\n",
              "      <th>3</th>\n",
              "      <td>19.069491</td>\n",
              "    </tr>\n",
              "    <tr>\n",
              "      <th>4</th>\n",
              "      <td>17.915532</td>\n",
              "    </tr>\n",
              "  </tbody>\n",
              "</table>\n",
              "</div>"
            ],
            "text/plain": [
              "   luxe_score\n",
              "0   20.444590\n",
              "1   17.778745\n",
              "2   15.069047\n",
              "3   19.069491\n",
              "4   17.915532"
            ]
          },
          "metadata": {
            "tags": []
          },
          "execution_count": 69
        }
      ]
    },
    {
      "cell_type": "code",
      "metadata": {
        "colab": {
          "base_uri": "https://localhost:8080/"
        },
        "id": "-5S6dlMM5Vhy",
        "outputId": "76d8805c-0df3-4b10-fe8e-9800d9a56418"
      },
      "source": [
        "df_features.columns"
      ],
      "execution_count": 70,
      "outputs": [
        {
          "output_type": "execute_result",
          "data": {
            "text/plain": [
              "Index(['Average User Rating', 'In-app Purchases', 'Price', 'User Rating Count',\n",
              "       'avg_in_app_puchase', 'norm_Average User Rating', 'norm_Price',\n",
              "       'norm_User Rating Count', 'norm_avg_in_app_puchase', 'luxe_score'],\n",
              "      dtype='object')"
            ]
          },
          "metadata": {
            "tags": []
          },
          "execution_count": 70
        }
      ]
    },
    {
      "cell_type": "code",
      "metadata": {
        "colab": {
          "base_uri": "https://localhost:8080/"
        },
        "id": "WIslKAtk5YKA",
        "outputId": "ef60145c-bc7e-40ef-ad35-9f9e32f8320f"
      },
      "source": [
        "df_apps.shape, df_features.shape"
      ],
      "execution_count": 71,
      "outputs": [
        {
          "output_type": "execute_result",
          "data": {
            "text/plain": [
              "((17007, 19), (17007, 10))"
            ]
          },
          "metadata": {
            "tags": []
          },
          "execution_count": 71
        }
      ]
    },
    {
      "cell_type": "markdown",
      "metadata": {
        "id": "D5_KDCT-5Zyz"
      },
      "source": [
        "## **Joining**"
      ]
    },
    {
      "cell_type": "code",
      "metadata": {
        "id": "QXmoon5J5cm-"
      },
      "source": [
        "df_join = df_apps.join(df_features[[\"luxe_score\"]], how=\"inner\") # how=\"inner\" คือ join แบบไหน left right inner outer"
      ],
      "execution_count": 72,
      "outputs": []
    },
    {
      "cell_type": "code",
      "metadata": {
        "colab": {
          "base_uri": "https://localhost:8080/"
        },
        "id": "gUO6xQ0r5gqo",
        "outputId": "08e63ffd-b639-458d-f150-dca92ea51c72"
      },
      "source": [
        "df_join.columns"
      ],
      "execution_count": 73,
      "outputs": [
        {
          "output_type": "execute_result",
          "data": {
            "text/plain": [
              "Index(['URL', 'ID', 'Name', 'Subtitle', 'Icon URL', 'Average User Rating',\n",
              "       'User Rating Count', 'Price', 'In-app Purchases', 'Description',\n",
              "       'Developer', 'Age Rating', 'Languages', 'Size', 'Primary Genre',\n",
              "       'Genres', 'Original Release Date', 'Current Version Release Date',\n",
              "       'Price_tax', 'luxe_score'],\n",
              "      dtype='object')"
            ]
          },
          "metadata": {
            "tags": []
          },
          "execution_count": 73
        }
      ]
    },
    {
      "cell_type": "code",
      "metadata": {
        "colab": {
          "base_uri": "https://localhost:8080/",
          "height": 1000
        },
        "id": "sDRc0ayqToSc",
        "outputId": "66e070a3-91ae-4163-ea7b-ca95ae6f3575"
      },
      "source": [
        "df_join # เรียกดูที่ join ไป"
      ],
      "execution_count": 74,
      "outputs": [
        {
          "output_type": "execute_result",
          "data": {
            "text/html": [
              "<div>\n",
              "<style scoped>\n",
              "    .dataframe tbody tr th:only-of-type {\n",
              "        vertical-align: middle;\n",
              "    }\n",
              "\n",
              "    .dataframe tbody tr th {\n",
              "        vertical-align: top;\n",
              "    }\n",
              "\n",
              "    .dataframe thead th {\n",
              "        text-align: right;\n",
              "    }\n",
              "</style>\n",
              "<table border=\"1\" class=\"dataframe\">\n",
              "  <thead>\n",
              "    <tr style=\"text-align: right;\">\n",
              "      <th></th>\n",
              "      <th>URL</th>\n",
              "      <th>ID</th>\n",
              "      <th>Name</th>\n",
              "      <th>Subtitle</th>\n",
              "      <th>Icon URL</th>\n",
              "      <th>Average User Rating</th>\n",
              "      <th>User Rating Count</th>\n",
              "      <th>Price</th>\n",
              "      <th>In-app Purchases</th>\n",
              "      <th>Description</th>\n",
              "      <th>Developer</th>\n",
              "      <th>Age Rating</th>\n",
              "      <th>Languages</th>\n",
              "      <th>Size</th>\n",
              "      <th>Primary Genre</th>\n",
              "      <th>Genres</th>\n",
              "      <th>Original Release Date</th>\n",
              "      <th>Current Version Release Date</th>\n",
              "      <th>Price_tax</th>\n",
              "      <th>luxe_score</th>\n",
              "    </tr>\n",
              "  </thead>\n",
              "  <tbody>\n",
              "    <tr>\n",
              "      <th>0</th>\n",
              "      <td>https://apps.apple.com/us/app/sudoku/id284921427</td>\n",
              "      <td>284921427</td>\n",
              "      <td>Sudoku</td>\n",
              "      <td>NaN</td>\n",
              "      <td>https://is2-ssl.mzstatic.com/image/thumb/Purpl...</td>\n",
              "      <td>4.0</td>\n",
              "      <td>3553.0</td>\n",
              "      <td>2.99</td>\n",
              "      <td>NaN</td>\n",
              "      <td>Join over 21,000,000 of our fans and download ...</td>\n",
              "      <td>Mighty Mighty Good Games</td>\n",
              "      <td>4+</td>\n",
              "      <td>DA, NL, EN, FI, FR, DE, IT, JA, KO, NB, PL, PT...</td>\n",
              "      <td>15853568.0</td>\n",
              "      <td>Games</td>\n",
              "      <td>Games, Strategy, Puzzle</td>\n",
              "      <td>11/07/2008</td>\n",
              "      <td>30/05/2017</td>\n",
              "      <td>3.1993</td>\n",
              "      <td>20.444590</td>\n",
              "    </tr>\n",
              "    <tr>\n",
              "      <th>1</th>\n",
              "      <td>https://apps.apple.com/us/app/reversi/id284926400</td>\n",
              "      <td>284926400</td>\n",
              "      <td>Reversi</td>\n",
              "      <td>NaN</td>\n",
              "      <td>https://is4-ssl.mzstatic.com/image/thumb/Purpl...</td>\n",
              "      <td>3.5</td>\n",
              "      <td>284.0</td>\n",
              "      <td>1.99</td>\n",
              "      <td>NaN</td>\n",
              "      <td>The classic game of Reversi, also known as Oth...</td>\n",
              "      <td>Kiss The Machine</td>\n",
              "      <td>4+</td>\n",
              "      <td>EN</td>\n",
              "      <td>12328960.0</td>\n",
              "      <td>Games</td>\n",
              "      <td>Games, Strategy, Board</td>\n",
              "      <td>11/07/2008</td>\n",
              "      <td>17/05/2018</td>\n",
              "      <td>2.1293</td>\n",
              "      <td>17.778745</td>\n",
              "    </tr>\n",
              "    <tr>\n",
              "      <th>2</th>\n",
              "      <td>https://apps.apple.com/us/app/morocco/id284946595</td>\n",
              "      <td>284946595</td>\n",
              "      <td>Morocco</td>\n",
              "      <td>NaN</td>\n",
              "      <td>https://is5-ssl.mzstatic.com/image/thumb/Purpl...</td>\n",
              "      <td>3.0</td>\n",
              "      <td>8376.0</td>\n",
              "      <td>0.00</td>\n",
              "      <td>NaN</td>\n",
              "      <td>Play the classic strategy game Othello (also k...</td>\n",
              "      <td>Bayou Games</td>\n",
              "      <td>4+</td>\n",
              "      <td>EN</td>\n",
              "      <td>674816.0</td>\n",
              "      <td>Games</td>\n",
              "      <td>Games, Board, Strategy</td>\n",
              "      <td>11/07/2008</td>\n",
              "      <td>5/09/2017</td>\n",
              "      <td>0.0000</td>\n",
              "      <td>15.069047</td>\n",
              "    </tr>\n",
              "    <tr>\n",
              "      <th>3</th>\n",
              "      <td>https://apps.apple.com/us/app/sudoku-free/id28...</td>\n",
              "      <td>285755462</td>\n",
              "      <td>Sudoku (Free)</td>\n",
              "      <td>NaN</td>\n",
              "      <td>https://is3-ssl.mzstatic.com/image/thumb/Purpl...</td>\n",
              "      <td>3.5</td>\n",
              "      <td>190394.0</td>\n",
              "      <td>0.00</td>\n",
              "      <td>NaN</td>\n",
              "      <td>Top 100 free app for over a year.\\nRated \"Best...</td>\n",
              "      <td>Mighty Mighty Good Games</td>\n",
              "      <td>4+</td>\n",
              "      <td>DA, NL, EN, FI, FR, DE, IT, JA, KO, NB, PL, PT...</td>\n",
              "      <td>21552128.0</td>\n",
              "      <td>Games</td>\n",
              "      <td>Games, Strategy, Puzzle</td>\n",
              "      <td>23/07/2008</td>\n",
              "      <td>30/05/2017</td>\n",
              "      <td>0.0000</td>\n",
              "      <td>19.069491</td>\n",
              "    </tr>\n",
              "    <tr>\n",
              "      <th>4</th>\n",
              "      <td>https://apps.apple.com/us/app/senet-deluxe/id2...</td>\n",
              "      <td>285831220</td>\n",
              "      <td>Senet Deluxe</td>\n",
              "      <td>NaN</td>\n",
              "      <td>https://is1-ssl.mzstatic.com/image/thumb/Purpl...</td>\n",
              "      <td>3.5</td>\n",
              "      <td>28.0</td>\n",
              "      <td>2.99</td>\n",
              "      <td>NaN</td>\n",
              "      <td>\"Senet Deluxe - The Ancient Game of Life and A...</td>\n",
              "      <td>RoGame Software</td>\n",
              "      <td>4+</td>\n",
              "      <td>DA, NL, EN, FR, DE, EL, IT, JA, KO, NO, PT, RU...</td>\n",
              "      <td>34689024.0</td>\n",
              "      <td>Games</td>\n",
              "      <td>Games, Strategy, Board, Education</td>\n",
              "      <td>18/07/2008</td>\n",
              "      <td>22/07/2018</td>\n",
              "      <td>3.1993</td>\n",
              "      <td>17.915532</td>\n",
              "    </tr>\n",
              "    <tr>\n",
              "      <th>...</th>\n",
              "      <td>...</td>\n",
              "      <td>...</td>\n",
              "      <td>...</td>\n",
              "      <td>...</td>\n",
              "      <td>...</td>\n",
              "      <td>...</td>\n",
              "      <td>...</td>\n",
              "      <td>...</td>\n",
              "      <td>...</td>\n",
              "      <td>...</td>\n",
              "      <td>...</td>\n",
              "      <td>...</td>\n",
              "      <td>...</td>\n",
              "      <td>...</td>\n",
              "      <td>...</td>\n",
              "      <td>...</td>\n",
              "      <td>...</td>\n",
              "      <td>...</td>\n",
              "      <td>...</td>\n",
              "      <td>...</td>\n",
              "    </tr>\n",
              "    <tr>\n",
              "      <th>17002</th>\n",
              "      <td>https://apps.apple.com/us/app/stack-puzzle-ris...</td>\n",
              "      <td>1474626442</td>\n",
              "      <td>Stack Puzzle : Rise Tower</td>\n",
              "      <td>Blast the cubes, solve puzzle!</td>\n",
              "      <td>https://is5-ssl.mzstatic.com/image/thumb/Purpl...</td>\n",
              "      <td>NaN</td>\n",
              "      <td>NaN</td>\n",
              "      <td>0.00</td>\n",
              "      <td>NaN</td>\n",
              "      <td>The goal is very simple, move the square horiz...</td>\n",
              "      <td>Zhigang Pei</td>\n",
              "      <td>4+</td>\n",
              "      <td>EN</td>\n",
              "      <td>64795648.0</td>\n",
              "      <td>Games</td>\n",
              "      <td>Games, Entertainment, Casual, Strategy</td>\n",
              "      <td>30/07/2019</td>\n",
              "      <td>30/07/2019</td>\n",
              "      <td>0.0000</td>\n",
              "      <td>0.000000</td>\n",
              "    </tr>\n",
              "    <tr>\n",
              "      <th>17003</th>\n",
              "      <td>https://apps.apple.com/us/app/eachother/id1474...</td>\n",
              "      <td>1474919257</td>\n",
              "      <td>EachOther</td>\n",
              "      <td>NaN</td>\n",
              "      <td>https://is2-ssl.mzstatic.com/image/thumb/Purpl...</td>\n",
              "      <td>NaN</td>\n",
              "      <td>NaN</td>\n",
              "      <td>0.00</td>\n",
              "      <td>NaN</td>\n",
              "      <td>Collect a score while you play!!\\n\\nBy linking...</td>\n",
              "      <td>Sultan Shindi</td>\n",
              "      <td>4+</td>\n",
              "      <td>EN</td>\n",
              "      <td>110341120.0</td>\n",
              "      <td>Games</td>\n",
              "      <td>Games, Family, Strategy</td>\n",
              "      <td>1/08/2019</td>\n",
              "      <td>1/08/2019</td>\n",
              "      <td>0.0000</td>\n",
              "      <td>0.000000</td>\n",
              "    </tr>\n",
              "    <tr>\n",
              "      <th>17004</th>\n",
              "      <td>https://apps.apple.com/us/app/rabbit-vs-tortoi...</td>\n",
              "      <td>1474962324</td>\n",
              "      <td>Rabbit Vs Tortoise</td>\n",
              "      <td>NaN</td>\n",
              "      <td>https://is2-ssl.mzstatic.com/image/thumb/Purpl...</td>\n",
              "      <td>NaN</td>\n",
              "      <td>NaN</td>\n",
              "      <td>0.00</td>\n",
              "      <td>NaN</td>\n",
              "      <td>\"Rabbit Vs Tortoise is chess type cool simple ...</td>\n",
              "      <td>Vishal Baldha</td>\n",
              "      <td>4+</td>\n",
              "      <td>EN</td>\n",
              "      <td>23207936.0</td>\n",
              "      <td>Games</td>\n",
              "      <td>Games, Strategy</td>\n",
              "      <td>3/08/2019</td>\n",
              "      <td>3/08/2019</td>\n",
              "      <td>0.0000</td>\n",
              "      <td>0.000000</td>\n",
              "    </tr>\n",
              "    <tr>\n",
              "      <th>17005</th>\n",
              "      <td>https://apps.apple.com/us/app/fatall/id1474963671</td>\n",
              "      <td>1474963671</td>\n",
              "      <td>FaTaLL</td>\n",
              "      <td>Most fun game!!!</td>\n",
              "      <td>https://is1-ssl.mzstatic.com/image/thumb/Purpl...</td>\n",
              "      <td>NaN</td>\n",
              "      <td>NaN</td>\n",
              "      <td>0.00</td>\n",
              "      <td>9.99, 49.99, 3.99</td>\n",
              "      <td>Upgrade your character and use your skills to ...</td>\n",
              "      <td>Tayrem Games</td>\n",
              "      <td>4+</td>\n",
              "      <td>EN</td>\n",
              "      <td>196750336.0</td>\n",
              "      <td>Games</td>\n",
              "      <td>Games, Strategy, Action</td>\n",
              "      <td>1/08/2019</td>\n",
              "      <td>1/08/2019</td>\n",
              "      <td>0.0000</td>\n",
              "      <td>5.923806</td>\n",
              "    </tr>\n",
              "    <tr>\n",
              "      <th>17006</th>\n",
              "      <td>https://apps.apple.com/us/app/the-three-kingdo...</td>\n",
              "      <td>1475076711</td>\n",
              "      <td>The Three Kingdoms :Bomb</td>\n",
              "      <td>NaN</td>\n",
              "      <td>https://is1-ssl.mzstatic.com/image/thumb/Purpl...</td>\n",
              "      <td>NaN</td>\n",
              "      <td>NaN</td>\n",
              "      <td>0.00</td>\n",
              "      <td>NaN</td>\n",
              "      <td>The protagonist uses the method of placing a b...</td>\n",
              "      <td>ming bo tang</td>\n",
              "      <td>4+</td>\n",
              "      <td>EN, ZH</td>\n",
              "      <td>22952960.0</td>\n",
              "      <td>Games</td>\n",
              "      <td>Games, Strategy, Puzzle</td>\n",
              "      <td>2/08/2019</td>\n",
              "      <td>2/08/2019</td>\n",
              "      <td>0.0000</td>\n",
              "      <td>0.000000</td>\n",
              "    </tr>\n",
              "  </tbody>\n",
              "</table>\n",
              "<p>17007 rows × 20 columns</p>\n",
              "</div>"
            ],
            "text/plain": [
              "                                                     URL  ...  luxe_score\n",
              "0       https://apps.apple.com/us/app/sudoku/id284921427  ...   20.444590\n",
              "1      https://apps.apple.com/us/app/reversi/id284926400  ...   17.778745\n",
              "2      https://apps.apple.com/us/app/morocco/id284946595  ...   15.069047\n",
              "3      https://apps.apple.com/us/app/sudoku-free/id28...  ...   19.069491\n",
              "4      https://apps.apple.com/us/app/senet-deluxe/id2...  ...   17.915532\n",
              "...                                                  ...  ...         ...\n",
              "17002  https://apps.apple.com/us/app/stack-puzzle-ris...  ...    0.000000\n",
              "17003  https://apps.apple.com/us/app/eachother/id1474...  ...    0.000000\n",
              "17004  https://apps.apple.com/us/app/rabbit-vs-tortoi...  ...    0.000000\n",
              "17005  https://apps.apple.com/us/app/fatall/id1474963671  ...    5.923806\n",
              "17006  https://apps.apple.com/us/app/the-three-kingdo...  ...    0.000000\n",
              "\n",
              "[17007 rows x 20 columns]"
            ]
          },
          "metadata": {
            "tags": []
          },
          "execution_count": 74
        }
      ]
    },
    {
      "cell_type": "markdown",
      "metadata": {
        "id": "Gr6KbC3Y5iuI"
      },
      "source": [
        "## **Sorting**"
      ]
    },
    {
      "cell_type": "code",
      "metadata": {
        "colab": {
          "base_uri": "https://localhost:8080/",
          "height": 419
        },
        "id": "rjvvekar5lpt",
        "outputId": "9bbb1c41-60ed-45b5-f585-b3a6416d5164"
      },
      "source": [
        "df_join[[\"Name\", \"luxe_score\"]].sort_values(by=\"luxe_score\", ascending=False) \n",
        "# .sort_values คือสั่งให้เรียงข้อมูล\n",
        "# ascending=False เรียงข้อมูลมากไปหาน้อย\n",
        "# ascending=True เรียงข้อมูลน้อยไปหามาก"
      ],
      "execution_count": 75,
      "outputs": [
        {
          "output_type": "execute_result",
          "data": {
            "text/html": [
              "<div>\n",
              "<style scoped>\n",
              "    .dataframe tbody tr th:only-of-type {\n",
              "        vertical-align: middle;\n",
              "    }\n",
              "\n",
              "    .dataframe tbody tr th {\n",
              "        vertical-align: top;\n",
              "    }\n",
              "\n",
              "    .dataframe thead th {\n",
              "        text-align: right;\n",
              "    }\n",
              "</style>\n",
              "<table border=\"1\" class=\"dataframe\">\n",
              "  <thead>\n",
              "    <tr style=\"text-align: right;\">\n",
              "      <th></th>\n",
              "      <th>Name</th>\n",
              "      <th>luxe_score</th>\n",
              "    </tr>\n",
              "  </thead>\n",
              "  <tbody>\n",
              "    <tr>\n",
              "      <th>1378</th>\n",
              "      <td>Clash of Clans</td>\n",
              "      <td>53.053395</td>\n",
              "    </tr>\n",
              "    <tr>\n",
              "      <th>2634</th>\n",
              "      <td>Finabase: realtime stocks</td>\n",
              "      <td>48.617825</td>\n",
              "    </tr>\n",
              "    <tr>\n",
              "      <th>16085</th>\n",
              "      <td>Arcane Pets: Plushie Empire</td>\n",
              "      <td>43.332977</td>\n",
              "    </tr>\n",
              "    <tr>\n",
              "      <th>8946</th>\n",
              "      <td>War Planet Online</td>\n",
              "      <td>41.027593</td>\n",
              "    </tr>\n",
              "    <tr>\n",
              "      <th>1683</th>\n",
              "      <td>War of Nations\\u2122 - PVP Strategy</td>\n",
              "      <td>38.865776</td>\n",
              "    </tr>\n",
              "    <tr>\n",
              "      <th>...</th>\n",
              "      <td>...</td>\n",
              "      <td>...</td>\n",
              "    </tr>\n",
              "    <tr>\n",
              "      <th>9391</th>\n",
              "      <td>Super block 10x10 puzzle games for kids dots &amp;...</td>\n",
              "      <td>0.000000</td>\n",
              "    </tr>\n",
              "    <tr>\n",
              "      <th>1327</th>\n",
              "      <td>Shoot Apple</td>\n",
              "      <td>0.000000</td>\n",
              "    </tr>\n",
              "    <tr>\n",
              "      <th>9393</th>\n",
              "      <td>Strike Boom</td>\n",
              "      <td>0.000000</td>\n",
              "    </tr>\n",
              "    <tr>\n",
              "      <th>3154</th>\n",
              "      <td>Diamond-Rush</td>\n",
              "      <td>0.000000</td>\n",
              "    </tr>\n",
              "    <tr>\n",
              "      <th>17006</th>\n",
              "      <td>The Three Kingdoms :Bomb</td>\n",
              "      <td>0.000000</td>\n",
              "    </tr>\n",
              "  </tbody>\n",
              "</table>\n",
              "<p>17007 rows × 2 columns</p>\n",
              "</div>"
            ],
            "text/plain": [
              "                                                    Name  luxe_score\n",
              "1378                                      Clash of Clans   53.053395\n",
              "2634                           Finabase: realtime stocks   48.617825\n",
              "16085                        Arcane Pets: Plushie Empire   43.332977\n",
              "8946                                   War Planet Online   41.027593\n",
              "1683                 War of Nations\\u2122 - PVP Strategy   38.865776\n",
              "...                                                  ...         ...\n",
              "9391   Super block 10x10 puzzle games for kids dots &...    0.000000\n",
              "1327                                         Shoot Apple    0.000000\n",
              "9393                                         Strike Boom    0.000000\n",
              "3154                                        Diamond-Rush    0.000000\n",
              "17006                           The Three Kingdoms :Bomb    0.000000\n",
              "\n",
              "[17007 rows x 2 columns]"
            ]
          },
          "metadata": {
            "tags": []
          },
          "execution_count": 75
        }
      ]
    },
    {
      "cell_type": "code",
      "metadata": {
        "colab": {
          "base_uri": "https://localhost:8080/",
          "height": 419
        },
        "id": "ip8GByk-5nGQ",
        "outputId": "9c949ae0-0c3f-43d8-84b6-5f5a77cb61ad"
      },
      "source": [
        "df_leads = df_join[[\"Name\", \"luxe_score\"]].sort_values(by=\"luxe_score\", ascending=False)\n",
        "df_leads"
      ],
      "execution_count": 76,
      "outputs": [
        {
          "output_type": "execute_result",
          "data": {
            "text/html": [
              "<div>\n",
              "<style scoped>\n",
              "    .dataframe tbody tr th:only-of-type {\n",
              "        vertical-align: middle;\n",
              "    }\n",
              "\n",
              "    .dataframe tbody tr th {\n",
              "        vertical-align: top;\n",
              "    }\n",
              "\n",
              "    .dataframe thead th {\n",
              "        text-align: right;\n",
              "    }\n",
              "</style>\n",
              "<table border=\"1\" class=\"dataframe\">\n",
              "  <thead>\n",
              "    <tr style=\"text-align: right;\">\n",
              "      <th></th>\n",
              "      <th>Name</th>\n",
              "      <th>luxe_score</th>\n",
              "    </tr>\n",
              "  </thead>\n",
              "  <tbody>\n",
              "    <tr>\n",
              "      <th>1378</th>\n",
              "      <td>Clash of Clans</td>\n",
              "      <td>53.053395</td>\n",
              "    </tr>\n",
              "    <tr>\n",
              "      <th>2634</th>\n",
              "      <td>Finabase: realtime stocks</td>\n",
              "      <td>48.617825</td>\n",
              "    </tr>\n",
              "    <tr>\n",
              "      <th>16085</th>\n",
              "      <td>Arcane Pets: Plushie Empire</td>\n",
              "      <td>43.332977</td>\n",
              "    </tr>\n",
              "    <tr>\n",
              "      <th>8946</th>\n",
              "      <td>War Planet Online</td>\n",
              "      <td>41.027593</td>\n",
              "    </tr>\n",
              "    <tr>\n",
              "      <th>1683</th>\n",
              "      <td>War of Nations\\u2122 - PVP Strategy</td>\n",
              "      <td>38.865776</td>\n",
              "    </tr>\n",
              "    <tr>\n",
              "      <th>...</th>\n",
              "      <td>...</td>\n",
              "      <td>...</td>\n",
              "    </tr>\n",
              "    <tr>\n",
              "      <th>9391</th>\n",
              "      <td>Super block 10x10 puzzle games for kids dots &amp;...</td>\n",
              "      <td>0.000000</td>\n",
              "    </tr>\n",
              "    <tr>\n",
              "      <th>1327</th>\n",
              "      <td>Shoot Apple</td>\n",
              "      <td>0.000000</td>\n",
              "    </tr>\n",
              "    <tr>\n",
              "      <th>9393</th>\n",
              "      <td>Strike Boom</td>\n",
              "      <td>0.000000</td>\n",
              "    </tr>\n",
              "    <tr>\n",
              "      <th>3154</th>\n",
              "      <td>Diamond-Rush</td>\n",
              "      <td>0.000000</td>\n",
              "    </tr>\n",
              "    <tr>\n",
              "      <th>17006</th>\n",
              "      <td>The Three Kingdoms :Bomb</td>\n",
              "      <td>0.000000</td>\n",
              "    </tr>\n",
              "  </tbody>\n",
              "</table>\n",
              "<p>17007 rows × 2 columns</p>\n",
              "</div>"
            ],
            "text/plain": [
              "                                                    Name  luxe_score\n",
              "1378                                      Clash of Clans   53.053395\n",
              "2634                           Finabase: realtime stocks   48.617825\n",
              "16085                        Arcane Pets: Plushie Empire   43.332977\n",
              "8946                                   War Planet Online   41.027593\n",
              "1683                 War of Nations\\u2122 - PVP Strategy   38.865776\n",
              "...                                                  ...         ...\n",
              "9391   Super block 10x10 puzzle games for kids dots &...    0.000000\n",
              "1327                                         Shoot Apple    0.000000\n",
              "9393                                         Strike Boom    0.000000\n",
              "3154                                        Diamond-Rush    0.000000\n",
              "17006                           The Three Kingdoms :Bomb    0.000000\n",
              "\n",
              "[17007 rows x 2 columns]"
            ]
          },
          "metadata": {
            "tags": []
          },
          "execution_count": 76
        }
      ]
    },
    {
      "cell_type": "code",
      "metadata": {
        "colab": {
          "base_uri": "https://localhost:8080/",
          "height": 35
        },
        "id": "nadNw7PbHs_e",
        "outputId": "34f2bcc0-4591-4e35-9134-790c59e2097e"
      },
      "source": [
        "PATH_FILE"
      ],
      "execution_count": 77,
      "outputs": [
        {
          "output_type": "execute_result",
          "data": {
            "application/vnd.google.colaboratory.intrinsic+json": {
              "type": "string"
            },
            "text/plain": [
              "'/content/17k-apple-app-store-strategy-games.zip'"
            ]
          },
          "metadata": {
            "tags": []
          },
          "execution_count": 77
        }
      ]
    },
    {
      "cell_type": "code",
      "metadata": {
        "id": "HqAAhDBTH0aV"
      },
      "source": [
        "df_leads.to_csv('/content/leads.csv') # วิธีสำหรับเขียน data ที่สร้างนำออกไปเป็นไฟล์ CSV"
      ],
      "execution_count": 78,
      "outputs": []
    },
    {
      "cell_type": "code",
      "metadata": {
        "id": "lPSFsNNpIG33"
      },
      "source": [
        "df_leads.to_excel('/content/leads.xls') \n",
        "# วิธีสำหรับเขียน data ที่สร้างนำออกไปเป็นไฟล์ Excel นามสกุล.xls"
      ],
      "execution_count": 79,
      "outputs": []
    },
    {
      "cell_type": "markdown",
      "metadata": {
        "id": "CtSLj222J4jS"
      },
      "source": [
        "## **Insight เพิ่มเติม**"
      ]
    },
    {
      "cell_type": "code",
      "metadata": {
        "colab": {
          "base_uri": "https://localhost:8080/"
        },
        "id": "Bl6zQfIZKWxg",
        "outputId": "cd74c792-892e-42e5-89d6-72bf6453522a"
      },
      "source": [
        "df_join.columns"
      ],
      "execution_count": 80,
      "outputs": [
        {
          "output_type": "execute_result",
          "data": {
            "text/plain": [
              "Index(['URL', 'ID', 'Name', 'Subtitle', 'Icon URL', 'Average User Rating',\n",
              "       'User Rating Count', 'Price', 'In-app Purchases', 'Description',\n",
              "       'Developer', 'Age Rating', 'Languages', 'Size', 'Primary Genre',\n",
              "       'Genres', 'Original Release Date', 'Current Version Release Date',\n",
              "       'Price_tax', 'luxe_score'],\n",
              "      dtype='object')"
            ]
          },
          "metadata": {
            "tags": []
          },
          "execution_count": 80
        }
      ]
    },
    {
      "cell_type": "code",
      "metadata": {
        "colab": {
          "base_uri": "https://localhost:8080/",
          "height": 204
        },
        "id": "o6W-KY7cKZJm",
        "outputId": "31e8ce2b-3d4d-4271-d823-63022223455c"
      },
      "source": [
        "df_join[[\"Name\", \"Genres\"]][:5]"
      ],
      "execution_count": 81,
      "outputs": [
        {
          "output_type": "execute_result",
          "data": {
            "text/html": [
              "<div>\n",
              "<style scoped>\n",
              "    .dataframe tbody tr th:only-of-type {\n",
              "        vertical-align: middle;\n",
              "    }\n",
              "\n",
              "    .dataframe tbody tr th {\n",
              "        vertical-align: top;\n",
              "    }\n",
              "\n",
              "    .dataframe thead th {\n",
              "        text-align: right;\n",
              "    }\n",
              "</style>\n",
              "<table border=\"1\" class=\"dataframe\">\n",
              "  <thead>\n",
              "    <tr style=\"text-align: right;\">\n",
              "      <th></th>\n",
              "      <th>Name</th>\n",
              "      <th>Genres</th>\n",
              "    </tr>\n",
              "  </thead>\n",
              "  <tbody>\n",
              "    <tr>\n",
              "      <th>0</th>\n",
              "      <td>Sudoku</td>\n",
              "      <td>Games, Strategy, Puzzle</td>\n",
              "    </tr>\n",
              "    <tr>\n",
              "      <th>1</th>\n",
              "      <td>Reversi</td>\n",
              "      <td>Games, Strategy, Board</td>\n",
              "    </tr>\n",
              "    <tr>\n",
              "      <th>2</th>\n",
              "      <td>Morocco</td>\n",
              "      <td>Games, Board, Strategy</td>\n",
              "    </tr>\n",
              "    <tr>\n",
              "      <th>3</th>\n",
              "      <td>Sudoku (Free)</td>\n",
              "      <td>Games, Strategy, Puzzle</td>\n",
              "    </tr>\n",
              "    <tr>\n",
              "      <th>4</th>\n",
              "      <td>Senet Deluxe</td>\n",
              "      <td>Games, Strategy, Board, Education</td>\n",
              "    </tr>\n",
              "  </tbody>\n",
              "</table>\n",
              "</div>"
            ],
            "text/plain": [
              "            Name                             Genres\n",
              "0         Sudoku            Games, Strategy, Puzzle\n",
              "1        Reversi             Games, Strategy, Board\n",
              "2        Morocco             Games, Board, Strategy\n",
              "3  Sudoku (Free)            Games, Strategy, Puzzle\n",
              "4   Senet Deluxe  Games, Strategy, Board, Education"
            ]
          },
          "metadata": {
            "tags": []
          },
          "execution_count": 81
        }
      ]
    },
    {
      "cell_type": "code",
      "metadata": {
        "id": "aFTZ91HlKbUV"
      },
      "source": [
        "genre_ls = df_join[\"Genres\"].tolist() # เขียนเป็น list"
      ],
      "execution_count": 82,
      "outputs": []
    },
    {
      "cell_type": "code",
      "metadata": {
        "colab": {
          "base_uri": "https://localhost:8080/"
        },
        "id": "TdvtusP8Kc0Q",
        "outputId": "d8c0e896-1c11-41e7-9ba0-7578713034dc"
      },
      "source": [
        "genre_ls[:5]"
      ],
      "execution_count": 83,
      "outputs": [
        {
          "output_type": "execute_result",
          "data": {
            "text/plain": [
              "['Games, Strategy, Puzzle',\n",
              " 'Games, Strategy, Board',\n",
              " 'Games, Board, Strategy',\n",
              " 'Games, Strategy, Puzzle',\n",
              " 'Games, Strategy, Board, Education']"
            ]
          },
          "metadata": {
            "tags": []
          },
          "execution_count": 83
        }
      ]
    },
    {
      "cell_type": "code",
      "metadata": {
        "colab": {
          "base_uri": "https://localhost:8080/"
        },
        "id": "JrOaJ4EpKjZE",
        "outputId": "f1344177-54b4-4bca-8324-dbb732d0fdc3"
      },
      "source": [
        "'Games, Strategy, Puzzle'.split(\", \") # แยก list ด้วย ,"
      ],
      "execution_count": 84,
      "outputs": [
        {
          "output_type": "execute_result",
          "data": {
            "text/plain": [
              "['Games', 'Strategy', 'Puzzle']"
            ]
          },
          "metadata": {
            "tags": []
          },
          "execution_count": 84
        }
      ]
    },
    {
      "cell_type": "code",
      "metadata": {
        "id": "MvdL0xUpKsSl"
      },
      "source": [
        "all_genre_ls = [] # วิธีการแตก list\n",
        "for genre in genre_ls:\n",
        "   list_of_genre = genre.split(\", \")\n",
        "   for each_genre in list_of_genre:\n",
        "       all_genre_ls.append(each_genre)"
      ],
      "execution_count": 125,
      "outputs": []
    },
    {
      "cell_type": "code",
      "metadata": {
        "colab": {
          "base_uri": "https://localhost:8080/"
        },
        "id": "9iCIoHLqK2j3",
        "outputId": "87572467-42dc-473e-9d06-b100a5e3e286"
      },
      "source": [
        "all_genre_ls[:4]"
      ],
      "execution_count": 86,
      "outputs": [
        {
          "output_type": "execute_result",
          "data": {
            "text/plain": [
              "['Games', 'Strategy', 'Puzzle', 'Games']"
            ]
          },
          "metadata": {
            "tags": []
          },
          "execution_count": 86
        }
      ]
    },
    {
      "cell_type": "code",
      "metadata": {
        "colab": {
          "base_uri": "https://localhost:8080/"
        },
        "id": "fAd0b9ydK9Pg",
        "outputId": "353bebd4-aa6e-4f6d-a34c-bfca986d9940"
      },
      "source": [
        "len(all_genre_ls) # หาว่ามีกี่ set"
      ],
      "execution_count": 87,
      "outputs": [
        {
          "output_type": "execute_result",
          "data": {
            "text/plain": [
              "60520"
            ]
          },
          "metadata": {
            "tags": []
          },
          "execution_count": 87
        }
      ]
    },
    {
      "cell_type": "code",
      "metadata": {
        "colab": {
          "base_uri": "https://localhost:8080/"
        },
        "id": "4IV30QMyK-tl",
        "outputId": "b543836b-b859-475b-8617-9a5de4c1484e"
      },
      "source": [
        "len(set(all_genre_ls)) # หาว่ามีกี่ unique value"
      ],
      "execution_count": 126,
      "outputs": [
        {
          "output_type": "execute_result",
          "data": {
            "text/plain": [
              "47"
            ]
          },
          "metadata": {
            "tags": []
          },
          "execution_count": 126
        }
      ]
    },
    {
      "cell_type": "code",
      "metadata": {
        "colab": {
          "base_uri": "https://localhost:8080/"
        },
        "id": "-dLkOpLqBIWy",
        "outputId": "536af398-a6ce-47d3-dc43-621b75ddaa2b"
      },
      "source": [
        "set(all_genre_ls) # ดู set"
      ],
      "execution_count": 128,
      "outputs": [
        {
          "output_type": "execute_result",
          "data": {
            "text/plain": [
              "{'Action',\n",
              " 'Adventure',\n",
              " 'Animals & Nature',\n",
              " 'Art',\n",
              " 'Board',\n",
              " 'Books',\n",
              " 'Business',\n",
              " 'Card',\n",
              " 'Casino',\n",
              " 'Casual',\n",
              " 'Comics & Cartoons',\n",
              " 'Education',\n",
              " 'Emoji & Expressions',\n",
              " 'Entertainment',\n",
              " 'Family',\n",
              " 'Finance',\n",
              " 'Food & Drink',\n",
              " 'Games',\n",
              " 'Gaming',\n",
              " 'Health & Fitness',\n",
              " 'Kids & Family',\n",
              " 'Lifestyle',\n",
              " 'Magazines & Newspapers',\n",
              " 'Medical',\n",
              " 'Music',\n",
              " 'Navigation',\n",
              " 'News',\n",
              " 'People',\n",
              " 'Photo & Video',\n",
              " 'Places & Objects',\n",
              " 'Productivity',\n",
              " 'Puzzle',\n",
              " 'Racing',\n",
              " 'Reference',\n",
              " 'Role Playing',\n",
              " 'Shopping',\n",
              " 'Simulation',\n",
              " 'Social Networking',\n",
              " 'Sports',\n",
              " 'Sports & Activities',\n",
              " 'Stickers',\n",
              " 'Strategy',\n",
              " 'Travel',\n",
              " 'Trivia',\n",
              " 'Utilities',\n",
              " 'Weather',\n",
              " 'Word'}"
            ]
          },
          "metadata": {
            "tags": []
          },
          "execution_count": 128
        }
      ]
    },
    {
      "cell_type": "markdown",
      "metadata": {
        "id": "tpoq8KEpLAGQ"
      },
      "source": [
        "## **Dummies, One Hot Encoding**"
      ]
    },
    {
      "cell_type": "markdown",
      "metadata": {
        "id": "VbQRN9tXLDb6"
      },
      "source": [
        "str.split()"
      ]
    },
    {
      "cell_type": "code",
      "metadata": {
        "colab": {
          "base_uri": "https://localhost:8080/",
          "height": 419
        },
        "id": "5yFoRADULICp",
        "outputId": "bcd2c5c2-f363-4e52-e96d-fa3c4d1b68fc"
      },
      "source": [
        "df_join[\"Genres\"].str.split(\", \", expand=True) # ตัดข้อมูล str แล้วทำเป็นตาราง"
      ],
      "execution_count": 130,
      "outputs": [
        {
          "output_type": "execute_result",
          "data": {
            "text/html": [
              "<div>\n",
              "<style scoped>\n",
              "    .dataframe tbody tr th:only-of-type {\n",
              "        vertical-align: middle;\n",
              "    }\n",
              "\n",
              "    .dataframe tbody tr th {\n",
              "        vertical-align: top;\n",
              "    }\n",
              "\n",
              "    .dataframe thead th {\n",
              "        text-align: right;\n",
              "    }\n",
              "</style>\n",
              "<table border=\"1\" class=\"dataframe\">\n",
              "  <thead>\n",
              "    <tr style=\"text-align: right;\">\n",
              "      <th></th>\n",
              "      <th>0</th>\n",
              "      <th>1</th>\n",
              "      <th>2</th>\n",
              "      <th>3</th>\n",
              "      <th>4</th>\n",
              "      <th>5</th>\n",
              "    </tr>\n",
              "  </thead>\n",
              "  <tbody>\n",
              "    <tr>\n",
              "      <th>0</th>\n",
              "      <td>Games</td>\n",
              "      <td>Strategy</td>\n",
              "      <td>Puzzle</td>\n",
              "      <td>None</td>\n",
              "      <td>None</td>\n",
              "      <td>None</td>\n",
              "    </tr>\n",
              "    <tr>\n",
              "      <th>1</th>\n",
              "      <td>Games</td>\n",
              "      <td>Strategy</td>\n",
              "      <td>Board</td>\n",
              "      <td>None</td>\n",
              "      <td>None</td>\n",
              "      <td>None</td>\n",
              "    </tr>\n",
              "    <tr>\n",
              "      <th>2</th>\n",
              "      <td>Games</td>\n",
              "      <td>Board</td>\n",
              "      <td>Strategy</td>\n",
              "      <td>None</td>\n",
              "      <td>None</td>\n",
              "      <td>None</td>\n",
              "    </tr>\n",
              "    <tr>\n",
              "      <th>3</th>\n",
              "      <td>Games</td>\n",
              "      <td>Strategy</td>\n",
              "      <td>Puzzle</td>\n",
              "      <td>None</td>\n",
              "      <td>None</td>\n",
              "      <td>None</td>\n",
              "    </tr>\n",
              "    <tr>\n",
              "      <th>4</th>\n",
              "      <td>Games</td>\n",
              "      <td>Strategy</td>\n",
              "      <td>Board</td>\n",
              "      <td>Education</td>\n",
              "      <td>None</td>\n",
              "      <td>None</td>\n",
              "    </tr>\n",
              "    <tr>\n",
              "      <th>...</th>\n",
              "      <td>...</td>\n",
              "      <td>...</td>\n",
              "      <td>...</td>\n",
              "      <td>...</td>\n",
              "      <td>...</td>\n",
              "      <td>...</td>\n",
              "    </tr>\n",
              "    <tr>\n",
              "      <th>17002</th>\n",
              "      <td>Games</td>\n",
              "      <td>Entertainment</td>\n",
              "      <td>Casual</td>\n",
              "      <td>Strategy</td>\n",
              "      <td>None</td>\n",
              "      <td>None</td>\n",
              "    </tr>\n",
              "    <tr>\n",
              "      <th>17003</th>\n",
              "      <td>Games</td>\n",
              "      <td>Family</td>\n",
              "      <td>Strategy</td>\n",
              "      <td>None</td>\n",
              "      <td>None</td>\n",
              "      <td>None</td>\n",
              "    </tr>\n",
              "    <tr>\n",
              "      <th>17004</th>\n",
              "      <td>Games</td>\n",
              "      <td>Strategy</td>\n",
              "      <td>None</td>\n",
              "      <td>None</td>\n",
              "      <td>None</td>\n",
              "      <td>None</td>\n",
              "    </tr>\n",
              "    <tr>\n",
              "      <th>17005</th>\n",
              "      <td>Games</td>\n",
              "      <td>Strategy</td>\n",
              "      <td>Action</td>\n",
              "      <td>None</td>\n",
              "      <td>None</td>\n",
              "      <td>None</td>\n",
              "    </tr>\n",
              "    <tr>\n",
              "      <th>17006</th>\n",
              "      <td>Games</td>\n",
              "      <td>Strategy</td>\n",
              "      <td>Puzzle</td>\n",
              "      <td>None</td>\n",
              "      <td>None</td>\n",
              "      <td>None</td>\n",
              "    </tr>\n",
              "  </tbody>\n",
              "</table>\n",
              "<p>17007 rows × 6 columns</p>\n",
              "</div>"
            ],
            "text/plain": [
              "           0              1         2          3     4     5\n",
              "0      Games       Strategy    Puzzle       None  None  None\n",
              "1      Games       Strategy     Board       None  None  None\n",
              "2      Games          Board  Strategy       None  None  None\n",
              "3      Games       Strategy    Puzzle       None  None  None\n",
              "4      Games       Strategy     Board  Education  None  None\n",
              "...      ...            ...       ...        ...   ...   ...\n",
              "17002  Games  Entertainment    Casual   Strategy  None  None\n",
              "17003  Games         Family  Strategy       None  None  None\n",
              "17004  Games       Strategy      None       None  None  None\n",
              "17005  Games       Strategy    Action       None  None  None\n",
              "17006  Games       Strategy    Puzzle       None  None  None\n",
              "\n",
              "[17007 rows x 6 columns]"
            ]
          },
          "metadata": {
            "tags": []
          },
          "execution_count": 130
        }
      ]
    },
    {
      "cell_type": "code",
      "metadata": {
        "colab": {
          "base_uri": "https://localhost:8080/"
        },
        "id": "h2yTNCdfLJ_8",
        "outputId": "96da335d-1a96-4401-84b7-e31146200d2a"
      },
      "source": [
        "df_join[\"Genres\"].str.split(\", \", expand=True).stack() # ดู stack"
      ],
      "execution_count": 90,
      "outputs": [
        {
          "output_type": "execute_result",
          "data": {
            "text/plain": [
              "0      0       Games\n",
              "       1    Strategy\n",
              "       2      Puzzle\n",
              "1      0       Games\n",
              "       1    Strategy\n",
              "              ...   \n",
              "17005  1    Strategy\n",
              "       2      Action\n",
              "17006  0       Games\n",
              "       1    Strategy\n",
              "       2      Puzzle\n",
              "Length: 60520, dtype: object"
            ]
          },
          "metadata": {
            "tags": []
          },
          "execution_count": 90
        }
      ]
    },
    {
      "cell_type": "code",
      "metadata": {
        "colab": {
          "base_uri": "https://localhost:8080/",
          "height": 473
        },
        "id": "4OJ1SBt2LnER",
        "outputId": "a070854e-0051-42e6-8c01-818ccc764c65"
      },
      "source": [
        "df_join[\"Genres\"].str.split(\", \", expand=True).stack().str.get_dummies() # แปลงข้อความให้เป็น 0 1 เพื่อวิเคราะห์ได้โดยง่าย"
      ],
      "execution_count": 131,
      "outputs": [
        {
          "output_type": "execute_result",
          "data": {
            "text/html": [
              "<div>\n",
              "<style scoped>\n",
              "    .dataframe tbody tr th:only-of-type {\n",
              "        vertical-align: middle;\n",
              "    }\n",
              "\n",
              "    .dataframe tbody tr th {\n",
              "        vertical-align: top;\n",
              "    }\n",
              "\n",
              "    .dataframe thead th {\n",
              "        text-align: right;\n",
              "    }\n",
              "</style>\n",
              "<table border=\"1\" class=\"dataframe\">\n",
              "  <thead>\n",
              "    <tr style=\"text-align: right;\">\n",
              "      <th></th>\n",
              "      <th></th>\n",
              "      <th>Action</th>\n",
              "      <th>Adventure</th>\n",
              "      <th>Animals &amp; Nature</th>\n",
              "      <th>Art</th>\n",
              "      <th>Board</th>\n",
              "      <th>Books</th>\n",
              "      <th>Business</th>\n",
              "      <th>Card</th>\n",
              "      <th>Casino</th>\n",
              "      <th>Casual</th>\n",
              "      <th>Comics &amp; Cartoons</th>\n",
              "      <th>Education</th>\n",
              "      <th>Emoji &amp; Expressions</th>\n",
              "      <th>Entertainment</th>\n",
              "      <th>Family</th>\n",
              "      <th>Finance</th>\n",
              "      <th>Food &amp; Drink</th>\n",
              "      <th>Games</th>\n",
              "      <th>Gaming</th>\n",
              "      <th>Health &amp; Fitness</th>\n",
              "      <th>Kids &amp; Family</th>\n",
              "      <th>Lifestyle</th>\n",
              "      <th>Magazines &amp; Newspapers</th>\n",
              "      <th>Medical</th>\n",
              "      <th>Music</th>\n",
              "      <th>Navigation</th>\n",
              "      <th>News</th>\n",
              "      <th>People</th>\n",
              "      <th>Photo &amp; Video</th>\n",
              "      <th>Places &amp; Objects</th>\n",
              "      <th>Productivity</th>\n",
              "      <th>Puzzle</th>\n",
              "      <th>Racing</th>\n",
              "      <th>Reference</th>\n",
              "      <th>Role Playing</th>\n",
              "      <th>Shopping</th>\n",
              "      <th>Simulation</th>\n",
              "      <th>Social Networking</th>\n",
              "      <th>Sports</th>\n",
              "      <th>Sports &amp; Activities</th>\n",
              "      <th>Stickers</th>\n",
              "      <th>Strategy</th>\n",
              "      <th>Travel</th>\n",
              "      <th>Trivia</th>\n",
              "      <th>Utilities</th>\n",
              "      <th>Weather</th>\n",
              "      <th>Word</th>\n",
              "    </tr>\n",
              "  </thead>\n",
              "  <tbody>\n",
              "    <tr>\n",
              "      <th rowspan=\"3\" valign=\"top\">0</th>\n",
              "      <th>0</th>\n",
              "      <td>0</td>\n",
              "      <td>0</td>\n",
              "      <td>0</td>\n",
              "      <td>0</td>\n",
              "      <td>0</td>\n",
              "      <td>0</td>\n",
              "      <td>0</td>\n",
              "      <td>0</td>\n",
              "      <td>0</td>\n",
              "      <td>0</td>\n",
              "      <td>0</td>\n",
              "      <td>0</td>\n",
              "      <td>0</td>\n",
              "      <td>0</td>\n",
              "      <td>0</td>\n",
              "      <td>0</td>\n",
              "      <td>0</td>\n",
              "      <td>1</td>\n",
              "      <td>0</td>\n",
              "      <td>0</td>\n",
              "      <td>0</td>\n",
              "      <td>0</td>\n",
              "      <td>0</td>\n",
              "      <td>0</td>\n",
              "      <td>0</td>\n",
              "      <td>0</td>\n",
              "      <td>0</td>\n",
              "      <td>0</td>\n",
              "      <td>0</td>\n",
              "      <td>0</td>\n",
              "      <td>0</td>\n",
              "      <td>0</td>\n",
              "      <td>0</td>\n",
              "      <td>0</td>\n",
              "      <td>0</td>\n",
              "      <td>0</td>\n",
              "      <td>0</td>\n",
              "      <td>0</td>\n",
              "      <td>0</td>\n",
              "      <td>0</td>\n",
              "      <td>0</td>\n",
              "      <td>0</td>\n",
              "      <td>0</td>\n",
              "      <td>0</td>\n",
              "      <td>0</td>\n",
              "      <td>0</td>\n",
              "      <td>0</td>\n",
              "    </tr>\n",
              "    <tr>\n",
              "      <th>1</th>\n",
              "      <td>0</td>\n",
              "      <td>0</td>\n",
              "      <td>0</td>\n",
              "      <td>0</td>\n",
              "      <td>0</td>\n",
              "      <td>0</td>\n",
              "      <td>0</td>\n",
              "      <td>0</td>\n",
              "      <td>0</td>\n",
              "      <td>0</td>\n",
              "      <td>0</td>\n",
              "      <td>0</td>\n",
              "      <td>0</td>\n",
              "      <td>0</td>\n",
              "      <td>0</td>\n",
              "      <td>0</td>\n",
              "      <td>0</td>\n",
              "      <td>0</td>\n",
              "      <td>0</td>\n",
              "      <td>0</td>\n",
              "      <td>0</td>\n",
              "      <td>0</td>\n",
              "      <td>0</td>\n",
              "      <td>0</td>\n",
              "      <td>0</td>\n",
              "      <td>0</td>\n",
              "      <td>0</td>\n",
              "      <td>0</td>\n",
              "      <td>0</td>\n",
              "      <td>0</td>\n",
              "      <td>0</td>\n",
              "      <td>0</td>\n",
              "      <td>0</td>\n",
              "      <td>0</td>\n",
              "      <td>0</td>\n",
              "      <td>0</td>\n",
              "      <td>0</td>\n",
              "      <td>0</td>\n",
              "      <td>0</td>\n",
              "      <td>0</td>\n",
              "      <td>0</td>\n",
              "      <td>1</td>\n",
              "      <td>0</td>\n",
              "      <td>0</td>\n",
              "      <td>0</td>\n",
              "      <td>0</td>\n",
              "      <td>0</td>\n",
              "    </tr>\n",
              "    <tr>\n",
              "      <th>2</th>\n",
              "      <td>0</td>\n",
              "      <td>0</td>\n",
              "      <td>0</td>\n",
              "      <td>0</td>\n",
              "      <td>0</td>\n",
              "      <td>0</td>\n",
              "      <td>0</td>\n",
              "      <td>0</td>\n",
              "      <td>0</td>\n",
              "      <td>0</td>\n",
              "      <td>0</td>\n",
              "      <td>0</td>\n",
              "      <td>0</td>\n",
              "      <td>0</td>\n",
              "      <td>0</td>\n",
              "      <td>0</td>\n",
              "      <td>0</td>\n",
              "      <td>0</td>\n",
              "      <td>0</td>\n",
              "      <td>0</td>\n",
              "      <td>0</td>\n",
              "      <td>0</td>\n",
              "      <td>0</td>\n",
              "      <td>0</td>\n",
              "      <td>0</td>\n",
              "      <td>0</td>\n",
              "      <td>0</td>\n",
              "      <td>0</td>\n",
              "      <td>0</td>\n",
              "      <td>0</td>\n",
              "      <td>0</td>\n",
              "      <td>1</td>\n",
              "      <td>0</td>\n",
              "      <td>0</td>\n",
              "      <td>0</td>\n",
              "      <td>0</td>\n",
              "      <td>0</td>\n",
              "      <td>0</td>\n",
              "      <td>0</td>\n",
              "      <td>0</td>\n",
              "      <td>0</td>\n",
              "      <td>0</td>\n",
              "      <td>0</td>\n",
              "      <td>0</td>\n",
              "      <td>0</td>\n",
              "      <td>0</td>\n",
              "      <td>0</td>\n",
              "    </tr>\n",
              "    <tr>\n",
              "      <th rowspan=\"2\" valign=\"top\">1</th>\n",
              "      <th>0</th>\n",
              "      <td>0</td>\n",
              "      <td>0</td>\n",
              "      <td>0</td>\n",
              "      <td>0</td>\n",
              "      <td>0</td>\n",
              "      <td>0</td>\n",
              "      <td>0</td>\n",
              "      <td>0</td>\n",
              "      <td>0</td>\n",
              "      <td>0</td>\n",
              "      <td>0</td>\n",
              "      <td>0</td>\n",
              "      <td>0</td>\n",
              "      <td>0</td>\n",
              "      <td>0</td>\n",
              "      <td>0</td>\n",
              "      <td>0</td>\n",
              "      <td>1</td>\n",
              "      <td>0</td>\n",
              "      <td>0</td>\n",
              "      <td>0</td>\n",
              "      <td>0</td>\n",
              "      <td>0</td>\n",
              "      <td>0</td>\n",
              "      <td>0</td>\n",
              "      <td>0</td>\n",
              "      <td>0</td>\n",
              "      <td>0</td>\n",
              "      <td>0</td>\n",
              "      <td>0</td>\n",
              "      <td>0</td>\n",
              "      <td>0</td>\n",
              "      <td>0</td>\n",
              "      <td>0</td>\n",
              "      <td>0</td>\n",
              "      <td>0</td>\n",
              "      <td>0</td>\n",
              "      <td>0</td>\n",
              "      <td>0</td>\n",
              "      <td>0</td>\n",
              "      <td>0</td>\n",
              "      <td>0</td>\n",
              "      <td>0</td>\n",
              "      <td>0</td>\n",
              "      <td>0</td>\n",
              "      <td>0</td>\n",
              "      <td>0</td>\n",
              "    </tr>\n",
              "    <tr>\n",
              "      <th>1</th>\n",
              "      <td>0</td>\n",
              "      <td>0</td>\n",
              "      <td>0</td>\n",
              "      <td>0</td>\n",
              "      <td>0</td>\n",
              "      <td>0</td>\n",
              "      <td>0</td>\n",
              "      <td>0</td>\n",
              "      <td>0</td>\n",
              "      <td>0</td>\n",
              "      <td>0</td>\n",
              "      <td>0</td>\n",
              "      <td>0</td>\n",
              "      <td>0</td>\n",
              "      <td>0</td>\n",
              "      <td>0</td>\n",
              "      <td>0</td>\n",
              "      <td>0</td>\n",
              "      <td>0</td>\n",
              "      <td>0</td>\n",
              "      <td>0</td>\n",
              "      <td>0</td>\n",
              "      <td>0</td>\n",
              "      <td>0</td>\n",
              "      <td>0</td>\n",
              "      <td>0</td>\n",
              "      <td>0</td>\n",
              "      <td>0</td>\n",
              "      <td>0</td>\n",
              "      <td>0</td>\n",
              "      <td>0</td>\n",
              "      <td>0</td>\n",
              "      <td>0</td>\n",
              "      <td>0</td>\n",
              "      <td>0</td>\n",
              "      <td>0</td>\n",
              "      <td>0</td>\n",
              "      <td>0</td>\n",
              "      <td>0</td>\n",
              "      <td>0</td>\n",
              "      <td>0</td>\n",
              "      <td>1</td>\n",
              "      <td>0</td>\n",
              "      <td>0</td>\n",
              "      <td>0</td>\n",
              "      <td>0</td>\n",
              "      <td>0</td>\n",
              "    </tr>\n",
              "    <tr>\n",
              "      <th>...</th>\n",
              "      <th>...</th>\n",
              "      <td>...</td>\n",
              "      <td>...</td>\n",
              "      <td>...</td>\n",
              "      <td>...</td>\n",
              "      <td>...</td>\n",
              "      <td>...</td>\n",
              "      <td>...</td>\n",
              "      <td>...</td>\n",
              "      <td>...</td>\n",
              "      <td>...</td>\n",
              "      <td>...</td>\n",
              "      <td>...</td>\n",
              "      <td>...</td>\n",
              "      <td>...</td>\n",
              "      <td>...</td>\n",
              "      <td>...</td>\n",
              "      <td>...</td>\n",
              "      <td>...</td>\n",
              "      <td>...</td>\n",
              "      <td>...</td>\n",
              "      <td>...</td>\n",
              "      <td>...</td>\n",
              "      <td>...</td>\n",
              "      <td>...</td>\n",
              "      <td>...</td>\n",
              "      <td>...</td>\n",
              "      <td>...</td>\n",
              "      <td>...</td>\n",
              "      <td>...</td>\n",
              "      <td>...</td>\n",
              "      <td>...</td>\n",
              "      <td>...</td>\n",
              "      <td>...</td>\n",
              "      <td>...</td>\n",
              "      <td>...</td>\n",
              "      <td>...</td>\n",
              "      <td>...</td>\n",
              "      <td>...</td>\n",
              "      <td>...</td>\n",
              "      <td>...</td>\n",
              "      <td>...</td>\n",
              "      <td>...</td>\n",
              "      <td>...</td>\n",
              "      <td>...</td>\n",
              "      <td>...</td>\n",
              "      <td>...</td>\n",
              "      <td>...</td>\n",
              "    </tr>\n",
              "    <tr>\n",
              "      <th rowspan=\"2\" valign=\"top\">17005</th>\n",
              "      <th>1</th>\n",
              "      <td>0</td>\n",
              "      <td>0</td>\n",
              "      <td>0</td>\n",
              "      <td>0</td>\n",
              "      <td>0</td>\n",
              "      <td>0</td>\n",
              "      <td>0</td>\n",
              "      <td>0</td>\n",
              "      <td>0</td>\n",
              "      <td>0</td>\n",
              "      <td>0</td>\n",
              "      <td>0</td>\n",
              "      <td>0</td>\n",
              "      <td>0</td>\n",
              "      <td>0</td>\n",
              "      <td>0</td>\n",
              "      <td>0</td>\n",
              "      <td>0</td>\n",
              "      <td>0</td>\n",
              "      <td>0</td>\n",
              "      <td>0</td>\n",
              "      <td>0</td>\n",
              "      <td>0</td>\n",
              "      <td>0</td>\n",
              "      <td>0</td>\n",
              "      <td>0</td>\n",
              "      <td>0</td>\n",
              "      <td>0</td>\n",
              "      <td>0</td>\n",
              "      <td>0</td>\n",
              "      <td>0</td>\n",
              "      <td>0</td>\n",
              "      <td>0</td>\n",
              "      <td>0</td>\n",
              "      <td>0</td>\n",
              "      <td>0</td>\n",
              "      <td>0</td>\n",
              "      <td>0</td>\n",
              "      <td>0</td>\n",
              "      <td>0</td>\n",
              "      <td>0</td>\n",
              "      <td>1</td>\n",
              "      <td>0</td>\n",
              "      <td>0</td>\n",
              "      <td>0</td>\n",
              "      <td>0</td>\n",
              "      <td>0</td>\n",
              "    </tr>\n",
              "    <tr>\n",
              "      <th>2</th>\n",
              "      <td>1</td>\n",
              "      <td>0</td>\n",
              "      <td>0</td>\n",
              "      <td>0</td>\n",
              "      <td>0</td>\n",
              "      <td>0</td>\n",
              "      <td>0</td>\n",
              "      <td>0</td>\n",
              "      <td>0</td>\n",
              "      <td>0</td>\n",
              "      <td>0</td>\n",
              "      <td>0</td>\n",
              "      <td>0</td>\n",
              "      <td>0</td>\n",
              "      <td>0</td>\n",
              "      <td>0</td>\n",
              "      <td>0</td>\n",
              "      <td>0</td>\n",
              "      <td>0</td>\n",
              "      <td>0</td>\n",
              "      <td>0</td>\n",
              "      <td>0</td>\n",
              "      <td>0</td>\n",
              "      <td>0</td>\n",
              "      <td>0</td>\n",
              "      <td>0</td>\n",
              "      <td>0</td>\n",
              "      <td>0</td>\n",
              "      <td>0</td>\n",
              "      <td>0</td>\n",
              "      <td>0</td>\n",
              "      <td>0</td>\n",
              "      <td>0</td>\n",
              "      <td>0</td>\n",
              "      <td>0</td>\n",
              "      <td>0</td>\n",
              "      <td>0</td>\n",
              "      <td>0</td>\n",
              "      <td>0</td>\n",
              "      <td>0</td>\n",
              "      <td>0</td>\n",
              "      <td>0</td>\n",
              "      <td>0</td>\n",
              "      <td>0</td>\n",
              "      <td>0</td>\n",
              "      <td>0</td>\n",
              "      <td>0</td>\n",
              "    </tr>\n",
              "    <tr>\n",
              "      <th rowspan=\"3\" valign=\"top\">17006</th>\n",
              "      <th>0</th>\n",
              "      <td>0</td>\n",
              "      <td>0</td>\n",
              "      <td>0</td>\n",
              "      <td>0</td>\n",
              "      <td>0</td>\n",
              "      <td>0</td>\n",
              "      <td>0</td>\n",
              "      <td>0</td>\n",
              "      <td>0</td>\n",
              "      <td>0</td>\n",
              "      <td>0</td>\n",
              "      <td>0</td>\n",
              "      <td>0</td>\n",
              "      <td>0</td>\n",
              "      <td>0</td>\n",
              "      <td>0</td>\n",
              "      <td>0</td>\n",
              "      <td>1</td>\n",
              "      <td>0</td>\n",
              "      <td>0</td>\n",
              "      <td>0</td>\n",
              "      <td>0</td>\n",
              "      <td>0</td>\n",
              "      <td>0</td>\n",
              "      <td>0</td>\n",
              "      <td>0</td>\n",
              "      <td>0</td>\n",
              "      <td>0</td>\n",
              "      <td>0</td>\n",
              "      <td>0</td>\n",
              "      <td>0</td>\n",
              "      <td>0</td>\n",
              "      <td>0</td>\n",
              "      <td>0</td>\n",
              "      <td>0</td>\n",
              "      <td>0</td>\n",
              "      <td>0</td>\n",
              "      <td>0</td>\n",
              "      <td>0</td>\n",
              "      <td>0</td>\n",
              "      <td>0</td>\n",
              "      <td>0</td>\n",
              "      <td>0</td>\n",
              "      <td>0</td>\n",
              "      <td>0</td>\n",
              "      <td>0</td>\n",
              "      <td>0</td>\n",
              "    </tr>\n",
              "    <tr>\n",
              "      <th>1</th>\n",
              "      <td>0</td>\n",
              "      <td>0</td>\n",
              "      <td>0</td>\n",
              "      <td>0</td>\n",
              "      <td>0</td>\n",
              "      <td>0</td>\n",
              "      <td>0</td>\n",
              "      <td>0</td>\n",
              "      <td>0</td>\n",
              "      <td>0</td>\n",
              "      <td>0</td>\n",
              "      <td>0</td>\n",
              "      <td>0</td>\n",
              "      <td>0</td>\n",
              "      <td>0</td>\n",
              "      <td>0</td>\n",
              "      <td>0</td>\n",
              "      <td>0</td>\n",
              "      <td>0</td>\n",
              "      <td>0</td>\n",
              "      <td>0</td>\n",
              "      <td>0</td>\n",
              "      <td>0</td>\n",
              "      <td>0</td>\n",
              "      <td>0</td>\n",
              "      <td>0</td>\n",
              "      <td>0</td>\n",
              "      <td>0</td>\n",
              "      <td>0</td>\n",
              "      <td>0</td>\n",
              "      <td>0</td>\n",
              "      <td>0</td>\n",
              "      <td>0</td>\n",
              "      <td>0</td>\n",
              "      <td>0</td>\n",
              "      <td>0</td>\n",
              "      <td>0</td>\n",
              "      <td>0</td>\n",
              "      <td>0</td>\n",
              "      <td>0</td>\n",
              "      <td>0</td>\n",
              "      <td>1</td>\n",
              "      <td>0</td>\n",
              "      <td>0</td>\n",
              "      <td>0</td>\n",
              "      <td>0</td>\n",
              "      <td>0</td>\n",
              "    </tr>\n",
              "    <tr>\n",
              "      <th>2</th>\n",
              "      <td>0</td>\n",
              "      <td>0</td>\n",
              "      <td>0</td>\n",
              "      <td>0</td>\n",
              "      <td>0</td>\n",
              "      <td>0</td>\n",
              "      <td>0</td>\n",
              "      <td>0</td>\n",
              "      <td>0</td>\n",
              "      <td>0</td>\n",
              "      <td>0</td>\n",
              "      <td>0</td>\n",
              "      <td>0</td>\n",
              "      <td>0</td>\n",
              "      <td>0</td>\n",
              "      <td>0</td>\n",
              "      <td>0</td>\n",
              "      <td>0</td>\n",
              "      <td>0</td>\n",
              "      <td>0</td>\n",
              "      <td>0</td>\n",
              "      <td>0</td>\n",
              "      <td>0</td>\n",
              "      <td>0</td>\n",
              "      <td>0</td>\n",
              "      <td>0</td>\n",
              "      <td>0</td>\n",
              "      <td>0</td>\n",
              "      <td>0</td>\n",
              "      <td>0</td>\n",
              "      <td>0</td>\n",
              "      <td>1</td>\n",
              "      <td>0</td>\n",
              "      <td>0</td>\n",
              "      <td>0</td>\n",
              "      <td>0</td>\n",
              "      <td>0</td>\n",
              "      <td>0</td>\n",
              "      <td>0</td>\n",
              "      <td>0</td>\n",
              "      <td>0</td>\n",
              "      <td>0</td>\n",
              "      <td>0</td>\n",
              "      <td>0</td>\n",
              "      <td>0</td>\n",
              "      <td>0</td>\n",
              "      <td>0</td>\n",
              "    </tr>\n",
              "  </tbody>\n",
              "</table>\n",
              "<p>60520 rows × 47 columns</p>\n",
              "</div>"
            ],
            "text/plain": [
              "         Action  Adventure  Animals & Nature  ...  Utilities  Weather  Word\n",
              "0     0       0          0                 0  ...          0        0     0\n",
              "      1       0          0                 0  ...          0        0     0\n",
              "      2       0          0                 0  ...          0        0     0\n",
              "1     0       0          0                 0  ...          0        0     0\n",
              "      1       0          0                 0  ...          0        0     0\n",
              "...         ...        ...               ...  ...        ...      ...   ...\n",
              "17005 1       0          0                 0  ...          0        0     0\n",
              "      2       1          0                 0  ...          0        0     0\n",
              "17006 0       0          0                 0  ...          0        0     0\n",
              "      1       0          0                 0  ...          0        0     0\n",
              "      2       0          0                 0  ...          0        0     0\n",
              "\n",
              "[60520 rows x 47 columns]"
            ]
          },
          "metadata": {
            "tags": []
          },
          "execution_count": 131
        }
      ]
    },
    {
      "cell_type": "code",
      "metadata": {
        "id": "ZPSZcnAELqi_"
      },
      "source": [
        "df_genres = df_join[\"Genres\"].str.split(\", \", expand=True).stack().str.get_dummies().sum(level=0)\n",
        "# แปลงข้อความให้เป็น 0 1 เพื่อวิเคราะห์ได้โดยง่าย เก็บไว้ใน df_genres"
      ],
      "execution_count": 92,
      "outputs": []
    },
    {
      "cell_type": "code",
      "metadata": {
        "colab": {
          "base_uri": "https://localhost:8080/",
          "height": 258
        },
        "id": "rtvBtv3bLXQB",
        "outputId": "7fc90192-cbcd-49c9-c5b0-12224b967963"
      },
      "source": [
        "df_genres[:5]"
      ],
      "execution_count": 93,
      "outputs": [
        {
          "output_type": "execute_result",
          "data": {
            "text/html": [
              "<div>\n",
              "<style scoped>\n",
              "    .dataframe tbody tr th:only-of-type {\n",
              "        vertical-align: middle;\n",
              "    }\n",
              "\n",
              "    .dataframe tbody tr th {\n",
              "        vertical-align: top;\n",
              "    }\n",
              "\n",
              "    .dataframe thead th {\n",
              "        text-align: right;\n",
              "    }\n",
              "</style>\n",
              "<table border=\"1\" class=\"dataframe\">\n",
              "  <thead>\n",
              "    <tr style=\"text-align: right;\">\n",
              "      <th></th>\n",
              "      <th>Action</th>\n",
              "      <th>Adventure</th>\n",
              "      <th>Animals &amp; Nature</th>\n",
              "      <th>Art</th>\n",
              "      <th>Board</th>\n",
              "      <th>Books</th>\n",
              "      <th>Business</th>\n",
              "      <th>Card</th>\n",
              "      <th>Casino</th>\n",
              "      <th>Casual</th>\n",
              "      <th>Comics &amp; Cartoons</th>\n",
              "      <th>Education</th>\n",
              "      <th>Emoji &amp; Expressions</th>\n",
              "      <th>Entertainment</th>\n",
              "      <th>Family</th>\n",
              "      <th>Finance</th>\n",
              "      <th>Food &amp; Drink</th>\n",
              "      <th>Games</th>\n",
              "      <th>Gaming</th>\n",
              "      <th>Health &amp; Fitness</th>\n",
              "      <th>Kids &amp; Family</th>\n",
              "      <th>Lifestyle</th>\n",
              "      <th>Magazines &amp; Newspapers</th>\n",
              "      <th>Medical</th>\n",
              "      <th>Music</th>\n",
              "      <th>Navigation</th>\n",
              "      <th>News</th>\n",
              "      <th>People</th>\n",
              "      <th>Photo &amp; Video</th>\n",
              "      <th>Places &amp; Objects</th>\n",
              "      <th>Productivity</th>\n",
              "      <th>Puzzle</th>\n",
              "      <th>Racing</th>\n",
              "      <th>Reference</th>\n",
              "      <th>Role Playing</th>\n",
              "      <th>Shopping</th>\n",
              "      <th>Simulation</th>\n",
              "      <th>Social Networking</th>\n",
              "      <th>Sports</th>\n",
              "      <th>Sports &amp; Activities</th>\n",
              "      <th>Stickers</th>\n",
              "      <th>Strategy</th>\n",
              "      <th>Travel</th>\n",
              "      <th>Trivia</th>\n",
              "      <th>Utilities</th>\n",
              "      <th>Weather</th>\n",
              "      <th>Word</th>\n",
              "    </tr>\n",
              "  </thead>\n",
              "  <tbody>\n",
              "    <tr>\n",
              "      <th>0</th>\n",
              "      <td>0</td>\n",
              "      <td>0</td>\n",
              "      <td>0</td>\n",
              "      <td>0</td>\n",
              "      <td>0</td>\n",
              "      <td>0</td>\n",
              "      <td>0</td>\n",
              "      <td>0</td>\n",
              "      <td>0</td>\n",
              "      <td>0</td>\n",
              "      <td>0</td>\n",
              "      <td>0</td>\n",
              "      <td>0</td>\n",
              "      <td>0</td>\n",
              "      <td>0</td>\n",
              "      <td>0</td>\n",
              "      <td>0</td>\n",
              "      <td>1</td>\n",
              "      <td>0</td>\n",
              "      <td>0</td>\n",
              "      <td>0</td>\n",
              "      <td>0</td>\n",
              "      <td>0</td>\n",
              "      <td>0</td>\n",
              "      <td>0</td>\n",
              "      <td>0</td>\n",
              "      <td>0</td>\n",
              "      <td>0</td>\n",
              "      <td>0</td>\n",
              "      <td>0</td>\n",
              "      <td>0</td>\n",
              "      <td>1</td>\n",
              "      <td>0</td>\n",
              "      <td>0</td>\n",
              "      <td>0</td>\n",
              "      <td>0</td>\n",
              "      <td>0</td>\n",
              "      <td>0</td>\n",
              "      <td>0</td>\n",
              "      <td>0</td>\n",
              "      <td>0</td>\n",
              "      <td>1</td>\n",
              "      <td>0</td>\n",
              "      <td>0</td>\n",
              "      <td>0</td>\n",
              "      <td>0</td>\n",
              "      <td>0</td>\n",
              "    </tr>\n",
              "    <tr>\n",
              "      <th>1</th>\n",
              "      <td>0</td>\n",
              "      <td>0</td>\n",
              "      <td>0</td>\n",
              "      <td>0</td>\n",
              "      <td>1</td>\n",
              "      <td>0</td>\n",
              "      <td>0</td>\n",
              "      <td>0</td>\n",
              "      <td>0</td>\n",
              "      <td>0</td>\n",
              "      <td>0</td>\n",
              "      <td>0</td>\n",
              "      <td>0</td>\n",
              "      <td>0</td>\n",
              "      <td>0</td>\n",
              "      <td>0</td>\n",
              "      <td>0</td>\n",
              "      <td>1</td>\n",
              "      <td>0</td>\n",
              "      <td>0</td>\n",
              "      <td>0</td>\n",
              "      <td>0</td>\n",
              "      <td>0</td>\n",
              "      <td>0</td>\n",
              "      <td>0</td>\n",
              "      <td>0</td>\n",
              "      <td>0</td>\n",
              "      <td>0</td>\n",
              "      <td>0</td>\n",
              "      <td>0</td>\n",
              "      <td>0</td>\n",
              "      <td>0</td>\n",
              "      <td>0</td>\n",
              "      <td>0</td>\n",
              "      <td>0</td>\n",
              "      <td>0</td>\n",
              "      <td>0</td>\n",
              "      <td>0</td>\n",
              "      <td>0</td>\n",
              "      <td>0</td>\n",
              "      <td>0</td>\n",
              "      <td>1</td>\n",
              "      <td>0</td>\n",
              "      <td>0</td>\n",
              "      <td>0</td>\n",
              "      <td>0</td>\n",
              "      <td>0</td>\n",
              "    </tr>\n",
              "    <tr>\n",
              "      <th>2</th>\n",
              "      <td>0</td>\n",
              "      <td>0</td>\n",
              "      <td>0</td>\n",
              "      <td>0</td>\n",
              "      <td>1</td>\n",
              "      <td>0</td>\n",
              "      <td>0</td>\n",
              "      <td>0</td>\n",
              "      <td>0</td>\n",
              "      <td>0</td>\n",
              "      <td>0</td>\n",
              "      <td>0</td>\n",
              "      <td>0</td>\n",
              "      <td>0</td>\n",
              "      <td>0</td>\n",
              "      <td>0</td>\n",
              "      <td>0</td>\n",
              "      <td>1</td>\n",
              "      <td>0</td>\n",
              "      <td>0</td>\n",
              "      <td>0</td>\n",
              "      <td>0</td>\n",
              "      <td>0</td>\n",
              "      <td>0</td>\n",
              "      <td>0</td>\n",
              "      <td>0</td>\n",
              "      <td>0</td>\n",
              "      <td>0</td>\n",
              "      <td>0</td>\n",
              "      <td>0</td>\n",
              "      <td>0</td>\n",
              "      <td>0</td>\n",
              "      <td>0</td>\n",
              "      <td>0</td>\n",
              "      <td>0</td>\n",
              "      <td>0</td>\n",
              "      <td>0</td>\n",
              "      <td>0</td>\n",
              "      <td>0</td>\n",
              "      <td>0</td>\n",
              "      <td>0</td>\n",
              "      <td>1</td>\n",
              "      <td>0</td>\n",
              "      <td>0</td>\n",
              "      <td>0</td>\n",
              "      <td>0</td>\n",
              "      <td>0</td>\n",
              "    </tr>\n",
              "    <tr>\n",
              "      <th>3</th>\n",
              "      <td>0</td>\n",
              "      <td>0</td>\n",
              "      <td>0</td>\n",
              "      <td>0</td>\n",
              "      <td>0</td>\n",
              "      <td>0</td>\n",
              "      <td>0</td>\n",
              "      <td>0</td>\n",
              "      <td>0</td>\n",
              "      <td>0</td>\n",
              "      <td>0</td>\n",
              "      <td>0</td>\n",
              "      <td>0</td>\n",
              "      <td>0</td>\n",
              "      <td>0</td>\n",
              "      <td>0</td>\n",
              "      <td>0</td>\n",
              "      <td>1</td>\n",
              "      <td>0</td>\n",
              "      <td>0</td>\n",
              "      <td>0</td>\n",
              "      <td>0</td>\n",
              "      <td>0</td>\n",
              "      <td>0</td>\n",
              "      <td>0</td>\n",
              "      <td>0</td>\n",
              "      <td>0</td>\n",
              "      <td>0</td>\n",
              "      <td>0</td>\n",
              "      <td>0</td>\n",
              "      <td>0</td>\n",
              "      <td>1</td>\n",
              "      <td>0</td>\n",
              "      <td>0</td>\n",
              "      <td>0</td>\n",
              "      <td>0</td>\n",
              "      <td>0</td>\n",
              "      <td>0</td>\n",
              "      <td>0</td>\n",
              "      <td>0</td>\n",
              "      <td>0</td>\n",
              "      <td>1</td>\n",
              "      <td>0</td>\n",
              "      <td>0</td>\n",
              "      <td>0</td>\n",
              "      <td>0</td>\n",
              "      <td>0</td>\n",
              "    </tr>\n",
              "    <tr>\n",
              "      <th>4</th>\n",
              "      <td>0</td>\n",
              "      <td>0</td>\n",
              "      <td>0</td>\n",
              "      <td>0</td>\n",
              "      <td>1</td>\n",
              "      <td>0</td>\n",
              "      <td>0</td>\n",
              "      <td>0</td>\n",
              "      <td>0</td>\n",
              "      <td>0</td>\n",
              "      <td>0</td>\n",
              "      <td>1</td>\n",
              "      <td>0</td>\n",
              "      <td>0</td>\n",
              "      <td>0</td>\n",
              "      <td>0</td>\n",
              "      <td>0</td>\n",
              "      <td>1</td>\n",
              "      <td>0</td>\n",
              "      <td>0</td>\n",
              "      <td>0</td>\n",
              "      <td>0</td>\n",
              "      <td>0</td>\n",
              "      <td>0</td>\n",
              "      <td>0</td>\n",
              "      <td>0</td>\n",
              "      <td>0</td>\n",
              "      <td>0</td>\n",
              "      <td>0</td>\n",
              "      <td>0</td>\n",
              "      <td>0</td>\n",
              "      <td>0</td>\n",
              "      <td>0</td>\n",
              "      <td>0</td>\n",
              "      <td>0</td>\n",
              "      <td>0</td>\n",
              "      <td>0</td>\n",
              "      <td>0</td>\n",
              "      <td>0</td>\n",
              "      <td>0</td>\n",
              "      <td>0</td>\n",
              "      <td>1</td>\n",
              "      <td>0</td>\n",
              "      <td>0</td>\n",
              "      <td>0</td>\n",
              "      <td>0</td>\n",
              "      <td>0</td>\n",
              "    </tr>\n",
              "  </tbody>\n",
              "</table>\n",
              "</div>"
            ],
            "text/plain": [
              "   Action  Adventure  Animals & Nature  Art  ...  Trivia  Utilities  Weather  Word\n",
              "0       0          0                 0    0  ...       0          0        0     0\n",
              "1       0          0                 0    0  ...       0          0        0     0\n",
              "2       0          0                 0    0  ...       0          0        0     0\n",
              "3       0          0                 0    0  ...       0          0        0     0\n",
              "4       0          0                 0    0  ...       0          0        0     0\n",
              "\n",
              "[5 rows x 47 columns]"
            ]
          },
          "metadata": {
            "tags": []
          },
          "execution_count": 93
        }
      ]
    },
    {
      "cell_type": "code",
      "metadata": {
        "colab": {
          "base_uri": "https://localhost:8080/"
        },
        "id": "8W_uOXtWMXaS",
        "outputId": "211ef36e-ea41-496f-d422-72cfa619dd1c"
      },
      "source": [
        "col_genre = df_genres.columns.tolist() # สร้างเป็น list แล้วเรียกดู\n",
        "col_genre"
      ],
      "execution_count": 94,
      "outputs": [
        {
          "output_type": "execute_result",
          "data": {
            "text/plain": [
              "['Action',\n",
              " 'Adventure',\n",
              " 'Animals & Nature',\n",
              " 'Art',\n",
              " 'Board',\n",
              " 'Books',\n",
              " 'Business',\n",
              " 'Card',\n",
              " 'Casino',\n",
              " 'Casual',\n",
              " 'Comics & Cartoons',\n",
              " 'Education',\n",
              " 'Emoji & Expressions',\n",
              " 'Entertainment',\n",
              " 'Family',\n",
              " 'Finance',\n",
              " 'Food & Drink',\n",
              " 'Games',\n",
              " 'Gaming',\n",
              " 'Health & Fitness',\n",
              " 'Kids & Family',\n",
              " 'Lifestyle',\n",
              " 'Magazines & Newspapers',\n",
              " 'Medical',\n",
              " 'Music',\n",
              " 'Navigation',\n",
              " 'News',\n",
              " 'People',\n",
              " 'Photo & Video',\n",
              " 'Places & Objects',\n",
              " 'Productivity',\n",
              " 'Puzzle',\n",
              " 'Racing',\n",
              " 'Reference',\n",
              " 'Role Playing',\n",
              " 'Shopping',\n",
              " 'Simulation',\n",
              " 'Social Networking',\n",
              " 'Sports',\n",
              " 'Sports & Activities',\n",
              " 'Stickers',\n",
              " 'Strategy',\n",
              " 'Travel',\n",
              " 'Trivia',\n",
              " 'Utilities',\n",
              " 'Weather',\n",
              " 'Word']"
            ]
          },
          "metadata": {
            "tags": []
          },
          "execution_count": 94
        }
      ]
    },
    {
      "cell_type": "code",
      "metadata": {
        "colab": {
          "base_uri": "https://localhost:8080/"
        },
        "id": "QSkPbs9qMd8v",
        "outputId": "3477d3cc-94d9-45b5-c59f-f08a1549d00f"
      },
      "source": [
        "df_genres[df_genres['Word'] == 1].shape[0]"
      ],
      "execution_count": 95,
      "outputs": [
        {
          "output_type": "execute_result",
          "data": {
            "text/plain": [
              "125"
            ]
          },
          "metadata": {
            "tags": []
          },
          "execution_count": 95
        }
      ]
    },
    {
      "cell_type": "code",
      "metadata": {
        "colab": {
          "base_uri": "https://localhost:8080/"
        },
        "id": "oEZLLvTnMp2c",
        "outputId": "55fed054-6b9d-48e7-c05f-908255d15a59"
      },
      "source": [
        "for genre in col_genre:\n",
        "    no_of_row = df_genres[df_genres[genre] == 1].shape[0]\n",
        "    print(\"Genre: \", genre, \"มีจำนวน: \", no_of_row)"
      ],
      "execution_count": 96,
      "outputs": [
        {
          "output_type": "stream",
          "text": [
            "Genre:  Action มีจำนวน:  2012\n",
            "Genre:  Adventure มีจำนวน:  836\n",
            "Genre:  Animals & Nature มีจำนวน:  4\n",
            "Genre:  Art มีจำนวน:  2\n",
            "Genre:  Board มีจำนวน:  1722\n",
            "Genre:  Books มีจำนวน:  38\n",
            "Genre:  Business มีจำนวน:  45\n",
            "Genre:  Card มีจำนวน:  674\n",
            "Genre:  Casino มีจำนวน:  75\n",
            "Genre:  Casual มีจำนวน:  1697\n",
            "Genre:  Comics & Cartoons มีจำนวน:  2\n",
            "Genre:  Education มีจำนวน:  951\n",
            "Genre:  Emoji & Expressions มีจำนวน:  15\n",
            "Genre:  Entertainment มีจำนวน:  7991\n",
            "Genre:  Family มีจำนวน:  773\n",
            "Genre:  Finance มีจำนวน:  51\n",
            "Genre:  Food & Drink มีจำนวน:  57\n",
            "Genre:  Games มีจำนวน:  17007\n",
            "Genre:  Gaming มีจำนวน:  25\n",
            "Genre:  Health & Fitness มีจำนวน:  34\n",
            "Genre:  Kids & Family มีจำนวน:  3\n",
            "Genre:  Lifestyle มีจำนวน:  220\n",
            "Genre:  Magazines & Newspapers มีจำนวน:  1\n",
            "Genre:  Medical มีจำนวน:  7\n",
            "Genre:  Music มีจำนวน:  94\n",
            "Genre:  Navigation มีจำนวน:  15\n",
            "Genre:  News มีจำนวน:  20\n",
            "Genre:  People มีจำนวน:  3\n",
            "Genre:  Photo & Video มีจำนวน:  25\n",
            "Genre:  Places & Objects มีจำนวน:  4\n",
            "Genre:  Productivity มีจำนวน:  62\n",
            "Genre:  Puzzle มีจำนวน:  3960\n",
            "Genre:  Racing มีจำนวน:  129\n",
            "Genre:  Reference มีจำนวน:  84\n",
            "Genre:  Role Playing มีจำนวน:  1126\n",
            "Genre:  Shopping มีจำนวน:  4\n",
            "Genre:  Simulation มีจำนวน:  2143\n",
            "Genre:  Social Networking มีจำนวน:  126\n",
            "Genre:  Sports มีจำนวน:  391\n",
            "Genre:  Sports & Activities มีจำนวน:  4\n",
            "Genre:  Stickers มีจำนวน:  31\n",
            "Genre:  Strategy มีจำนวน:  17006\n",
            "Genre:  Travel มีจำนวน:  93\n",
            "Genre:  Trivia มีจำนวน:  289\n",
            "Genre:  Utilities มีจำนวน:  177\n",
            "Genre:  Weather มีจำนวน:  1\n",
            "Genre:  Word มีจำนวน:  125\n"
          ],
          "name": "stdout"
        }
      ]
    },
    {
      "cell_type": "code",
      "metadata": {
        "id": "OX4zSJtpMv6R"
      },
      "source": [
        "selected_genres = [\"Entertainment\", \"Sports\", \"Puzzle\", \"Simulation\", \"Role Playing\"]"
      ],
      "execution_count": 97,
      "outputs": []
    },
    {
      "cell_type": "markdown",
      "metadata": {
        "id": "YlwfZgzyRqv8"
      },
      "source": [
        "# **Apply Logic to Each Genres**\n",
        "## **หาตารางหลัก จากการ Join **"
      ]
    },
    {
      "cell_type": "code",
      "metadata": {
        "id": "GwowDU6nRx9Q"
      },
      "source": [
        "df_full = df_apps.join(df_genres[selected_genres], how=\"inner\")"
      ],
      "execution_count": 98,
      "outputs": []
    },
    {
      "cell_type": "code",
      "metadata": {
        "colab": {
          "base_uri": "https://localhost:8080/"
        },
        "id": "zudLuvdIRz1J",
        "outputId": "d3427e12-d9b3-4b2b-f6a7-1a529c1ae1ae"
      },
      "source": [
        "df_full.columns"
      ],
      "execution_count": 99,
      "outputs": [
        {
          "output_type": "execute_result",
          "data": {
            "text/plain": [
              "Index(['URL', 'ID', 'Name', 'Subtitle', 'Icon URL', 'Average User Rating',\n",
              "       'User Rating Count', 'Price', 'In-app Purchases', 'Description',\n",
              "       'Developer', 'Age Rating', 'Languages', 'Size', 'Primary Genre',\n",
              "       'Genres', 'Original Release Date', 'Current Version Release Date',\n",
              "       'Price_tax', 'Entertainment', 'Sports', 'Puzzle', 'Simulation',\n",
              "       'Role Playing'],\n",
              "      dtype='object')"
            ]
          },
          "metadata": {
            "tags": []
          },
          "execution_count": 99
        }
      ]
    },
    {
      "cell_type": "code",
      "metadata": {
        "id": "O9dRNynKR2Qw"
      },
      "source": [
        "feature_columns = ['Average User Rating', 'User Rating Count', 'Price', 'In-app Purchases']"
      ],
      "execution_count": 100,
      "outputs": []
    },
    {
      "cell_type": "code",
      "metadata": {
        "id": "mcPKnc8iR8wL"
      },
      "source": [
        "def calculate_luxe_score(_genre=\"Sports\"):\n",
        "    _df_filter = df_full[df_full[_genre] == 1]\n",
        "    _df_features = _df_filter[feature_columns].copy()\n",
        "\n",
        "    ### ต้องมาปรับ 'In-app Purchases'\n",
        "    _inapps_ls = _df_features[\"In-app Purchases\"].tolist()\n",
        "    _avg_inapps_ls = []\n",
        "    for _elem in _inapps_ls:\n",
        "        _str_elem_ls = str(_elem).split(\", \")\n",
        "        _float_elem_ls = [float(_elem) for _elem in _str_elem_ls]\n",
        "        _avg_inapps = np.mean(np.array(_float_elem_ls))\n",
        "        _avg_inapps_ls.append(_avg_inapps)\n",
        "\n",
        "    _df_features[\"avg_in_app_puchase\"] = _avg_inapps_ls\n",
        "\n",
        "    ### Fill Missing Values\n",
        "    _df_features = _df_features.fillna(0)\n",
        "\n",
        "    ### Normalization\n",
        "    _df_features[\"norm_Average User Rating\"] = norm.fit_transform(_df_features[\"Average User Rating\"].values.reshape((len(_df_features), 1)))\n",
        "    _df_features[\"norm_Price\"] = norm.fit_transform(_df_features[\"Price\"].values.reshape(((len(_df_features), 1))))\n",
        "    _df_features[\"norm_User Rating Count\"] = norm.fit_transform(_df_features[\"User Rating Count\"].values.reshape(((len(_df_features), 1))))\n",
        "    _df_features[\"norm_avg_in_app_puchase\"] = norm.fit_transform(_df_features[\"avg_in_app_puchase\"].values.reshape(((len(_df_features), 1))))\n",
        "\n",
        "    ### Average (Luxe_score)\n",
        "    _df_features[\"luxe_score\"] = _df_features[[\"norm_Average User Rating\", \n",
        "                                            \"norm_Price\", \n",
        "                                            \"norm_User Rating Count\", \n",
        "                                            \"norm_avg_in_app_puchase\"]].mean(axis=1)\n",
        "    \n",
        "    ### Join and Get Leads\n",
        "    _df_join = _df_filter.join(_df_features[[\"luxe_score\"]], how=\"inner\")\n",
        "    _df_leads = _df_join[[\"Name\", \"luxe_score\"]].sort_values(by=\"luxe_score\", ascending=False)\n",
        "\n",
        "    return _df_leads"
      ],
      "execution_count": 101,
      "outputs": []
    },
    {
      "cell_type": "code",
      "metadata": {
        "colab": {
          "base_uri": "https://localhost:8080/",
          "height": 204
        },
        "id": "E7-EkxLjSDBo",
        "outputId": "b77e63db-a0f6-4039-c31b-9ddaed2303c5"
      },
      "source": [
        "df_sports = calculate_luxe_score(_genre=\"Sports\")\n",
        "df_sports[:5]"
      ],
      "execution_count": 102,
      "outputs": [
        {
          "output_type": "execute_result",
          "data": {
            "text/html": [
              "<div>\n",
              "<style scoped>\n",
              "    .dataframe tbody tr th:only-of-type {\n",
              "        vertical-align: middle;\n",
              "    }\n",
              "\n",
              "    .dataframe tbody tr th {\n",
              "        vertical-align: top;\n",
              "    }\n",
              "\n",
              "    .dataframe thead th {\n",
              "        text-align: right;\n",
              "    }\n",
              "</style>\n",
              "<table border=\"1\" class=\"dataframe\">\n",
              "  <thead>\n",
              "    <tr style=\"text-align: right;\">\n",
              "      <th></th>\n",
              "      <th>Name</th>\n",
              "      <th>luxe_score</th>\n",
              "    </tr>\n",
              "  </thead>\n",
              "  <tbody>\n",
              "    <tr>\n",
              "      <th>6932</th>\n",
              "      <td>Football Clicker</td>\n",
              "      <td>56.049425</td>\n",
              "    </tr>\n",
              "    <tr>\n",
              "      <th>7276</th>\n",
              "      <td>Basketball Clicker</td>\n",
              "      <td>44.191908</td>\n",
              "    </tr>\n",
              "    <tr>\n",
              "      <th>7275</th>\n",
              "      <td>Soccer Clicker</td>\n",
              "      <td>43.103394</td>\n",
              "    </tr>\n",
              "    <tr>\n",
              "      <th>9857</th>\n",
              "      <td>Touchdown Manager</td>\n",
              "      <td>41.200553</td>\n",
              "    </tr>\n",
              "    <tr>\n",
              "      <th>7277</th>\n",
              "      <td>Hockey Clicker</td>\n",
              "      <td>40.983200</td>\n",
              "    </tr>\n",
              "  </tbody>\n",
              "</table>\n",
              "</div>"
            ],
            "text/plain": [
              "                    Name  luxe_score\n",
              "6932    Football Clicker   56.049425\n",
              "7276  Basketball Clicker   44.191908\n",
              "7275      Soccer Clicker   43.103394\n",
              "9857   Touchdown Manager   41.200553\n",
              "7277      Hockey Clicker   40.983200"
            ]
          },
          "metadata": {
            "tags": []
          },
          "execution_count": 102
        }
      ]
    },
    {
      "cell_type": "code",
      "metadata": {
        "colab": {
          "base_uri": "https://localhost:8080/",
          "height": 204
        },
        "id": "4N0XrYMATicy",
        "outputId": "18be1fa6-d391-4328-94d2-731c1b9d0ca3"
      },
      "source": [
        "df_ent = calculate_luxe_score(_genre=\"Entertainment\")\n",
        "df_ent[:5]"
      ],
      "execution_count": 103,
      "outputs": [
        {
          "output_type": "execute_result",
          "data": {
            "text/html": [
              "<div>\n",
              "<style scoped>\n",
              "    .dataframe tbody tr th:only-of-type {\n",
              "        vertical-align: middle;\n",
              "    }\n",
              "\n",
              "    .dataframe tbody tr th {\n",
              "        vertical-align: top;\n",
              "    }\n",
              "\n",
              "    .dataframe thead th {\n",
              "        text-align: right;\n",
              "    }\n",
              "</style>\n",
              "<table border=\"1\" class=\"dataframe\">\n",
              "  <thead>\n",
              "    <tr style=\"text-align: right;\">\n",
              "      <th></th>\n",
              "      <th>Name</th>\n",
              "      <th>luxe_score</th>\n",
              "    </tr>\n",
              "  </thead>\n",
              "  <tbody>\n",
              "    <tr>\n",
              "      <th>1378</th>\n",
              "      <td>Clash of Clans</td>\n",
              "      <td>53.053395</td>\n",
              "    </tr>\n",
              "    <tr>\n",
              "      <th>276</th>\n",
              "      <td>SmartGo Kifu</td>\n",
              "      <td>47.501871</td>\n",
              "    </tr>\n",
              "    <tr>\n",
              "      <th>4885</th>\n",
              "      <td>Warhammer 40,000: Armageddon</td>\n",
              "      <td>46.618366</td>\n",
              "    </tr>\n",
              "    <tr>\n",
              "      <th>1683</th>\n",
              "      <td>War of Nations\\u2122 - PVP Strategy</td>\n",
              "      <td>38.865776</td>\n",
              "    </tr>\n",
              "    <tr>\n",
              "      <th>185</th>\n",
              "      <td>King of Dragon Pass</td>\n",
              "      <td>37.501661</td>\n",
              "    </tr>\n",
              "  </tbody>\n",
              "</table>\n",
              "</div>"
            ],
            "text/plain": [
              "                                     Name  luxe_score\n",
              "1378                       Clash of Clans   53.053395\n",
              "276                          SmartGo Kifu   47.501871\n",
              "4885         Warhammer 40,000: Armageddon   46.618366\n",
              "1683  War of Nations\\u2122 - PVP Strategy   38.865776\n",
              "185                   King of Dragon Pass   37.501661"
            ]
          },
          "metadata": {
            "tags": []
          },
          "execution_count": 103
        }
      ]
    },
    {
      "cell_type": "code",
      "metadata": {
        "colab": {
          "base_uri": "https://localhost:8080/",
          "height": 204
        },
        "id": "PXhOovN3TkXi",
        "outputId": "962e6169-09ab-425c-ec7d-058630ab9700"
      },
      "source": [
        "calculate_luxe_score()[:5]"
      ],
      "execution_count": 104,
      "outputs": [
        {
          "output_type": "execute_result",
          "data": {
            "text/html": [
              "<div>\n",
              "<style scoped>\n",
              "    .dataframe tbody tr th:only-of-type {\n",
              "        vertical-align: middle;\n",
              "    }\n",
              "\n",
              "    .dataframe tbody tr th {\n",
              "        vertical-align: top;\n",
              "    }\n",
              "\n",
              "    .dataframe thead th {\n",
              "        text-align: right;\n",
              "    }\n",
              "</style>\n",
              "<table border=\"1\" class=\"dataframe\">\n",
              "  <thead>\n",
              "    <tr style=\"text-align: right;\">\n",
              "      <th></th>\n",
              "      <th>Name</th>\n",
              "      <th>luxe_score</th>\n",
              "    </tr>\n",
              "  </thead>\n",
              "  <tbody>\n",
              "    <tr>\n",
              "      <th>6932</th>\n",
              "      <td>Football Clicker</td>\n",
              "      <td>56.049425</td>\n",
              "    </tr>\n",
              "    <tr>\n",
              "      <th>7276</th>\n",
              "      <td>Basketball Clicker</td>\n",
              "      <td>44.191908</td>\n",
              "    </tr>\n",
              "    <tr>\n",
              "      <th>7275</th>\n",
              "      <td>Soccer Clicker</td>\n",
              "      <td>43.103394</td>\n",
              "    </tr>\n",
              "    <tr>\n",
              "      <th>9857</th>\n",
              "      <td>Touchdown Manager</td>\n",
              "      <td>41.200553</td>\n",
              "    </tr>\n",
              "    <tr>\n",
              "      <th>7277</th>\n",
              "      <td>Hockey Clicker</td>\n",
              "      <td>40.983200</td>\n",
              "    </tr>\n",
              "  </tbody>\n",
              "</table>\n",
              "</div>"
            ],
            "text/plain": [
              "                    Name  luxe_score\n",
              "6932    Football Clicker   56.049425\n",
              "7276  Basketball Clicker   44.191908\n",
              "7275      Soccer Clicker   43.103394\n",
              "9857   Touchdown Manager   41.200553\n",
              "7277      Hockey Clicker   40.983200"
            ]
          },
          "metadata": {
            "tags": []
          },
          "execution_count": 104
        }
      ]
    },
    {
      "cell_type": "code",
      "metadata": {
        "colab": {
          "base_uri": "https://localhost:8080/",
          "height": 204
        },
        "id": "EkN3py4sTnYO",
        "outputId": "8ad7f006-3e16-4823-ecb8-106cf1b35de4"
      },
      "source": [
        "df_leads[:5]"
      ],
      "execution_count": 105,
      "outputs": [
        {
          "output_type": "execute_result",
          "data": {
            "text/html": [
              "<div>\n",
              "<style scoped>\n",
              "    .dataframe tbody tr th:only-of-type {\n",
              "        vertical-align: middle;\n",
              "    }\n",
              "\n",
              "    .dataframe tbody tr th {\n",
              "        vertical-align: top;\n",
              "    }\n",
              "\n",
              "    .dataframe thead th {\n",
              "        text-align: right;\n",
              "    }\n",
              "</style>\n",
              "<table border=\"1\" class=\"dataframe\">\n",
              "  <thead>\n",
              "    <tr style=\"text-align: right;\">\n",
              "      <th></th>\n",
              "      <th>Name</th>\n",
              "      <th>luxe_score</th>\n",
              "    </tr>\n",
              "  </thead>\n",
              "  <tbody>\n",
              "    <tr>\n",
              "      <th>1378</th>\n",
              "      <td>Clash of Clans</td>\n",
              "      <td>53.053395</td>\n",
              "    </tr>\n",
              "    <tr>\n",
              "      <th>2634</th>\n",
              "      <td>Finabase: realtime stocks</td>\n",
              "      <td>48.617825</td>\n",
              "    </tr>\n",
              "    <tr>\n",
              "      <th>16085</th>\n",
              "      <td>Arcane Pets: Plushie Empire</td>\n",
              "      <td>43.332977</td>\n",
              "    </tr>\n",
              "    <tr>\n",
              "      <th>8946</th>\n",
              "      <td>War Planet Online</td>\n",
              "      <td>41.027593</td>\n",
              "    </tr>\n",
              "    <tr>\n",
              "      <th>1683</th>\n",
              "      <td>War of Nations\\u2122 - PVP Strategy</td>\n",
              "      <td>38.865776</td>\n",
              "    </tr>\n",
              "  </tbody>\n",
              "</table>\n",
              "</div>"
            ],
            "text/plain": [
              "                                      Name  luxe_score\n",
              "1378                        Clash of Clans   53.053395\n",
              "2634             Finabase: realtime stocks   48.617825\n",
              "16085          Arcane Pets: Plushie Empire   43.332977\n",
              "8946                     War Planet Online   41.027593\n",
              "1683   War of Nations\\u2122 - PVP Strategy   38.865776"
            ]
          },
          "metadata": {
            "tags": []
          },
          "execution_count": 105
        }
      ]
    },
    {
      "cell_type": "markdown",
      "metadata": {
        "id": "8u3sWw9vTp_i"
      },
      "source": [
        "## **For Loop Tecnique**"
      ]
    },
    {
      "cell_type": "code",
      "metadata": {
        "colab": {
          "base_uri": "https://localhost:8080/"
        },
        "id": "sKZ-A2bPTuaT",
        "outputId": "b6758453-6e86-4eb7-f265-7aa9fed05ae8"
      },
      "source": [
        "selected_genres"
      ],
      "execution_count": 106,
      "outputs": [
        {
          "output_type": "execute_result",
          "data": {
            "text/plain": [
              "['Entertainment', 'Sports', 'Puzzle', 'Simulation', 'Role Playing']"
            ]
          },
          "metadata": {
            "tags": []
          },
          "execution_count": 106
        }
      ]
    },
    {
      "cell_type": "markdown",
      "metadata": {
        "id": "XdwNVdLUTwD-"
      },
      "source": [
        "## **จับเวลา Forloop**"
      ]
    },
    {
      "cell_type": "code",
      "metadata": {
        "id": "e5SGc-wvTymC"
      },
      "source": [
        "from datetime import datetime"
      ],
      "execution_count": 107,
      "outputs": []
    },
    {
      "cell_type": "code",
      "metadata": {
        "colab": {
          "base_uri": "https://localhost:8080/"
        },
        "id": "fgUYUphkT0ER",
        "outputId": "edc76c00-22c3-4928-ed3d-a6c930bea33f"
      },
      "source": [
        "datetime.now()"
      ],
      "execution_count": 108,
      "outputs": [
        {
          "output_type": "execute_result",
          "data": {
            "text/plain": [
              "datetime.datetime(2021, 5, 1, 8, 16, 1, 198406)"
            ]
          },
          "metadata": {
            "tags": []
          },
          "execution_count": 108
        }
      ]
    },
    {
      "cell_type": "code",
      "metadata": {
        "colab": {
          "base_uri": "https://localhost:8080/"
        },
        "id": "DFdImrXET1V4",
        "outputId": "d9148f7b-627b-4d3e-ad0c-a403cce4a7d0"
      },
      "source": [
        "df_ls = []\n",
        "for elem in selected_genres:\n",
        "    start_time = datetime.now()\n",
        "    df = calculate_luxe_score(_genre=elem)\n",
        "    df_ls.append(df)\n",
        "    stop_time = datetime.now()\n",
        "    print(\"Time Spent: {} {}\".format(stop_time - start_time, elem))"
      ],
      "execution_count": 109,
      "outputs": [
        {
          "output_type": "stream",
          "text": [
            "Time Spent: 0:00:00.125051 Entertainment\n",
            "Time Spent: 0:00:00.016380 Sports\n",
            "Time Spent: 0:00:00.060471 Puzzle\n",
            "Time Spent: 0:00:00.046609 Simulation\n",
            "Time Spent: 0:00:00.026826 Role Playing\n"
          ],
          "name": "stdout"
        }
      ]
    },
    {
      "cell_type": "code",
      "metadata": {
        "id": "Z7eYY8EHT3Yz"
      },
      "source": [
        "for df, genre in zip(df_ls, selected_genres):\n",
        "    df.to_csv('/content/leads_{}.csv'.format(genre))\n"
      ],
      "execution_count": 110,
      "outputs": []
    },
    {
      "cell_type": "markdown",
      "metadata": {
        "id": "KmzvsGqcT5Bp"
      },
      "source": [
        "## **Pivoting¶**"
      ]
    },
    {
      "cell_type": "code",
      "metadata": {
        "colab": {
          "base_uri": "https://localhost:8080/",
          "height": 204
        },
        "id": "AS26gSDyT7xy",
        "outputId": "45b47271-7f5b-490c-c3fc-c238b76090fa"
      },
      "source": [
        "df_apps[[\"Name\", \"Primary Genre\"]][:5]"
      ],
      "execution_count": 111,
      "outputs": [
        {
          "output_type": "execute_result",
          "data": {
            "text/html": [
              "<div>\n",
              "<style scoped>\n",
              "    .dataframe tbody tr th:only-of-type {\n",
              "        vertical-align: middle;\n",
              "    }\n",
              "\n",
              "    .dataframe tbody tr th {\n",
              "        vertical-align: top;\n",
              "    }\n",
              "\n",
              "    .dataframe thead th {\n",
              "        text-align: right;\n",
              "    }\n",
              "</style>\n",
              "<table border=\"1\" class=\"dataframe\">\n",
              "  <thead>\n",
              "    <tr style=\"text-align: right;\">\n",
              "      <th></th>\n",
              "      <th>Name</th>\n",
              "      <th>Primary Genre</th>\n",
              "    </tr>\n",
              "  </thead>\n",
              "  <tbody>\n",
              "    <tr>\n",
              "      <th>0</th>\n",
              "      <td>Sudoku</td>\n",
              "      <td>Games</td>\n",
              "    </tr>\n",
              "    <tr>\n",
              "      <th>1</th>\n",
              "      <td>Reversi</td>\n",
              "      <td>Games</td>\n",
              "    </tr>\n",
              "    <tr>\n",
              "      <th>2</th>\n",
              "      <td>Morocco</td>\n",
              "      <td>Games</td>\n",
              "    </tr>\n",
              "    <tr>\n",
              "      <th>3</th>\n",
              "      <td>Sudoku (Free)</td>\n",
              "      <td>Games</td>\n",
              "    </tr>\n",
              "    <tr>\n",
              "      <th>4</th>\n",
              "      <td>Senet Deluxe</td>\n",
              "      <td>Games</td>\n",
              "    </tr>\n",
              "  </tbody>\n",
              "</table>\n",
              "</div>"
            ],
            "text/plain": [
              "            Name Primary Genre\n",
              "0         Sudoku         Games\n",
              "1        Reversi         Games\n",
              "2        Morocco         Games\n",
              "3  Sudoku (Free)         Games\n",
              "4   Senet Deluxe         Games"
            ]
          },
          "metadata": {
            "tags": []
          },
          "execution_count": 111
        }
      ]
    },
    {
      "cell_type": "code",
      "metadata": {
        "colab": {
          "base_uri": "https://localhost:8080/",
          "height": 946
        },
        "id": "2F2ePKkjUJLw",
        "outputId": "55152cd7-1148-407d-bf21-11dcc33d832a"
      },
      "source": [
        "pd.pivot_table(df_apps, values=\"Price\", index=\"Name\", columns=\"Primary Genre\", aggfunc='mean')"
      ],
      "execution_count": 112,
      "outputs": [
        {
          "output_type": "execute_result",
          "data": {
            "text/html": [
              "<div>\n",
              "<style scoped>\n",
              "    .dataframe tbody tr th:only-of-type {\n",
              "        vertical-align: middle;\n",
              "    }\n",
              "\n",
              "    .dataframe tbody tr th {\n",
              "        vertical-align: top;\n",
              "    }\n",
              "\n",
              "    .dataframe thead th {\n",
              "        text-align: right;\n",
              "    }\n",
              "</style>\n",
              "<table border=\"1\" class=\"dataframe\">\n",
              "  <thead>\n",
              "    <tr style=\"text-align: right;\">\n",
              "      <th>Primary Genre</th>\n",
              "      <th>Book</th>\n",
              "      <th>Business</th>\n",
              "      <th>Education</th>\n",
              "      <th>Entertainment</th>\n",
              "      <th>Finance</th>\n",
              "      <th>Food &amp; Drink</th>\n",
              "      <th>Games</th>\n",
              "      <th>Health &amp; Fitness</th>\n",
              "      <th>Lifestyle</th>\n",
              "      <th>Medical</th>\n",
              "      <th>Music</th>\n",
              "      <th>Navigation</th>\n",
              "      <th>News</th>\n",
              "      <th>Productivity</th>\n",
              "      <th>Reference</th>\n",
              "      <th>Shopping</th>\n",
              "      <th>Social Networking</th>\n",
              "      <th>Sports</th>\n",
              "      <th>Stickers</th>\n",
              "      <th>Travel</th>\n",
              "      <th>Utilities</th>\n",
              "    </tr>\n",
              "    <tr>\n",
              "      <th>Name</th>\n",
              "      <th></th>\n",
              "      <th></th>\n",
              "      <th></th>\n",
              "      <th></th>\n",
              "      <th></th>\n",
              "      <th></th>\n",
              "      <th></th>\n",
              "      <th></th>\n",
              "      <th></th>\n",
              "      <th></th>\n",
              "      <th></th>\n",
              "      <th></th>\n",
              "      <th></th>\n",
              "      <th></th>\n",
              "      <th></th>\n",
              "      <th></th>\n",
              "      <th></th>\n",
              "      <th></th>\n",
              "      <th></th>\n",
              "      <th></th>\n",
              "      <th></th>\n",
              "    </tr>\n",
              "  </thead>\n",
              "  <tbody>\n",
              "    <tr>\n",
              "      <th>! Chess !</th>\n",
              "      <td>NaN</td>\n",
              "      <td>NaN</td>\n",
              "      <td>NaN</td>\n",
              "      <td>NaN</td>\n",
              "      <td>NaN</td>\n",
              "      <td>NaN</td>\n",
              "      <td>0.00</td>\n",
              "      <td>NaN</td>\n",
              "      <td>NaN</td>\n",
              "      <td>NaN</td>\n",
              "      <td>NaN</td>\n",
              "      <td>NaN</td>\n",
              "      <td>NaN</td>\n",
              "      <td>NaN</td>\n",
              "      <td>NaN</td>\n",
              "      <td>NaN</td>\n",
              "      <td>NaN</td>\n",
              "      <td>NaN</td>\n",
              "      <td>NaN</td>\n",
              "      <td>NaN</td>\n",
              "      <td>NaN</td>\n",
              "    </tr>\n",
              "    <tr>\n",
              "      <th>! OH Fantastic Free Kick + Kick Wall Challenge</th>\n",
              "      <td>NaN</td>\n",
              "      <td>NaN</td>\n",
              "      <td>NaN</td>\n",
              "      <td>NaN</td>\n",
              "      <td>NaN</td>\n",
              "      <td>NaN</td>\n",
              "      <td>0.00</td>\n",
              "      <td>NaN</td>\n",
              "      <td>NaN</td>\n",
              "      <td>NaN</td>\n",
              "      <td>NaN</td>\n",
              "      <td>NaN</td>\n",
              "      <td>NaN</td>\n",
              "      <td>NaN</td>\n",
              "      <td>NaN</td>\n",
              "      <td>NaN</td>\n",
              "      <td>NaN</td>\n",
              "      <td>NaN</td>\n",
              "      <td>NaN</td>\n",
              "      <td>NaN</td>\n",
              "      <td>NaN</td>\n",
              "    </tr>\n",
              "    <tr>\n",
              "      <th>!Ball Shots - Premium</th>\n",
              "      <td>NaN</td>\n",
              "      <td>NaN</td>\n",
              "      <td>NaN</td>\n",
              "      <td>NaN</td>\n",
              "      <td>NaN</td>\n",
              "      <td>NaN</td>\n",
              "      <td>1.99</td>\n",
              "      <td>NaN</td>\n",
              "      <td>NaN</td>\n",
              "      <td>NaN</td>\n",
              "      <td>NaN</td>\n",
              "      <td>NaN</td>\n",
              "      <td>NaN</td>\n",
              "      <td>NaN</td>\n",
              "      <td>NaN</td>\n",
              "      <td>NaN</td>\n",
              "      <td>NaN</td>\n",
              "      <td>NaN</td>\n",
              "      <td>NaN</td>\n",
              "      <td>NaN</td>\n",
              "      <td>NaN</td>\n",
              "    </tr>\n",
              "    <tr>\n",
              "      <th>!Dice In Cup : Premium</th>\n",
              "      <td>NaN</td>\n",
              "      <td>NaN</td>\n",
              "      <td>NaN</td>\n",
              "      <td>NaN</td>\n",
              "      <td>NaN</td>\n",
              "      <td>NaN</td>\n",
              "      <td>0.99</td>\n",
              "      <td>NaN</td>\n",
              "      <td>NaN</td>\n",
              "      <td>NaN</td>\n",
              "      <td>NaN</td>\n",
              "      <td>NaN</td>\n",
              "      <td>NaN</td>\n",
              "      <td>NaN</td>\n",
              "      <td>NaN</td>\n",
              "      <td>NaN</td>\n",
              "      <td>NaN</td>\n",
              "      <td>NaN</td>\n",
              "      <td>NaN</td>\n",
              "      <td>NaN</td>\n",
              "      <td>NaN</td>\n",
              "    </tr>\n",
              "    <tr>\n",
              "      <th>!Dots and Boxes : Premium</th>\n",
              "      <td>NaN</td>\n",
              "      <td>NaN</td>\n",
              "      <td>NaN</td>\n",
              "      <td>NaN</td>\n",
              "      <td>NaN</td>\n",
              "      <td>NaN</td>\n",
              "      <td>0.99</td>\n",
              "      <td>NaN</td>\n",
              "      <td>NaN</td>\n",
              "      <td>NaN</td>\n",
              "      <td>NaN</td>\n",
              "      <td>NaN</td>\n",
              "      <td>NaN</td>\n",
              "      <td>NaN</td>\n",
              "      <td>NaN</td>\n",
              "      <td>NaN</td>\n",
              "      <td>NaN</td>\n",
              "      <td>NaN</td>\n",
              "      <td>NaN</td>\n",
              "      <td>NaN</td>\n",
              "      <td>NaN</td>\n",
              "    </tr>\n",
              "    <tr>\n",
              "      <th>...</th>\n",
              "      <td>...</td>\n",
              "      <td>...</td>\n",
              "      <td>...</td>\n",
              "      <td>...</td>\n",
              "      <td>...</td>\n",
              "      <td>...</td>\n",
              "      <td>...</td>\n",
              "      <td>...</td>\n",
              "      <td>...</td>\n",
              "      <td>...</td>\n",
              "      <td>...</td>\n",
              "      <td>...</td>\n",
              "      <td>...</td>\n",
              "      <td>...</td>\n",
              "      <td>...</td>\n",
              "      <td>...</td>\n",
              "      <td>...</td>\n",
              "      <td>...</td>\n",
              "      <td>...</td>\n",
              "      <td>...</td>\n",
              "      <td>...</td>\n",
              "    </tr>\n",
              "    <tr>\n",
              "      <th>` Flea Pop Puzzle Games For Free Kids Mind Teaser Quiz</th>\n",
              "      <td>NaN</td>\n",
              "      <td>NaN</td>\n",
              "      <td>NaN</td>\n",
              "      <td>NaN</td>\n",
              "      <td>NaN</td>\n",
              "      <td>NaN</td>\n",
              "      <td>0.00</td>\n",
              "      <td>NaN</td>\n",
              "      <td>NaN</td>\n",
              "      <td>NaN</td>\n",
              "      <td>NaN</td>\n",
              "      <td>NaN</td>\n",
              "      <td>NaN</td>\n",
              "      <td>NaN</td>\n",
              "      <td>NaN</td>\n",
              "      <td>NaN</td>\n",
              "      <td>NaN</td>\n",
              "      <td>NaN</td>\n",
              "      <td>NaN</td>\n",
              "      <td>NaN</td>\n",
              "      <td>NaN</td>\n",
              "    </tr>\n",
              "    <tr>\n",
              "      <th>`119</th>\n",
              "      <td>NaN</td>\n",
              "      <td>NaN</td>\n",
              "      <td>NaN</td>\n",
              "      <td>NaN</td>\n",
              "      <td>NaN</td>\n",
              "      <td>NaN</td>\n",
              "      <td>0.00</td>\n",
              "      <td>NaN</td>\n",
              "      <td>NaN</td>\n",
              "      <td>NaN</td>\n",
              "      <td>NaN</td>\n",
              "      <td>NaN</td>\n",
              "      <td>NaN</td>\n",
              "      <td>NaN</td>\n",
              "      <td>NaN</td>\n",
              "      <td>NaN</td>\n",
              "      <td>NaN</td>\n",
              "      <td>NaN</td>\n",
              "      <td>NaN</td>\n",
              "      <td>NaN</td>\n",
              "      <td>NaN</td>\n",
              "    </tr>\n",
              "    <tr>\n",
              "      <th>`Four in a row</th>\n",
              "      <td>NaN</td>\n",
              "      <td>NaN</td>\n",
              "      <td>NaN</td>\n",
              "      <td>NaN</td>\n",
              "      <td>NaN</td>\n",
              "      <td>NaN</td>\n",
              "      <td>0.00</td>\n",
              "      <td>NaN</td>\n",
              "      <td>NaN</td>\n",
              "      <td>NaN</td>\n",
              "      <td>NaN</td>\n",
              "      <td>NaN</td>\n",
              "      <td>NaN</td>\n",
              "      <td>NaN</td>\n",
              "      <td>NaN</td>\n",
              "      <td>NaN</td>\n",
              "      <td>NaN</td>\n",
              "      <td>NaN</td>\n",
              "      <td>NaN</td>\n",
              "      <td>NaN</td>\n",
              "      <td>NaN</td>\n",
              "    </tr>\n",
              "    <tr>\n",
              "      <th>``` A Candy Fable ``` - puzzle match-3 jam in juice fruit land free</th>\n",
              "      <td>NaN</td>\n",
              "      <td>NaN</td>\n",
              "      <td>NaN</td>\n",
              "      <td>NaN</td>\n",
              "      <td>NaN</td>\n",
              "      <td>NaN</td>\n",
              "      <td>0.00</td>\n",
              "      <td>NaN</td>\n",
              "      <td>NaN</td>\n",
              "      <td>NaN</td>\n",
              "      <td>NaN</td>\n",
              "      <td>NaN</td>\n",
              "      <td>NaN</td>\n",
              "      <td>NaN</td>\n",
              "      <td>NaN</td>\n",
              "      <td>NaN</td>\n",
              "      <td>NaN</td>\n",
              "      <td>NaN</td>\n",
              "      <td>NaN</td>\n",
              "      <td>NaN</td>\n",
              "      <td>NaN</td>\n",
              "    </tr>\n",
              "    <tr>\n",
              "      <th>kraken chess</th>\n",
              "      <td>NaN</td>\n",
              "      <td>NaN</td>\n",
              "      <td>NaN</td>\n",
              "      <td>NaN</td>\n",
              "      <td>NaN</td>\n",
              "      <td>NaN</td>\n",
              "      <td>0.00</td>\n",
              "      <td>NaN</td>\n",
              "      <td>NaN</td>\n",
              "      <td>NaN</td>\n",
              "      <td>NaN</td>\n",
              "      <td>NaN</td>\n",
              "      <td>NaN</td>\n",
              "      <td>NaN</td>\n",
              "      <td>NaN</td>\n",
              "      <td>NaN</td>\n",
              "      <td>NaN</td>\n",
              "      <td>NaN</td>\n",
              "      <td>NaN</td>\n",
              "      <td>NaN</td>\n",
              "      <td>NaN</td>\n",
              "    </tr>\n",
              "  </tbody>\n",
              "</table>\n",
              "<p>16823 rows × 21 columns</p>\n",
              "</div>"
            ],
            "text/plain": [
              "Primary Genre                                       Book  ...  Utilities\n",
              "Name                                                      ...           \n",
              "! Chess !                                            NaN  ...        NaN\n",
              "! OH Fantastic Free Kick + Kick Wall Challenge       NaN  ...        NaN\n",
              "!Ball Shots - Premium                                NaN  ...        NaN\n",
              "!Dice In Cup : Premium                               NaN  ...        NaN\n",
              "!Dots and Boxes : Premium                            NaN  ...        NaN\n",
              "...                                                  ...  ...        ...\n",
              "` Flea Pop Puzzle Games For Free Kids Mind Teas...   NaN  ...        NaN\n",
              "`119                                                 NaN  ...        NaN\n",
              "`Four in a row                                       NaN  ...        NaN\n",
              "``` A Candy Fable ``` - puzzle match-3 jam in j...   NaN  ...        NaN\n",
              "kraken chess                                         NaN  ...        NaN\n",
              "\n",
              "[16823 rows x 21 columns]"
            ]
          },
          "metadata": {
            "tags": []
          },
          "execution_count": 112
        }
      ]
    },
    {
      "cell_type": "code",
      "metadata": {
        "id": "3eeRcFySUMVU"
      },
      "source": [
        ""
      ],
      "execution_count": 112,
      "outputs": []
    },
    {
      "cell_type": "code",
      "metadata": {
        "id": "EjXRLoR4UVyD"
      },
      "source": [
        ""
      ],
      "execution_count": 112,
      "outputs": []
    },
    {
      "cell_type": "code",
      "metadata": {
        "id": "8hjVQ50zUVu3"
      },
      "source": [
        ""
      ],
      "execution_count": 112,
      "outputs": []
    },
    {
      "cell_type": "code",
      "metadata": {
        "id": "SwYgWabKUVr-"
      },
      "source": [
        ""
      ],
      "execution_count": 112,
      "outputs": []
    },
    {
      "cell_type": "code",
      "metadata": {
        "id": "Pz118sPhUVpg"
      },
      "source": [
        ""
      ],
      "execution_count": 112,
      "outputs": []
    },
    {
      "cell_type": "code",
      "metadata": {
        "id": "6YGLwvPKUVm4"
      },
      "source": [
        ""
      ],
      "execution_count": 112,
      "outputs": []
    },
    {
      "cell_type": "markdown",
      "metadata": {
        "id": "XDp7vTSxUVkN"
      },
      "source": [
        "\n",
        "# Pandas อ่าน HTML"
      ]
    },
    {
      "cell_type": "code",
      "metadata": {
        "id": "IiAzu1klUVg9"
      },
      "source": [
        "URL = \"https://www.settrade.com/C04_02_stock_historical_p1.jsp?txtSymbol=MINT&selectPage=2&max=1000&offset=1\""
      ],
      "execution_count": 113,
      "outputs": []
    },
    {
      "cell_type": "code",
      "metadata": {
        "id": "NkloOMn7UVa4"
      },
      "source": [
        "df_mint_ls = pd.read_html(URL)"
      ],
      "execution_count": 114,
      "outputs": []
    },
    {
      "cell_type": "code",
      "metadata": {
        "colab": {
          "base_uri": "https://localhost:8080/"
        },
        "id": "2bIM9EWDUdxz",
        "outputId": "09ae443b-7893-4a0b-9be8-70d8ef83ac2a"
      },
      "source": [
        "df_mint_ls[0].shape"
      ],
      "execution_count": 115,
      "outputs": [
        {
          "output_type": "execute_result",
          "data": {
            "text/plain": [
              "(118, 12)"
            ]
          },
          "metadata": {
            "tags": []
          },
          "execution_count": 115
        }
      ]
    },
    {
      "cell_type": "code",
      "metadata": {
        "id": "JY2U_zlqUfP6"
      },
      "source": [
        "df_mint = df_mint_ls[0]"
      ],
      "execution_count": 116,
      "outputs": []
    },
    {
      "cell_type": "code",
      "metadata": {
        "colab": {
          "base_uri": "https://localhost:8080/",
          "height": 190
        },
        "id": "QiMc4fT4Ugkt",
        "outputId": "2711d8ed-0e6f-4065-aa81-539b30bae68d"
      },
      "source": [
        "df_mint[:4]"
      ],
      "execution_count": 117,
      "outputs": [
        {
          "output_type": "execute_result",
          "data": {
            "text/html": [
              "<div>\n",
              "<style scoped>\n",
              "    .dataframe tbody tr th:only-of-type {\n",
              "        vertical-align: middle;\n",
              "    }\n",
              "\n",
              "    .dataframe tbody tr th {\n",
              "        vertical-align: top;\n",
              "    }\n",
              "\n",
              "    .dataframe thead th {\n",
              "        text-align: right;\n",
              "    }\n",
              "</style>\n",
              "<table border=\"1\" class=\"dataframe\">\n",
              "  <thead>\n",
              "    <tr style=\"text-align: right;\">\n",
              "      <th></th>\n",
              "      <th>วันที่</th>\n",
              "      <th>ราคาเปิด</th>\n",
              "      <th>ราคาสูงสุด</th>\n",
              "      <th>ราคาต่ำสุด</th>\n",
              "      <th>ราคาเฉลี่ย</th>\n",
              "      <th>ราคาปิด</th>\n",
              "      <th>เปลี่ยนแปลง</th>\n",
              "      <th>%เปลี่ยนแปลง</th>\n",
              "      <th>ปริมาณ(พันหุ้น)</th>\n",
              "      <th>มูลค่า(ล้านบาท)</th>\n",
              "      <th>SETIndex</th>\n",
              "      <th>%เปลี่ยนแปลง.1</th>\n",
              "    </tr>\n",
              "  </thead>\n",
              "  <tbody>\n",
              "    <tr>\n",
              "      <th>0</th>\n",
              "      <td>29/04/21</td>\n",
              "      <td>31.00</td>\n",
              "      <td>31.50</td>\n",
              "      <td>30.25</td>\n",
              "      <td>30.81</td>\n",
              "      <td>30.50</td>\n",
              "      <td>0.00</td>\n",
              "      <td>0.00</td>\n",
              "      <td>20259.66</td>\n",
              "      <td>624.26</td>\n",
              "      <td>1590.46</td>\n",
              "      <td>0.87</td>\n",
              "    </tr>\n",
              "    <tr>\n",
              "      <th>1</th>\n",
              "      <td>28/04/21</td>\n",
              "      <td>30.25</td>\n",
              "      <td>30.75</td>\n",
              "      <td>30.00</td>\n",
              "      <td>30.43</td>\n",
              "      <td>30.50</td>\n",
              "      <td>0.50</td>\n",
              "      <td>1.67</td>\n",
              "      <td>10237.66</td>\n",
              "      <td>311.78</td>\n",
              "      <td>1576.79</td>\n",
              "      <td>1.13</td>\n",
              "    </tr>\n",
              "    <tr>\n",
              "      <th>2</th>\n",
              "      <td>27/04/21</td>\n",
              "      <td>30.00</td>\n",
              "      <td>30.25</td>\n",
              "      <td>29.50</td>\n",
              "      <td>29.94</td>\n",
              "      <td>30.00</td>\n",
              "      <td>0.25</td>\n",
              "      <td>0.84</td>\n",
              "      <td>17956.38</td>\n",
              "      <td>537.63</td>\n",
              "      <td>1559.23</td>\n",
              "      <td>-0.02</td>\n",
              "    </tr>\n",
              "    <tr>\n",
              "      <th>3</th>\n",
              "      <td>26/04/21</td>\n",
              "      <td>29.00</td>\n",
              "      <td>30.00</td>\n",
              "      <td>28.50</td>\n",
              "      <td>29.48</td>\n",
              "      <td>29.75</td>\n",
              "      <td>1.00</td>\n",
              "      <td>3.48</td>\n",
              "      <td>29292.49</td>\n",
              "      <td>863.49</td>\n",
              "      <td>1559.53</td>\n",
              "      <td>0.38</td>\n",
              "    </tr>\n",
              "  </tbody>\n",
              "</table>\n",
              "</div>"
            ],
            "text/plain": [
              "     วันที่  ราคาเปิด  ราคาสูงสุด  ...  มูลค่า(ล้านบาท)  SETIndex  %เปลี่ยนแปลง.1\n",
              "0  29/04/21     31.00       31.50  ...           624.26   1590.46            0.87\n",
              "1  28/04/21     30.25       30.75  ...           311.78   1576.79            1.13\n",
              "2  27/04/21     30.00       30.25  ...           537.63   1559.23           -0.02\n",
              "3  26/04/21     29.00       30.00  ...           863.49   1559.53            0.38\n",
              "\n",
              "[4 rows x 12 columns]"
            ]
          },
          "metadata": {
            "tags": []
          },
          "execution_count": 117
        }
      ]
    },
    {
      "cell_type": "code",
      "metadata": {
        "id": "0r4GN5FbUhxF"
      },
      "source": [
        "df_mint = df_mint.rename(columns={\"วันที่\":\"date\", \"ราคาเปิด\":\"open\"})"
      ],
      "execution_count": 118,
      "outputs": []
    },
    {
      "cell_type": "code",
      "metadata": {
        "colab": {
          "base_uri": "https://localhost:8080/",
          "height": 190
        },
        "id": "2-p92t4XUjcO",
        "outputId": "093b80c5-2e18-47dd-ade5-7e239fb58747"
      },
      "source": [
        "df_mint[:4]"
      ],
      "execution_count": 119,
      "outputs": [
        {
          "output_type": "execute_result",
          "data": {
            "text/html": [
              "<div>\n",
              "<style scoped>\n",
              "    .dataframe tbody tr th:only-of-type {\n",
              "        vertical-align: middle;\n",
              "    }\n",
              "\n",
              "    .dataframe tbody tr th {\n",
              "        vertical-align: top;\n",
              "    }\n",
              "\n",
              "    .dataframe thead th {\n",
              "        text-align: right;\n",
              "    }\n",
              "</style>\n",
              "<table border=\"1\" class=\"dataframe\">\n",
              "  <thead>\n",
              "    <tr style=\"text-align: right;\">\n",
              "      <th></th>\n",
              "      <th>date</th>\n",
              "      <th>open</th>\n",
              "      <th>ราคาสูงสุด</th>\n",
              "      <th>ราคาต่ำสุด</th>\n",
              "      <th>ราคาเฉลี่ย</th>\n",
              "      <th>ราคาปิด</th>\n",
              "      <th>เปลี่ยนแปลง</th>\n",
              "      <th>%เปลี่ยนแปลง</th>\n",
              "      <th>ปริมาณ(พันหุ้น)</th>\n",
              "      <th>มูลค่า(ล้านบาท)</th>\n",
              "      <th>SETIndex</th>\n",
              "      <th>%เปลี่ยนแปลง.1</th>\n",
              "    </tr>\n",
              "  </thead>\n",
              "  <tbody>\n",
              "    <tr>\n",
              "      <th>0</th>\n",
              "      <td>29/04/21</td>\n",
              "      <td>31.00</td>\n",
              "      <td>31.50</td>\n",
              "      <td>30.25</td>\n",
              "      <td>30.81</td>\n",
              "      <td>30.50</td>\n",
              "      <td>0.00</td>\n",
              "      <td>0.00</td>\n",
              "      <td>20259.66</td>\n",
              "      <td>624.26</td>\n",
              "      <td>1590.46</td>\n",
              "      <td>0.87</td>\n",
              "    </tr>\n",
              "    <tr>\n",
              "      <th>1</th>\n",
              "      <td>28/04/21</td>\n",
              "      <td>30.25</td>\n",
              "      <td>30.75</td>\n",
              "      <td>30.00</td>\n",
              "      <td>30.43</td>\n",
              "      <td>30.50</td>\n",
              "      <td>0.50</td>\n",
              "      <td>1.67</td>\n",
              "      <td>10237.66</td>\n",
              "      <td>311.78</td>\n",
              "      <td>1576.79</td>\n",
              "      <td>1.13</td>\n",
              "    </tr>\n",
              "    <tr>\n",
              "      <th>2</th>\n",
              "      <td>27/04/21</td>\n",
              "      <td>30.00</td>\n",
              "      <td>30.25</td>\n",
              "      <td>29.50</td>\n",
              "      <td>29.94</td>\n",
              "      <td>30.00</td>\n",
              "      <td>0.25</td>\n",
              "      <td>0.84</td>\n",
              "      <td>17956.38</td>\n",
              "      <td>537.63</td>\n",
              "      <td>1559.23</td>\n",
              "      <td>-0.02</td>\n",
              "    </tr>\n",
              "    <tr>\n",
              "      <th>3</th>\n",
              "      <td>26/04/21</td>\n",
              "      <td>29.00</td>\n",
              "      <td>30.00</td>\n",
              "      <td>28.50</td>\n",
              "      <td>29.48</td>\n",
              "      <td>29.75</td>\n",
              "      <td>1.00</td>\n",
              "      <td>3.48</td>\n",
              "      <td>29292.49</td>\n",
              "      <td>863.49</td>\n",
              "      <td>1559.53</td>\n",
              "      <td>0.38</td>\n",
              "    </tr>\n",
              "  </tbody>\n",
              "</table>\n",
              "</div>"
            ],
            "text/plain": [
              "       date   open  ราคาสูงสุด  ...  มูลค่า(ล้านบาท)  SETIndex  %เปลี่ยนแปลง.1\n",
              "0  29/04/21  31.00       31.50  ...           624.26   1590.46            0.87\n",
              "1  28/04/21  30.25       30.75  ...           311.78   1576.79            1.13\n",
              "2  27/04/21  30.00       30.25  ...           537.63   1559.23           -0.02\n",
              "3  26/04/21  29.00       30.00  ...           863.49   1559.53            0.38\n",
              "\n",
              "[4 rows x 12 columns]"
            ]
          },
          "metadata": {
            "tags": []
          },
          "execution_count": 119
        }
      ]
    },
    {
      "cell_type": "code",
      "metadata": {
        "id": "-V5QWOAJUmS7"
      },
      "source": [
        "import matplotlib.pyplot as plt\n",
        "import seaborn as sns\n",
        "%matplotlib inline"
      ],
      "execution_count": 120,
      "outputs": []
    },
    {
      "cell_type": "code",
      "metadata": {
        "id": "nxt8kTb8Uoh8"
      },
      "source": [
        "df_mint = df_mint.sort_values(by=\"date\")"
      ],
      "execution_count": 121,
      "outputs": []
    },
    {
      "cell_type": "code",
      "metadata": {
        "id": "HWIwq0D7Uqd1"
      },
      "source": [
        "df_mint = df_mint.reset_index(drop=True)"
      ],
      "execution_count": 122,
      "outputs": []
    },
    {
      "cell_type": "code",
      "metadata": {
        "colab": {
          "base_uri": "https://localhost:8080/",
          "height": 376
        },
        "id": "d2pjIIEkVBNN",
        "outputId": "ebcb224b-21c3-4504-b5aa-dadff113d46a"
      },
      "source": [
        "df_mint[:10]"
      ],
      "execution_count": 123,
      "outputs": [
        {
          "output_type": "execute_result",
          "data": {
            "text/html": [
              "<div>\n",
              "<style scoped>\n",
              "    .dataframe tbody tr th:only-of-type {\n",
              "        vertical-align: middle;\n",
              "    }\n",
              "\n",
              "    .dataframe tbody tr th {\n",
              "        vertical-align: top;\n",
              "    }\n",
              "\n",
              "    .dataframe thead th {\n",
              "        text-align: right;\n",
              "    }\n",
              "</style>\n",
              "<table border=\"1\" class=\"dataframe\">\n",
              "  <thead>\n",
              "    <tr style=\"text-align: right;\">\n",
              "      <th></th>\n",
              "      <th>date</th>\n",
              "      <th>open</th>\n",
              "      <th>ราคาสูงสุด</th>\n",
              "      <th>ราคาต่ำสุด</th>\n",
              "      <th>ราคาเฉลี่ย</th>\n",
              "      <th>ราคาปิด</th>\n",
              "      <th>เปลี่ยนแปลง</th>\n",
              "      <th>%เปลี่ยนแปลง</th>\n",
              "      <th>ปริมาณ(พันหุ้น)</th>\n",
              "      <th>มูลค่า(ล้านบาท)</th>\n",
              "      <th>SETIndex</th>\n",
              "      <th>%เปลี่ยนแปลง.1</th>\n",
              "    </tr>\n",
              "  </thead>\n",
              "  <tbody>\n",
              "    <tr>\n",
              "      <th>0</th>\n",
              "      <td>01/02/21</td>\n",
              "      <td>24.90</td>\n",
              "      <td>25.50</td>\n",
              "      <td>24.40</td>\n",
              "      <td>24.92</td>\n",
              "      <td>25.00</td>\n",
              "      <td>0.20</td>\n",
              "      <td>0.81</td>\n",
              "      <td>27224.98</td>\n",
              "      <td>678.41</td>\n",
              "      <td>1478.05</td>\n",
              "      <td>0.75</td>\n",
              "    </tr>\n",
              "    <tr>\n",
              "      <th>1</th>\n",
              "      <td>01/03/21</td>\n",
              "      <td>30.00</td>\n",
              "      <td>31.00</td>\n",
              "      <td>29.75</td>\n",
              "      <td>30.26</td>\n",
              "      <td>30.25</td>\n",
              "      <td>0.00</td>\n",
              "      <td>0.00</td>\n",
              "      <td>23028.98</td>\n",
              "      <td>696.78</td>\n",
              "      <td>1500.92</td>\n",
              "      <td>0.28</td>\n",
              "    </tr>\n",
              "    <tr>\n",
              "      <th>2</th>\n",
              "      <td>01/04/21</td>\n",
              "      <td>32.50</td>\n",
              "      <td>32.75</td>\n",
              "      <td>32.00</td>\n",
              "      <td>32.19</td>\n",
              "      <td>32.00</td>\n",
              "      <td>-0.50</td>\n",
              "      <td>-1.54</td>\n",
              "      <td>13553.00</td>\n",
              "      <td>436.31</td>\n",
              "      <td>1595.12</td>\n",
              "      <td>0.50</td>\n",
              "    </tr>\n",
              "    <tr>\n",
              "      <th>3</th>\n",
              "      <td>01/12/20</td>\n",
              "      <td>25.25</td>\n",
              "      <td>25.75</td>\n",
              "      <td>25.00</td>\n",
              "      <td>25.45</td>\n",
              "      <td>25.50</td>\n",
              "      <td>0.70</td>\n",
              "      <td>2.82</td>\n",
              "      <td>36079.18</td>\n",
              "      <td>918.35</td>\n",
              "      <td>1420.87</td>\n",
              "      <td>0.89</td>\n",
              "    </tr>\n",
              "    <tr>\n",
              "      <th>4</th>\n",
              "      <td>02/02/21</td>\n",
              "      <td>25.50</td>\n",
              "      <td>25.75</td>\n",
              "      <td>25.25</td>\n",
              "      <td>25.49</td>\n",
              "      <td>25.50</td>\n",
              "      <td>0.50</td>\n",
              "      <td>2.00</td>\n",
              "      <td>10556.77</td>\n",
              "      <td>269.08</td>\n",
              "      <td>1486.25</td>\n",
              "      <td>0.55</td>\n",
              "    </tr>\n",
              "    <tr>\n",
              "      <th>5</th>\n",
              "      <td>02/03/21</td>\n",
              "      <td>30.25</td>\n",
              "      <td>31.00</td>\n",
              "      <td>29.75</td>\n",
              "      <td>30.15</td>\n",
              "      <td>30.00</td>\n",
              "      <td>-0.25</td>\n",
              "      <td>-0.83</td>\n",
              "      <td>19073.72</td>\n",
              "      <td>575.02</td>\n",
              "      <td>1503.36</td>\n",
              "      <td>0.16</td>\n",
              "    </tr>\n",
              "    <tr>\n",
              "      <th>6</th>\n",
              "      <td>02/04/21</td>\n",
              "      <td>32.00</td>\n",
              "      <td>33.00</td>\n",
              "      <td>32.00</td>\n",
              "      <td>32.43</td>\n",
              "      <td>32.25</td>\n",
              "      <td>0.25</td>\n",
              "      <td>0.78</td>\n",
              "      <td>25032.57</td>\n",
              "      <td>811.89</td>\n",
              "      <td>1596.27</td>\n",
              "      <td>0.07</td>\n",
              "    </tr>\n",
              "    <tr>\n",
              "      <th>7</th>\n",
              "      <td>02/11/20</td>\n",
              "      <td>16.60</td>\n",
              "      <td>17.20</td>\n",
              "      <td>16.40</td>\n",
              "      <td>16.88</td>\n",
              "      <td>17.20</td>\n",
              "      <td>0.50</td>\n",
              "      <td>2.99</td>\n",
              "      <td>51045.52</td>\n",
              "      <td>861.67</td>\n",
              "      <td>1202.16</td>\n",
              "      <td>0.60</td>\n",
              "    </tr>\n",
              "    <tr>\n",
              "      <th>8</th>\n",
              "      <td>02/12/20</td>\n",
              "      <td>25.25</td>\n",
              "      <td>26.50</td>\n",
              "      <td>24.90</td>\n",
              "      <td>25.82</td>\n",
              "      <td>26.00</td>\n",
              "      <td>0.50</td>\n",
              "      <td>1.96</td>\n",
              "      <td>71076.03</td>\n",
              "      <td>1835.13</td>\n",
              "      <td>1417.95</td>\n",
              "      <td>-0.21</td>\n",
              "    </tr>\n",
              "    <tr>\n",
              "      <th>9</th>\n",
              "      <td>03/02/21</td>\n",
              "      <td>25.75</td>\n",
              "      <td>28.00</td>\n",
              "      <td>25.50</td>\n",
              "      <td>26.58</td>\n",
              "      <td>26.25</td>\n",
              "      <td>0.75</td>\n",
              "      <td>2.94</td>\n",
              "      <td>63579.12</td>\n",
              "      <td>1689.90</td>\n",
              "      <td>1481.75</td>\n",
              "      <td>-0.30</td>\n",
              "    </tr>\n",
              "  </tbody>\n",
              "</table>\n",
              "</div>"
            ],
            "text/plain": [
              "       date   open  ราคาสูงสุด  ...  มูลค่า(ล้านบาท)  SETIndex  %เปลี่ยนแปลง.1\n",
              "0  01/02/21  24.90       25.50  ...           678.41   1478.05            0.75\n",
              "1  01/03/21  30.00       31.00  ...           696.78   1500.92            0.28\n",
              "2  01/04/21  32.50       32.75  ...           436.31   1595.12            0.50\n",
              "3  01/12/20  25.25       25.75  ...           918.35   1420.87            0.89\n",
              "4  02/02/21  25.50       25.75  ...           269.08   1486.25            0.55\n",
              "5  02/03/21  30.25       31.00  ...           575.02   1503.36            0.16\n",
              "6  02/04/21  32.00       33.00  ...           811.89   1596.27            0.07\n",
              "7  02/11/20  16.60       17.20  ...           861.67   1202.16            0.60\n",
              "8  02/12/20  25.25       26.50  ...          1835.13   1417.95           -0.21\n",
              "9  03/02/21  25.75       28.00  ...          1689.90   1481.75           -0.30\n",
              "\n",
              "[10 rows x 12 columns]"
            ]
          },
          "metadata": {
            "tags": []
          },
          "execution_count": 123
        }
      ]
    },
    {
      "cell_type": "code",
      "metadata": {
        "colab": {
          "base_uri": "https://localhost:8080/",
          "height": 279
        },
        "id": "dsotPIGeVVBe",
        "outputId": "287446b5-1116-4099-8a06-09bf16df0540"
      },
      "source": [
        "plt.figure(figsize=(15,4))\n",
        "sns.lineplot(data=df_mint[:15], x=\"date\", y=\"open\")\n",
        "plt.show()"
      ],
      "execution_count": 124,
      "outputs": [
        {
          "output_type": "display_data",
          "data": {
            "image/png": "[encoded data removed]",
            "text/plain": [
              "<Figure size 1080x288 with 1 Axes>"
            ]
          },
          "metadata": {
            "tags": [],
            "needs_background": "light"
          }
        }
      ]
    },
    {
      "cell_type": "code",
      "metadata": {
        "id": "lNoWuoYEVWxs"
      },
      "source": [
        ""
      ],
      "execution_count": 124,
      "outputs": []
    }
  ]
}