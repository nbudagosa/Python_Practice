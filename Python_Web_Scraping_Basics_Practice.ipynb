{
  "nbformat": 4,
  "nbformat_minor": 0,
  "metadata": {
    "colab": {
      "name": "Python_Web_Scraping_Basics_Practice.ipynb",
      "provenance": []
    },
    "kernelspec": {
      "name": "python3",
      "display_name": "Python 3"
    },
    "language_info": {
      "name": "python"
    }
  },
  "cells": [
    {
      "cell_type": "code",
      "metadata": {
        "id": "DFL6nbT8xQNW"
      },
      "source": [
        "# import library\n",
        "from bs4 import BeautifulSoup\n",
        "import requests\n",
        "import pandas as pd"
      ],
      "execution_count": 67,
      "outputs": []
    },
    {
      "cell_type": "code",
      "metadata": {
        "id": "Bxx_MB_7yNrT"
      },
      "source": [
        "# setting up\n",
        "MY_URL = \"https://www.worldometers.info/coronavirus\"\n",
        "page = requests.get(MY_URL)\n",
        "soup = BeautifulSoup(page.text, 'html5lib')"
      ],
      "execution_count": 68,
      "outputs": []
    },
    {
      "cell_type": "code",
      "metadata": {
        "colab": {
          "base_uri": "https://localhost:8080/"
        },
        "id": "BtQKtb_vySs9",
        "outputId": "0e63fca1-f8ce-4536-f41f-728ae5c7a5a9"
      },
      "source": [
        "soup.find_all('h1')"
      ],
      "execution_count": 69,
      "outputs": [
        {
          "output_type": "execute_result",
          "data": {
            "text/plain": [
              "[<h1>Coronavirus Cases:</h1>, <h1>Deaths:</h1>, <h1>Recovered:</h1>]"
            ]
          },
          "metadata": {
            "tags": []
          },
          "execution_count": 69
        }
      ]
    },
    {
      "cell_type": "code",
      "metadata": {
        "id": "0YtVw1gWyWgA"
      },
      "source": [
        "# find table header in soup\n",
        "table_header = soup.select('#main_table_countries_today thead tr')"
      ],
      "execution_count": 70,
      "outputs": []
    },
    {
      "cell_type": "code",
      "metadata": {
        "colab": {
          "base_uri": "https://localhost:8080/"
        },
        "id": "ZAjwujkRyZvi",
        "outputId": "d9a8ea7f-0d83-428f-c304-5020d4f85e85"
      },
      "source": [
        "table_header"
      ],
      "execution_count": 71,
      "outputs": [
        {
          "output_type": "execute_result",
          "data": {
            "text/plain": [
              "[<tr>\n",
              " <th width=\"1%\">#</th>\n",
              " <th width=\"100\">Country,<br/>Other</th>\n",
              " <th width=\"20\">Total<br/>Cases</th>\n",
              " <th width=\"30\">New<br/>Cases</th>\n",
              " <th width=\"30\">Total<br/>Deaths</th>\n",
              " <th width=\"30\">New<br/>Deaths</th>\n",
              " <th width=\"30\">Total<br/>Recovered</th>\n",
              " <th width=\"30\">New<br/>Recovered</th>\n",
              " <th width=\"30\">Active<br/>Cases</th>\n",
              " <th width=\"30\">Serious,<br/>Critical</th>\n",
              " <th width=\"30\">Tot Cases/<br/>1M pop</th>\n",
              " <th width=\"30\">Deaths/<br/>1M pop</th>\n",
              " <th width=\"30\">Total<br/>Tests</th>\n",
              " <th width=\"30\">Tests/<br/>\n",
              " <nobr>1M pop</nobr>\n",
              " </th>\n",
              " <th width=\"30\">Population</th>\n",
              " <th style=\"display:none\" width=\"30\">Continent</th>\n",
              " <th width=\"30\">1 Case<br/>every X ppl</th><th width=\"30\">1 Death<br/>every X ppl</th><th width=\"30\">1 Test<br/>every X ppl</th>\n",
              " <th width=\"30\">New Cases/1M pop</th>\n",
              " <th width=\"30\">New Deaths/1M pop</th>\n",
              " <th width=\"30\">Active Cases/1M pop</th>\n",
              " </tr>]"
            ]
          },
          "metadata": {
            "tags": []
          },
          "execution_count": 71
        }
      ]
    },
    {
      "cell_type": "code",
      "metadata": {
        "id": "aUnJ06wKydVk"
      },
      "source": [
        "header = [th.text.strip() for th in table_header[0]('th')]"
      ],
      "execution_count": 72,
      "outputs": []
    },
    {
      "cell_type": "code",
      "metadata": {
        "colab": {
          "base_uri": "https://localhost:8080/"
        },
        "id": "Qi9lP-kPyhiD",
        "outputId": "6e635d0d-3d22-49fb-d3fb-f08904e0656f"
      },
      "source": [
        "header"
      ],
      "execution_count": 73,
      "outputs": [
        {
          "output_type": "execute_result",
          "data": {
            "text/plain": [
              "['#',\n",
              " 'Country,Other',\n",
              " 'TotalCases',\n",
              " 'NewCases',\n",
              " 'TotalDeaths',\n",
              " 'NewDeaths',\n",
              " 'TotalRecovered',\n",
              " 'NewRecovered',\n",
              " 'ActiveCases',\n",
              " 'Serious,Critical',\n",
              " 'Tot\\xa0Cases/1M pop',\n",
              " 'Deaths/1M pop',\n",
              " 'TotalTests',\n",
              " 'Tests/\\n1M pop',\n",
              " 'Population',\n",
              " 'Continent',\n",
              " '1 Caseevery X ppl',\n",
              " '1 Deathevery X ppl',\n",
              " '1 Testevery X ppl',\n",
              " 'New Cases/1M pop',\n",
              " 'New Deaths/1M pop',\n",
              " 'Active Cases/1M pop']"
            ]
          },
          "metadata": {
            "tags": []
          },
          "execution_count": 73
        }
      ]
    },
    {
      "cell_type": "code",
      "metadata": {
        "id": "2rk52M-myi1J"
      },
      "source": [
        "# find table header in soup\n",
        "table_rows = soup.select('#main_table_countries_today tbody tr')"
      ],
      "execution_count": 74,
      "outputs": []
    },
    {
      "cell_type": "code",
      "metadata": {
        "colab": {
          "base_uri": "https://localhost:8080/"
        },
        "id": "gUzJtjeUyuAM",
        "outputId": "869ff480-6048-49a3-9adf-58c6e30ebe7f"
      },
      "source": [
        "rows_list = []\n",
        "for tr in table_rows:\n",
        "    row = [td.text.strip() for td in tr('td')]\n",
        "    rows_list.append(row)\n",
        "\n",
        "print(rows_list[:3])"
      ],
      "execution_count": 75,
      "outputs": [
        {
          "output_type": "stream",
          "text": [
            "[['', 'North America', '38,196,124', '+23,841', '859,558', '+615', '29,884,387', '+13,914', '7,452,179', '17,534', '', '', '', '', '', 'North America', '', '', '', '', '', ''], ['', 'Asia', '38,991,232', '+509,380', '515,488', '+5,186', '33,363,990', '+409,451', '5,111,754', '32,202', '', '', '', '', '', 'Asia', '', '', '', '', '', ''], ['', 'South America', '24,635,810', '+8,293', '663,780', '+209', '22,283,554', '+6,762', '1,688,476', '27,668', '', '', '', '', '', 'South America', '', '', '', '', '', '']]\n"
          ],
          "name": "stdout"
        }
      ]
    },
    {
      "cell_type": "code",
      "metadata": {
        "colab": {
          "base_uri": "https://localhost:8080/",
          "height": 292
        },
        "id": "dU-FB-11ywYZ",
        "outputId": "e35ae2aa-063d-4dba-b966-ae144c4511eb"
      },
      "source": [
        "# create a new dataframe\n",
        "df = pd.DataFrame(rows_list, columns = header)\n",
        "df.head()"
      ],
      "execution_count": 76,
      "outputs": [
        {
          "output_type": "execute_result",
          "data": {
            "text/html": [
              "<div>\n",
              "<style scoped>\n",
              "    .dataframe tbody tr th:only-of-type {\n",
              "        vertical-align: middle;\n",
              "    }\n",
              "\n",
              "    .dataframe tbody tr th {\n",
              "        vertical-align: top;\n",
              "    }\n",
              "\n",
              "    .dataframe thead th {\n",
              "        text-align: right;\n",
              "    }\n",
              "</style>\n",
              "<table border=\"1\" class=\"dataframe\">\n",
              "  <thead>\n",
              "    <tr style=\"text-align: right;\">\n",
              "      <th></th>\n",
              "      <th>#</th>\n",
              "      <th>Country,Other</th>\n",
              "      <th>TotalCases</th>\n",
              "      <th>NewCases</th>\n",
              "      <th>TotalDeaths</th>\n",
              "      <th>NewDeaths</th>\n",
              "      <th>TotalRecovered</th>\n",
              "      <th>NewRecovered</th>\n",
              "      <th>ActiveCases</th>\n",
              "      <th>Serious,Critical</th>\n",
              "      <th>Tot Cases/1M pop</th>\n",
              "      <th>Deaths/1M pop</th>\n",
              "      <th>TotalTests</th>\n",
              "      <th>Tests/\\n1M pop</th>\n",
              "      <th>Population</th>\n",
              "      <th>Continent</th>\n",
              "      <th>1 Caseevery X ppl</th>\n",
              "      <th>1 Deathevery X ppl</th>\n",
              "      <th>1 Testevery X ppl</th>\n",
              "      <th>New Cases/1M pop</th>\n",
              "      <th>New Deaths/1M pop</th>\n",
              "      <th>Active Cases/1M pop</th>\n",
              "    </tr>\n",
              "  </thead>\n",
              "  <tbody>\n",
              "    <tr>\n",
              "      <th>0</th>\n",
              "      <td></td>\n",
              "      <td>North America</td>\n",
              "      <td>38,196,124</td>\n",
              "      <td>+23,841</td>\n",
              "      <td>859,558</td>\n",
              "      <td>+615</td>\n",
              "      <td>29,884,387</td>\n",
              "      <td>+13,914</td>\n",
              "      <td>7,452,179</td>\n",
              "      <td>17,534</td>\n",
              "      <td></td>\n",
              "      <td></td>\n",
              "      <td></td>\n",
              "      <td></td>\n",
              "      <td></td>\n",
              "      <td>North America</td>\n",
              "      <td></td>\n",
              "      <td></td>\n",
              "      <td></td>\n",
              "      <td></td>\n",
              "      <td></td>\n",
              "      <td></td>\n",
              "    </tr>\n",
              "    <tr>\n",
              "      <th>1</th>\n",
              "      <td></td>\n",
              "      <td>Asia</td>\n",
              "      <td>38,991,232</td>\n",
              "      <td>+509,380</td>\n",
              "      <td>515,488</td>\n",
              "      <td>+5,186</td>\n",
              "      <td>33,363,990</td>\n",
              "      <td>+409,451</td>\n",
              "      <td>5,111,754</td>\n",
              "      <td>32,202</td>\n",
              "      <td></td>\n",
              "      <td></td>\n",
              "      <td></td>\n",
              "      <td></td>\n",
              "      <td></td>\n",
              "      <td>Asia</td>\n",
              "      <td></td>\n",
              "      <td></td>\n",
              "      <td></td>\n",
              "      <td></td>\n",
              "      <td></td>\n",
              "      <td></td>\n",
              "    </tr>\n",
              "    <tr>\n",
              "      <th>2</th>\n",
              "      <td></td>\n",
              "      <td>South America</td>\n",
              "      <td>24,635,810</td>\n",
              "      <td>+8,293</td>\n",
              "      <td>663,780</td>\n",
              "      <td>+209</td>\n",
              "      <td>22,283,554</td>\n",
              "      <td>+6,762</td>\n",
              "      <td>1,688,476</td>\n",
              "      <td>27,668</td>\n",
              "      <td></td>\n",
              "      <td></td>\n",
              "      <td></td>\n",
              "      <td></td>\n",
              "      <td></td>\n",
              "      <td>South America</td>\n",
              "      <td></td>\n",
              "      <td></td>\n",
              "      <td></td>\n",
              "      <td></td>\n",
              "      <td></td>\n",
              "      <td></td>\n",
              "    </tr>\n",
              "    <tr>\n",
              "      <th>3</th>\n",
              "      <td></td>\n",
              "      <td>Europe</td>\n",
              "      <td>44,408,947</td>\n",
              "      <td>+105,666</td>\n",
              "      <td>1,010,726</td>\n",
              "      <td>+2,670</td>\n",
              "      <td>39,151,242</td>\n",
              "      <td>+126,659</td>\n",
              "      <td>4,246,979</td>\n",
              "      <td>30,387</td>\n",
              "      <td></td>\n",
              "      <td></td>\n",
              "      <td></td>\n",
              "      <td></td>\n",
              "      <td></td>\n",
              "      <td>Europe</td>\n",
              "      <td></td>\n",
              "      <td></td>\n",
              "      <td></td>\n",
              "      <td></td>\n",
              "      <td></td>\n",
              "      <td></td>\n",
              "    </tr>\n",
              "    <tr>\n",
              "      <th>4</th>\n",
              "      <td></td>\n",
              "      <td>Africa</td>\n",
              "      <td>4,575,662</td>\n",
              "      <td>+3,473</td>\n",
              "      <td>121,517</td>\n",
              "      <td>+65</td>\n",
              "      <td>4,100,126</td>\n",
              "      <td>+4,997</td>\n",
              "      <td>354,019</td>\n",
              "      <td>3,840</td>\n",
              "      <td></td>\n",
              "      <td></td>\n",
              "      <td></td>\n",
              "      <td></td>\n",
              "      <td></td>\n",
              "      <td>Africa</td>\n",
              "      <td></td>\n",
              "      <td></td>\n",
              "      <td></td>\n",
              "      <td></td>\n",
              "      <td></td>\n",
              "      <td></td>\n",
              "    </tr>\n",
              "  </tbody>\n",
              "</table>\n",
              "</div>"
            ],
            "text/plain": [
              "  #  Country,Other  ... New Deaths/1M pop Active Cases/1M pop\n",
              "0    North America  ...                                      \n",
              "1             Asia  ...                                      \n",
              "2    South America  ...                                      \n",
              "3           Europe  ...                                      \n",
              "4           Africa  ...                                      \n",
              "\n",
              "[5 rows x 22 columns]"
            ]
          },
          "metadata": {
            "tags": []
          },
          "execution_count": 76
        }
      ]
    },
    {
      "cell_type": "code",
      "metadata": {
        "colab": {
          "base_uri": "https://localhost:8080/",
          "height": 134
        },
        "id": "jO2Kyc30y0Y6",
        "outputId": "a92a17e8-1b01-447c-8d2a-d2f8ad20df49"
      },
      "source": [
        "df[df[\"Country,Other\"] == \"Thailand\"]"
      ],
      "execution_count": 77,
      "outputs": [
        {
          "output_type": "execute_result",
          "data": {
            "text/html": [
              "<div>\n",
              "<style scoped>\n",
              "    .dataframe tbody tr th:only-of-type {\n",
              "        vertical-align: middle;\n",
              "    }\n",
              "\n",
              "    .dataframe tbody tr th {\n",
              "        vertical-align: top;\n",
              "    }\n",
              "\n",
              "    .dataframe thead th {\n",
              "        text-align: right;\n",
              "    }\n",
              "</style>\n",
              "<table border=\"1\" class=\"dataframe\">\n",
              "  <thead>\n",
              "    <tr style=\"text-align: right;\">\n",
              "      <th></th>\n",
              "      <th>#</th>\n",
              "      <th>Country,Other</th>\n",
              "      <th>TotalCases</th>\n",
              "      <th>NewCases</th>\n",
              "      <th>TotalDeaths</th>\n",
              "      <th>NewDeaths</th>\n",
              "      <th>TotalRecovered</th>\n",
              "      <th>NewRecovered</th>\n",
              "      <th>ActiveCases</th>\n",
              "      <th>Serious,Critical</th>\n",
              "      <th>Tot Cases/1M pop</th>\n",
              "      <th>Deaths/1M pop</th>\n",
              "      <th>TotalTests</th>\n",
              "      <th>Tests/\\n1M pop</th>\n",
              "      <th>Population</th>\n",
              "      <th>Continent</th>\n",
              "      <th>1 Caseevery X ppl</th>\n",
              "      <th>1 Deathevery X ppl</th>\n",
              "      <th>1 Testevery X ppl</th>\n",
              "      <th>New Cases/1M pop</th>\n",
              "      <th>New Deaths/1M pop</th>\n",
              "      <th>Active Cases/1M pop</th>\n",
              "    </tr>\n",
              "  </thead>\n",
              "  <tbody>\n",
              "    <tr>\n",
              "      <th>109</th>\n",
              "      <td>102</td>\n",
              "      <td>Thailand</td>\n",
              "      <td>63,570</td>\n",
              "      <td>+1,871</td>\n",
              "      <td>188</td>\n",
              "      <td>+10</td>\n",
              "      <td>35,394</td>\n",
              "      <td>+992</td>\n",
              "      <td>27,988</td>\n",
              "      <td>786</td>\n",
              "      <td>909</td>\n",
              "      <td>3</td>\n",
              "      <td>8,124,896</td>\n",
              "      <td>116,162</td>\n",
              "      <td>69,944,353</td>\n",
              "      <td>Asia</td>\n",
              "      <td>1,100</td>\n",
              "      <td>372,044</td>\n",
              "      <td>9</td>\n",
              "      <td>27</td>\n",
              "      <td>0.1</td>\n",
              "      <td>400</td>\n",
              "    </tr>\n",
              "  </tbody>\n",
              "</table>\n",
              "</div>"
            ],
            "text/plain": [
              "       # Country,Other  ... New Deaths/1M pop Active Cases/1M pop\n",
              "109  102      Thailand  ...               0.1                 400\n",
              "\n",
              "[1 rows x 22 columns]"
            ]
          },
          "metadata": {
            "tags": []
          },
          "execution_count": 77
        }
      ]
    },
    {
      "cell_type": "code",
      "metadata": {
        "colab": {
          "base_uri": "https://localhost:8080/"
        },
        "id": "zjejJ6vhy_UH",
        "outputId": "935e06ba-6fa6-4e0d-8d23-d6c85e954688"
      },
      "source": [
        "df.info()"
      ],
      "execution_count": 78,
      "outputs": [
        {
          "output_type": "stream",
          "text": [
            "<class 'pandas.core.frame.DataFrame'>\n",
            "RangeIndex: 238 entries, 0 to 237\n",
            "Data columns (total 22 columns):\n",
            " #   Column               Non-Null Count  Dtype \n",
            "---  ------               --------------  ----- \n",
            " 0   #                    238 non-null    object\n",
            " 1   Country,Other        238 non-null    object\n",
            " 2   TotalCases           238 non-null    object\n",
            " 3   NewCases             238 non-null    object\n",
            " 4   TotalDeaths          238 non-null    object\n",
            " 5   NewDeaths            238 non-null    object\n",
            " 6   TotalRecovered       238 non-null    object\n",
            " 7   NewRecovered         238 non-null    object\n",
            " 8   ActiveCases          238 non-null    object\n",
            " 9   Serious,Critical     238 non-null    object\n",
            " 10  Tot Cases/1M pop     238 non-null    object\n",
            " 11  Deaths/1M pop        238 non-null    object\n",
            " 12  TotalTests           238 non-null    object\n",
            " 13  Tests/\n",
            "1M pop        238 non-null    object\n",
            " 14  Population           238 non-null    object\n",
            " 15  Continent            238 non-null    object\n",
            " 16  1 Caseevery X ppl    238 non-null    object\n",
            " 17  1 Deathevery X ppl   238 non-null    object\n",
            " 18  1 Testevery X ppl    238 non-null    object\n",
            " 19  New Cases/1M pop     238 non-null    object\n",
            " 20  New Deaths/1M pop    238 non-null    object\n",
            " 21  Active Cases/1M pop  238 non-null    object\n",
            "dtypes: object(22)\n",
            "memory usage: 41.0+ KB\n"
          ],
          "name": "stdout"
        }
      ]
    },
    {
      "cell_type": "code",
      "metadata": {
        "colab": {
          "base_uri": "https://localhost:8080/",
          "height": 103
        },
        "id": "sdEdiQB6zB4c",
        "outputId": "a328871a-1460-49be-e3e0-bd2db87f1e11"
      },
      "source": [
        "df.query('TotalCases == \"30,869\"')"
      ],
      "execution_count": 79,
      "outputs": [
        {
          "output_type": "execute_result",
          "data": {
            "text/html": [
              "<div>\n",
              "<style scoped>\n",
              "    .dataframe tbody tr th:only-of-type {\n",
              "        vertical-align: middle;\n",
              "    }\n",
              "\n",
              "    .dataframe tbody tr th {\n",
              "        vertical-align: top;\n",
              "    }\n",
              "\n",
              "    .dataframe thead th {\n",
              "        text-align: right;\n",
              "    }\n",
              "</style>\n",
              "<table border=\"1\" class=\"dataframe\">\n",
              "  <thead>\n",
              "    <tr style=\"text-align: right;\">\n",
              "      <th></th>\n",
              "      <th>#</th>\n",
              "      <th>Country,Other</th>\n",
              "      <th>TotalCases</th>\n",
              "      <th>NewCases</th>\n",
              "      <th>TotalDeaths</th>\n",
              "      <th>NewDeaths</th>\n",
              "      <th>TotalRecovered</th>\n",
              "      <th>NewRecovered</th>\n",
              "      <th>ActiveCases</th>\n",
              "      <th>Serious,Critical</th>\n",
              "      <th>Tot Cases/1M pop</th>\n",
              "      <th>Deaths/1M pop</th>\n",
              "      <th>TotalTests</th>\n",
              "      <th>Tests/\\n1M pop</th>\n",
              "      <th>Population</th>\n",
              "      <th>Continent</th>\n",
              "      <th>1 Caseevery X ppl</th>\n",
              "      <th>1 Deathevery X ppl</th>\n",
              "      <th>1 Testevery X ppl</th>\n",
              "      <th>New Cases/1M pop</th>\n",
              "      <th>New Deaths/1M pop</th>\n",
              "      <th>Active Cases/1M pop</th>\n",
              "    </tr>\n",
              "  </thead>\n",
              "  <tbody>\n",
              "  </tbody>\n",
              "</table>\n",
              "</div>"
            ],
            "text/plain": [
              "Empty DataFrame\n",
              "Columns: [#, Country,Other, TotalCases, NewCases, TotalDeaths, NewDeaths, TotalRecovered, NewRecovered, ActiveCases, Serious,Critical, Tot Cases/1M pop, Deaths/1M pop, TotalTests, Tests/\n",
              "1M pop, Population, Continent, 1 Caseevery X ppl, 1 Deathevery X ppl, 1 Testevery X ppl, New Cases/1M pop, New Deaths/1M pop, Active Cases/1M pop]\n",
              "Index: []"
            ]
          },
          "metadata": {
            "tags": []
          },
          "execution_count": 79
        }
      ]
    },
    {
      "cell_type": "code",
      "metadata": {
        "id": "iqrYHWa2ziHH"
      },
      "source": [
        "df.columns = [\n",
        "    'no',\n",
        "    'country',\n",
        "    'totalcases',\n",
        "    'newcases',\n",
        "    'totaldeaths',\n",
        "    'newdeaths',\n",
        "    'totalrecovered',\n",
        "    'newrecovered',\n",
        "    'activecases',\n",
        "    'serious_critical',\n",
        "    'total_case_1m_pop',\n",
        "    'total_deaths_1m_pop',\n",
        "    'total_tests',\n",
        "    'test_1m_pop',\n",
        "    'population',\n",
        "    'continent',\n",
        "    '1 Caseevery X ppl',\n",
        "    '1 Deathevery X ppl',\n",
        "    '1 Testevery X ppl',\n",
        "    'New Cases/1M pop',\n",
        "    'New Deaths/1M pop',\n",
        "    'Active Cases/1M pop'\n",
        "];"
      ],
      "execution_count": 80,
      "outputs": []
    },
    {
      "cell_type": "code",
      "metadata": {
        "colab": {
          "base_uri": "https://localhost:8080/",
          "height": 134
        },
        "id": "97azrqmVzyhc",
        "outputId": "5137e3b4-36f7-47f2-95a9-0c8ba2890803"
      },
      "source": [
        "df.query(\"country == 'Thailand'\")"
      ],
      "execution_count": 81,
      "outputs": [
        {
          "output_type": "execute_result",
          "data": {
            "text/html": [
              "<div>\n",
              "<style scoped>\n",
              "    .dataframe tbody tr th:only-of-type {\n",
              "        vertical-align: middle;\n",
              "    }\n",
              "\n",
              "    .dataframe tbody tr th {\n",
              "        vertical-align: top;\n",
              "    }\n",
              "\n",
              "    .dataframe thead th {\n",
              "        text-align: right;\n",
              "    }\n",
              "</style>\n",
              "<table border=\"1\" class=\"dataframe\">\n",
              "  <thead>\n",
              "    <tr style=\"text-align: right;\">\n",
              "      <th></th>\n",
              "      <th>no</th>\n",
              "      <th>country</th>\n",
              "      <th>totalcases</th>\n",
              "      <th>newcases</th>\n",
              "      <th>totaldeaths</th>\n",
              "      <th>newdeaths</th>\n",
              "      <th>totalrecovered</th>\n",
              "      <th>newrecovered</th>\n",
              "      <th>activecases</th>\n",
              "      <th>serious_critical</th>\n",
              "      <th>total_case_1m_pop</th>\n",
              "      <th>total_deaths_1m_pop</th>\n",
              "      <th>total_tests</th>\n",
              "      <th>test_1m_pop</th>\n",
              "      <th>population</th>\n",
              "      <th>continent</th>\n",
              "      <th>1 Caseevery X ppl</th>\n",
              "      <th>1 Deathevery X ppl</th>\n",
              "      <th>1 Testevery X ppl</th>\n",
              "      <th>New Cases/1M pop</th>\n",
              "      <th>New Deaths/1M pop</th>\n",
              "      <th>Active Cases/1M pop</th>\n",
              "    </tr>\n",
              "  </thead>\n",
              "  <tbody>\n",
              "    <tr>\n",
              "      <th>109</th>\n",
              "      <td>102</td>\n",
              "      <td>Thailand</td>\n",
              "      <td>63,570</td>\n",
              "      <td>+1,871</td>\n",
              "      <td>188</td>\n",
              "      <td>+10</td>\n",
              "      <td>35,394</td>\n",
              "      <td>+992</td>\n",
              "      <td>27,988</td>\n",
              "      <td>786</td>\n",
              "      <td>909</td>\n",
              "      <td>3</td>\n",
              "      <td>8,124,896</td>\n",
              "      <td>116,162</td>\n",
              "      <td>69,944,353</td>\n",
              "      <td>Asia</td>\n",
              "      <td>1,100</td>\n",
              "      <td>372,044</td>\n",
              "      <td>9</td>\n",
              "      <td>27</td>\n",
              "      <td>0.1</td>\n",
              "      <td>400</td>\n",
              "    </tr>\n",
              "  </tbody>\n",
              "</table>\n",
              "</div>"
            ],
            "text/plain": [
              "      no   country  ... New Deaths/1M pop Active Cases/1M pop\n",
              "109  102  Thailand  ...               0.1                 400\n",
              "\n",
              "[1 rows x 22 columns]"
            ]
          },
          "metadata": {
            "tags": []
          },
          "execution_count": 81
        }
      ]
    },
    {
      "cell_type": "code",
      "metadata": {
        "colab": {
          "base_uri": "https://localhost:8080/",
          "height": 292
        },
        "id": "H-dqnNj6z0IP",
        "outputId": "d087439e-efe0-4e6a-a662-58175bc75e35"
      },
      "source": [
        "df['totalcases'] = df['totalcases'].str.replace(',', '').astype('int')\n",
        "df.head()"
      ],
      "execution_count": 82,
      "outputs": [
        {
          "output_type": "execute_result",
          "data": {
            "text/html": [
              "<div>\n",
              "<style scoped>\n",
              "    .dataframe tbody tr th:only-of-type {\n",
              "        vertical-align: middle;\n",
              "    }\n",
              "\n",
              "    .dataframe tbody tr th {\n",
              "        vertical-align: top;\n",
              "    }\n",
              "\n",
              "    .dataframe thead th {\n",
              "        text-align: right;\n",
              "    }\n",
              "</style>\n",
              "<table border=\"1\" class=\"dataframe\">\n",
              "  <thead>\n",
              "    <tr style=\"text-align: right;\">\n",
              "      <th></th>\n",
              "      <th>no</th>\n",
              "      <th>country</th>\n",
              "      <th>totalcases</th>\n",
              "      <th>newcases</th>\n",
              "      <th>totaldeaths</th>\n",
              "      <th>newdeaths</th>\n",
              "      <th>totalrecovered</th>\n",
              "      <th>newrecovered</th>\n",
              "      <th>activecases</th>\n",
              "      <th>serious_critical</th>\n",
              "      <th>total_case_1m_pop</th>\n",
              "      <th>total_deaths_1m_pop</th>\n",
              "      <th>total_tests</th>\n",
              "      <th>test_1m_pop</th>\n",
              "      <th>population</th>\n",
              "      <th>continent</th>\n",
              "      <th>1 Caseevery X ppl</th>\n",
              "      <th>1 Deathevery X ppl</th>\n",
              "      <th>1 Testevery X ppl</th>\n",
              "      <th>New Cases/1M pop</th>\n",
              "      <th>New Deaths/1M pop</th>\n",
              "      <th>Active Cases/1M pop</th>\n",
              "    </tr>\n",
              "  </thead>\n",
              "  <tbody>\n",
              "    <tr>\n",
              "      <th>0</th>\n",
              "      <td></td>\n",
              "      <td>North America</td>\n",
              "      <td>38196124</td>\n",
              "      <td>+23,841</td>\n",
              "      <td>859,558</td>\n",
              "      <td>+615</td>\n",
              "      <td>29,884,387</td>\n",
              "      <td>+13,914</td>\n",
              "      <td>7,452,179</td>\n",
              "      <td>17,534</td>\n",
              "      <td></td>\n",
              "      <td></td>\n",
              "      <td></td>\n",
              "      <td></td>\n",
              "      <td></td>\n",
              "      <td>North America</td>\n",
              "      <td></td>\n",
              "      <td></td>\n",
              "      <td></td>\n",
              "      <td></td>\n",
              "      <td></td>\n",
              "      <td></td>\n",
              "    </tr>\n",
              "    <tr>\n",
              "      <th>1</th>\n",
              "      <td></td>\n",
              "      <td>Asia</td>\n",
              "      <td>38991232</td>\n",
              "      <td>+509,380</td>\n",
              "      <td>515,488</td>\n",
              "      <td>+5,186</td>\n",
              "      <td>33,363,990</td>\n",
              "      <td>+409,451</td>\n",
              "      <td>5,111,754</td>\n",
              "      <td>32,202</td>\n",
              "      <td></td>\n",
              "      <td></td>\n",
              "      <td></td>\n",
              "      <td></td>\n",
              "      <td></td>\n",
              "      <td>Asia</td>\n",
              "      <td></td>\n",
              "      <td></td>\n",
              "      <td></td>\n",
              "      <td></td>\n",
              "      <td></td>\n",
              "      <td></td>\n",
              "    </tr>\n",
              "    <tr>\n",
              "      <th>2</th>\n",
              "      <td></td>\n",
              "      <td>South America</td>\n",
              "      <td>24635810</td>\n",
              "      <td>+8,293</td>\n",
              "      <td>663,780</td>\n",
              "      <td>+209</td>\n",
              "      <td>22,283,554</td>\n",
              "      <td>+6,762</td>\n",
              "      <td>1,688,476</td>\n",
              "      <td>27,668</td>\n",
              "      <td></td>\n",
              "      <td></td>\n",
              "      <td></td>\n",
              "      <td></td>\n",
              "      <td></td>\n",
              "      <td>South America</td>\n",
              "      <td></td>\n",
              "      <td></td>\n",
              "      <td></td>\n",
              "      <td></td>\n",
              "      <td></td>\n",
              "      <td></td>\n",
              "    </tr>\n",
              "    <tr>\n",
              "      <th>3</th>\n",
              "      <td></td>\n",
              "      <td>Europe</td>\n",
              "      <td>44408947</td>\n",
              "      <td>+105,666</td>\n",
              "      <td>1,010,726</td>\n",
              "      <td>+2,670</td>\n",
              "      <td>39,151,242</td>\n",
              "      <td>+126,659</td>\n",
              "      <td>4,246,979</td>\n",
              "      <td>30,387</td>\n",
              "      <td></td>\n",
              "      <td></td>\n",
              "      <td></td>\n",
              "      <td></td>\n",
              "      <td></td>\n",
              "      <td>Europe</td>\n",
              "      <td></td>\n",
              "      <td></td>\n",
              "      <td></td>\n",
              "      <td></td>\n",
              "      <td></td>\n",
              "      <td></td>\n",
              "    </tr>\n",
              "    <tr>\n",
              "      <th>4</th>\n",
              "      <td></td>\n",
              "      <td>Africa</td>\n",
              "      <td>4575662</td>\n",
              "      <td>+3,473</td>\n",
              "      <td>121,517</td>\n",
              "      <td>+65</td>\n",
              "      <td>4,100,126</td>\n",
              "      <td>+4,997</td>\n",
              "      <td>354,019</td>\n",
              "      <td>3,840</td>\n",
              "      <td></td>\n",
              "      <td></td>\n",
              "      <td></td>\n",
              "      <td></td>\n",
              "      <td></td>\n",
              "      <td>Africa</td>\n",
              "      <td></td>\n",
              "      <td></td>\n",
              "      <td></td>\n",
              "      <td></td>\n",
              "      <td></td>\n",
              "      <td></td>\n",
              "    </tr>\n",
              "  </tbody>\n",
              "</table>\n",
              "</div>"
            ],
            "text/plain": [
              "  no        country  ...  New Deaths/1M pop Active Cases/1M pop\n",
              "0     North America  ...                                       \n",
              "1              Asia  ...                                       \n",
              "2     South America  ...                                       \n",
              "3            Europe  ...                                       \n",
              "4            Africa  ...                                       \n",
              "\n",
              "[5 rows x 22 columns]"
            ]
          },
          "metadata": {
            "tags": []
          },
          "execution_count": 82
        }
      ]
    },
    {
      "cell_type": "code",
      "metadata": {
        "colab": {
          "base_uri": "https://localhost:8080/"
        },
        "id": "tEcRafXD1WlB",
        "outputId": "c234f850-7fa9-4129-dc71-873a0f250dd5"
      },
      "source": [
        "df.info()"
      ],
      "execution_count": 83,
      "outputs": [
        {
          "output_type": "stream",
          "text": [
            "<class 'pandas.core.frame.DataFrame'>\n",
            "RangeIndex: 238 entries, 0 to 237\n",
            "Data columns (total 22 columns):\n",
            " #   Column               Non-Null Count  Dtype \n",
            "---  ------               --------------  ----- \n",
            " 0   no                   238 non-null    object\n",
            " 1   country              238 non-null    object\n",
            " 2   totalcases           238 non-null    int64 \n",
            " 3   newcases             238 non-null    object\n",
            " 4   totaldeaths          238 non-null    object\n",
            " 5   newdeaths            238 non-null    object\n",
            " 6   totalrecovered       238 non-null    object\n",
            " 7   newrecovered         238 non-null    object\n",
            " 8   activecases          238 non-null    object\n",
            " 9   serious_critical     238 non-null    object\n",
            " 10  total_case_1m_pop    238 non-null    object\n",
            " 11  total_deaths_1m_pop  238 non-null    object\n",
            " 12  total_tests          238 non-null    object\n",
            " 13  test_1m_pop          238 non-null    object\n",
            " 14  population           238 non-null    object\n",
            " 15  continent            238 non-null    object\n",
            " 16  1 Caseevery X ppl    238 non-null    object\n",
            " 17  1 Deathevery X ppl   238 non-null    object\n",
            " 18  1 Testevery X ppl    238 non-null    object\n",
            " 19  New Cases/1M pop     238 non-null    object\n",
            " 20  New Deaths/1M pop    238 non-null    object\n",
            " 21  Active Cases/1M pop  238 non-null    object\n",
            "dtypes: int64(1), object(21)\n",
            "memory usage: 41.0+ KB\n"
          ],
          "name": "stdout"
        }
      ]
    },
    {
      "cell_type": "markdown",
      "metadata": {
        "id": "9dHYvqMs27xP"
      },
      "source": [
        "# **Line Notify**"
      ]
    },
    {
      "cell_type": "code",
      "metadata": {
        "id": "fNIpaTU73Phl"
      },
      "source": [
        "# get first values\n",
        "Country = df.query(\"country == 'Thailand'\")['country'].values[0]\n",
        "Totalcases = df.query(\"country == 'Thailand'\")['totalcases'].values[0]"
      ],
      "execution_count": 84,
      "outputs": []
    },
    {
      "cell_type": "code",
      "metadata": {
        "id": "LB9gWw_g3RpU"
      },
      "source": [
        "line_token = \"111gScuWIyAUhS6lyYKuvCYRm83FzipEnbrh5GEKAO3\""
      ],
      "execution_count": 85,
      "outputs": []
    },
    {
      "cell_type": "code",
      "metadata": {
        "id": "J3gKbaQc3Ud2"
      },
      "source": [
        "def line_notify(message, token):\n",
        "    url = \"https://notify-api.line.me/api/notify\"\n",
        "    data = ({'message': message})\n",
        "    LINE_HEADERS = {\"Authorization\": \"Bearer \" + token}\n",
        "    session = requests.Session()\n",
        "    response = session.post(url, headers=LINE_HEADERS, data = data)\n",
        "    return response"
      ],
      "execution_count": 86,
      "outputs": []
    },
    {
      "cell_type": "code",
      "metadata": {
        "id": "loX54OBw3Xg0"
      },
      "source": [
        "response = line_notify('\\nผู้ติดเชื้อ Covid ประเทศ: ' + Country + '\\nจำนวน: ' + str(Totalcases), line_token)"
      ],
      "execution_count": 87,
      "outputs": []
    },
    {
      "cell_type": "code",
      "metadata": {
        "colab": {
          "base_uri": "https://localhost:8080/",
          "height": 292
        },
        "id": "w2a_yIzq3bWl",
        "outputId": "8a394c13-b304-45e8-c5db-56fb079f3f90"
      },
      "source": [
        "df.head()"
      ],
      "execution_count": 88,
      "outputs": [
        {
          "output_type": "execute_result",
          "data": {
            "text/html": [
              "<div>\n",
              "<style scoped>\n",
              "    .dataframe tbody tr th:only-of-type {\n",
              "        vertical-align: middle;\n",
              "    }\n",
              "\n",
              "    .dataframe tbody tr th {\n",
              "        vertical-align: top;\n",
              "    }\n",
              "\n",
              "    .dataframe thead th {\n",
              "        text-align: right;\n",
              "    }\n",
              "</style>\n",
              "<table border=\"1\" class=\"dataframe\">\n",
              "  <thead>\n",
              "    <tr style=\"text-align: right;\">\n",
              "      <th></th>\n",
              "      <th>no</th>\n",
              "      <th>country</th>\n",
              "      <th>totalcases</th>\n",
              "      <th>newcases</th>\n",
              "      <th>totaldeaths</th>\n",
              "      <th>newdeaths</th>\n",
              "      <th>totalrecovered</th>\n",
              "      <th>newrecovered</th>\n",
              "      <th>activecases</th>\n",
              "      <th>serious_critical</th>\n",
              "      <th>total_case_1m_pop</th>\n",
              "      <th>total_deaths_1m_pop</th>\n",
              "      <th>total_tests</th>\n",
              "      <th>test_1m_pop</th>\n",
              "      <th>population</th>\n",
              "      <th>continent</th>\n",
              "      <th>1 Caseevery X ppl</th>\n",
              "      <th>1 Deathevery X ppl</th>\n",
              "      <th>1 Testevery X ppl</th>\n",
              "      <th>New Cases/1M pop</th>\n",
              "      <th>New Deaths/1M pop</th>\n",
              "      <th>Active Cases/1M pop</th>\n",
              "    </tr>\n",
              "  </thead>\n",
              "  <tbody>\n",
              "    <tr>\n",
              "      <th>0</th>\n",
              "      <td></td>\n",
              "      <td>North America</td>\n",
              "      <td>38196124</td>\n",
              "      <td>+23,841</td>\n",
              "      <td>859,558</td>\n",
              "      <td>+615</td>\n",
              "      <td>29,884,387</td>\n",
              "      <td>+13,914</td>\n",
              "      <td>7,452,179</td>\n",
              "      <td>17,534</td>\n",
              "      <td></td>\n",
              "      <td></td>\n",
              "      <td></td>\n",
              "      <td></td>\n",
              "      <td></td>\n",
              "      <td>North America</td>\n",
              "      <td></td>\n",
              "      <td></td>\n",
              "      <td></td>\n",
              "      <td></td>\n",
              "      <td></td>\n",
              "      <td></td>\n",
              "    </tr>\n",
              "    <tr>\n",
              "      <th>1</th>\n",
              "      <td></td>\n",
              "      <td>Asia</td>\n",
              "      <td>38991232</td>\n",
              "      <td>+509,380</td>\n",
              "      <td>515,488</td>\n",
              "      <td>+5,186</td>\n",
              "      <td>33,363,990</td>\n",
              "      <td>+409,451</td>\n",
              "      <td>5,111,754</td>\n",
              "      <td>32,202</td>\n",
              "      <td></td>\n",
              "      <td></td>\n",
              "      <td></td>\n",
              "      <td></td>\n",
              "      <td></td>\n",
              "      <td>Asia</td>\n",
              "      <td></td>\n",
              "      <td></td>\n",
              "      <td></td>\n",
              "      <td></td>\n",
              "      <td></td>\n",
              "      <td></td>\n",
              "    </tr>\n",
              "    <tr>\n",
              "      <th>2</th>\n",
              "      <td></td>\n",
              "      <td>South America</td>\n",
              "      <td>24635810</td>\n",
              "      <td>+8,293</td>\n",
              "      <td>663,780</td>\n",
              "      <td>+209</td>\n",
              "      <td>22,283,554</td>\n",
              "      <td>+6,762</td>\n",
              "      <td>1,688,476</td>\n",
              "      <td>27,668</td>\n",
              "      <td></td>\n",
              "      <td></td>\n",
              "      <td></td>\n",
              "      <td></td>\n",
              "      <td></td>\n",
              "      <td>South America</td>\n",
              "      <td></td>\n",
              "      <td></td>\n",
              "      <td></td>\n",
              "      <td></td>\n",
              "      <td></td>\n",
              "      <td></td>\n",
              "    </tr>\n",
              "    <tr>\n",
              "      <th>3</th>\n",
              "      <td></td>\n",
              "      <td>Europe</td>\n",
              "      <td>44408947</td>\n",
              "      <td>+105,666</td>\n",
              "      <td>1,010,726</td>\n",
              "      <td>+2,670</td>\n",
              "      <td>39,151,242</td>\n",
              "      <td>+126,659</td>\n",
              "      <td>4,246,979</td>\n",
              "      <td>30,387</td>\n",
              "      <td></td>\n",
              "      <td></td>\n",
              "      <td></td>\n",
              "      <td></td>\n",
              "      <td></td>\n",
              "      <td>Europe</td>\n",
              "      <td></td>\n",
              "      <td></td>\n",
              "      <td></td>\n",
              "      <td></td>\n",
              "      <td></td>\n",
              "      <td></td>\n",
              "    </tr>\n",
              "    <tr>\n",
              "      <th>4</th>\n",
              "      <td></td>\n",
              "      <td>Africa</td>\n",
              "      <td>4575662</td>\n",
              "      <td>+3,473</td>\n",
              "      <td>121,517</td>\n",
              "      <td>+65</td>\n",
              "      <td>4,100,126</td>\n",
              "      <td>+4,997</td>\n",
              "      <td>354,019</td>\n",
              "      <td>3,840</td>\n",
              "      <td></td>\n",
              "      <td></td>\n",
              "      <td></td>\n",
              "      <td></td>\n",
              "      <td></td>\n",
              "      <td>Africa</td>\n",
              "      <td></td>\n",
              "      <td></td>\n",
              "      <td></td>\n",
              "      <td></td>\n",
              "      <td></td>\n",
              "      <td></td>\n",
              "    </tr>\n",
              "  </tbody>\n",
              "</table>\n",
              "</div>"
            ],
            "text/plain": [
              "  no        country  ...  New Deaths/1M pop Active Cases/1M pop\n",
              "0     North America  ...                                       \n",
              "1              Asia  ...                                       \n",
              "2     South America  ...                                       \n",
              "3            Europe  ...                                       \n",
              "4            Africa  ...                                       \n",
              "\n",
              "[5 rows x 22 columns]"
            ]
          },
          "metadata": {
            "tags": []
          },
          "execution_count": 88
        }
      ]
    },
    {
      "cell_type": "code",
      "metadata": {
        "id": "KcwGda5m3df1"
      },
      "source": [
        ""
      ],
      "execution_count": null,
      "outputs": []
    }
  ]
}